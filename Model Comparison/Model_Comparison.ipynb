{
 "cells": [
  {
   "cell_type": "markdown",
   "metadata": {},
   "source": [
    "---\n",
    "\n",
    "## Model Comparison\n",
    "#### Language: Python 3.8.8\n",
    "#### Author: Tianjian Sun\n",
    "\n"
   ]
  },
  {
   "cell_type": "markdown",
   "metadata": {},
   "source": [
    "---\n",
    "### Table of Contents\n",
    "\n",
    "* [Introduction](#Introduction)\n",
    "* [Algorithms](#Algorithm)\n",
    "    * [Classification](#ClassificationAlgorithms)\n",
    "    * [Regression](#RegressionAlgorithms)\n",
    "* [Applications on data sets](#Applications)\n",
    "    * [Classification](#Classification)"
   ]
  },
  {
   "cell_type": "markdown",
   "metadata": {},
   "source": [
    "---\n",
    "\n",
    "### Introduction <a class=\"anchor\" id=\"Introduction\"></a>\n",
    "In this section we compare different supervised learning models learned in class, for both classification and regression. Models we choose to compare are as follows.\n",
    "\n",
    "Among these models, **KNN** and **Linear Regression**, are used from scripts, in *models* folder, while other models are imported from *sklearn*."
   ]
  },
  {
   "cell_type": "markdown",
   "metadata": {},
   "source": [
    "---\n",
    "\n",
    "### Algorithms <a class=\"anchor\" id=\"Algorithm\"></a>\n",
    "\n",
    "#### Classification <a class=\"anchor\" id=\"ClassificationAlgorithms\"></a>\n",
    "\n",
    "* K-Nearest Neighbor\n",
    "* Logistic Regression\n",
    "* Multilayer Neural networks\n",
    "* Decision Tree\n",
    "* Random Forest\n",
    "\n",
    "#### Regression <a class=\"anchor\" id=\"RegressionAlgorithms\"></a>\n",
    "\n",
    "* K-Nearest Neighbor\n",
    "* Linear Regression\n",
    "* Multilayer Neural networks\n",
    "* Decision Tree\n",
    "* Random Forest"
   ]
  },
  {
   "cell_type": "markdown",
   "metadata": {},
   "source": [
    "---\n",
    "\n",
    "### Applications on data sets <a class=\"anchor\" id=\"Applications\"></a>\n",
    "\n",
    "* classification: *digits* data set\n",
    "\n",
    "#### Classification <a class=\"anchor\" id=\"Classification\"></a>\n",
    "\n",
    "The *digits* data set is loaded from *sklearn*. Each datapoint is a 8x8 image of a digit, from 0 to 9."
   ]
  },
  {
   "cell_type": "markdown",
   "metadata": {},
   "source": [
    "Import modules"
   ]
  },
  {
   "cell_type": "code",
   "execution_count": 1,
   "metadata": {},
   "outputs": [],
   "source": [
    "from functions.models import K_Nearest_Neighbor\n",
    "from sklearn.linear_model import LogisticRegression\n",
    "from sklearn.neural_network import MLPClassifier\n",
    "\n",
    "from sklearn.tree import DecisionTreeClassifier\n",
    "from sklearn.ensemble import RandomForestClassifier\n",
    "\n",
    "from sklearn.datasets import load_digits\n",
    "from sklearn.model_selection import train_test_split\n",
    "from sklearn.preprocessing import StandardScaler\n",
    "from sklearn.metrics import accuracy_score\n",
    "import pandas as pd"
   ]
  },
  {
   "cell_type": "markdown",
   "metadata": {},
   "source": [
    "Load and scale data."
   ]
  },
  {
   "cell_type": "code",
   "execution_count": 2,
   "metadata": {},
   "outputs": [
    {
     "data": {
      "text/plain": [
       "(1797, 64)"
      ]
     },
     "execution_count": 2,
     "metadata": {},
     "output_type": "execute_result"
    }
   ],
   "source": [
    "X, y = load_digits(return_X_y=True, as_frame=True)\n",
    "X_scaler = StandardScaler()\n",
    "X = pd.DataFrame(X_scaler.fit_transform(X))\n",
    "X.shape"
   ]
  },
  {
   "cell_type": "code",
   "execution_count": 3,
   "metadata": {},
   "outputs": [],
   "source": [
    "X_train, X_test, y_train, y_test = train_test_split(X, y, test_size=0.2, random_state=24, stratify=y)"
   ]
  },
  {
   "cell_type": "markdown",
   "metadata": {},
   "source": [
    "Train 4 models."
   ]
  },
  {
   "cell_type": "code",
   "execution_count": 4,
   "metadata": {},
   "outputs": [],
   "source": [
    "KNN = K_Nearest_Neighbor(k=10)\n",
    "Logit_R = LogisticRegression()\n",
    "MLP = MLPClassifier()\n",
    "DT = DecisionTreeClassifier()\n",
    "RF = RandomForestClassifier()"
   ]
  },
  {
   "cell_type": "code",
   "execution_count": 5,
   "metadata": {},
   "outputs": [
    {
     "name": "stdout",
     "output_type": "stream",
     "text": [
      "KNN, accuracy score = 0.9722222222222222\n"
     ]
    }
   ],
   "source": [
    "KNN.fit(X_train, y_train)\n",
    "KNN_y_pred = [KNN.predict(x) for x in X_test.to_numpy()]\n",
    "print(f'KNN, accuracy score = {accuracy_score(y_test, KNN_y_pred)}')"
   ]
  },
  {
   "cell_type": "code",
   "execution_count": 6,
   "metadata": {},
   "outputs": [
    {
     "name": "stdout",
     "output_type": "stream",
     "text": [
      "Logistic Regression, accuracy score = 0.975\n"
     ]
    }
   ],
   "source": [
    "Logit_R.fit(X_train, y_train)\n",
    "Logit_R_y_pred = Logit_R.predict(X_test)\n",
    "print(f'Logistic Regression, accuracy score = {accuracy_score(y_test, Logit_R_y_pred)}')"
   ]
  },
  {
   "cell_type": "code",
   "execution_count": 7,
   "metadata": {},
   "outputs": [
    {
     "name": "stdout",
     "output_type": "stream",
     "text": [
      "Multilayer Neural networks, accuracy score = 0.9833333333333333\n"
     ]
    }
   ],
   "source": [
    "MLP.fit(X_train, y_train)\n",
    "MLP_y_pred = MLP.predict(X_test)\n",
    "print(f'Multilayer Neural networks, accuracy score = {accuracy_score(y_test, MLP_y_pred)}')"
   ]
  },
  {
   "cell_type": "code",
   "execution_count": 8,
   "metadata": {},
   "outputs": [
    {
     "name": "stdout",
     "output_type": "stream",
     "text": [
      "Decision Tree, accuracy score = 0.8555555555555555\n"
     ]
    }
   ],
   "source": [
    "DT.fit(X_train, y_train)\n",
    "DT_y_pred = DT.predict(X_test)\n",
    "print(f'Decision Tree, accuracy score = {accuracy_score(y_test, DT_y_pred)}')"
   ]
  },
  {
   "cell_type": "code",
   "execution_count": 9,
   "metadata": {},
   "outputs": [
    {
     "name": "stdout",
     "output_type": "stream",
     "text": [
      "Random Forest, accuracy score = 0.8555555555555555\n"
     ]
    }
   ],
   "source": [
    "RF.fit(X_train, y_train)\n",
    "RF_y_pred = DT.predict(X_test)\n",
    "print(f'Random Forest, accuracy score = {accuracy_score(y_test, RF_y_pred)}')"
   ]
  },
  {
   "cell_type": "markdown",
   "metadata": {},
   "source": [
    "Compare this three models, KNN (k=10), Logistic Regression, and Multilayer Neural networks have the top performance (over 97%), while Decision Tree and Random Forest have the same performance, and they are both weaker than models before."
   ]
  }
 ],
 "metadata": {
  "interpreter": {
   "hash": "2e918aaa81d99c652401bdd1a0c185581595fb477ac919641bd65261b5d7782a"
  },
  "kernelspec": {
   "display_name": "Python 3.8.8 64-bit ('base': conda)",
   "language": "python",
   "name": "python3"
  },
  "language_info": {
   "codemirror_mode": {
    "name": "ipython",
    "version": 3
   },
   "file_extension": ".py",
   "mimetype": "text/x-python",
   "name": "python",
   "nbconvert_exporter": "python",
   "pygments_lexer": "ipython3",
   "version": "3.8.8"
  },
  "orig_nbformat": 4
 },
 "nbformat": 4,
 "nbformat_minor": 2
}
