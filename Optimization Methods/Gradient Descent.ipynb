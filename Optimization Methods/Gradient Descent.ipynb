{
 "cells": [
  {
   "cell_type": "markdown",
   "metadata": {},
   "source": [
    "---\n",
    "\n",
    "## Gradient Descent Algorithm and Applications\n",
    "#### Language: Python 3.8.8\n",
    "#### Author: Tianjian Sun\n",
    "\n",
    "---"
   ]
  },
  {
   "cell_type": "markdown",
   "metadata": {},
   "source": [
    "### Table of Contents\n",
    "\n",
    "* [Introduction](#Introduction)\n",
    "* [Algorithm](#Algorithm)\n",
    "  * [General Algorithm](#Algorithm)\n",
    "  * [Algorithm for Linear Regression](#Linear_Regression)\n",
    "* [Illustration](#Illustration)\n",
    "* [Advantages and Disadvantages](#Advantages_and_Disadvantages)\n",
    "    * [Advantages](#Advantages)\n",
    "    * [Disadvantages](#Disadvantages)\n",
    "* [Code of gradient descent](#Code)\n",
    "* [Applications on data sets](#Applications)\n",
    "    * [Toys data in class](#toy)\n",
    "    * [Ethereum (ETH) price data](#ETH)"
   ]
  },
  {
   "cell_type": "markdown",
   "metadata": {},
   "source": [
    "---\n",
    "### Introduction <a class=\"anchor\" id=\"Introduction\"></a>\n",
    "In this section we focus on a straight-forward optimization method, gradient descent. The main idea of gradient Descent is to take repeated steps in the opposite direction of the gradient of the function at the current point, because this is the direction of steepest descent. Conversely, stepping in the direction of the gradient will lead to a local maximum of that function.\n",
    "\n",
    "(From Wikipedia) [Gradient descent](https://en.wikipedia.org/wiki/Gradient_descent) is a classic and old optimization method, back to 1800's, which is generally attributed to [Cauchy](https://en.wikipedia.org/wiki/Augustin-Louis_Cauchy), who first suggested it in [1847](https://www.math.uni-bielefeld.de/documenta/vol-ismp/40_lemarechal-claude.pdf). [Hadamard](https://en.wikipedia.org/wiki/Jacques_Hadamard) independently proposed a similar method in 1907. The method became increasingly well-studied and used in the following decades.\n",
    "\n",
    "Gradient descent is widely used in most optimization tasks, especially finding solutions of loss functions. It plays a crucial role in the field of machine learning, as most machine learning models concrete a loss function and they all have the same goal: find the parameters that minimize the loss function, and gradient descent can be applied for most all kinds of minimization tasks. Hence gradient descent is one of the fundamental methods in machine-learning algorithms due to its simplicity and well-known properties."
   ]
  },
  {
   "cell_type": "markdown",
   "metadata": {},
   "source": [
    "---\n",
    "\n",
    "### Algorithm <a class=\"anchor\" id=\"Algorithm\"></a>\n",
    "The ideas of gradient descent is really simple: find the direction (negative first derivative) of the goal function, then move a step towards the direction, iteratively doing these until reach an ideal solution. \n",
    "\n",
    "(From [Wikipedia](https://en.wikipedia.org/wiki/Gradient_descent)) Gradient descent is based on the observation that if the multi-variable function $F(\\mathbf {x})$ is defined and differentiable in a neighborhood of a point $\\mathbf {a}$, then $F(\\mathbf {x})$ decreases fastest if one goes from $\\mathbf {a}$  in the direction of the negative gradient of $F(\\mathbf {\\mathbf {a}})$, $-\\nabla F(\\mathbf {a})$. It follows that, if\n",
    "$$\n",
    "\\mathbf{a}_{n+1} = \\mathbf{a}_n-\\gamma\\nabla F(\\mathbf{a}_n)\n",
    "$$\n",
    "\n",
    "for a small enough step size or learning rate $\\gamma \\in \\R_{+}$, then  $F(\\mathbf{a_n})\\geq F(\\mathbf{a_{n+1}})$. In other words, the term $\\gamma\\nabla F(\\mathbf{a})$ is subtracted from $\\mathbf{a}$ because we want to move against the gradient, toward the local minimum. With this observation in mind, one starts with a guess $\\mathbf{x}_0$ for a local minimum of $F$, and considers the sequence $\\mathbf{x}_0, \\mathbf{x}_1, \\mathbf{x}_2, \\ldots$ such that\n",
    "\n",
    "$$\n",
    "\\mathbf{x}_{n+1}=\\mathbf{x}_n-\\gamma_n \\nabla F(\\mathbf{x}_n),\\ n \\ge 0.\n",
    "$$\n",
    "\n",
    "We have a Monotonic function sequence\n",
    "\n",
    "$F(\\mathbf{x}_0)\\ge F(\\mathbf{x}_1)\\ge F(\\mathbf{x}_2)\\ge \\cdots$\n",
    "\n",
    "So hopefully, the sequence $(\\mathbf {x} _{n})$ converges to the desired local minimum. Note that the value of the step size $\\gamma$ is allowed to change at every iteration. With certain assumptions on the function $F$ (for example, $F$ convex and $\\nabla F$ Lipschitz) and particular choices of $\\gamma$, convergence to a local minimum can be guaranteed. When the function $F$ is convex, all local minima are also global minima, so in this case gradient descent can converge to the global solution."
   ]
  },
  {
   "cell_type": "markdown",
   "metadata": {},
   "source": [
    "#### Algorithm for Linear Regression <a class=\"anchor\" id=\"Linear_Regression\"></a>\n",
    "\n",
    "$F$ can be any close-form function that is differentiable. For linear regression model, the residual sum of squares\n",
    "\n",
    "$$\n",
    "RSS(\\boldsymbol{\\beta}) = \\sum_{i=1}^n {\\epsilon_i^2} =\\sum_{i=1}^n (y_i - \\beta_0 - \\sum_{j=1}^{p} {\\beta_j x_{ij}})^2\n",
    "$$\n",
    "\n",
    "is minimized to find the coefficients $\\boldsymbol{\\beta}$. Thus we can apply gradient descent method to find the minimun of $RSS$, rather than find the solution directly.\n",
    "\n",
    "To cancel out the scaler term during the derivative calculation, we add an $\\frac{1}{2}$ term in $RSS$. \n",
    "\n",
    "The algorithm for linear regression is as follows\n",
    "\n",
    "1. Define the loss(cost) function\n",
    "$$\n",
    "L(\\boldsymbol{\\beta}) = \\frac{1}{2} RSS(\\boldsymbol{\\beta}) = \\frac{1}{2} \\sum_{i=1}^n (y_i - \\beta_0 - \\sum_{j=1}^{p} {\\beta_j x_{ij}})^2\n",
    "$$\n",
    "\n",
    "In matrix form\n",
    "$$\n",
    "L(\\boldsymbol{\\beta}) = \\frac{1}{2} (\\textbf{y}-\\textbf{X}\\boldsymbol{\\beta})^T (\\textbf{y}-\\textbf{X}\\boldsymbol{\\beta})\n",
    "$$\n",
    "\n",
    "1. Take derivatives of $\\beta_0, \\cdots, \\beta_p$\n",
    "$$\n",
    "\\frac{\\partial L}{\\partial \\beta_0} = \\sum_{i=1}^{n}(\\beta_0 + \\sum_{j=1}^{p} {\\beta_j x_{ij}} - y_{i})\n",
    "$$\n",
    "$$\n",
    "\\frac{\\partial L}{\\partial \\beta_j} = \\sum_{i=1}^{n}(\\beta_0 + \\sum_{j=1}^{p} {\\beta_j x_{ij}} - y_{i})x_{ij},  j=1 \\dots p\n",
    "$$\n",
    "\n",
    "In matrix form we have\n",
    "$$\n",
    "\\frac{\\partial L} {\\partial \\boldsymbol{\\beta}} = - \\textbf{X}^T (\\textbf{y}-\\textbf{X}\\boldsymbol{\\beta})\n",
    "$$\n",
    "\n",
    "3. Set a learning rate $\\gamma$ and initialize random weights $\\beta_0, \\cdots, \\beta_p$, then iteratively do the following\n",
    "$$\n",
    "\\beta_0 = \\beta_0 - \\gamma \\frac{\\partial L}{\\partial \\beta_0}\n",
    "$$\n",
    "$$\n",
    "\\beta_j = \\beta_j - \\gamma \\frac{\\partial L}{\\partial \\beta_j}, j=1 \\dots p\n",
    "$$\n",
    "\n",
    "In matrix form we have\n",
    "$$\n",
    "\\boldsymbol{\\beta} = \\boldsymbol{\\beta} - \\gamma \\frac{\\partial L}{\\partial \\boldsymbol{\\beta}}\n",
    "$$\n",
    "\n",
    "until a maximun number of training steps $N$ is reached or a threshold $\\eta$ of change of loss between two trainning steps is met.\n",
    "\n",
    "4. Return $\\beta_0, \\cdots, \\beta_p$.\n",
    "\n",
    "Notice that we need to initialize a learning rate $\\gamma$, random weights $\\beta_0, \\cdots, \\beta_p$, and set a maximun number of training steps $N$, a threshold $\\eta$ before training. These initial parameters are crucial in gradient descent, as they largely impact the convergence speed and process. A good initialization can make convergence really fast. \n",
    "\n",
    "Usually \n",
    "* $\\gamma$ should decrease along the training process, or it's easy to go cross the local minimum\n",
    "* $\\beta_0, \\cdots, \\beta_p$ should be close to $0$ but not $0$. \n",
    "* $N$ could be large, to make sure the training reaches convergence.\n",
    "* $\\eta$ should be small enough"
   ]
  },
  {
   "cell_type": "markdown",
   "metadata": {},
   "source": [
    "---\n",
    "\n",
    "### Illustration <a class=\"anchor\" id=\"Illustration\"></a>\n",
    "\n",
    "Take a look at the two-dimension space, we can have a intuitive idea about how gradient descent works.\n",
    "\n",
    "Let the parameter $w$ be in one-dimensional space, and given a close-form cost function $L$. The $L-w$ plot, by *Machine Learning Glossary* ([link](http://sebastianruder.com/optimizing-gradient-descent/)), is below. It shows that how a initial random weight $w$ is moving towards the local minimum of cost function $L$ step by step using gradient descent, and at the final step, a certain threshold is met and the training process ends, returning a good weight $w$."
   ]
  },
  {
   "cell_type": "markdown",
   "metadata": {},
   "source": [
    "![gradient_descent](images/gradient_descent_demystified.png)\n"
   ]
  },
  {
   "cell_type": "markdown",
   "metadata": {},
   "source": [
    "---\n",
    "\n",
    "### Advantages and Disadvantages <a class=\"anchor\" id=\"Advantages_and_Disadvantages\"></a>\n",
    "\n",
    "#### Advantages: <a class=\"anchor\" id=\"Advantages\"></a>\n",
    "\n",
    "* Easy and Simple. Gradient descent is based on simple theoretical analysis of weights and convergence rates, which are easy to understand.\n",
    "* Guarantee Convergence. Gradient descent is proved to converge to local minimum, which is exactly what most machine learning algorithms need.\n",
    "\n",
    "\n",
    "\n",
    "\n",
    "#### Disadvantages: <a class=\"anchor\" id=\"Disadvantages\"></a>\n",
    "\n",
    "* Computationally Expensive. Gradient descent takes all training sample to calculate the derivative of loss function, which performs redundant computation for the same training example for large datasets.\n",
    "* Cost Lots of Memory. Gradient descent can be very slow and intractable as large datasets may not fit in the memory."
   ]
  },
  {
   "cell_type": "markdown",
   "metadata": {},
   "source": [
    "---\n",
    "\n",
    "### Code of gradient descent <a class=\"anchor\" id=\"Code\"></a>\n",
    "\n",
    "#### All packages used in this notebook\n",
    "* [numpy](https://numpy.org/)\n",
    "* [pandas](https://pandas.pydata.org/)\n",
    "* [pandas_datareader](https://pandas-datareader.readthedocs.io/en/latest/)\n",
    "* [sklearn](https://scikit-learn.org/stable/datasets/toy_dataset.html)\n",
    "* [matplotlib](https://matplotlib.org/)"
   ]
  },
  {
   "cell_type": "code",
   "execution_count": 1,
   "metadata": {},
   "outputs": [],
   "source": [
    "import numpy as np\n",
    "import pandas as pd\n",
    "import matplotlib.pyplot as plt\n",
    "import pandas_datareader as web\n",
    "from sklearn.preprocessing import StandardScaler"
   ]
  },
  {
   "cell_type": "markdown",
   "metadata": {},
   "source": [
    "#### function of gradient descent of linear regression"
   ]
  },
  {
   "cell_type": "code",
   "execution_count": 2,
   "metadata": {},
   "outputs": [],
   "source": [
    "class gradient_descent_LR():\n",
    "    def __init__(self) -> None:\n",
    "        self.X = None\n",
    "        self.variables = None\n",
    "        self.y = None\n",
    "        self.predictor = None\n",
    "        self.n = None\n",
    "        self.p = None\n",
    "        self.bias = None\n",
    "        self.gamma = None\n",
    "        self.max_iter = None\n",
    "        self.eta = None\n",
    "\n",
    "        self.weights = None\n",
    "        self.weights_history = []\n",
    "        self.loss_history = [np.inf]\n",
    "        \n",
    "    def loss(self):\n",
    "        MSE_loss = 0.5 * (self.y - self.X @ self.weights).T@(self.y - self.X @ self.weights)\n",
    "        return MSE_loss\n",
    "\n",
    "    def gradient_L(self):\n",
    "        d_w = - self.X.T @ (self.y - self.X@self.weights)\n",
    "        return d_w\n",
    "\n",
    "    def fit(self, X, y, bias=True, gamma=0.01, max_iter=100, eta=0.001):\n",
    "        self.variables = X.columns\n",
    "        self.predictor = y.name\n",
    "        \n",
    "        X = X.to_numpy()\n",
    "        y = y.to_numpy()\n",
    "        if bias:\n",
    "            ones_column = np.ones((X.shape[0], 1))\n",
    "            X = np.append(ones_column, X, axis=1)\n",
    "        self.X = X\n",
    "        self.y = y\n",
    "        self.n = X.shape[0]\n",
    "        self.p = X.shape[1]\n",
    "        self.bias = bias\n",
    "        self.gamma = gamma\n",
    "        self.max_iter = max_iter\n",
    "        self.eta = eta\n",
    "        \n",
    "        weights = np.random.rand(self.p)\n",
    "        self.weights = weights\n",
    "        self.weights_history.append(weights)\n",
    "        for i in range(1, max_iter+1):\n",
    "            dw = self.gradient_L()\n",
    "            weights = weights - gamma * dw\n",
    "            self.weights = weights\n",
    "            self.weights_history.append(weights)\n",
    "            L = self.loss()\n",
    "            self.loss_history.append(L)\n",
    "            if i >= self.max_iter or abs(L - self.loss_history[i-1]) <= self.eta:\n",
    "                break\n",
    "\n",
    "    def prediction(self, X, weights):\n",
    "        X = X.to_numpy()\n",
    "        if self.bias:\n",
    "            ones_column = np.ones((X.shape[0], 1))\n",
    "            X = np.append(ones_column, X, axis=1)\n",
    "        return X @ weights\n",
    "\n"
   ]
  },
  {
   "cell_type": "markdown",
   "metadata": {},
   "source": [
    "---\n",
    "\n",
    "### Applications on data sets <a class=\"anchor\" id=\"Applications\"></a>\n",
    "\n",
    "* Toys data in class\n",
    "* Ethereum (ETH) price data\n"
   ]
  },
  {
   "cell_type": "markdown",
   "metadata": {},
   "source": [
    "---\n",
    "#### Toys data in class <a class=\"anchor\" id=\"toy\"></a>\n",
    "---\n",
    "\n",
    "First we apply the gradient descent code on the toy data used in class. In class we created 4 $(x, y)$ points and fitted a linear regression line to check if gradient descent worked well. The points we created is as follows."
   ]
  },
  {
   "cell_type": "code",
   "execution_count": 3,
   "metadata": {},
   "outputs": [
    {
     "data": {
      "image/png": "[encoded data removed]",
      "text/plain": [
       "<Figure size 432x288 with 1 Axes>"
      ]
     },
     "metadata": {
      "needs_background": "light"
     },
     "output_type": "display_data"
    }
   ],
   "source": [
    "X = np.array([1,1.5,2.5,4.0])\n",
    "y = np.array([2,3.5,3,5])\n",
    "plt.scatter(X, y, c='k')\n",
    "plt.xlabel('x')\n",
    "plt.ylabel('y')\n",
    "plt.show()"
   ]
  },
  {
   "cell_type": "markdown",
   "metadata": {},
   "source": [
    "Then use gradient descent to fit the linear regression line."
   ]
  },
  {
   "cell_type": "code",
   "execution_count": 4,
   "metadata": {},
   "outputs": [],
   "source": [
    "X = pd.DataFrame(X)\n",
    "y = pd.Series(y)\n",
    "model = gradient_descent_LR()\n",
    "model.fit(X, y, gamma=0.002, max_iter=50, eta=0.001)"
   ]
  },
  {
   "cell_type": "markdown",
   "metadata": {},
   "source": [
    "First we check the loss history figure to see how the MSE loss decreases during training period."
   ]
  },
  {
   "cell_type": "code",
   "execution_count": 5,
   "metadata": {},
   "outputs": [
    {
     "data": {
      "image/png": "[encoded data removed]",
      "text/plain": [
       "<Figure size 432x288 with 1 Axes>"
      ]
     },
     "metadata": {
      "needs_background": "light"
     },
     "output_type": "display_data"
    }
   ],
   "source": [
    "plt.plot(range(1, len(model.loss_history)), model.loss_history[1:len(model.loss_history)], c='r')\n",
    "plt.xlabel('iteration')\n",
    "plt.ylabel('loss')\n",
    "plt.show()"
   ]
  },
  {
   "cell_type": "code",
   "execution_count": 6,
   "metadata": {},
   "outputs": [
    {
     "data": {
      "text/plain": [
       "51"
      ]
     },
     "execution_count": 6,
     "metadata": {},
     "output_type": "execute_result"
    }
   ],
   "source": [
    "len(model.loss_history)"
   ]
  },
  {
   "cell_type": "markdown",
   "metadata": {},
   "source": [
    "The MSE loss drops fast at the first steps, and slows down after 10 steps, finally reaches the threshold $\\eta$."
   ]
  },
  {
   "cell_type": "markdown",
   "metadata": {},
   "source": [
    "Take a look at the regression lines during training period, at $t=10, 20, 30, 50$."
   ]
  },
  {
   "cell_type": "code",
   "execution_count": 7,
   "metadata": {},
   "outputs": [
    {
     "name": "stdout",
     "output_type": "stream",
     "text": [
      "Loss at iter 10 = 1.4514245815931104\n",
      "Loss at iter 20 = 1.045337223612921\n",
      "Loss at iter 30 = 0.9142949546149977\n",
      "Loss at iter 50 = 0.8467095222253073\n"
     ]
    },
    {
     "data": {
      "image/png": "[encoded data removed]",
      "text/plain": [
       "<Figure size 432x288 with 1 Axes>"
      ]
     },
     "metadata": {
      "needs_background": "light"
     },
     "output_type": "display_data"
    }
   ],
   "source": [
    "plt.scatter(X, y, c='k')\n",
    "colors = {10:'blue', 20:'green', 30:'orange' , 50:'red'}\n",
    "for i in [10, 20, 30, 50]:\n",
    "    weights = model.weights_history[i]\n",
    "    L = model.loss_history[i]\n",
    "    print(f'Loss at iter {i} = {L}')\n",
    "    plt.plot(X.to_numpy(), model.prediction(X, weights), label = f'iter{i}', color = colors[i])\n",
    "plt.legend()\n",
    "plt.show()"
   ]
  },
  {
   "cell_type": "markdown",
   "metadata": {},
   "source": [
    "From the figure, the regression line moves to the correct place step by step, and the loss also dereases. But it seems that the convergence is slow, let's increase the learning rate to 0.005."
   ]
  },
  {
   "cell_type": "code",
   "execution_count": 8,
   "metadata": {},
   "outputs": [
    {
     "data": {
      "image/png": "[encoded data removed]",
      "text/plain": [
       "<Figure size 432x288 with 1 Axes>"
      ]
     },
     "metadata": {
      "needs_background": "light"
     },
     "output_type": "display_data"
    }
   ],
   "source": [
    "model = gradient_descent_LR()\n",
    "model.fit(X, y, gamma=0.005, max_iter=50, eta=0.001)\n",
    "plt.plot(range(1, len(model.loss_history)), model.loss_history[1:len(model.loss_history)], c='r')\n",
    "plt.xlabel('iteration')\n",
    "plt.ylabel('loss')\n",
    "plt.show()"
   ]
  },
  {
   "cell_type": "markdown",
   "metadata": {},
   "source": [
    "Take a look at the regression lines during training period, at $t=10, 20, 30, 50$."
   ]
  },
  {
   "cell_type": "code",
   "execution_count": 9,
   "metadata": {},
   "outputs": [
    {
     "name": "stdout",
     "output_type": "stream",
     "text": [
      "Loss at iter 10 = 0.8344368419465319\n",
      "Loss at iter 20 = 0.652851838829811\n",
      "Loss at iter 30 = 0.6364027658442738\n"
     ]
    },
    {
     "ename": "IndexError",
     "evalue": "list index out of range",
     "output_type": "error",
     "traceback": [
      "\u001b[1;31m---------------------------------------------------------------------------\u001b[0m",
      "\u001b[1;31mIndexError\u001b[0m                                Traceback (most recent call last)",
      "\u001b[1;32m~\\AppData\\Local\\Temp/ipykernel_12240/720926842.py\u001b[0m in \u001b[0;36m<module>\u001b[1;34m\u001b[0m\n\u001b[0;32m      2\u001b[0m \u001b[0mcolors\u001b[0m \u001b[1;33m=\u001b[0m \u001b[1;33m{\u001b[0m\u001b[1;36m10\u001b[0m\u001b[1;33m:\u001b[0m\u001b[1;34m'blue'\u001b[0m\u001b[1;33m,\u001b[0m \u001b[1;36m20\u001b[0m\u001b[1;33m:\u001b[0m\u001b[1;34m'green'\u001b[0m\u001b[1;33m,\u001b[0m \u001b[1;36m30\u001b[0m\u001b[1;33m:\u001b[0m\u001b[1;34m'orange'\u001b[0m \u001b[1;33m,\u001b[0m \u001b[1;36m50\u001b[0m\u001b[1;33m:\u001b[0m\u001b[1;34m'red'\u001b[0m\u001b[1;33m}\u001b[0m\u001b[1;33m\u001b[0m\u001b[1;33m\u001b[0m\u001b[0m\n\u001b[0;32m      3\u001b[0m \u001b[1;32mfor\u001b[0m \u001b[0mi\u001b[0m \u001b[1;32min\u001b[0m \u001b[1;33m[\u001b[0m\u001b[1;36m10\u001b[0m\u001b[1;33m,\u001b[0m \u001b[1;36m20\u001b[0m\u001b[1;33m,\u001b[0m \u001b[1;36m30\u001b[0m\u001b[1;33m,\u001b[0m \u001b[1;36m50\u001b[0m\u001b[1;33m]\u001b[0m\u001b[1;33m:\u001b[0m\u001b[1;33m\u001b[0m\u001b[1;33m\u001b[0m\u001b[0m\n\u001b[1;32m----> 4\u001b[1;33m     \u001b[0mweights\u001b[0m \u001b[1;33m=\u001b[0m \u001b[0mmodel\u001b[0m\u001b[1;33m.\u001b[0m\u001b[0mweights_history\u001b[0m\u001b[1;33m[\u001b[0m\u001b[0mi\u001b[0m\u001b[1;33m]\u001b[0m\u001b[1;33m\u001b[0m\u001b[1;33m\u001b[0m\u001b[0m\n\u001b[0m\u001b[0;32m      5\u001b[0m     \u001b[0mL\u001b[0m \u001b[1;33m=\u001b[0m \u001b[0mmodel\u001b[0m\u001b[1;33m.\u001b[0m\u001b[0mloss_history\u001b[0m\u001b[1;33m[\u001b[0m\u001b[0mi\u001b[0m\u001b[1;33m]\u001b[0m\u001b[1;33m\u001b[0m\u001b[1;33m\u001b[0m\u001b[0m\n\u001b[0;32m      6\u001b[0m     \u001b[0mprint\u001b[0m\u001b[1;33m(\u001b[0m\u001b[1;34mf'Loss at iter {i} = {L}'\u001b[0m\u001b[1;33m)\u001b[0m\u001b[1;33m\u001b[0m\u001b[1;33m\u001b[0m\u001b[0m\n",
      "\u001b[1;31mIndexError\u001b[0m: list index out of range"
     ]
    },
    {
     "data": {
      "image/png": "[encoded data removed]",
      "text/plain": [
       "<Figure size 432x288 with 1 Axes>"
      ]
     },
     "metadata": {
      "needs_background": "light"
     },
     "output_type": "display_data"
    }
   ],
   "source": [
    "plt.scatter(X, y, c='k')\n",
    "colors = {10:'blue', 20:'green', 30:'orange' , 50:'red'}\n",
    "for i in [10, 20, 30, 50]:\n",
    "    weights = model.weights_history[i]\n",
    "    L = model.loss_history[i]\n",
    "    print(f'Loss at iter {i} = {L}')\n",
    "    plt.plot(X.to_numpy(), model.prediction(X, weights), label = f'iter{i}', color = colors[i])\n",
    "plt.legend()\n",
    "plt.show()"
   ]
  },
  {
   "cell_type": "markdown",
   "metadata": {},
   "source": [
    "This time the training process converges faster, since learning rate is increased.\n",
    "\n",
    "Let's increase the threshold $\\eta$ and see how threshold could affect the training process."
   ]
  },
  {
   "cell_type": "code",
   "execution_count": null,
   "metadata": {},
   "outputs": [],
   "source": [
    "model = gradient_descent_LR()\n",
    "model.fit(X, y, gamma=0.002, max_iter=50, eta=0.01)\n",
    "plt.plot(range(1, len(model.loss_history)), model.loss_history[1:len(model.loss_history)], c='r')\n",
    "plt.xlabel('iteration')\n",
    "plt.ylabel('loss')\n",
    "plt.show()"
   ]
  },
  {
   "cell_type": "code",
   "execution_count": null,
   "metadata": {},
   "outputs": [],
   "source": [
    "plt.scatter(X, y, c='k')\n",
    "colors = {10:'blue', 20:'green', 30:'orange' , len(model.weights_history)-1:'red'}\n",
    "for i in [10, 20, 30, len(model.weights_history)-1]:\n",
    "    weights = model.weights_history[i]\n",
    "    L = model.loss_history[i]\n",
    "    print(f'Loss at iter {i} = {L}')\n",
    "    plt.plot(X.to_numpy(), model.prediction(X, weights), label = f'iter{i}', color = colors[i])\n",
    "plt.legend()\n",
    "plt.show()"
   ]
  },
  {
   "cell_type": "markdown",
   "metadata": {},
   "source": [
    "Compared with threshold $\\eta=0.001$, $\\eta=0.01$ makes the convergence faster, which is good for learning fasters in complex models. But also the MSE loss is larger, making the trained weights worse."
   ]
  },
  {
   "cell_type": "markdown",
   "metadata": {},
   "source": [
    "---\n",
    "#### Ethereum (ETH) price data <a class=\"anchor\" id=\"ETH\"></a>\n",
    "---\n",
    "\n",
    "We apply our gradient descent method on fitting the linear regression model of predicting ETH price in Linear Regression section. [Ethereum](https://en.wikipedia.org/wiki/Ethereum) (by wikipedia) is a decentralized, open-source blockchain with smart contract functionality. Ether (ETH) is the native cryptocurrency of the platform. Amongst cryptocurrencies, Ether is second only to Bitcoin in market capitalization. \n",
    "\n",
    "Nowadays prices of Ethereum and other cryptocurrencies are increasing rapidly, so they are becoming more and more popular among traders and investors."
   ]
  },
  {
   "cell_type": "markdown",
   "metadata": {},
   "source": [
    "In this problem we focus on predicting future ETH price using history ETH prices from *pandas_datareader*. And we use *plotly* to plot nice figures.\n",
    "\n",
    "First we take a look at the ETH price in USD from Jan to Nov, 2021."
   ]
  },
  {
   "cell_type": "code",
   "execution_count": null,
   "metadata": {},
   "outputs": [],
   "source": [
    "data = web.DataReader('ETH-USD',\n",
    "                     'yahoo',\n",
    "                     start = '2021-01-01',\n",
    "                     end = '2021-11-30')\n",
    "data.head(3)"
   ]
  },
  {
   "cell_type": "markdown",
   "metadata": {},
   "source": [
    "Our goal is to predict close price using previous prices of 3-days. Plot the close price curve of ETH."
   ]
  },
  {
   "cell_type": "code",
   "execution_count": null,
   "metadata": {},
   "outputs": [],
   "source": [
    "all_df = pd.DataFrame(data['Close'])\n",
    "plt.plot(all_df)\n",
    "plt.show()"
   ]
  },
  {
   "cell_type": "markdown",
   "metadata": {},
   "source": [
    "Create our input data set, only use the first 1 month."
   ]
  },
  {
   "cell_type": "code",
   "execution_count": null,
   "metadata": {},
   "outputs": [],
   "source": [
    "for i in range(1, 8):\n",
    "    all_df[f'lag_{i}'] = all_df['Close'].shift(i)\n",
    "\n",
    "all_df.dropna(inplace=True)\n",
    "cols = [f'lag_{i}' for i in range(1, 8)]\n",
    "\n",
    "train_df = all_df.iloc[0:31-7, :]\n",
    "X = train_df[cols]\n",
    "y = train_df['Close']"
   ]
  },
  {
   "cell_type": "markdown",
   "metadata": {},
   "source": [
    "Scale X to reduce computational complexity when multiplying matrice."
   ]
  },
  {
   "cell_type": "code",
   "execution_count": null,
   "metadata": {},
   "outputs": [],
   "source": [
    "X_scaler = StandardScaler()\n",
    "X_scaled = pd.DataFrame(X_scaler.fit_transform(X))"
   ]
  },
  {
   "cell_type": "markdown",
   "metadata": {},
   "source": [
    "Try our gradient descent method."
   ]
  },
  {
   "cell_type": "code",
   "execution_count": null,
   "metadata": {},
   "outputs": [],
   "source": [
    "model = gradient_descent_LR()\n",
    "model.fit(X_scaled, y, gamma=0.005, max_iter=100, eta=0.001)\n",
    "plt.plot(range(1, len(model.loss_history)), model.loss_history[1:len(model.loss_history)], c='r')\n",
    "plt.xlabel('iteration')\n",
    "plt.ylabel('loss')\n",
    "plt.show()"
   ]
  },
  {
   "cell_type": "markdown",
   "metadata": {},
   "source": [
    "A good fit. Looks like gradient descent works well on the same data in the Linear Regression section. Let's plot the prediction curve."
   ]
  },
  {
   "cell_type": "code",
   "execution_count": null,
   "metadata": {},
   "outputs": [],
   "source": [
    "plt.plot(y.index, y, c='b', label = \"true\")\n",
    "plt.plot(y.index, model.prediction(X_scaled, model.weights), c='r', label = \"prediction\")\n",
    "plt.legend()\n",
    "plt.show()"
   ]
  },
  {
   "cell_type": "markdown",
   "metadata": {},
   "source": [
    "Not a bad prediction, and the result is similar to the result in the Linear Regression section, so gradient descent works well."
   ]
  }
 ],
 "metadata": {
  "interpreter": {
   "hash": "2e918aaa81d99c652401bdd1a0c185581595fb477ac919641bd65261b5d7782a"
  },
  "kernelspec": {
   "display_name": "Python 3.8.8 64-bit ('base': conda)",
   "language": "python",
   "name": "python3"
  },
  "language_info": {
   "codemirror_mode": {
    "name": "ipython",
    "version": 3
   },
   "file_extension": ".py",
   "mimetype": "text/x-python",
   "name": "python",
   "nbconvert_exporter": "python",
   "pygments_lexer": "ipython3",
   "version": "3.8.8"
  },
  "orig_nbformat": 4
 },
 "nbformat": 4,
 "nbformat_minor": 2
}
