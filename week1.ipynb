{
 "cells": [
  {
   "cell_type": "code",
   "execution_count": 557,
   "metadata": {},
   "outputs": [],
   "source": [
    "import numpy as np\n",
    "from collections import Counter"
   ]
  },
  {
   "cell_type": "code",
   "execution_count": 558,
   "metadata": {},
   "outputs": [],
   "source": [
    "def knn_classifier_and_regressor(train_input, train_output, new_point, k, classifier=True):\n",
    "    '''\n",
    "    A knn classifier and regressor.\n",
    "    \n",
    "    Input:\n",
    "        train_input: ndarray, a n*p matrix, which is the features of training data set.\n",
    "        train_output: ndarray, a n*1 matrix, which is the output (either a class or a value) of training data set.\n",
    "        new_point: ndarray, a 1*p matrix, which is the input of a new data.\n",
    "        k: int, number of neighbors.\n",
    "        classifier: an indicator of classifier and regressor. Default is True.\n",
    "    \n",
    "    Output:\n",
    "        knn_result: int or float, the result of knn prediction.\n",
    "    '''\n",
    "    \n",
    "    n = train_input.shape[0]\n",
    "    distance = np.zeros(n)\n",
    "    \n",
    "    for i in range(n):\n",
    "        distance[i] = np.linalg.norm(train_input[i,:] - new_point)\n",
    "    \n",
    "    top_k_neighbors = np.argsort(distance)[:k]\n",
    "    k_neighbor_output = train_output[top_k_neighbors]\n",
    "    \n",
    "    # for classifier\n",
    "    if classifier:\n",
    "        voters = Counter(k_neighbor_output)\n",
    "        knn_result = voters.most_common(1)[0][0]\n",
    "    \n",
    "    # for regressor\n",
    "    else:\n",
    "        knn_result = np.mean(k_neighbor_output)\n",
    "    \n",
    "    return knn_result"
   ]
  },
  {
   "cell_type": "code",
   "execution_count": 553,
   "metadata": {
    "scrolled": true
   },
   "outputs": [
    {
     "data": {
      "text/plain": [
       "0.98"
      ]
     },
     "execution_count": 553,
     "metadata": {},
     "output_type": "execute_result"
    }
   ],
   "source": [
    "# a classification task of iris data\n",
    "\n",
    "import pandas as pd\n",
    "from sklearn import datasets\n",
    "iris = datasets.load_iris()\n",
    "X = iris.data\n",
    "y = iris.target\n",
    "\n",
    "from sklearn.model_selection import train_test_split\n",
    "\n",
    "X_train, X_test, y_train, y_test = train_test_split(X, y, test_size=0.33)\n",
    "\n",
    "predictions = [knn_classifier_and_regressor(X_train, \n",
    "                                          y_train, \n",
    "                                          new_point, \n",
    "                                          k=5,\n",
    "                                          classifier=True)\n",
    "              for new_point in X_test]\n",
    "\n",
    "accuracy_rate = np.sum(predictions==y_test)/len(y_test)\n",
    "accuracy_rate"
   ]
  },
  {
   "cell_type": "code",
   "execution_count": 556,
   "metadata": {},
   "outputs": [
    {
     "data": {
      "text/plain": [
       "30.67194901960782"
      ]
     },
     "execution_count": 556,
     "metadata": {},
     "output_type": "execute_result"
    }
   ],
   "source": [
    "# a regression task of bouston housing data\n",
    "\n",
    "bo_housing= datasets.load_boston()\n",
    "X = bo_housing.data\n",
    "y = bo_housing.target\n",
    "\n",
    "X_train, X_test, y_train, y_test = train_test_split(X, y, test_size=0.2)\n",
    "\n",
    "predictions = [knn_classifier_and_regressor(X_train, \n",
    "                                          y_train, \n",
    "                                          new_point, \n",
    "                                          k=5,\n",
    "                                          classifier=False)\n",
    "              for new_point in X_test]\n",
    "MSE = sum([(predictions[i]-y_test[i])**2 for i in range(len(y_test))])/len(y_test)\n",
    "MSE"
   ]
  }
 ],
 "metadata": {
  "kernelspec": {
   "display_name": "Python 3",
   "language": "python",
   "name": "python3"
  },
  "language_info": {
   "codemirror_mode": {
    "name": "ipython",
    "version": 3
   },
   "file_extension": ".py",
   "mimetype": "text/x-python",
   "name": "python",
   "nbconvert_exporter": "python",
   "pygments_lexer": "ipython3",
   "version": "3.8.5"
  }
 },
 "nbformat": 4,
 "nbformat_minor": 4
}
