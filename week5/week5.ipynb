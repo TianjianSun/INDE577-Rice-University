{
 "cells": [
  {
   "cell_type": "code",
   "execution_count": 2,
   "metadata": {},
   "outputs": [],
   "source": [
    "import numpy as np\n",
    "import pandas as pd\n",
    "import matplotlib.pyplot as plt"
   ]
  },
  {
   "cell_type": "code",
   "execution_count": 4,
   "metadata": {},
   "outputs": [],
   "source": [
    "# define sigmoid activation function\n",
    "def sigmoid(z):\n",
    "    return 1.0/(1.0+np.exp(-z))\n",
    "\n",
    "# def cross entropy loss function\n",
    "def ce_loss(x, y, network):\n",
    "    y_hat = network.feed_forward(x)\n",
    "    return -y * np.log(y_hat) - (1-y)* np.log(1-y_hat)\n",
    "\n",
    "# define gradient function\n",
    "def ce_gradient(x, y, network):\n",
    "    y_hat = network.feed_forward(x)\n",
    "    dw = (y_hat - y)*x\n",
    "    db = (y_hat - y)\n",
    "    return dw, db\n",
    "\n",
    "def stochastic_gradient_descent(X, Y, network, learning_rate = 0.4, epochs = 10_000):\n",
    "    N = len(Y)\n",
    "    for _ in range(epochs):\n",
    "        random_index = np.random.randint(N)\n",
    "        x = X[random_index]\n",
    "        y = Y[random_index]\n",
    "        \n",
    "        if network.bias:\n",
    "            dw, db = ce_gradient(x, y, network)\n",
    "            network.w -= learning_rate*dw\n",
    "            network.b -= learning_rate*db\n",
    "        else:\n",
    "            dw = ce_gradient(x, y, network)\n",
    "            network.w -= learning_rate*dw\n",
    "            \n",
    "    total_loss = sum(ce_loss(X[i], Y[i], network)) for i in range(N)\n",
    "    print(f\"Ttoal Current Loss = {total_loss}\")\n",
    "    \n",
    "\n",
    "class SingleNeuron:\n",
    "    def __init__(self, input_size, activate_func, loss, bias=True):\n",
    "        self.input_size = input_size\n",
    "        self.activate_func = sigmoid\n",
    "        self.loss = ce_loss\n",
    "        self.bias = bias\n",
    "        self.w = np.random.rand(self.input_size)\n",
    "\n",
    "        self.b = np.random.rand(1) if self.bias else Null\n",
    "\n",
    "                   \n",
    "    def feed_forward(self, x):\n",
    "        z = self.w @ x + self.b if self.bais else self.w @ x\n",
    "        return self.activate_func(z)\n",
    "    \n",
    "    def fit():\n",
    "        return "
   ]
  },
  {
   "cell_type": "code",
   "execution_count": 7,
   "metadata": {},
   "outputs": [
    {
     "ename": "TypeError",
     "evalue": "object of type 'int' has no len()",
     "output_type": "error",
     "traceback": [
      "\u001b[1;31m---------------------------------------------------------------------------\u001b[0m",
      "\u001b[1;31mTypeError\u001b[0m                                 Traceback (most recent call last)",
      "\u001b[1;32m<ipython-input-7-b46e5eb13036>\u001b[0m in \u001b[0;36m<module>\u001b[1;34m\u001b[0m\n\u001b[1;32m----> 1\u001b[1;33m \u001b[0mlen\u001b[0m\u001b[1;33m(\u001b[0m\u001b[1;36m10_000\u001b[0m\u001b[1;33m)\u001b[0m\u001b[1;33m\u001b[0m\u001b[1;33m\u001b[0m\u001b[0m\n\u001b[0m",
      "\u001b[1;31mTypeError\u001b[0m: object of type 'int' has no len()"
     ]
    }
   ],
   "source": [
    "len(10_000)"
   ]
  }
 ],
 "metadata": {
  "kernelspec": {
   "display_name": "Python 3",
   "language": "python",
   "name": "python3"
  },
  "language_info": {
   "codemirror_mode": {
    "name": "ipython",
    "version": 3
   },
   "file_extension": ".py",
   "mimetype": "text/x-python",
   "name": "python",
   "nbconvert_exporter": "python",
   "pygments_lexer": "ipython3",
   "version": "3.8.5"
  }
 },
 "nbformat": 4,
 "nbformat_minor": 4
}
