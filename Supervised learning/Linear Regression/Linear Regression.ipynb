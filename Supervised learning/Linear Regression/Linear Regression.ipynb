{
 "cells": [
  {
   "cell_type": "markdown",
   "metadata": {},
   "source": [
    "---\n",
    "\n",
    "## Linear Regreesion Algorithm and Applications\n",
    "#### Language: Python 3.8.8\n",
    "#### Author: Tianjian Sun\n",
    "\n",
    "---"
   ]
  },
  {
   "cell_type": "markdown",
   "metadata": {},
   "source": [
    "### Table of Contents\n",
    "\n",
    "* [Introduction](#Introduction)\n",
    "* [Algorithm](#Algorithm)\n",
    "  * [Model](#Algorithm)\n",
    "  * [Prediction Evaluation](#Evaluation)\n",
    "  * [*F* test](#F)\n",
    "  * [*t* test](#t)\n",
    "* [Illustration](#Illustration)\n",
    "* [Advantages and Disadvantages](#Advantages_and_Disadvantages)\n",
    "    * [Advantages](#Advantages)\n",
    "    * [Disadvantages](#Disadvantages)\n",
    "* [Hard code of linear regression](#Code)\n",
    "* [Applications on data sets](#Applications)\n",
    "    * [Ethereum (ETH) price data](#ETH)\n",
    "    * [Diabetes data](#Diabetes)"
   ]
  },
  {
   "cell_type": "markdown",
   "metadata": {},
   "source": [
    "---\n",
    "### Introduction <a class=\"anchor\" id=\"Introduction\"></a>\n",
    "In this section we focus on a straight-forward and classic statistical model, linear regreesion (LR). The main idea of linear regression is to use a linear predictor function whose unknown model parameters are estimated from the data. \n",
    "\n",
    "(Least squares) linear regreesion is a classic and old supervised model, back to 1800's, finding a good rough linear fit to a set of points was performed by [Legendre](https://en.wikipedia.org/wiki/Adrien-Marie_Legendre) (1805) and [Gauss](https://en.wikipedia.org/wiki/Carl_Friedrich_Gauss) (1809) for the prediction of planetary movement. \n",
    "\n",
    "Linear regreesion is widely used in most regression tasks, variance analysis, and dependence analysis, and it plays an important role in the subfield of machine learning. The linear regression algorithm is one of the fundamental supervised machine-learning algorithms due to its relative simplicity and well-known properties.\n"
   ]
  },
  {
   "cell_type": "markdown",
   "metadata": {},
   "source": [
    "---\n",
    "\n",
    "### Algorithm <a class=\"anchor\" id=\"Algorithm\"></a>\n",
    "\n",
    "Assume we have an input data set (column vector) $\\textbf{X} = (\\textbf{x}_1^T, \\textbf{x}_2^T, \\cdots, \\textbf{x}_n^T)$, where $\\textbf{x}_i^T = (x_{i1}, x_{i2}, \\cdots, x_{ip}) \\in \\textbf{R}^p$, and want to predict a real-valued output data set (column vector) $\\textbf{y} = (y_1, y_2, \\cdots, y_n)$ . The linear regression model has the form\n",
    "\n",
    "$$\n",
    "y_i = \\beta_0 + \\sum_{j=1}^{p} {\\beta_j x_{ij}} + \\epsilon_i \n",
    "$$\n",
    "\n",
    "Here the $\\beta_j’s$ are unknown parameters or coefficients of corresponding input.\n",
    "\n",
    "To simplify the equation, usually a column of $1$'s are added to the input data matrix, where $\\textbf{x}_i^T = (1, x_{i1}, x_{i2}, \\cdots, x_{ip})$, and the linear equation becomes\n",
    "\n",
    "$$\n",
    "y_i = \\textbf{x}_i^T \\boldsymbol{\\beta} + \\epsilon_i\n",
    "$$\n",
    "\n",
    "Often these n equations are stacked together and written in a matrix form\n",
    "\n",
    "$$\n",
    "\\textbf{y} = \\textbf{X} \\boldsymbol{\\beta} + \\epsilon\n",
    "$$\n",
    "\n",
    "The linear model either assumes that the regression function $E(Y|X)$ is linear, or that the linear model is a reasonable approximation. \n",
    "\n",
    "The most popular estimation method is least squares, in which we pick the coefficients $\\boldsymbol{\\beta} = (\\beta_0, \\beta_1, . . ., \\beta_p)^T$, which minimizes the residual sum of squares\n",
    "\n",
    "$$\n",
    "RSS(\\boldsymbol{\\beta}) = \\sum_{i=1}^n {\\epsilon_i^2} =\\sum_{i=1}^n (y_i - \\beta_0 - \\sum_{j=1}^{p} {\\beta_j x_{ij}})^2\n",
    "$$\n",
    "\n",
    "This criterion makes sense if the observations $(\\textbf{x}_i, y_i)$ are independent and identically distributed (iid), which means that they are and randomly drawn from the population.\n"
   ]
  },
  {
   "cell_type": "markdown",
   "metadata": {},
   "source": [
    "To minimize $RSS(\\boldsymbol{\\beta})$, first we make the following assumptions:\n",
    "* $E[\\epsilon_i]=0$, i.e., $E[y_i]=\\textbf{x}_i^T \\boldsymbol{\\beta}$\n",
    "* $Var[\\epsilon_i] = \\sigma^2 < \\infty$ (homoscedasticity)\n",
    "* $Cov[\\epsilon_i, \\epsilon_j]=0$ for $\\forall i \\neq j$, i.e., $\\epsilon_i, \\epsilon_j$ are uncorrelated,\n",
    "and $\\epsilon_i$ do not depend on $x_i$ .\n",
    "\n",
    "\n",
    "\n",
    "Rewrite it to matrix form\n",
    "$$\n",
    "RSS(\\boldsymbol{\\beta}) = (\\textbf{y}-\\textbf{X}\\boldsymbol{\\beta})^T (\\textbf{y}-\\textbf{X}\\boldsymbol{\\beta})\n",
    "$$\n",
    "\n",
    "Notice that it's a quadratic function with $p+1$ paraeters, take the partial derivative w.r.t $\\boldsymbol{\\beta}$, we have\n",
    "\n",
    "$$\n",
    "\\frac{\\partial RSS} {\\partial \\boldsymbol{\\beta}} = -2 \\textbf{X}^T (\\textbf{y}-\\textbf{X}\\boldsymbol{\\beta})\n",
    "$$\n",
    "\n",
    "$$\n",
    "\\frac{\\partial^2 RSS} {\\partial \\boldsymbol{\\beta} \\partial \\boldsymbol{\\beta}^T} = -2 \\textbf{X}^T \\textbf{X}\n",
    "$$\n",
    "\n",
    "Assume that $\\textbf{X}$ is fully ranked, i.e., $n>p$, then $\\textbf{X}^T \\textbf{X}$ is positive definite. Set the first partial derivative to $0$, we have\n",
    "$$\n",
    "\\textbf{X}^T (\\textbf{y}-\\textbf{X}\\boldsymbol{\\beta}) = \\textbf{0}\n",
    "$$\n",
    "\n",
    "And the solution is \n",
    "$$\n",
    "\\hat{\\boldsymbol{\\beta}} = (\\textbf{X}^T \\textbf{X})^{-1} \\textbf{X}^T \\textbf{y}\n",
    "$$\n",
    "\n",
    "Note that only when $\\textbf{X}$ is fully ranked does the inverse of $\\textbf{X}^T \\textbf{X}$ exist.\n",
    "\n",
    "Thus the fitted values of the training inputs are given by\n",
    "\n",
    "$$\n",
    "\\hat{\\textbf{y}} = \\textbf{X} \\hat{\\boldsymbol{\\beta}} = \\textbf{X} (\\textbf{X}^T \\textbf{X})^{-1} \\textbf{X}^T \\textbf{y}\n",
    "$$\n",
    "\n",
    "To make a prediction given an unobserved input vector $\\textbf{x}_0$\n",
    "\n",
    "$$\n",
    "\\hat{y} = (1, \\textbf{x}_0)^T \\hat{\\boldsymbol{\\beta}}\n",
    "$$"
   ]
  },
  {
   "cell_type": "markdown",
   "metadata": {},
   "source": [
    "#### Prediction Evaluation <a class=\"anchor\" id=\"Evaluation\"></a>\n",
    "For regression problems, we usually use root mean square error (RMSE) and coefficient of determination ($R^2$) to estimate our linear regression model. \n",
    "\n",
    "The formula of $RMSE$ is given by\n",
    "$$\n",
    "RMSE = \\sqrt{\\frac{\\sum_{i=1}^n {(y_i-\\hat{y}_i)^2}}{n}}\n",
    "$$\n",
    "\n",
    "$R^2$ is the proportion of the variation in the dependent variable that is predictable from the independent variable(s). It's defined as follows\n",
    "$$\n",
    "R^2 = \\frac{SSR} {SST} = 1 - \\frac{SSE} {SST}\n",
    "$$\n",
    "where $SSE$ is the sum of squares of residuals\n",
    "$$\n",
    "SSE = \\sum_{i=1}^n {(y_i-\\hat{y}_i)^2}\n",
    "$$\n",
    "and $SST$ is the total sum of squares\n",
    "$$\n",
    "SS_{tot} = \\sum_{i=1}^n {(y_i-\\bar{y}_i)^2}\n",
    "$$"
   ]
  },
  {
   "cell_type": "markdown",
   "metadata": {},
   "source": [
    "#### *F* test <a class=\"anchor\" id=\"F\"></a>\n",
    "Also we can test the model and coefficients using *F* and *t* statistics. \n",
    "\n",
    "*F* test is used for the following hypothesis testing\n",
    "\n",
    "$H_0: \\beta_1 = \\cdots = \\beta_p = 0$\n",
    "\n",
    "$H_1$: at least one $\\beta_j \\neq 0$\n",
    "\n",
    "And the *F* statistic is\n",
    "$$\n",
    "F = \\frac{MSR} {MSE}\n",
    "$$\n",
    "where\n",
    "$$\n",
    "MSR = \\frac{SSR} {p-1}\n",
    "$$\n",
    "$$\n",
    "MSE = \\frac{SSE} {n-p}\n",
    "$$\n",
    "\n",
    "tends to have larger absolute values when at least for one $\\beta_j \\neq 0$. Thus $H_0$ cannot be rejected if $F>1$."
   ]
  },
  {
   "cell_type": "markdown",
   "metadata": {},
   "source": [
    "#### *t* test <a class=\"anchor\" id=\"t\"></a>\n",
    "\n",
    "*t* test is used for significance of coefficients\n",
    "\n",
    "$H_0: \\beta_j = 0$\n",
    "\n",
    "$H_1: \\beta_j \\neq 0$\n",
    "\n",
    "And the *t* statistic \n",
    "$$\n",
    "t = \\frac{\\beta_j - 0} {SE(\\beta_j)}\n",
    "$$\n",
    "tends to have larger values when $\\beta_j \\neq 0$, thus $H_0$ cannot be rejected."
   ]
  },
  {
   "cell_type": "markdown",
   "metadata": {},
   "source": [
    "---\n",
    "\n",
    "### Illustration <a class=\"anchor\" id=\"Illustration\"></a>\n",
    "\n",
    "Take a look at the two-dimension space, by Sewaqu ([link](https://commons.wikimedia.org/w/index.php?curid=11967659)), we can have a intuitive idea about how linear regression works.\n",
    "\n",
    "Let the input data $\\textbf{X}$ be in one-dimensional space, i.e., $\\textbf{X} = (x_1, x_2, \\cdots, x_n)$, and corresponding output be $\\textbf{y}=(y_1, y_2, \\cdots, y_n)$. The $y-x$ scatter plot is below, and the red line represents the OLS regression line. It's intuitive that the linear regression line \"goes cross\" all data points, and shows the linear trend of how output goes as input changes."
   ]
  },
  {
   "cell_type": "markdown",
   "metadata": {},
   "source": [
    "![lr_illu](images/Linear_regression.svg)"
   ]
  },
  {
   "cell_type": "markdown",
   "metadata": {},
   "source": [
    "---\n",
    "\n",
    "### Advantages and Disadvantages <a class=\"anchor\" id=\"Advantages_and_Disadvantages\"></a>\n",
    "\n",
    "#### Advantages: <a class=\"anchor\" id=\"Advantages\"></a>\n",
    "\n",
    "* Best linear unbiased estimator. The least square estimator of linear regression model has great properties. By the [Gauss-Markov theorem](https://en.wikipedia.org/wiki/Gauss%E2%80%93Markov_theorem), the ordinary least squares (OLS) regression produces unbiased estimates that have the smallest variance of all possible linear estimators. This property is called BLUE (Best Linear Unbiased Estimator).\n",
    "\n",
    "* Simple model. The Linear regression model is the simplest equation using which the relationship between the multiple predictor variables and predicted variable can be expressed, and the ordinary least squares error function is also very simple and straight-forward.\n",
    "\n",
    "* Computationally friendly. The modeling speed of linear regression is fast as it does not require complicated calculations and runs predictions fast when the amount of data is large.\n",
    "\n",
    "* Great interpretability of the output. The ability of linear regression to determine the relative influence of one or more predictor variables to the predicted value when the predictors are independent of each other is one of the key reasons of the popularity of linear regression. The model derived using this method can express the what change in the predictor variable causes what change in the predicted or target variable.\n",
    "\n",
    "\n",
    "#### Disadvantages: <a class=\"anchor\" id=\"Disadvantages\"></a>\n",
    "\n",
    "* Overly-Simplistic. The linear regression model is too simplistic to capture real world complexity. The linear regression assumes a linear relationship between independent variables and dependent variable, which cannot represent more complex relationships in real world. \n",
    "\n",
    "* Independence of variables. Assumes that the predictor variables are not correlated which is rarely true. It is important to, therefore, remove multicollinearity (using dimensionality reduction techniques) because the technique assumes that there is no relationship among independent variables. In cases of high multicollinearity, two features that have high correlation will influence each other’s weight and result in an unreliable model.\n",
    "\n",
    "* Homoscedasticity. The linear regression model assumes that independent variables can represent all expectation and variance of dependent variable (so that $E[\\epsilon_i]=0$ and $Var[\\epsilon_i] = \\sigma^2$), which is always not true because in real world it's hard for people to find exactly all independent variables that affect the dependent variable. Usually people will have input that are dependent and insufficient."
   ]
  },
  {
   "cell_type": "markdown",
   "metadata": {},
   "source": [
    "---\n",
    "\n",
    "### Hard code of linear regression <a class=\"anchor\" id=\"Code\"></a>\n",
    "\n",
    "#### All packages used in this notebook\n",
    "* [numpy](https://numpy.org/)\n",
    "* [pandas](https://pandas.pydata.org/)\n",
    "* [scipy](https://scipy.org/)\n",
    "* [pandas_datareader](https://pandas-datareader.readthedocs.io/en/latest/)\n",
    "* [plotly](https://plotly.com/)\n",
    "* [statsmodels](https://www.statsmodels.org/stable/index.html)\n",
    "* [sklearn](https://scikit-learn.org/stable/datasets/toy_dataset.html)"
   ]
  },
  {
   "cell_type": "code",
   "execution_count": 1,
   "metadata": {},
   "outputs": [],
   "source": [
    "import numpy as np\n",
    "import pandas as pd\n",
    "from scipy import stats\n",
    "import pandas_datareader as web\n",
    "import plotly.express as px\n",
    "import statsmodels.api as sm\n",
    "from sklearn.datasets import load_diabetes\n",
    "from sklearn.model_selection import train_test_split\n",
    "\n",
    "import plotly.io as pio\n",
    "pio.renderers.default = \"svg\""
   ]
  },
  {
   "cell_type": "markdown",
   "metadata": {},
   "source": [
    "#### function of linear regression model"
   ]
  },
  {
   "cell_type": "code",
   "execution_count": 2,
   "metadata": {},
   "outputs": [],
   "source": [
    "class linear_regression():\n",
    "    def __init__(self):\n",
    "        self.X = None\n",
    "        self.variables = None\n",
    "        self.y = None\n",
    "        self.predictor = None\n",
    "        self.n = None\n",
    "        self.p = None\n",
    "        self.bias = None\n",
    "        self.beta_hat = None\n",
    "        self.y_hat = None\n",
    "\n",
    "    # model fitting\n",
    "    def fit(self, X, y, bias=True):\n",
    "        self.variables = X.columns\n",
    "        self.predictor = y.name\n",
    "        \n",
    "        X = X.to_numpy()\n",
    "        y = y.to_numpy()\n",
    "\n",
    "        if bias:\n",
    "            ones_column = np.ones((X.shape[0], 1))\n",
    "            X = np.append(ones_column, X, axis=1)\n",
    "\n",
    "        self.X = X\n",
    "        self.y = y\n",
    "        self.n = X.shape[0]\n",
    "        self.p = X.shape[1]\n",
    "        self.bias = bias\n",
    "\n",
    "        beta_hat = np.linalg.inv(X.T @ X) @ X.T @ y\n",
    "        self.beta_hat = beta_hat\n",
    "        self.y_hat = X @ beta_hat\n",
    "\n",
    "    # predict new data\n",
    "    def predict(self, x):\n",
    "        if self.bias:\n",
    "            ones_column = np.ones((x.shape[0], 1))\n",
    "            x = np.append(ones_column, x, axis=1)\n",
    "        return x @ self.beta_hat\n",
    "\n",
    "    # function of sum of squared errors\n",
    "    def SSE(self):\n",
    "        return (self.y-self.y_hat).T@(self.y-self.y_hat)\n",
    "    \n",
    "    # function of mean squared errors\n",
    "    def MSE(self):\n",
    "        return self.SSE()/(self.n-self.p)\n",
    "\n",
    "    # function of sum of squares regression\n",
    "    def SSR(self):\n",
    "        return (self.y_hat - np.mean(self.y)).T @ (self.y_hat - np.mean(self.y))\n",
    "\n",
    "    # function of mean squared regression\n",
    "    def MSR(self):\n",
    "        return self.SSR()/(self.p-1)\n",
    "\n",
    "    # function of sum of squares total\n",
    "    def SST(self):\n",
    "        return (self.y-np.mean(self.y_hat)).T@(self.y-np.mean(self.y_hat))\n",
    "\n",
    "    # function of coefficient of determination\n",
    "    def R_2(self):\n",
    "        return 1 - self.SSE()/self.SST()\n",
    "\n",
    "    # function of coefficient of determination on test data\n",
    "    def pred_R_2(self, input, true):\n",
    "        pred = self.predict(input)\n",
    "        pred_SSE = (true-pred).T@(true-pred)\n",
    "        pred_SST = (true-np.mean(pred)).T@(true-np.mean(pred))\n",
    "        return 1 - pred_SSE/pred_SST\n",
    "\n",
    "    # function of adjusted coefficient of determination\n",
    "    def adj_R_2(self):\n",
    "        return 1- (1-self.R_2())*(self.n-1)/(self.n-self.p-1)\n",
    "\n",
    "    # function of standard deviation of coefficients\n",
    "    def sd_coef(self):\n",
    "        return np.sqrt(np.diagonal(self.MSE() * np.linalg.inv(self.X.T @ self.X)))\n",
    "\n",
    "    # function of t statistic and p-value\n",
    "    def t_stat(self):\n",
    "        t = self.beta_hat / self.sd_coef()\n",
    "        t_p = [2*(1-stats.t.cdf(np.abs(i), (self.n-self.p-1))) for i in t]\n",
    "        return t, t_p\n",
    "\n",
    "    # function of F statistic and p-value\n",
    "    def F_stat(self):\n",
    "        F = self.MSR()/self.MSE()\n",
    "        df_1 = self.p - 1\n",
    "        df_2 = self.n - self.p\n",
    "        #find p-value of F test statistic \n",
    "        F_p = 1-stats.f.cdf(F, df_1, df_2) \n",
    "        return F, F_p\n",
    "\n",
    "    # function of root mean square error\n",
    "    def RMSE(self, input, true):\n",
    "        pred = self.predict(input)\n",
    "        return np.sqrt((true-pred).T@(true-pred)/len(true))\n",
    "\n",
    "    # function of model summary\n",
    "    def summary(self):\n",
    "        coef_df = pd.DataFrame()\n",
    "        \n",
    "        coef_df['Estimate'] = self.beta_hat\n",
    "        coef_df['Std.Error'] = self.sd_coef()\n",
    "        coef_df['t value'] = self.t_stat()[0]\n",
    "        coef_df['Pr(>|t|)'] = self.t_stat()[1]\n",
    "        coef_df.index = ['Intercept'] + list(self.variables)\n",
    "\n",
    "        print(coef_df)\n",
    "\n",
    "        print(f\"Residual standard error: {round(np.sqrt(self.MSE()), 3)} on {self.n-self.p} degress of freedom.\")\n",
    "        print(f\"R-squared: {round(self.R_2(), 3)}, Adjusted R-square: {round(self.adj_R_2(), 3)}\")\n",
    "        f_stat_str = f\"F-statistic: {round(self.F_stat()[0], 3)} on {self.p - 1} and {self.n - self.p} DF,\"\n",
    "        f_p_str = f\"p-value: {round(self.F_stat()[1], 3)}\"\n",
    "        print(f_stat_str + f_p_str)\n",
    "        "
   ]
  },
  {
   "cell_type": "markdown",
   "metadata": {},
   "source": [
    "---\n",
    "\n",
    "### Applications on data sets <a class=\"anchor\" id=\"Applications\"></a>\n",
    "\n",
    "* Ethereum (ETH) price data\n",
    "* Diabetes data\n",
    "\n"
   ]
  },
  {
   "cell_type": "markdown",
   "metadata": {},
   "source": [
    "---\n",
    "#### Ethereum (ETH) price data <a class=\"anchor\" id=\"ETH\"></a>\n",
    "---\n",
    "\n",
    "First we apply our linear regression model on predicting the price of Ethereum. [Ethereum](https://en.wikipedia.org/wiki/Ethereum) (by wikipedia) is a decentralized, open-source blockchain with smart contract functionality. Ether (ETH) is the native cryptocurrency of the platform. Amongst cryptocurrencies, Ether is second only to Bitcoin in market capitalization. \n",
    "\n",
    "Nowadays prices of Ethereum and other cryptocurrencies are increasing rapidly, so they are becoming more and more popular among traders and investors."
   ]
  },
  {
   "cell_type": "markdown",
   "metadata": {},
   "source": [
    "In this problem we focus on predicting future ETH price using history ETH prices from *pandas_datareader*. And we use *plotly* to plot nice figures.\n",
    "\n",
    "\n",
    "\n",
    "First we take a look at the ETH price in USD from Jan to Nov, 2021."
   ]
  },
  {
   "cell_type": "code",
   "execution_count": 3,
   "metadata": {},
   "outputs": [
    {
     "data": {
      "text/html": [
       "<div>\n",
       "<style scoped>\n",
       "    .dataframe tbody tr th:only-of-type {\n",
       "        vertical-align: middle;\n",
       "    }\n",
       "\n",
       "    .dataframe tbody tr th {\n",
       "        vertical-align: top;\n",
       "    }\n",
       "\n",
       "    .dataframe thead th {\n",
       "        text-align: right;\n",
       "    }\n",
       "</style>\n",
       "<table border=\"1\" class=\"dataframe\">\n",
       "  <thead>\n",
       "    <tr style=\"text-align: right;\">\n",
       "      <th></th>\n",
       "      <th>High</th>\n",
       "      <th>Low</th>\n",
       "      <th>Open</th>\n",
       "      <th>Close</th>\n",
       "      <th>Volume</th>\n",
       "      <th>Adj Close</th>\n",
       "    </tr>\n",
       "    <tr>\n",
       "      <th>Date</th>\n",
       "      <th></th>\n",
       "      <th></th>\n",
       "      <th></th>\n",
       "      <th></th>\n",
       "      <th></th>\n",
       "      <th></th>\n",
       "    </tr>\n",
       "  </thead>\n",
       "  <tbody>\n",
       "    <tr>\n",
       "      <th>2021-01-01</th>\n",
       "      <td>749.201843</td>\n",
       "      <td>719.792236</td>\n",
       "      <td>737.708374</td>\n",
       "      <td>730.367554</td>\n",
       "      <td>13652004358</td>\n",
       "      <td>730.367554</td>\n",
       "    </tr>\n",
       "    <tr>\n",
       "      <th>2021-01-02</th>\n",
       "      <td>786.798462</td>\n",
       "      <td>718.109497</td>\n",
       "      <td>730.402649</td>\n",
       "      <td>774.534973</td>\n",
       "      <td>19740771179</td>\n",
       "      <td>774.534973</td>\n",
       "    </tr>\n",
       "    <tr>\n",
       "      <th>2021-01-03</th>\n",
       "      <td>1006.565002</td>\n",
       "      <td>771.561646</td>\n",
       "      <td>774.511841</td>\n",
       "      <td>975.507690</td>\n",
       "      <td>45200463368</td>\n",
       "      <td>975.507690</td>\n",
       "    </tr>\n",
       "    <tr>\n",
       "      <th>2021-01-04</th>\n",
       "      <td>1153.189209</td>\n",
       "      <td>912.305359</td>\n",
       "      <td>977.058838</td>\n",
       "      <td>1040.233032</td>\n",
       "      <td>56945985763</td>\n",
       "      <td>1040.233032</td>\n",
       "    </tr>\n",
       "    <tr>\n",
       "      <th>2021-01-05</th>\n",
       "      <td>1129.371460</td>\n",
       "      <td>986.811279</td>\n",
       "      <td>1041.498779</td>\n",
       "      <td>1100.006104</td>\n",
       "      <td>41535932781</td>\n",
       "      <td>1100.006104</td>\n",
       "    </tr>\n",
       "  </tbody>\n",
       "</table>\n",
       "</div>"
      ],
      "text/plain": [
       "                   High         Low         Open        Close       Volume  \\\n",
       "Date                                                                         \n",
       "2021-01-01   749.201843  719.792236   737.708374   730.367554  13652004358   \n",
       "2021-01-02   786.798462  718.109497   730.402649   774.534973  19740771179   \n",
       "2021-01-03  1006.565002  771.561646   774.511841   975.507690  45200463368   \n",
       "2021-01-04  1153.189209  912.305359   977.058838  1040.233032  56945985763   \n",
       "2021-01-05  1129.371460  986.811279  1041.498779  1100.006104  41535932781   \n",
       "\n",
       "              Adj Close  \n",
       "Date                     \n",
       "2021-01-01   730.367554  \n",
       "2021-01-02   774.534973  \n",
       "2021-01-03   975.507690  \n",
       "2021-01-04  1040.233032  \n",
       "2021-01-05  1100.006104  "
      ]
     },
     "execution_count": 3,
     "metadata": {},
     "output_type": "execute_result"
    }
   ],
   "source": [
    "data = web.DataReader('ETH-USD',\n",
    "                     'yahoo',\n",
    "                     start = '2021-01-01',\n",
    "                     end = '2021-11-30')\n",
    "data.head()"
   ]
  },
  {
   "cell_type": "markdown",
   "metadata": {},
   "source": [
    "Let us set our goal: to predict close price. Plot the close price curve of ETH."
   ]
  },
  {
   "cell_type": "code",
   "execution_count": 4,
   "metadata": {},
   "outputs": [
    {
     "ename": "ValueError",
     "evalue": "\nImage export using the \"kaleido\" engine requires the kaleido package,\nwhich can be installed using pip:\n    $ pip install -U kaleido\n",
     "output_type": "error",
     "traceback": [
      "\u001b[1;31m---------------------------------------------------------------------------\u001b[0m",
      "\u001b[1;31mValueError\u001b[0m                                Traceback (most recent call last)",
      "\u001b[1;32mF:\\anaconda3\\lib\\site-packages\\IPython\\core\\formatters.py\u001b[0m in \u001b[0;36m__call__\u001b[1;34m(self, obj)\u001b[0m\n\u001b[0;32m    916\u001b[0m             \u001b[0mmethod\u001b[0m \u001b[1;33m=\u001b[0m \u001b[0mget_real_method\u001b[0m\u001b[1;33m(\u001b[0m\u001b[0mobj\u001b[0m\u001b[1;33m,\u001b[0m \u001b[0mself\u001b[0m\u001b[1;33m.\u001b[0m\u001b[0mprint_method\u001b[0m\u001b[1;33m)\u001b[0m\u001b[1;33m\u001b[0m\u001b[1;33m\u001b[0m\u001b[0m\n\u001b[0;32m    917\u001b[0m             \u001b[1;32mif\u001b[0m \u001b[0mmethod\u001b[0m \u001b[1;32mis\u001b[0m \u001b[1;32mnot\u001b[0m \u001b[1;32mNone\u001b[0m\u001b[1;33m:\u001b[0m\u001b[1;33m\u001b[0m\u001b[1;33m\u001b[0m\u001b[0m\n\u001b[1;32m--> 918\u001b[1;33m                 \u001b[0mmethod\u001b[0m\u001b[1;33m(\u001b[0m\u001b[1;33m)\u001b[0m\u001b[1;33m\u001b[0m\u001b[1;33m\u001b[0m\u001b[0m\n\u001b[0m\u001b[0;32m    919\u001b[0m                 \u001b[1;32mreturn\u001b[0m \u001b[1;32mTrue\u001b[0m\u001b[1;33m\u001b[0m\u001b[1;33m\u001b[0m\u001b[0m\n\u001b[0;32m    920\u001b[0m \u001b[1;33m\u001b[0m\u001b[0m\n",
      "\u001b[1;32mF:\\anaconda3\\lib\\site-packages\\plotly\\basedatatypes.py\u001b[0m in \u001b[0;36m_ipython_display_\u001b[1;34m(self)\u001b[0m\n\u001b[0;32m    842\u001b[0m \u001b[1;33m\u001b[0m\u001b[0m\n\u001b[0;32m    843\u001b[0m         \u001b[1;32mif\u001b[0m \u001b[0mpio\u001b[0m\u001b[1;33m.\u001b[0m\u001b[0mrenderers\u001b[0m\u001b[1;33m.\u001b[0m\u001b[0mrender_on_display\u001b[0m \u001b[1;32mand\u001b[0m \u001b[0mpio\u001b[0m\u001b[1;33m.\u001b[0m\u001b[0mrenderers\u001b[0m\u001b[1;33m.\u001b[0m\u001b[0mdefault\u001b[0m\u001b[1;33m:\u001b[0m\u001b[1;33m\u001b[0m\u001b[1;33m\u001b[0m\u001b[0m\n\u001b[1;32m--> 844\u001b[1;33m             \u001b[0mpio\u001b[0m\u001b[1;33m.\u001b[0m\u001b[0mshow\u001b[0m\u001b[1;33m(\u001b[0m\u001b[0mself\u001b[0m\u001b[1;33m)\u001b[0m\u001b[1;33m\u001b[0m\u001b[1;33m\u001b[0m\u001b[0m\n\u001b[0m\u001b[0;32m    845\u001b[0m         \u001b[1;32melse\u001b[0m\u001b[1;33m:\u001b[0m\u001b[1;33m\u001b[0m\u001b[1;33m\u001b[0m\u001b[0m\n\u001b[0;32m    846\u001b[0m             \u001b[0mprint\u001b[0m\u001b[1;33m(\u001b[0m\u001b[0mrepr\u001b[0m\u001b[1;33m(\u001b[0m\u001b[0mself\u001b[0m\u001b[1;33m)\u001b[0m\u001b[1;33m)\u001b[0m\u001b[1;33m\u001b[0m\u001b[1;33m\u001b[0m\u001b[0m\n",
      "\u001b[1;32mF:\\anaconda3\\lib\\site-packages\\plotly\\io\\_renderers.py\u001b[0m in \u001b[0;36mshow\u001b[1;34m(fig, renderer, validate, **kwargs)\u001b[0m\n\u001b[0;32m    387\u001b[0m \u001b[1;33m\u001b[0m\u001b[0m\n\u001b[0;32m    388\u001b[0m     \u001b[1;31m# Mimetype renderers\u001b[0m\u001b[1;33m\u001b[0m\u001b[1;33m\u001b[0m\u001b[1;33m\u001b[0m\u001b[0m\n\u001b[1;32m--> 389\u001b[1;33m     \u001b[0mbundle\u001b[0m \u001b[1;33m=\u001b[0m \u001b[0mrenderers\u001b[0m\u001b[1;33m.\u001b[0m\u001b[0m_build_mime_bundle\u001b[0m\u001b[1;33m(\u001b[0m\u001b[0mfig_dict\u001b[0m\u001b[1;33m,\u001b[0m \u001b[0mrenderers_string\u001b[0m\u001b[1;33m=\u001b[0m\u001b[0mrenderer\u001b[0m\u001b[1;33m,\u001b[0m \u001b[1;33m**\u001b[0m\u001b[0mkwargs\u001b[0m\u001b[1;33m)\u001b[0m\u001b[1;33m\u001b[0m\u001b[1;33m\u001b[0m\u001b[0m\n\u001b[0m\u001b[0;32m    390\u001b[0m     \u001b[1;32mif\u001b[0m \u001b[0mbundle\u001b[0m\u001b[1;33m:\u001b[0m\u001b[1;33m\u001b[0m\u001b[1;33m\u001b[0m\u001b[0m\n\u001b[0;32m    391\u001b[0m         \u001b[1;32mif\u001b[0m \u001b[1;32mnot\u001b[0m \u001b[0mipython_display\u001b[0m\u001b[1;33m:\u001b[0m\u001b[1;33m\u001b[0m\u001b[1;33m\u001b[0m\u001b[0m\n",
      "\u001b[1;32mF:\\anaconda3\\lib\\site-packages\\plotly\\io\\_renderers.py\u001b[0m in \u001b[0;36m_build_mime_bundle\u001b[1;34m(self, fig_dict, renderers_string, **kwargs)\u001b[0m\n\u001b[0;32m    295\u001b[0m                         \u001b[0msetattr\u001b[0m\u001b[1;33m(\u001b[0m\u001b[0mrenderer\u001b[0m\u001b[1;33m,\u001b[0m \u001b[0mk\u001b[0m\u001b[1;33m,\u001b[0m \u001b[0mv\u001b[0m\u001b[1;33m)\u001b[0m\u001b[1;33m\u001b[0m\u001b[1;33m\u001b[0m\u001b[0m\n\u001b[0;32m    296\u001b[0m \u001b[1;33m\u001b[0m\u001b[0m\n\u001b[1;32m--> 297\u001b[1;33m                 \u001b[0mbundle\u001b[0m\u001b[1;33m.\u001b[0m\u001b[0mupdate\u001b[0m\u001b[1;33m(\u001b[0m\u001b[0mrenderer\u001b[0m\u001b[1;33m.\u001b[0m\u001b[0mto_mimebundle\u001b[0m\u001b[1;33m(\u001b[0m\u001b[0mfig_dict\u001b[0m\u001b[1;33m)\u001b[0m\u001b[1;33m)\u001b[0m\u001b[1;33m\u001b[0m\u001b[1;33m\u001b[0m\u001b[0m\n\u001b[0m\u001b[0;32m    298\u001b[0m \u001b[1;33m\u001b[0m\u001b[0m\n\u001b[0;32m    299\u001b[0m         \u001b[1;32mreturn\u001b[0m \u001b[0mbundle\u001b[0m\u001b[1;33m\u001b[0m\u001b[1;33m\u001b[0m\u001b[0m\n",
      "\u001b[1;32mF:\\anaconda3\\lib\\site-packages\\plotly\\io\\_base_renderers.py\u001b[0m in \u001b[0;36mto_mimebundle\u001b[1;34m(self, fig_dict)\u001b[0m\n\u001b[0;32m    126\u001b[0m \u001b[1;33m\u001b[0m\u001b[0m\n\u001b[0;32m    127\u001b[0m     \u001b[1;32mdef\u001b[0m \u001b[0mto_mimebundle\u001b[0m\u001b[1;33m(\u001b[0m\u001b[0mself\u001b[0m\u001b[1;33m,\u001b[0m \u001b[0mfig_dict\u001b[0m\u001b[1;33m)\u001b[0m\u001b[1;33m:\u001b[0m\u001b[1;33m\u001b[0m\u001b[1;33m\u001b[0m\u001b[0m\n\u001b[1;32m--> 128\u001b[1;33m         image_bytes = to_image(\n\u001b[0m\u001b[0;32m    129\u001b[0m             \u001b[0mfig_dict\u001b[0m\u001b[1;33m,\u001b[0m\u001b[1;33m\u001b[0m\u001b[1;33m\u001b[0m\u001b[0m\n\u001b[0;32m    130\u001b[0m             \u001b[0mformat\u001b[0m\u001b[1;33m=\u001b[0m\u001b[0mself\u001b[0m\u001b[1;33m.\u001b[0m\u001b[0mformat\u001b[0m\u001b[1;33m,\u001b[0m\u001b[1;33m\u001b[0m\u001b[1;33m\u001b[0m\u001b[0m\n",
      "\u001b[1;32mF:\\anaconda3\\lib\\site-packages\\plotly\\io\\_kaleido.py\u001b[0m in \u001b[0;36mto_image\u001b[1;34m(fig, format, width, height, scale, validate, engine)\u001b[0m\n\u001b[0;32m    132\u001b[0m     \u001b[1;31m# Raise informative error message if Kaleido is not installed\u001b[0m\u001b[1;33m\u001b[0m\u001b[1;33m\u001b[0m\u001b[1;33m\u001b[0m\u001b[0m\n\u001b[0;32m    133\u001b[0m     \u001b[1;32mif\u001b[0m \u001b[0mscope\u001b[0m \u001b[1;32mis\u001b[0m \u001b[1;32mNone\u001b[0m\u001b[1;33m:\u001b[0m\u001b[1;33m\u001b[0m\u001b[1;33m\u001b[0m\u001b[0m\n\u001b[1;32m--> 134\u001b[1;33m         raise ValueError(\n\u001b[0m\u001b[0;32m    135\u001b[0m             \"\"\"\n\u001b[0;32m    136\u001b[0m \u001b[0mImage\u001b[0m \u001b[0mexport\u001b[0m \u001b[0musing\u001b[0m \u001b[0mthe\u001b[0m \u001b[1;34m\"kaleido\"\u001b[0m \u001b[0mengine\u001b[0m \u001b[0mrequires\u001b[0m \u001b[0mthe\u001b[0m \u001b[0mkaleido\u001b[0m \u001b[0mpackage\u001b[0m\u001b[1;33m,\u001b[0m\u001b[1;33m\u001b[0m\u001b[1;33m\u001b[0m\u001b[0m\n",
      "\u001b[1;31mValueError\u001b[0m: \nImage export using the \"kaleido\" engine requires the kaleido package,\nwhich can be installed using pip:\n    $ pip install -U kaleido\n"
     ]
    },
    {
     "ename": "ValueError",
     "evalue": "\nImage export using the \"kaleido\" engine requires the kaleido package,\nwhich can be installed using pip:\n    $ pip install -U kaleido\n",
     "output_type": "error",
     "traceback": [
      "\u001b[1;31m---------------------------------------------------------------------------\u001b[0m",
      "\u001b[1;31mValueError\u001b[0m                                Traceback (most recent call last)",
      "\u001b[1;32mF:\\anaconda3\\lib\\site-packages\\IPython\\core\\formatters.py\u001b[0m in \u001b[0;36m__call__\u001b[1;34m(self, obj, include, exclude)\u001b[0m\n\u001b[0;32m    968\u001b[0m \u001b[1;33m\u001b[0m\u001b[0m\n\u001b[0;32m    969\u001b[0m             \u001b[1;32mif\u001b[0m \u001b[0mmethod\u001b[0m \u001b[1;32mis\u001b[0m \u001b[1;32mnot\u001b[0m \u001b[1;32mNone\u001b[0m\u001b[1;33m:\u001b[0m\u001b[1;33m\u001b[0m\u001b[1;33m\u001b[0m\u001b[0m\n\u001b[1;32m--> 970\u001b[1;33m                 \u001b[1;32mreturn\u001b[0m \u001b[0mmethod\u001b[0m\u001b[1;33m(\u001b[0m\u001b[0minclude\u001b[0m\u001b[1;33m=\u001b[0m\u001b[0minclude\u001b[0m\u001b[1;33m,\u001b[0m \u001b[0mexclude\u001b[0m\u001b[1;33m=\u001b[0m\u001b[0mexclude\u001b[0m\u001b[1;33m)\u001b[0m\u001b[1;33m\u001b[0m\u001b[1;33m\u001b[0m\u001b[0m\n\u001b[0m\u001b[0;32m    971\u001b[0m             \u001b[1;32mreturn\u001b[0m \u001b[1;32mNone\u001b[0m\u001b[1;33m\u001b[0m\u001b[1;33m\u001b[0m\u001b[0m\n\u001b[0;32m    972\u001b[0m         \u001b[1;32melse\u001b[0m\u001b[1;33m:\u001b[0m\u001b[1;33m\u001b[0m\u001b[1;33m\u001b[0m\u001b[0m\n",
      "\u001b[1;32mF:\\anaconda3\\lib\\site-packages\\plotly\\basedatatypes.py\u001b[0m in \u001b[0;36m_repr_mimebundle_\u001b[1;34m(self, include, exclude, validate, **kwargs)\u001b[0m\n\u001b[0;32m    832\u001b[0m         \u001b[1;32mfor\u001b[0m \u001b[0mrenderer\u001b[0m \u001b[1;32min\u001b[0m \u001b[0mrenderers_list\u001b[0m\u001b[1;33m:\u001b[0m\u001b[1;33m\u001b[0m\u001b[1;33m\u001b[0m\u001b[0m\n\u001b[0;32m    833\u001b[0m             \u001b[1;32mif\u001b[0m \u001b[0misinstance\u001b[0m\u001b[1;33m(\u001b[0m\u001b[0mrenderer\u001b[0m\u001b[1;33m,\u001b[0m \u001b[0mMimetypeRenderer\u001b[0m\u001b[1;33m)\u001b[0m\u001b[1;33m:\u001b[0m\u001b[1;33m\u001b[0m\u001b[1;33m\u001b[0m\u001b[0m\n\u001b[1;32m--> 834\u001b[1;33m                 \u001b[0mbundle\u001b[0m\u001b[1;33m.\u001b[0m\u001b[0mupdate\u001b[0m\u001b[1;33m(\u001b[0m\u001b[0mrenderer\u001b[0m\u001b[1;33m.\u001b[0m\u001b[0mto_mimebundle\u001b[0m\u001b[1;33m(\u001b[0m\u001b[0mfig_dict\u001b[0m\u001b[1;33m)\u001b[0m\u001b[1;33m)\u001b[0m\u001b[1;33m\u001b[0m\u001b[1;33m\u001b[0m\u001b[0m\n\u001b[0m\u001b[0;32m    835\u001b[0m         \u001b[1;32mreturn\u001b[0m \u001b[0mbundle\u001b[0m\u001b[1;33m\u001b[0m\u001b[1;33m\u001b[0m\u001b[0m\n\u001b[0;32m    836\u001b[0m \u001b[1;33m\u001b[0m\u001b[0m\n",
      "\u001b[1;32mF:\\anaconda3\\lib\\site-packages\\plotly\\io\\_base_renderers.py\u001b[0m in \u001b[0;36mto_mimebundle\u001b[1;34m(self, fig_dict)\u001b[0m\n\u001b[0;32m    126\u001b[0m \u001b[1;33m\u001b[0m\u001b[0m\n\u001b[0;32m    127\u001b[0m     \u001b[1;32mdef\u001b[0m \u001b[0mto_mimebundle\u001b[0m\u001b[1;33m(\u001b[0m\u001b[0mself\u001b[0m\u001b[1;33m,\u001b[0m \u001b[0mfig_dict\u001b[0m\u001b[1;33m)\u001b[0m\u001b[1;33m:\u001b[0m\u001b[1;33m\u001b[0m\u001b[1;33m\u001b[0m\u001b[0m\n\u001b[1;32m--> 128\u001b[1;33m         image_bytes = to_image(\n\u001b[0m\u001b[0;32m    129\u001b[0m             \u001b[0mfig_dict\u001b[0m\u001b[1;33m,\u001b[0m\u001b[1;33m\u001b[0m\u001b[1;33m\u001b[0m\u001b[0m\n\u001b[0;32m    130\u001b[0m             \u001b[0mformat\u001b[0m\u001b[1;33m=\u001b[0m\u001b[0mself\u001b[0m\u001b[1;33m.\u001b[0m\u001b[0mformat\u001b[0m\u001b[1;33m,\u001b[0m\u001b[1;33m\u001b[0m\u001b[1;33m\u001b[0m\u001b[0m\n",
      "\u001b[1;32mF:\\anaconda3\\lib\\site-packages\\plotly\\io\\_kaleido.py\u001b[0m in \u001b[0;36mto_image\u001b[1;34m(fig, format, width, height, scale, validate, engine)\u001b[0m\n\u001b[0;32m    132\u001b[0m     \u001b[1;31m# Raise informative error message if Kaleido is not installed\u001b[0m\u001b[1;33m\u001b[0m\u001b[1;33m\u001b[0m\u001b[1;33m\u001b[0m\u001b[0m\n\u001b[0;32m    133\u001b[0m     \u001b[1;32mif\u001b[0m \u001b[0mscope\u001b[0m \u001b[1;32mis\u001b[0m \u001b[1;32mNone\u001b[0m\u001b[1;33m:\u001b[0m\u001b[1;33m\u001b[0m\u001b[1;33m\u001b[0m\u001b[0m\n\u001b[1;32m--> 134\u001b[1;33m         raise ValueError(\n\u001b[0m\u001b[0;32m    135\u001b[0m             \"\"\"\n\u001b[0;32m    136\u001b[0m \u001b[0mImage\u001b[0m \u001b[0mexport\u001b[0m \u001b[0musing\u001b[0m \u001b[0mthe\u001b[0m \u001b[1;34m\"kaleido\"\u001b[0m \u001b[0mengine\u001b[0m \u001b[0mrequires\u001b[0m \u001b[0mthe\u001b[0m \u001b[0mkaleido\u001b[0m \u001b[0mpackage\u001b[0m\u001b[1;33m,\u001b[0m\u001b[1;33m\u001b[0m\u001b[1;33m\u001b[0m\u001b[0m\n",
      "\u001b[1;31mValueError\u001b[0m: \nImage export using the \"kaleido\" engine requires the kaleido package,\nwhich can be installed using pip:\n    $ pip install -U kaleido\n"
     ]
    },
    {
     "ename": "ValueError",
     "evalue": "\nImage export using the \"kaleido\" engine requires the kaleido package,\nwhich can be installed using pip:\n    $ pip install -U kaleido\n",
     "output_type": "error",
     "traceback": [
      "\u001b[1;31m---------------------------------------------------------------------------\u001b[0m",
      "\u001b[1;31mValueError\u001b[0m                                Traceback (most recent call last)",
      "\u001b[1;32mF:\\anaconda3\\lib\\site-packages\\IPython\\core\\formatters.py\u001b[0m in \u001b[0;36m__call__\u001b[1;34m(self, obj)\u001b[0m\n\u001b[0;32m    343\u001b[0m             \u001b[0mmethod\u001b[0m \u001b[1;33m=\u001b[0m \u001b[0mget_real_method\u001b[0m\u001b[1;33m(\u001b[0m\u001b[0mobj\u001b[0m\u001b[1;33m,\u001b[0m \u001b[0mself\u001b[0m\u001b[1;33m.\u001b[0m\u001b[0mprint_method\u001b[0m\u001b[1;33m)\u001b[0m\u001b[1;33m\u001b[0m\u001b[1;33m\u001b[0m\u001b[0m\n\u001b[0;32m    344\u001b[0m             \u001b[1;32mif\u001b[0m \u001b[0mmethod\u001b[0m \u001b[1;32mis\u001b[0m \u001b[1;32mnot\u001b[0m \u001b[1;32mNone\u001b[0m\u001b[1;33m:\u001b[0m\u001b[1;33m\u001b[0m\u001b[1;33m\u001b[0m\u001b[0m\n\u001b[1;32m--> 345\u001b[1;33m                 \u001b[1;32mreturn\u001b[0m \u001b[0mmethod\u001b[0m\u001b[1;33m(\u001b[0m\u001b[1;33m)\u001b[0m\u001b[1;33m\u001b[0m\u001b[1;33m\u001b[0m\u001b[0m\n\u001b[0m\u001b[0;32m    346\u001b[0m             \u001b[1;32mreturn\u001b[0m \u001b[1;32mNone\u001b[0m\u001b[1;33m\u001b[0m\u001b[1;33m\u001b[0m\u001b[0m\n\u001b[0;32m    347\u001b[0m         \u001b[1;32melse\u001b[0m\u001b[1;33m:\u001b[0m\u001b[1;33m\u001b[0m\u001b[1;33m\u001b[0m\u001b[0m\n",
      "\u001b[1;32mF:\\anaconda3\\lib\\site-packages\\plotly\\basedatatypes.py\u001b[0m in \u001b[0;36m_repr_html_\u001b[1;34m(self)\u001b[0m\n\u001b[0;32m    808\u001b[0m         \u001b[0mCustomize\u001b[0m \u001b[0mhtml\u001b[0m \u001b[0mrepresentation\u001b[0m\u001b[1;33m\u001b[0m\u001b[1;33m\u001b[0m\u001b[0m\n\u001b[0;32m    809\u001b[0m         \"\"\"\n\u001b[1;32m--> 810\u001b[1;33m         \u001b[0mbundle\u001b[0m \u001b[1;33m=\u001b[0m \u001b[0mself\u001b[0m\u001b[1;33m.\u001b[0m\u001b[0m_repr_mimebundle_\u001b[0m\u001b[1;33m(\u001b[0m\u001b[1;33m)\u001b[0m\u001b[1;33m\u001b[0m\u001b[1;33m\u001b[0m\u001b[0m\n\u001b[0m\u001b[0;32m    811\u001b[0m         \u001b[1;32mif\u001b[0m \u001b[1;34m\"text/html\"\u001b[0m \u001b[1;32min\u001b[0m \u001b[0mbundle\u001b[0m\u001b[1;33m:\u001b[0m\u001b[1;33m\u001b[0m\u001b[1;33m\u001b[0m\u001b[0m\n\u001b[0;32m    812\u001b[0m             \u001b[1;32mreturn\u001b[0m \u001b[0mbundle\u001b[0m\u001b[1;33m[\u001b[0m\u001b[1;34m\"text/html\"\u001b[0m\u001b[1;33m]\u001b[0m\u001b[1;33m\u001b[0m\u001b[1;33m\u001b[0m\u001b[0m\n",
      "\u001b[1;32mF:\\anaconda3\\lib\\site-packages\\plotly\\basedatatypes.py\u001b[0m in \u001b[0;36m_repr_mimebundle_\u001b[1;34m(self, include, exclude, validate, **kwargs)\u001b[0m\n\u001b[0;32m    832\u001b[0m         \u001b[1;32mfor\u001b[0m \u001b[0mrenderer\u001b[0m \u001b[1;32min\u001b[0m \u001b[0mrenderers_list\u001b[0m\u001b[1;33m:\u001b[0m\u001b[1;33m\u001b[0m\u001b[1;33m\u001b[0m\u001b[0m\n\u001b[0;32m    833\u001b[0m             \u001b[1;32mif\u001b[0m \u001b[0misinstance\u001b[0m\u001b[1;33m(\u001b[0m\u001b[0mrenderer\u001b[0m\u001b[1;33m,\u001b[0m \u001b[0mMimetypeRenderer\u001b[0m\u001b[1;33m)\u001b[0m\u001b[1;33m:\u001b[0m\u001b[1;33m\u001b[0m\u001b[1;33m\u001b[0m\u001b[0m\n\u001b[1;32m--> 834\u001b[1;33m                 \u001b[0mbundle\u001b[0m\u001b[1;33m.\u001b[0m\u001b[0mupdate\u001b[0m\u001b[1;33m(\u001b[0m\u001b[0mrenderer\u001b[0m\u001b[1;33m.\u001b[0m\u001b[0mto_mimebundle\u001b[0m\u001b[1;33m(\u001b[0m\u001b[0mfig_dict\u001b[0m\u001b[1;33m)\u001b[0m\u001b[1;33m)\u001b[0m\u001b[1;33m\u001b[0m\u001b[1;33m\u001b[0m\u001b[0m\n\u001b[0m\u001b[0;32m    835\u001b[0m         \u001b[1;32mreturn\u001b[0m \u001b[0mbundle\u001b[0m\u001b[1;33m\u001b[0m\u001b[1;33m\u001b[0m\u001b[0m\n\u001b[0;32m    836\u001b[0m \u001b[1;33m\u001b[0m\u001b[0m\n",
      "\u001b[1;32mF:\\anaconda3\\lib\\site-packages\\plotly\\io\\_base_renderers.py\u001b[0m in \u001b[0;36mto_mimebundle\u001b[1;34m(self, fig_dict)\u001b[0m\n\u001b[0;32m    126\u001b[0m \u001b[1;33m\u001b[0m\u001b[0m\n\u001b[0;32m    127\u001b[0m     \u001b[1;32mdef\u001b[0m \u001b[0mto_mimebundle\u001b[0m\u001b[1;33m(\u001b[0m\u001b[0mself\u001b[0m\u001b[1;33m,\u001b[0m \u001b[0mfig_dict\u001b[0m\u001b[1;33m)\u001b[0m\u001b[1;33m:\u001b[0m\u001b[1;33m\u001b[0m\u001b[1;33m\u001b[0m\u001b[0m\n\u001b[1;32m--> 128\u001b[1;33m         image_bytes = to_image(\n\u001b[0m\u001b[0;32m    129\u001b[0m             \u001b[0mfig_dict\u001b[0m\u001b[1;33m,\u001b[0m\u001b[1;33m\u001b[0m\u001b[1;33m\u001b[0m\u001b[0m\n\u001b[0;32m    130\u001b[0m             \u001b[0mformat\u001b[0m\u001b[1;33m=\u001b[0m\u001b[0mself\u001b[0m\u001b[1;33m.\u001b[0m\u001b[0mformat\u001b[0m\u001b[1;33m,\u001b[0m\u001b[1;33m\u001b[0m\u001b[1;33m\u001b[0m\u001b[0m\n",
      "\u001b[1;32mF:\\anaconda3\\lib\\site-packages\\plotly\\io\\_kaleido.py\u001b[0m in \u001b[0;36mto_image\u001b[1;34m(fig, format, width, height, scale, validate, engine)\u001b[0m\n\u001b[0;32m    132\u001b[0m     \u001b[1;31m# Raise informative error message if Kaleido is not installed\u001b[0m\u001b[1;33m\u001b[0m\u001b[1;33m\u001b[0m\u001b[1;33m\u001b[0m\u001b[0m\n\u001b[0;32m    133\u001b[0m     \u001b[1;32mif\u001b[0m \u001b[0mscope\u001b[0m \u001b[1;32mis\u001b[0m \u001b[1;32mNone\u001b[0m\u001b[1;33m:\u001b[0m\u001b[1;33m\u001b[0m\u001b[1;33m\u001b[0m\u001b[0m\n\u001b[1;32m--> 134\u001b[1;33m         raise ValueError(\n\u001b[0m\u001b[0;32m    135\u001b[0m             \"\"\"\n\u001b[0;32m    136\u001b[0m \u001b[0mImage\u001b[0m \u001b[0mexport\u001b[0m \u001b[0musing\u001b[0m \u001b[0mthe\u001b[0m \u001b[1;34m\"kaleido\"\u001b[0m \u001b[0mengine\u001b[0m \u001b[0mrequires\u001b[0m \u001b[0mthe\u001b[0m \u001b[0mkaleido\u001b[0m \u001b[0mpackage\u001b[0m\u001b[1;33m,\u001b[0m\u001b[1;33m\u001b[0m\u001b[1;33m\u001b[0m\u001b[0m\n",
      "\u001b[1;31mValueError\u001b[0m: \nImage export using the \"kaleido\" engine requires the kaleido package,\nwhich can be installed using pip:\n    $ pip install -U kaleido\n"
     ]
    },
    {
     "data": {
      "text/plain": [
       "Figure({\n",
       "    'data': [{'hovertemplate': 'variable=Close<br>Date=%{x}<br>value=%{y}<extra></extra>',\n",
       "              'legendgroup': 'Close',\n",
       "              'line': {'color': '#636efa', 'dash': 'solid'},\n",
       "              'marker': {'symbol': 'circle'},\n",
       "              'mode': 'lines',\n",
       "              'name': 'Close',\n",
       "              'orientation': 'v',\n",
       "              'showlegend': True,\n",
       "              'type': 'scatter',\n",
       "              'x': array([datetime.datetime(2021, 1, 1, 0, 0),\n",
       "                          datetime.datetime(2021, 1, 2, 0, 0),\n",
       "                          datetime.datetime(2021, 1, 3, 0, 0), ...,\n",
       "                          datetime.datetime(2021, 11, 29, 0, 0),\n",
       "                          datetime.datetime(2021, 11, 30, 0, 0),\n",
       "                          datetime.datetime(2021, 12, 1, 0, 0)], dtype=object),\n",
       "              'xaxis': 'x',\n",
       "              'y': array([ 730.36755371,  774.53497314,  975.50769043, ..., 4445.10498047,\n",
       "                          4631.47900391, 4586.99023438]),\n",
       "              'yaxis': 'y'}],\n",
       "    'layout': {'legend': {'title': {'text': 'variable'}, 'tracegroupgap': 0},\n",
       "               'margin': {'t': 60},\n",
       "               'template': '...',\n",
       "               'xaxis': {'anchor': 'y', 'domain': [0.0, 1.0], 'title': {'text': 'Date'}},\n",
       "               'yaxis': {'anchor': 'x', 'domain': [0.0, 1.0], 'title': {'text': 'value'}}}\n",
       "})"
      ]
     },
     "execution_count": 4,
     "metadata": {},
     "output_type": "execute_result"
    }
   ],
   "source": [
    "all_df = pd.DataFrame(data['Close'])\n",
    "\n",
    "px.line(all_df)"
   ]
  },
  {
   "cell_type": "markdown",
   "metadata": {},
   "source": [
    "Oh, looks like ETH grows a lot in 2021.\n",
    "\n",
    "We want to use the close prices of the past 1 to 7 days to predict close price of the current day. First we use *shift* method to get past data."
   ]
  },
  {
   "cell_type": "code",
   "execution_count": null,
   "metadata": {},
   "outputs": [],
   "source": [
    "for i in range(1, 8):\n",
    "    all_df[f'lag_{i}'] = all_df['Close'].shift(i)\n",
    "    \n",
    "all_df.head(10)"
   ]
  },
  {
   "cell_type": "markdown",
   "metadata": {},
   "source": [
    "Drop all *NaN*s, and create our input and output data, using the first 6 months to train our linear regression model."
   ]
  },
  {
   "cell_type": "code",
   "execution_count": null,
   "metadata": {},
   "outputs": [],
   "source": [
    "all_df.dropna(inplace=True)\n",
    "cols = [f'lag_{i}' for i in range(1, 8)]\n",
    "\n",
    "train_df = all_df.iloc[0:181-7, :]\n",
    "train_df.head(5)"
   ]
  },
  {
   "cell_type": "code",
   "execution_count": null,
   "metadata": {},
   "outputs": [],
   "source": [
    "X = train_df[cols]\n",
    "y = train_df['Close']"
   ]
  },
  {
   "cell_type": "markdown",
   "metadata": {},
   "source": [
    "Train LR model using our hard code."
   ]
  },
  {
   "cell_type": "code",
   "execution_count": null,
   "metadata": {},
   "outputs": [],
   "source": [
    "model = linear_regression()\n",
    "model.fit(X, y)"
   ]
  },
  {
   "cell_type": "markdown",
   "metadata": {},
   "source": [
    "Take a look at the details of our model. Summarize the coefficients and their standard deviations, t-values, p-values, residual standard error, r-square and adjusted r-square, f-statistic and its p-value of the LR model."
   ]
  },
  {
   "cell_type": "code",
   "execution_count": null,
   "metadata": {},
   "outputs": [],
   "source": [
    "model.summary()"
   ]
  },
  {
   "cell_type": "markdown",
   "metadata": {},
   "source": [
    "The LR model has a really good prediction result! Both R-squared and Adjusted R-square are high, representing a good prediction. \n",
    "\n",
    "Also from the above table, we find that given a significance level of $0.05$, *lag_1*, *lag_6* and *lag_7* (which are 1, 6 and 7 days before, respectively) are significant, showing that these three variables are significantly important in the LR model."
   ]
  },
  {
   "cell_type": "markdown",
   "metadata": {},
   "source": [
    "Take a look at the RMSE of training data."
   ]
  },
  {
   "cell_type": "code",
   "execution_count": null,
   "metadata": {},
   "outputs": [],
   "source": [
    "RMSE = model.RMSE(X, y)\n",
    "print(f\"The RMSE of training data is: {round(RMSE, 3)}\")"
   ]
  },
  {
   "cell_type": "markdown",
   "metadata": {},
   "source": [
    "Not bad on such a large data set.\n",
    "\n",
    "Take a look at the model prediction on the train input, and compare with the true prices in one figure."
   ]
  },
  {
   "cell_type": "code",
   "execution_count": null,
   "metadata": {},
   "outputs": [],
   "source": [
    "train_df['predictions'] = model.predict(X)\n",
    "px.line(train_df, y=['Close', 'predictions'])"
   ]
  },
  {
   "cell_type": "markdown",
   "metadata": {},
   "source": [
    "An amazing prediction curve! Looks like the linear regression can estimate the future close price of ETH very well! But also notice that there is an obvious \"late\" in the prediction curve, compared with the true curve. Thus it's not a good idea to use this curve for short-term (in a period of days) investments, but it is useful for long-term investments."
   ]
  },
  {
   "cell_type": "markdown",
   "metadata": {},
   "source": [
    "Further, let's do some predictions on test data (ETH prices from Jul to Nov)."
   ]
  },
  {
   "cell_type": "code",
   "execution_count": null,
   "metadata": {},
   "outputs": [],
   "source": [
    "test_df = all_df.iloc[181-7:, :]\n",
    "test_df.head(5)"
   ]
  },
  {
   "cell_type": "code",
   "execution_count": null,
   "metadata": {},
   "outputs": [],
   "source": [
    "test_X = test_df[cols]\n",
    "test_y = test_df['Close']\n",
    "pred_test_y = model.predict(test_X)"
   ]
  },
  {
   "cell_type": "markdown",
   "metadata": {},
   "source": [
    "First take a look at the RMSE."
   ]
  },
  {
   "cell_type": "code",
   "execution_count": null,
   "metadata": {},
   "outputs": [],
   "source": [
    "test_RMSE = model.pred_R_2(test_X, test_y)\n",
    "print(f\"The RMSE of test data is: {round(test_RMSE, 3)}\")"
   ]
  },
  {
   "cell_type": "markdown",
   "metadata": {},
   "source": [
    "Looks pretty good! Let's plot it with the true price curve."
   ]
  },
  {
   "cell_type": "code",
   "execution_count": null,
   "metadata": {},
   "outputs": [],
   "source": [
    "test_df['predictions'] = pred_test_y\n",
    "px.line(test_df, y=['Close', 'predictions'])"
   ]
  },
  {
   "cell_type": "markdown",
   "metadata": {},
   "source": [
    "Nice result. From now on we can earn lots of money by predicting the ETH price! (lLl, but result in this file shall NOT be considered to be investing, accounting, consulting or any other professional advice.)"
   ]
  },
  {
   "cell_type": "markdown",
   "metadata": {},
   "source": [
    "Finally, just have a quick check that my hard code works rightly. We train another LR model using package *statsmodels*, and compare the result with my previous model.\n"
   ]
  },
  {
   "cell_type": "code",
   "execution_count": null,
   "metadata": {},
   "outputs": [],
   "source": [
    "X_n = sm.add_constant(X)\n",
    "sm.OLS(y, X_n).fit().summary()"
   ]
  },
  {
   "cell_type": "markdown",
   "metadata": {},
   "source": [
    "It looks that all results are the same, so my code works well. "
   ]
  },
  {
   "cell_type": "markdown",
   "metadata": {},
   "source": [
    "---\n",
    "#### Diabetes data <a class=\"anchor\" id=\"Diabetes\"></a>\n",
    "---\n",
    "\n",
    "Second we apply our linear regression model on diabetes data. [Diabetes](https://www.cdc.gov/diabetes/basics/diabetes.html) (by CDC) is a chronic (long-lasting) health condition that affects how your body turns food into energy. Most of the food you eat is broken down into sugar (also called glucose) and released into your bloodstream. When your blood sugar goes up, it signals your pancreas to release insulin. \n",
    "\n",
    "In the [diabetes data](https://scikit-learn.org/stable/datasets/toy_dataset.html#diabetes-dataset) from *sklearn*, ten baseline variables, age, sex, body mass index, average blood pressure, and six blood serum measurements were obtained for each of $n = 442$ diabetes patients, as well as the response of interest, a quantitative measure of disease progression one year after baseline."
   ]
  },
  {
   "cell_type": "markdown",
   "metadata": {},
   "source": [
    "Load the *diabetes* data and have a quick look."
   ]
  },
  {
   "cell_type": "code",
   "execution_count": null,
   "metadata": {},
   "outputs": [],
   "source": [
    "diabetes_X, diabetes_y = load_diabetes(return_X_y=True, as_frame=True)\n",
    "diabetes_X.head()"
   ]
  },
  {
   "cell_type": "markdown",
   "metadata": {},
   "source": [
    "Note that Each of these 10 feature variables have been mean centered and scaled by the standard deviation times n_samples (i.e. the sum of squares of each column totals 1)."
   ]
  },
  {
   "cell_type": "code",
   "execution_count": null,
   "metadata": {},
   "outputs": [],
   "source": [
    "diabetes_y.head()"
   ]
  },
  {
   "cell_type": "markdown",
   "metadata": {},
   "source": [
    "Split data into training and test data sets and train a LR model using our hard code."
   ]
  },
  {
   "cell_type": "code",
   "execution_count": null,
   "metadata": {},
   "outputs": [],
   "source": [
    "X_train, X_test, y_train, y_test = train_test_split(diabetes_X, diabetes_y, test_size=0.2, random_state=24)"
   ]
  },
  {
   "cell_type": "code",
   "execution_count": null,
   "metadata": {},
   "outputs": [],
   "source": [
    "model = linear_regression()\n",
    "model.fit(X_train, y_train)"
   ]
  },
  {
   "cell_type": "markdown",
   "metadata": {},
   "source": [
    "Take a look at the summary of our model."
   ]
  },
  {
   "cell_type": "code",
   "execution_count": null,
   "metadata": {},
   "outputs": [],
   "source": [
    "model.summary()"
   ]
  },
  {
   "cell_type": "markdown",
   "metadata": {},
   "source": [
    "The LR model has a bad prediction result. Both R-squared and Adjusted R-square are about 0.5, representing a bad prediction, so here LR is not a good model to predict the target. \n",
    "\n",
    "And from the above table, we find that given a significance level of $0.05$, *sex*, *bmi*, *bp* and *s5* are significant, showing that these four variables are significantly important in the LR model."
   ]
  },
  {
   "cell_type": "markdown",
   "metadata": {},
   "source": [
    "Take a look at the RMSE of training data."
   ]
  },
  {
   "cell_type": "code",
   "execution_count": null,
   "metadata": {},
   "outputs": [],
   "source": [
    "RMSE = model.RMSE(X_train, y_train)\n",
    "print(f\"The RMSE of training data is: {round(RMSE, 3)}\")"
   ]
  },
  {
   "cell_type": "markdown",
   "metadata": {},
   "source": [
    "Take a look at the model prediction on the train input, and compare them with the true prices in one figure."
   ]
  },
  {
   "cell_type": "code",
   "execution_count": null,
   "metadata": {},
   "outputs": [],
   "source": [
    "predictions = model.predict(X_train)\n",
    "\n",
    "y_train_plot = pd.DataFrame(y_train)\n",
    "y_train_plot.rename(columns={\"target\": \"true\"}, inplace=True)\n",
    "y_train_plot['prediction'] = predictions\n",
    "\n",
    "fig = px.scatter(y_train_plot, x=\"true\", y=\"prediction\")\n",
    "fig.add_shape(type=\"line\", x0=0, y0=0, x1=350, y1=350)\n",
    "fig.show()"
   ]
  },
  {
   "cell_type": "markdown",
   "metadata": {},
   "source": [
    "The *prediction-true* value figure also shows that predictions are not close to true values, as the points are far from the $y=x$ line."
   ]
  },
  {
   "cell_type": "markdown",
   "metadata": {},
   "source": [
    "Let's drop other variables and only use the significant variables, which are *sex*, *bmi*, *bp* and *s5*, and rebuild our LR model."
   ]
  },
  {
   "cell_type": "code",
   "execution_count": null,
   "metadata": {},
   "outputs": [],
   "source": [
    "X_train, X_test, y_train, y_test = train_test_split(diabetes_X[['sex', 'bmi', 'bp', 's5']], diabetes_y, test_size=0.2, random_state=24)\n",
    "\n",
    "model = linear_regression()\n",
    "model.fit(X_train, y_train)\n",
    "model.summary()"
   ]
  },
  {
   "cell_type": "markdown",
   "metadata": {},
   "source": [
    "Here the result is still poor, thus linear regression may not be a good model to estimate the quantitative measure of disease using given variables."
   ]
  }
 ],
 "metadata": {
  "interpreter": {
   "hash": "2e918aaa81d99c652401bdd1a0c185581595fb477ac919641bd65261b5d7782a"
  },
  "kernelspec": {
   "display_name": "Python 3.8.8 64-bit ('base': conda)",
   "language": "python",
   "name": "python3"
  },
  "language_info": {
   "codemirror_mode": {
    "name": "ipython",
    "version": 3
   },
   "file_extension": ".py",
   "mimetype": "text/x-python",
   "name": "python",
   "nbconvert_exporter": "python",
   "pygments_lexer": "ipython3",
   "version": "3.8.8"
  },
  "orig_nbformat": 4
 },
 "nbformat": 4,
 "nbformat_minor": 2
}
