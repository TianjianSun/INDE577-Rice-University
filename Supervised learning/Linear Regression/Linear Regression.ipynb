{
 "cells": [
  {
   "cell_type": "markdown",
   "metadata": {},
   "source": [
    "---\n",
    "\n",
    "## Linear Regreesion Algorithm and Applications\n",
    "#### Language: Python 3.8.8\n",
    "#### Author: Tianjian Sun\n",
    "\n",
    "---"
   ]
  },
  {
   "cell_type": "markdown",
   "metadata": {},
   "source": [
    "### Table of Contents\n",
    "\n",
    "* [Introduction](#Introduction)\n",
    "* [Algorithm](#Algorithm)\n",
    "  * [Model](#Algorithm)\n",
    "  * [Prediction Evaluation](#Evaluation)\n",
    "  * [*F* test](#F)\n",
    "  * [*t* test](#t)\n",
    "* [Illustration](#Illustration)\n",
    "* [Advantages and Disadvantages](#Advantages_and_Disadvantages)\n",
    "    * [Advantages](#Advantages)\n",
    "    * [Disadvantages](#Disadvantages)\n",
    "* [Hard code of linear regression](#Code)\n",
    "* [Applications on data sets](#Applications)\n",
    "    * [Ethereum (ETH) price data](#ETH)\n",
    "    * [Diabetes data](#Diabetes)"
   ]
  },
  {
   "cell_type": "markdown",
   "metadata": {},
   "source": [
    "---\n",
    "### Introduction <a class=\"anchor\" id=\"Introduction\"></a>\n",
    "In this section we focus on a straight-forward and classic statistical model, linear regreesion (LR). The main idea of linear regression is to use a linear predictor function whose unknown model parameters are estimated from the data. \n",
    "\n",
    "(Least squares) linear regreesion is a classic and old supervised model, back to 1800's, finding a good rough linear fit to a set of points was performed by [Legendre](https://en.wikipedia.org/wiki/Adrien-Marie_Legendre) (1805) and [Gauss](https://en.wikipedia.org/wiki/Carl_Friedrich_Gauss) (1809) for the prediction of planetary movement. \n",
    "\n",
    "Linear regreesion is widely used in most regression tasks, variance analysis, and dependence analysis, and it plays an important role in the subfield of machine learning. The linear regression algorithm is one of the fundamental supervised machine-learning algorithms due to its relative simplicity and well-known properties.\n"
   ]
  },
  {
   "cell_type": "markdown",
   "metadata": {},
   "source": [
    "---\n",
    "\n",
    "### Algorithm <a class=\"anchor\" id=\"Algorithm\"></a>\n",
    "\n",
    "Assume we have an input data set (column vector) $\\textbf{X} = (\\textbf{x}_1^T, \\textbf{x}_2^T, \\cdots, \\textbf{x}_n^T)$, where $\\textbf{x}_i^T = (x_{i1}, x_{i2}, \\cdots, x_{ip}) \\in \\R^p$, and want to predict a real-valued output data set (column vector) $\\textbf{y} = (y_1, y_2, \\cdots, y_n)$ . The linear regression model has the form\n",
    "\n",
    "$$\n",
    "y_i = \\beta_0 + \\sum_{j=1}^{p} {\\beta_j x_{ij}} + \\epsilon_i \n",
    "$$\n",
    "\n",
    "Here the $\\beta_j’s$ are unknown parameters or coefficients of corresponding input.\n",
    "\n",
    "To simplify the equation, usually a column of $1$'s are added to the input data matrix, where $\\textbf{x}_i^T = (1, x_{i1}, x_{i2}, \\cdots, x_{ip})$, and the linear equation becomes\n",
    "\n",
    "$$\n",
    "y_i = \\textbf{x}_i^T \\boldsymbol{\\beta} + \\epsilon_i\n",
    "$$\n",
    "\n",
    "Often these n equations are stacked together and written in a matrix form\n",
    "\n",
    "$$\n",
    "\\textbf{y} = \\textbf{X} \\boldsymbol{\\beta} + \\epsilon\n",
    "$$\n",
    "\n",
    "The linear model either assumes that the regression function $E(Y|X)$ is linear, or that the linear model is a reasonable approximation. \n",
    "\n",
    "The most popular estimation method is least squares, in which we pick the coefficients $\\boldsymbol{\\beta} = (\\beta_0, \\beta_1, . . ., \\beta_p)^T$, which minimizes the residual sum of squares\n",
    "\n",
    "$$\n",
    "RSS(\\boldsymbol{\\beta}) = \\sum_{i=1}^n {\\epsilon_i^2} =\\sum_{i=1}^n (y_i - \\beta_0 - \\sum_{j=1}^{p} {\\beta_j x_{ij}})^2\n",
    "$$\n",
    "\n",
    "This criterion makes sense if the observations $(\\textbf{x}_i, y_i)$ are independent and identically distributed (iid), which means that they are and randomly drawn from the population.\n"
   ]
  },
  {
   "cell_type": "markdown",
   "metadata": {},
   "source": [
    "To minimize $RSS(\\boldsymbol{\\beta})$, first we make the following assumptions:\n",
    "* $E[\\epsilon_i]=0$, i.e., $E[y_i]=\\textbf{x}_i^T \\boldsymbol{\\beta}$\n",
    "* $Var[\\epsilon_i] = \\sigma^2 < \\infty$ (homoscedasticity)\n",
    "* $Cov[\\epsilon_i, \\epsilon_j]=0$ for $\\forall i \\neq j$, i.e., $\\epsilon_i, \\epsilon_j$ are uncorrelated,\n",
    "and $\\epsilon_i$ do not depend on $x_i$ .\n",
    "\n",
    "\n",
    "\n",
    "Rewrite it to matrix form\n",
    "$$\n",
    "RSS(\\boldsymbol{\\beta}) = (\\textbf{y}-\\textbf{X}\\boldsymbol{\\beta})^T (\\textbf{y}-\\textbf{X}\\boldsymbol{\\beta})\n",
    "$$\n",
    "\n",
    "Notice that it's a quadratic function with $p+1$ paraeters, take the partial derivative w.r.t $\\boldsymbol{\\beta}$, we have\n",
    "\n",
    "$$\n",
    "\\frac{\\partial RSS} {\\partial \\boldsymbol{\\beta}} = -2 \\textbf{X}^T (\\textbf{y}-\\textbf{X}\\boldsymbol{\\beta})\n",
    "$$\n",
    "\n",
    "$$\n",
    "\\frac{\\partial^2 RSS} {\\partial \\boldsymbol{\\beta} \\partial \\boldsymbol{\\beta}^T} = -2 \\textbf{X}^T \\textbf{X}\n",
    "$$\n",
    "\n",
    "Assume that $\\textbf{X}$ is fully ranked, i.e., $n>p$, then $\\textbf{X}^T \\textbf{X}$ is positive definite. Set the first partial derivative to $0$, we have\n",
    "$$\n",
    "\\textbf{X}^T (\\textbf{y}-\\textbf{X}\\boldsymbol{\\beta}) = \\textbf{0}\n",
    "$$\n",
    "\n",
    "And the solution is \n",
    "$$\n",
    "\\hat{\\boldsymbol{\\beta}} = (\\textbf{X}^T \\textbf{X})^{-1} \\textbf{X}^T \\textbf{y}\n",
    "$$\n",
    "\n",
    "Note that only when $\\textbf{X}$ is fully ranked does the inverse of $\\textbf{X}^T \\textbf{X}$ exist.\n",
    "\n",
    "Thus the fitted values of the training inputs are given by\n",
    "\n",
    "$$\n",
    "\\hat{\\textbf{y}} = \\textbf{X} \\hat{\\boldsymbol{\\beta}} = \\textbf{X} (\\textbf{X}^T \\textbf{X})^{-1} \\textbf{X}^T \\textbf{y}\n",
    "$$\n",
    "\n",
    "To make a prediction given an unobserved input vector $\\textbf{x}_0$\n",
    "\n",
    "$$\n",
    "\\hat{y} = (1, \\textbf{x}_0)^T \\hat{\\boldsymbol{\\beta}}\n",
    "$$"
   ]
  },
  {
   "cell_type": "markdown",
   "metadata": {},
   "source": [
    "#### Prediction Evaluation <a class=\"anchor\" id=\"Evaluation\"></a>\n",
    "For regression problems, we usually use root mean square error (RMSE) and coefficient of determination ($R^2$) to estimate our linear regression model. \n",
    "\n",
    "The formula of $RMSE$ is given by\n",
    "$$\n",
    "RMSE = \\sqrt{\\frac{\\sum_{i=1}^n {(y_i-\\hat{y}_i)^2}}{n}}\n",
    "$$\n",
    "\n",
    "$R^2$ is the proportion of the variation in the dependent variable that is predictable from the independent variable(s). It's defined as follows\n",
    "$$\n",
    "R^2 = \\frac{SSR} {SST} = 1 - \\frac{SSE} {SST}\n",
    "$$\n",
    "where $SSE$ is the sum of squares of residuals\n",
    "$$\n",
    "SSE = \\sum_{i=1}^n {(y_i-\\hat{y}_i)^2}\n",
    "$$\n",
    "and $SST$ is the total sum of squares\n",
    "$$\n",
    "SS_{tot} = \\sum_{i=1}^n {(y_i-\\bar{y}_i)^2}\n",
    "$$"
   ]
  },
  {
   "cell_type": "markdown",
   "metadata": {},
   "source": [
    "#### *F* test <a class=\"anchor\" id=\"F\"></a>\n",
    "Also we can test the model and coefficients using *F* and *t* statistics. \n",
    "\n",
    "*F* test is used for the following hypothesis testing\n",
    "\n",
    "$H_0: \\beta_1 = \\cdots = \\beta_p = 0$\n",
    "\n",
    "$H_1$: at least one $\\beta_j \\neq 0$\n",
    "\n",
    "And the *F* statistic is\n",
    "$$\n",
    "F = \\frac{MSR} {MSE}\n",
    "$$\n",
    "where\n",
    "$$\n",
    "MSR = \\frac{SSR} {p-1}\n",
    "$$\n",
    "$$\n",
    "MSE = \\frac{SSE} {n-p}\n",
    "$$\n",
    "\n",
    "tends to have larger absolute values when at least for one $\\beta_j \\neq 0$. Thus $H_0$ cannot be rejected if $F>1$."
   ]
  },
  {
   "cell_type": "markdown",
   "metadata": {},
   "source": [
    "#### *t* test <a class=\"anchor\" id=\"t\"></a>\n",
    "\n",
    "*t* test is used for significance of coefficients\n",
    "\n",
    "$H_0: \\beta_j = 0$\n",
    "\n",
    "$H_1: \\beta_j \\neq 0$\n",
    "\n",
    "And the *t* statistic \n",
    "$$\n",
    "t = \\frac{\\beta_j - 0} {SE(\\beta_j)}\n",
    "$$\n",
    "tends to have larger values when $\\beta_j \\neq 0$, thus $H_0$ cannot be rejected."
   ]
  },
  {
   "cell_type": "markdown",
   "metadata": {},
   "source": [
    "---\n",
    "\n",
    "### Illustration <a class=\"anchor\" id=\"Illustration\"></a>\n",
    "\n",
    "Take a look at the two-dimension space, by Sewaqu ([link](https://commons.wikimedia.org/w/index.php?curid=11967659)), we can have a intuitive idea about how linear regression works.\n",
    "\n",
    "Let the input data $\\textbf{X}$ be in one-dimensional space, i.e., $\\textbf{X} = (x_1, x_2, \\cdots, x_n)$, and corresponding output be $\\textbf{y}=(y_1, y_2, \\cdots, y_n)$. The $y-x$ scatter plot is below, and the red line represents the OLS regression line. It's intuitive that the linear regression line \"goes cross\" all data points, and shows the linear trend of how output goes as input changes."
   ]
  },
  {
   "cell_type": "markdown",
   "metadata": {},
   "source": [
    "![lr_illu](images/Linear_regression.svg)"
   ]
  },
  {
   "cell_type": "markdown",
   "metadata": {},
   "source": [
    "---\n",
    "\n",
    "### Advantages and Disadvantages <a class=\"anchor\" id=\"Advantages_and_Disadvantages\"></a>\n",
    "\n",
    "#### Advantages: <a class=\"anchor\" id=\"Advantages\"></a>\n",
    "\n",
    "* Best linear unbiased estimator. The least square estimator of linear regression model has great properties. By the [Gauss-Markov theorem](https://en.wikipedia.org/wiki/Gauss%E2%80%93Markov_theorem), the ordinary least squares (OLS) regression produces unbiased estimates that have the smallest variance of all possible linear estimators. This property is called BLUE (Best Linear Unbiased Estimator).\n",
    "\n",
    "* Simple model. The Linear regression model is the simplest equation using which the relationship between the multiple predictor variables and predicted variable can be expressed, and the ordinary least squares error function is also very simple and straight-forward.\n",
    "\n",
    "* Computationally friendly. The modeling speed of linear regression is fast as it does not require complicated calculations and runs predictions fast when the amount of data is large.\n",
    "\n",
    "* Great interpretability of the output. The ability of linear regression to determine the relative influence of one or more predictor variables to the predicted value when the predictors are independent of each other is one of the key reasons of the popularity of linear regression. The model derived using this method can express the what change in the predictor variable causes what change in the predicted or target variable.\n",
    "\n",
    "\n",
    "#### Disadvantages: <a class=\"anchor\" id=\"Disadvantages\"></a>\n",
    "\n",
    "* Overly-Simplistic. The linear regression model is too simplistic to capture real world complexity. The linear regression assumes a linear relationship between independent variables and dependent variable, which cannot represent more complex relationships in real world. \n",
    "\n",
    "* Independence of variables. Assumes that the predictor variables are not correlated which is rarely true. It is important to, therefore, remove multicollinearity (using dimensionality reduction techniques) because the technique assumes that there is no relationship among independent variables. In cases of high multicollinearity, two features that have high correlation will influence each other’s weight and result in an unreliable model.\n",
    "\n",
    "* Homoscedasticity. The linear regression model assumes that independent variables can represent all expectation and variance of dependent variable (so that $E[\\epsilon_i]=0$ and $Var[\\epsilon_i] = \\sigma^2$), which is always not true because in real world it's hard for people to find exactly all independent variables that affect the dependent variable. Usually people will have input that are dependent and insufficient."
   ]
  },
  {
   "cell_type": "markdown",
   "metadata": {},
   "source": [
    "---\n",
    "\n",
    "### Hard code of linear regression <a class=\"anchor\" id=\"Code\"></a>\n",
    "\n",
    "#### All packages used in this notebook\n",
    "* [numpy](https://numpy.org/)\n",
    "* [pandas](https://pandas.pydata.org/)\n",
    "* [scipy](https://scipy.org/)\n",
    "* [pandas_datareader](https://pandas-datareader.readthedocs.io/en/latest/)\n",
    "* [plotly](https://plotly.com/)\n",
    "* [statsmodels](https://www.statsmodels.org/stable/index.html)\n",
    "* [sklearn](https://scikit-learn.org/stable/datasets/toy_dataset.html)"
   ]
  },
  {
   "cell_type": "code",
   "execution_count": 1,
   "metadata": {},
   "outputs": [],
   "source": [
    "import numpy as np\n",
    "import pandas as pd\n",
    "from scipy import stats\n",
    "import pandas_datareader as web\n",
    "import plotly.express as px\n",
    "import statsmodels.api as sm\n",
    "from sklearn.datasets import load_diabetes\n",
    "from sklearn.model_selection import train_test_split"
   ]
  },
  {
   "cell_type": "markdown",
   "metadata": {},
   "source": [
    "#### function of linear regression model"
   ]
  },
  {
   "cell_type": "code",
   "execution_count": 2,
   "metadata": {},
   "outputs": [],
   "source": [
    "class linear_regression():\n",
    "    def __init__(self):\n",
    "        self.X = None\n",
    "        self.variables = None\n",
    "        self.y = None\n",
    "        self.predictor = None\n",
    "        self.n = None\n",
    "        self.p = None\n",
    "        self.bias = None\n",
    "        self.beta_hat = None\n",
    "        self.y_hat = None\n",
    "\n",
    "    # model fitting\n",
    "    def fit(self, X, y, bias=True):\n",
    "        self.variables = X.columns\n",
    "        self.predictor = y.name\n",
    "        \n",
    "        X = X.to_numpy()\n",
    "        y = y.to_numpy()\n",
    "\n",
    "        if bias:\n",
    "            ones_column = np.ones((X.shape[0], 1))\n",
    "            X = np.append(ones_column, X, axis=1)\n",
    "\n",
    "        self.X = X\n",
    "        self.y = y\n",
    "        self.n = X.shape[0]\n",
    "        self.p = X.shape[1]\n",
    "        self.bias = bias\n",
    "\n",
    "        beta_hat = np.linalg.inv(X.T @ X) @ X.T @ y\n",
    "        self.beta_hat = beta_hat\n",
    "        self.y_hat = X @ beta_hat\n",
    "\n",
    "    # predict new data\n",
    "    def predict(self, x):\n",
    "        if self.bias:\n",
    "            ones_column = np.ones((x.shape[0], 1))\n",
    "            x = np.append(ones_column, x, axis=1)\n",
    "        return x @ self.beta_hat\n",
    "\n",
    "    # function of sum of squared errors\n",
    "    def SSE(self):\n",
    "        return (self.y-self.y_hat).T@(self.y-self.y_hat)\n",
    "    \n",
    "    # function of mean squared errors\n",
    "    def MSE(self):\n",
    "        return self.SSE()/(self.n-self.p)\n",
    "\n",
    "    # function of sum of squares regression\n",
    "    def SSR(self):\n",
    "        return (self.y_hat - np.mean(self.y)).T @ (self.y_hat - np.mean(self.y))\n",
    "\n",
    "    # function of mean squared regression\n",
    "    def MSR(self):\n",
    "        return self.SSR()/(self.p-1)\n",
    "\n",
    "    # function of sum of squares total\n",
    "    def SST(self):\n",
    "        return (self.y-np.mean(self.y_hat)).T@(self.y-np.mean(self.y_hat))\n",
    "\n",
    "    # function of coefficient of determination\n",
    "    def R_2(self):\n",
    "        return 1 - self.SSE()/self.SST()\n",
    "\n",
    "    # function of coefficient of determination on test data\n",
    "    def pred_R_2(self, input, true):\n",
    "        pred = self.predict(input)\n",
    "        pred_SSE = (true-pred).T@(true-pred)\n",
    "        pred_SST = (true-np.mean(pred)).T@(true-np.mean(pred))\n",
    "        return 1 - pred_SSE/pred_SST\n",
    "\n",
    "    # function of adjusted coefficient of determination\n",
    "    def adj_R_2(self):\n",
    "        return 1- (1-self.R_2())*(self.n-1)/(self.n-self.p-1)\n",
    "\n",
    "    # function of standard deviation of coefficients\n",
    "    def sd_coef(self):\n",
    "        return np.sqrt(np.diagonal(self.MSE() * np.linalg.inv(self.X.T @ self.X)))\n",
    "\n",
    "    # function of t statistic and p-value\n",
    "    def t_stat(self):\n",
    "        t = self.beta_hat / self.sd_coef()\n",
    "        t_p = [2*(1-stats.t.cdf(np.abs(i), (self.n-self.p-1))) for i in t]\n",
    "        return t, t_p\n",
    "\n",
    "    # function of F statistic and p-value\n",
    "    def F_stat(self):\n",
    "        F = self.MSR()/self.MSE()\n",
    "        df_1 = self.p - 1\n",
    "        df_2 = self.n - self.p\n",
    "        #find p-value of F test statistic \n",
    "        F_p = 1-stats.f.cdf(F, df_1, df_2) \n",
    "        return F, F_p\n",
    "\n",
    "    # function of root mean square error\n",
    "    def RMSE(self, input, true):\n",
    "        pred = self.predict(input)\n",
    "        return np.sqrt((true-pred).T@(true-pred)/len(true))\n",
    "\n",
    "    # function of model summary\n",
    "    def summary(self):\n",
    "        coef_df = pd.DataFrame()\n",
    "        \n",
    "        coef_df['Estimate'] = self.beta_hat\n",
    "        coef_df['Std.Error'] = self.sd_coef()\n",
    "        coef_df['t value'] = self.t_stat()[0]\n",
    "        coef_df['Pr(>|t|)'] = self.t_stat()[1]\n",
    "        coef_df.index = ['Intercept'] + list(self.variables)\n",
    "\n",
    "        print(coef_df)\n",
    "\n",
    "        print(f\"Residual standard error: {round(np.sqrt(self.MSE()), 3)} on {self.n-self.p} degress of freedom.\")\n",
    "        print(f\"R-squared: {round(self.R_2(), 3)}, Adjusted R-square: {round(self.adj_R_2(), 3)}\")\n",
    "        f_stat_str = f\"F-statistic: {round(self.F_stat()[0], 3)} on {self.p - 1} and {self.n - self.p} DF,\"\n",
    "        f_p_str = f\"p-value: {round(self.F_stat()[1], 3)}\"\n",
    "        print(f_stat_str + f_p_str)\n",
    "        "
   ]
  },
  {
   "cell_type": "markdown",
   "metadata": {},
   "source": [
    "---\n",
    "\n",
    "### Applications on data sets <a class=\"anchor\" id=\"Applications\"></a>\n",
    "\n",
    "* Ethereum (ETH) price data\n",
    "* Diabetes data\n",
    "\n"
   ]
  },
  {
   "cell_type": "markdown",
   "metadata": {},
   "source": [
    "---\n",
    "#### Ethereum (ETH) price data <a class=\"anchor\" id=\"ETH\"></a>\n",
    "---\n",
    "\n",
    "First we apply our linear regression model on predicting the price of Ethereum. [Ethereum](https://en.wikipedia.org/wiki/Ethereum) (by wikipedia) is a decentralized, open-source blockchain with smart contract functionality. Ether (ETH) is the native cryptocurrency of the platform. Amongst cryptocurrencies, Ether is second only to Bitcoin in market capitalization. \n",
    "\n",
    "Nowadays prices of Ethereum and other cryptocurrencies are increasing rapidly, so they are becoming more and more popular among traders and investors."
   ]
  },
  {
   "cell_type": "markdown",
   "metadata": {},
   "source": [
    "In this problem we focus on predicting future ETH price using history ETH prices from *pandas_datareader*. And we use *plotly* to plot nice figures.\n",
    "\n",
    "\n",
    "\n",
    "First we take a look at the ETH price in USD from Jan to Nov, 2021."
   ]
  },
  {
   "cell_type": "code",
   "execution_count": 3,
   "metadata": {},
   "outputs": [
    {
     "data": {
      "text/html": [
       "<div>\n",
       "<style scoped>\n",
       "    .dataframe tbody tr th:only-of-type {\n",
       "        vertical-align: middle;\n",
       "    }\n",
       "\n",
       "    .dataframe tbody tr th {\n",
       "        vertical-align: top;\n",
       "    }\n",
       "\n",
       "    .dataframe thead th {\n",
       "        text-align: right;\n",
       "    }\n",
       "</style>\n",
       "<table border=\"1\" class=\"dataframe\">\n",
       "  <thead>\n",
       "    <tr style=\"text-align: right;\">\n",
       "      <th></th>\n",
       "      <th>High</th>\n",
       "      <th>Low</th>\n",
       "      <th>Open</th>\n",
       "      <th>Close</th>\n",
       "      <th>Volume</th>\n",
       "      <th>Adj Close</th>\n",
       "    </tr>\n",
       "    <tr>\n",
       "      <th>Date</th>\n",
       "      <th></th>\n",
       "      <th></th>\n",
       "      <th></th>\n",
       "      <th></th>\n",
       "      <th></th>\n",
       "      <th></th>\n",
       "    </tr>\n",
       "  </thead>\n",
       "  <tbody>\n",
       "    <tr>\n",
       "      <th>2021-01-01</th>\n",
       "      <td>749.201843</td>\n",
       "      <td>719.792236</td>\n",
       "      <td>737.708374</td>\n",
       "      <td>730.367554</td>\n",
       "      <td>13652004358</td>\n",
       "      <td>730.367554</td>\n",
       "    </tr>\n",
       "    <tr>\n",
       "      <th>2021-01-02</th>\n",
       "      <td>786.798462</td>\n",
       "      <td>718.109497</td>\n",
       "      <td>730.402649</td>\n",
       "      <td>774.534973</td>\n",
       "      <td>19740771179</td>\n",
       "      <td>774.534973</td>\n",
       "    </tr>\n",
       "    <tr>\n",
       "      <th>2021-01-03</th>\n",
       "      <td>1006.565002</td>\n",
       "      <td>771.561646</td>\n",
       "      <td>774.511841</td>\n",
       "      <td>975.507690</td>\n",
       "      <td>45200463368</td>\n",
       "      <td>975.507690</td>\n",
       "    </tr>\n",
       "    <tr>\n",
       "      <th>2021-01-04</th>\n",
       "      <td>1153.189209</td>\n",
       "      <td>912.305359</td>\n",
       "      <td>977.058838</td>\n",
       "      <td>1040.233032</td>\n",
       "      <td>56945985763</td>\n",
       "      <td>1040.233032</td>\n",
       "    </tr>\n",
       "    <tr>\n",
       "      <th>2021-01-05</th>\n",
       "      <td>1129.371460</td>\n",
       "      <td>986.811279</td>\n",
       "      <td>1041.498779</td>\n",
       "      <td>1100.006104</td>\n",
       "      <td>41535932781</td>\n",
       "      <td>1100.006104</td>\n",
       "    </tr>\n",
       "  </tbody>\n",
       "</table>\n",
       "</div>"
      ],
      "text/plain": [
       "                   High         Low         Open        Close       Volume  \\\n",
       "Date                                                                         \n",
       "2021-01-01   749.201843  719.792236   737.708374   730.367554  13652004358   \n",
       "2021-01-02   786.798462  718.109497   730.402649   774.534973  19740771179   \n",
       "2021-01-03  1006.565002  771.561646   774.511841   975.507690  45200463368   \n",
       "2021-01-04  1153.189209  912.305359   977.058838  1040.233032  56945985763   \n",
       "2021-01-05  1129.371460  986.811279  1041.498779  1100.006104  41535932781   \n",
       "\n",
       "              Adj Close  \n",
       "Date                     \n",
       "2021-01-01   730.367554  \n",
       "2021-01-02   774.534973  \n",
       "2021-01-03   975.507690  \n",
       "2021-01-04  1040.233032  \n",
       "2021-01-05  1100.006104  "
      ]
     },
     "execution_count": 3,
     "metadata": {},
     "output_type": "execute_result"
    }
   ],
   "source": [
    "data = web.DataReader('ETH-USD',\n",
    "                     'yahoo',\n",
    "                     start = '2021-01-01',\n",
    "                     end = '2021-11-30')\n",
    "data.head()"
   ]
  },
  {
   "cell_type": "markdown",
   "metadata": {},
   "source": [
    "Let us set our goal: to predict close price. Plot the close price curve of ETH."
   ]
  },
  {
   "cell_type": "code",
   "execution_count": 4,
   "metadata": {},
   "outputs": [
    {
     "data": {
      "application/vnd.plotly.v1+json": {
       "config": {
        "plotlyServerURL": "https://plot.ly"
       },
       "data": [
        {
         "hovertemplate": "variable=Close<br>Date=%{x}<br>value=%{y}<extra></extra>",
         "legendgroup": "Close",
         "line": {
          "color": "#636efa",
          "dash": "solid"
         },
         "marker": {
          "symbol": "circle"
         },
         "mode": "lines",
         "name": "Close",
         "orientation": "v",
         "showlegend": true,
         "type": "scatter",
         "x": [
          "2021-01-01T00:00:00",
          "2021-01-02T00:00:00",
          "2021-01-03T00:00:00",
          "2021-01-04T00:00:00",
          "2021-01-05T00:00:00",
          "2021-01-06T00:00:00",
          "2021-01-07T00:00:00",
          "2021-01-08T00:00:00",
          "2021-01-09T00:00:00",
          "2021-01-10T00:00:00",
          "2021-01-11T00:00:00",
          "2021-01-12T00:00:00",
          "2021-01-13T00:00:00",
          "2021-01-14T00:00:00",
          "2021-01-15T00:00:00",
          "2021-01-16T00:00:00",
          "2021-01-17T00:00:00",
          "2021-01-18T00:00:00",
          "2021-01-19T00:00:00",
          "2021-01-20T00:00:00",
          "2021-01-21T00:00:00",
          "2021-01-22T00:00:00",
          "2021-01-23T00:00:00",
          "2021-01-24T00:00:00",
          "2021-01-25T00:00:00",
          "2021-01-26T00:00:00",
          "2021-01-27T00:00:00",
          "2021-01-28T00:00:00",
          "2021-01-29T00:00:00",
          "2021-01-30T00:00:00",
          "2021-01-31T00:00:00",
          "2021-02-01T00:00:00",
          "2021-02-02T00:00:00",
          "2021-02-03T00:00:00",
          "2021-02-04T00:00:00",
          "2021-02-05T00:00:00",
          "2021-02-06T00:00:00",
          "2021-02-07T00:00:00",
          "2021-02-08T00:00:00",
          "2021-02-09T00:00:00",
          "2021-02-10T00:00:00",
          "2021-02-11T00:00:00",
          "2021-02-12T00:00:00",
          "2021-02-13T00:00:00",
          "2021-02-14T00:00:00",
          "2021-02-15T00:00:00",
          "2021-02-16T00:00:00",
          "2021-02-17T00:00:00",
          "2021-02-18T00:00:00",
          "2021-02-19T00:00:00",
          "2021-02-20T00:00:00",
          "2021-02-21T00:00:00",
          "2021-02-22T00:00:00",
          "2021-02-23T00:00:00",
          "2021-02-24T00:00:00",
          "2021-02-25T00:00:00",
          "2021-02-26T00:00:00",
          "2021-02-27T00:00:00",
          "2021-02-28T00:00:00",
          "2021-03-01T00:00:00",
          "2021-03-02T00:00:00",
          "2021-03-03T00:00:00",
          "2021-03-04T00:00:00",
          "2021-03-05T00:00:00",
          "2021-03-06T00:00:00",
          "2021-03-07T00:00:00",
          "2021-03-08T00:00:00",
          "2021-03-09T00:00:00",
          "2021-03-10T00:00:00",
          "2021-03-11T00:00:00",
          "2021-03-12T00:00:00",
          "2021-03-13T00:00:00",
          "2021-03-14T00:00:00",
          "2021-03-15T00:00:00",
          "2021-03-16T00:00:00",
          "2021-03-17T00:00:00",
          "2021-03-18T00:00:00",
          "2021-03-19T00:00:00",
          "2021-03-20T00:00:00",
          "2021-03-21T00:00:00",
          "2021-03-22T00:00:00",
          "2021-03-23T00:00:00",
          "2021-03-24T00:00:00",
          "2021-03-25T00:00:00",
          "2021-03-26T00:00:00",
          "2021-03-27T00:00:00",
          "2021-03-28T00:00:00",
          "2021-03-29T00:00:00",
          "2021-03-30T00:00:00",
          "2021-03-31T00:00:00",
          "2021-04-01T00:00:00",
          "2021-04-02T00:00:00",
          "2021-04-03T00:00:00",
          "2021-04-04T00:00:00",
          "2021-04-05T00:00:00",
          "2021-04-06T00:00:00",
          "2021-04-07T00:00:00",
          "2021-04-08T00:00:00",
          "2021-04-09T00:00:00",
          "2021-04-10T00:00:00",
          "2021-04-11T00:00:00",
          "2021-04-12T00:00:00",
          "2021-04-13T00:00:00",
          "2021-04-14T00:00:00",
          "2021-04-15T00:00:00",
          "2021-04-16T00:00:00",
          "2021-04-17T00:00:00",
          "2021-04-18T00:00:00",
          "2021-04-19T00:00:00",
          "2021-04-20T00:00:00",
          "2021-04-21T00:00:00",
          "2021-04-22T00:00:00",
          "2021-04-23T00:00:00",
          "2021-04-24T00:00:00",
          "2021-04-25T00:00:00",
          "2021-04-26T00:00:00",
          "2021-04-27T00:00:00",
          "2021-04-28T00:00:00",
          "2021-04-29T00:00:00",
          "2021-04-30T00:00:00",
          "2021-05-01T00:00:00",
          "2021-05-02T00:00:00",
          "2021-05-03T00:00:00",
          "2021-05-04T00:00:00",
          "2021-05-05T00:00:00",
          "2021-05-06T00:00:00",
          "2021-05-07T00:00:00",
          "2021-05-08T00:00:00",
          "2021-05-09T00:00:00",
          "2021-05-10T00:00:00",
          "2021-05-11T00:00:00",
          "2021-05-12T00:00:00",
          "2021-05-13T00:00:00",
          "2021-05-14T00:00:00",
          "2021-05-15T00:00:00",
          "2021-05-16T00:00:00",
          "2021-05-17T00:00:00",
          "2021-05-18T00:00:00",
          "2021-05-19T00:00:00",
          "2021-05-20T00:00:00",
          "2021-05-21T00:00:00",
          "2021-05-22T00:00:00",
          "2021-05-23T00:00:00",
          "2021-05-24T00:00:00",
          "2021-05-25T00:00:00",
          "2021-05-26T00:00:00",
          "2021-05-27T00:00:00",
          "2021-05-28T00:00:00",
          "2021-05-29T00:00:00",
          "2021-05-30T00:00:00",
          "2021-05-31T00:00:00",
          "2021-06-01T00:00:00",
          "2021-06-02T00:00:00",
          "2021-06-03T00:00:00",
          "2021-06-04T00:00:00",
          "2021-06-05T00:00:00",
          "2021-06-06T00:00:00",
          "2021-06-07T00:00:00",
          "2021-06-08T00:00:00",
          "2021-06-09T00:00:00",
          "2021-06-10T00:00:00",
          "2021-06-11T00:00:00",
          "2021-06-12T00:00:00",
          "2021-06-13T00:00:00",
          "2021-06-14T00:00:00",
          "2021-06-15T00:00:00",
          "2021-06-16T00:00:00",
          "2021-06-17T00:00:00",
          "2021-06-18T00:00:00",
          "2021-06-19T00:00:00",
          "2021-06-20T00:00:00",
          "2021-06-21T00:00:00",
          "2021-06-22T00:00:00",
          "2021-06-23T00:00:00",
          "2021-06-24T00:00:00",
          "2021-06-25T00:00:00",
          "2021-06-26T00:00:00",
          "2021-06-27T00:00:00",
          "2021-06-28T00:00:00",
          "2021-06-29T00:00:00",
          "2021-06-30T00:00:00",
          "2021-07-01T00:00:00",
          "2021-07-02T00:00:00",
          "2021-07-03T00:00:00",
          "2021-07-04T00:00:00",
          "2021-07-05T00:00:00",
          "2021-07-06T00:00:00",
          "2021-07-07T00:00:00",
          "2021-07-08T00:00:00",
          "2021-07-09T00:00:00",
          "2021-07-10T00:00:00",
          "2021-07-11T00:00:00",
          "2021-07-12T00:00:00",
          "2021-07-13T00:00:00",
          "2021-07-14T00:00:00",
          "2021-07-15T00:00:00",
          "2021-07-16T00:00:00",
          "2021-07-17T00:00:00",
          "2021-07-18T00:00:00",
          "2021-07-19T00:00:00",
          "2021-07-20T00:00:00",
          "2021-07-21T00:00:00",
          "2021-07-22T00:00:00",
          "2021-07-23T00:00:00",
          "2021-07-24T00:00:00",
          "2021-07-25T00:00:00",
          "2021-07-26T00:00:00",
          "2021-07-27T00:00:00",
          "2021-07-28T00:00:00",
          "2021-07-29T00:00:00",
          "2021-07-30T00:00:00",
          "2021-07-31T00:00:00",
          "2021-08-01T00:00:00",
          "2021-08-02T00:00:00",
          "2021-08-03T00:00:00",
          "2021-08-04T00:00:00",
          "2021-08-05T00:00:00",
          "2021-08-06T00:00:00",
          "2021-08-07T00:00:00",
          "2021-08-08T00:00:00",
          "2021-08-09T00:00:00",
          "2021-08-10T00:00:00",
          "2021-08-11T00:00:00",
          "2021-08-12T00:00:00",
          "2021-08-13T00:00:00",
          "2021-08-14T00:00:00",
          "2021-08-15T00:00:00",
          "2021-08-16T00:00:00",
          "2021-08-17T00:00:00",
          "2021-08-18T00:00:00",
          "2021-08-19T00:00:00",
          "2021-08-20T00:00:00",
          "2021-08-21T00:00:00",
          "2021-08-22T00:00:00",
          "2021-08-23T00:00:00",
          "2021-08-24T00:00:00",
          "2021-08-25T00:00:00",
          "2021-08-26T00:00:00",
          "2021-08-27T00:00:00",
          "2021-08-28T00:00:00",
          "2021-08-29T00:00:00",
          "2021-08-30T00:00:00",
          "2021-08-31T00:00:00",
          "2021-09-01T00:00:00",
          "2021-09-02T00:00:00",
          "2021-09-03T00:00:00",
          "2021-09-04T00:00:00",
          "2021-09-05T00:00:00",
          "2021-09-06T00:00:00",
          "2021-09-07T00:00:00",
          "2021-09-08T00:00:00",
          "2021-09-09T00:00:00",
          "2021-09-10T00:00:00",
          "2021-09-11T00:00:00",
          "2021-09-12T00:00:00",
          "2021-09-13T00:00:00",
          "2021-09-14T00:00:00",
          "2021-09-15T00:00:00",
          "2021-09-16T00:00:00",
          "2021-09-17T00:00:00",
          "2021-09-18T00:00:00",
          "2021-09-19T00:00:00",
          "2021-09-20T00:00:00",
          "2021-09-21T00:00:00",
          "2021-09-22T00:00:00",
          "2021-09-23T00:00:00",
          "2021-09-24T00:00:00",
          "2021-09-25T00:00:00",
          "2021-09-26T00:00:00",
          "2021-09-27T00:00:00",
          "2021-09-28T00:00:00",
          "2021-09-29T00:00:00",
          "2021-09-30T00:00:00",
          "2021-10-01T00:00:00",
          "2021-10-02T00:00:00",
          "2021-10-03T00:00:00",
          "2021-10-04T00:00:00",
          "2021-10-05T00:00:00",
          "2021-10-06T00:00:00",
          "2021-10-07T00:00:00",
          "2021-10-08T00:00:00",
          "2021-10-09T00:00:00",
          "2021-10-10T00:00:00",
          "2021-10-11T00:00:00",
          "2021-10-12T00:00:00",
          "2021-10-13T00:00:00",
          "2021-10-14T00:00:00",
          "2021-10-15T00:00:00",
          "2021-10-16T00:00:00",
          "2021-10-17T00:00:00",
          "2021-10-18T00:00:00",
          "2021-10-19T00:00:00",
          "2021-10-20T00:00:00",
          "2021-10-21T00:00:00",
          "2021-10-22T00:00:00",
          "2021-10-23T00:00:00",
          "2021-10-24T00:00:00",
          "2021-10-25T00:00:00",
          "2021-10-26T00:00:00",
          "2021-10-27T00:00:00",
          "2021-10-28T00:00:00",
          "2021-10-29T00:00:00",
          "2021-10-30T00:00:00",
          "2021-10-31T00:00:00",
          "2021-11-01T00:00:00",
          "2021-11-02T00:00:00",
          "2021-11-03T00:00:00",
          "2021-11-04T00:00:00",
          "2021-11-05T00:00:00",
          "2021-11-06T00:00:00",
          "2021-11-07T00:00:00",
          "2021-11-08T00:00:00",
          "2021-11-09T00:00:00",
          "2021-11-10T00:00:00",
          "2021-11-11T00:00:00",
          "2021-11-12T00:00:00",
          "2021-11-13T00:00:00",
          "2021-11-14T00:00:00",
          "2021-11-15T00:00:00",
          "2021-11-16T00:00:00",
          "2021-11-17T00:00:00",
          "2021-11-18T00:00:00",
          "2021-11-19T00:00:00",
          "2021-11-20T00:00:00",
          "2021-11-21T00:00:00",
          "2021-11-22T00:00:00",
          "2021-11-23T00:00:00",
          "2021-11-24T00:00:00",
          "2021-11-25T00:00:00",
          "2021-11-26T00:00:00",
          "2021-11-27T00:00:00",
          "2021-11-28T00:00:00",
          "2021-11-29T00:00:00",
          "2021-11-30T00:00:00",
          "2021-12-01T00:00:00"
         ],
         "xaxis": "x",
         "y": [
          730.3675537109375,
          774.5349731445312,
          975.5076904296875,
          1040.2330322265625,
          1100.006103515625,
          1207.1121826171875,
          1225.6781005859375,
          1224.1971435546875,
          1281.0772705078125,
          1262.2467041015625,
          1090.1453857421875,
          1043.4345703125,
          1130.7393798828125,
          1218.4530029296875,
          1171.8345947265625,
          1233.53759765625,
          1230.1722412109375,
          1257.279541015625,
          1377.2958984375,
          1382.2740478515625,
          1121.5709228515625,
          1236.51220703125,
          1230.9906005859375,
          1391.609375,
          1324.414794921875,
          1357.05810546875,
          1253.1871337890625,
          1298.101806640625,
          1382.5228271484375,
          1376.115478515625,
          1314.9862060546875,
          1369.04052734375,
          1515.1937255859375,
          1660.9095458984375,
          1594.7626953125,
          1718.65087890625,
          1677.8468017578125,
          1614.227783203125,
          1746.6168212890625,
          1768.0350341796875,
          1744.243408203125,
          1783.7979736328125,
          1843.5325927734375,
          1814.10986328125,
          1805.0841064453125,
          1779.791015625,
          1781.0675048828125,
          1848.458251953125,
          1937.44921875,
          1960.164794921875,
          1919.5340576171875,
          1935.60107421875,
          1781.992919921875,
          1570.2039794921875,
          1626.57568359375,
          1475.7037353515625,
          1446.03369140625,
          1459.97314453125,
          1416.0489501953125,
          1564.7076416015625,
          1492.6087646484375,
          1575.8531494140625,
          1541.914306640625,
          1533.2750244140625,
          1654.7415771484375,
          1723.15380859375,
          1834.7279052734375,
          1868.048828125,
          1799.166259765625,
          1826.1949462890625,
          1772.1024169921875,
          1924.6854248046875,
          1854.5643310546875,
          1791.7022705078125,
          1806.9718017578125,
          1823.4493408203125,
          1782.8551025390625,
          1817.6241455078125,
          1812.6346435546875,
          1788.217041015625,
          1691.333984375,
          1678.650146484375,
          1593.4134521484375,
          1595.3592529296875,
          1702.842041015625,
          1716.49462890625,
          1691.35595703125,
          1819.6849365234375,
          1846.03369140625,
          1918.362060546875,
          1977.27685546875,
          2143.2255859375,
          2028.4224853515625,
          2093.122802734375,
          2107.88720703125,
          2118.37890625,
          1971.0772705078125,
          2088.57373046875,
          2072.10888671875,
          2135.942138671875,
          2157.656982421875,
          2139.353271484375,
          2299.187744140625,
          2435.10498046875,
          2519.1162109375,
          2431.946533203125,
          2344.89501953125,
          2237.136962890625,
          2166.188720703125,
          2330.2109375,
          2364.751708984375,
          2403.53515625,
          2363.586181640625,
          2211.625732421875,
          2316.0595703125,
          2534.481689453125,
          2662.865234375,
          2746.380126953125,
          2756.876953125,
          2773.20703125,
          2945.892822265625,
          2952.05615234375,
          3431.086181640625,
          3253.62939453125,
          3522.783203125,
          3490.88037109375,
          3484.72900390625,
          3902.647705078125,
          3928.8447265625,
          3952.2939453125,
          4168.701171875,
          3785.8486328125,
          3715.1484375,
          4079.057373046875,
          3638.1220703125,
          3587.506103515625,
          3282.397705078125,
          3380.070068359375,
          2460.67919921875,
          2784.294189453125,
          2430.621337890625,
          2295.70556640625,
          2109.579833984375,
          2643.591064453125,
          2706.62890625,
          2888.69873046875,
          2736.488525390625,
          2419.90625,
          2279.51416015625,
          2390.305419921875,
          2714.9453125,
          2633.518310546875,
          2706.125,
          2855.12646484375,
          2688.195068359375,
          2630.576904296875,
          2715.0927734375,
          2590.26318359375,
          2517.438720703125,
          2608.26708984375,
          2471.5185546875,
          2353.768798828125,
          2372.484375,
          2508.3916015625,
          2537.89111328125,
          2610.936767578125,
          2367.66357421875,
          2372.001953125,
          2231.733154296875,
          2178.4990234375,
          2246.364501953125,
          1888.447509765625,
          1874.9500732421875,
          1989.736328125,
          1988.456298828125,
          1813.21728515625,
          1829.2392578125,
          1978.8946533203125,
          2079.657470703125,
          2160.768310546875,
          2274.547607421875,
          2113.60546875,
          2150.040283203125,
          2226.1142578125,
          2321.72412109375,
          2198.58251953125,
          2324.679443359375,
          2315.161865234375,
          2120.0263671875,
          2146.6923828125,
          2111.403564453125,
          2139.664794921875,
          2036.7210693359375,
          1940.083984375,
          1994.331298828125,
          1911.1756591796875,
          1880.3829345703125,
          1898.8251953125,
          1895.5521240234375,
          1817.296630859375,
          1787.5107421875,
          1990.9708251953125,
          2025.2027587890625,
          2124.776611328125,
          2189.21875,
          2191.373779296875,
          2233.36669921875,
          2298.33349609375,
          2296.54541015625,
          2380.956787109375,
          2466.96142578125,
          2536.2099609375,
          2561.85205078125,
          2610.1533203125,
          2502.349609375,
          2724.619873046875,
          2827.328857421875,
          2890.941650390625,
          3157.23876953125,
          3013.732666015625,
          3167.856201171875,
          3141.691162109375,
          3164.2451171875,
          3043.414306640625,
          3322.211669921875,
          3265.443359375,
          3310.504150390625,
          3156.509521484375,
          3014.845947265625,
          3020.08984375,
          3182.7021484375,
          3286.935302734375,
          3226.083984375,
          3242.115478515625,
          3319.25732421875,
          3172.456298828125,
          3224.915283203125,
          3100.325439453125,
          3270.600830078125,
          3244.4033203125,
          3227.002685546875,
          3224.374267578125,
          3433.732666015625,
          3834.828125,
          3790.989990234375,
          3940.61474609375,
          3887.828369140625,
          3952.133544921875,
          3928.37939453125,
          3426.394287109375,
          3497.315185546875,
          3427.340087890625,
          3211.505859375,
          3270.278076171875,
          3410.134521484375,
          3285.51171875,
          3429.169677734375,
          3615.28271484375,
          3571.294921875,
          3398.538818359375,
          3432.018310546875,
          3329.447998046875,
          2958.993408203125,
          2764.43115234375,
          3077.867919921875,
          3155.523681640625,
          2931.669189453125,
          2925.565673828125,
          3062.265380859375,
          2934.138916015625,
          2807.296630859375,
          2853.143310546875,
          3001.678955078125,
          3307.51611328125,
          3391.6943359375,
          3418.358642578125,
          3380.089111328125,
          3518.5185546875,
          3580.56201171875,
          3587.974853515625,
          3563.75927734375,
          3575.716796875,
          3425.852783203125,
          3545.35400390625,
          3492.5732421875,
          3606.20166015625,
          3786.01416015625,
          3862.634765625,
          3830.382080078125,
          3847.1044921875,
          3748.76025390625,
          3877.65087890625,
          4155.9921875,
          4054.32275390625,
          3970.181884765625,
          4171.66357421875,
          4087.903076171875,
          4217.876953125,
          4131.10205078125,
          3930.25732421875,
          4287.31884765625,
          4414.74658203125,
          4325.650390625,
          4288.07421875,
          4324.626953125,
          4584.798828125,
          4607.19384765625,
          4537.32421875,
          4486.2431640625,
          4521.5810546875,
          4620.5546875,
          4812.08740234375,
          4735.06884765625,
          4636.17431640625,
          4730.38427734375,
          4667.115234375,
          4651.46044921875,
          4626.35888671875,
          4557.50390625,
          4216.365234375,
          4287.59375,
          4000.65087890625,
          4298.306640625,
          4409.93115234375,
          4269.73291015625,
          4088.457763671875,
          4340.763671875,
          4239.9814453125,
          4274.7431640625,
          4030.908935546875,
          4096.912109375,
          4294.45361328125,
          4445.10498046875,
          4631.47900390625,
          4586.990234375
         ],
         "yaxis": "y"
        }
       ],
       "layout": {
        "legend": {
         "title": {
          "text": "variable"
         },
         "tracegroupgap": 0
        },
        "margin": {
         "t": 60
        },
        "template": {
         "data": {
          "bar": [
           {
            "error_x": {
             "color": "#2a3f5f"
            },
            "error_y": {
             "color": "#2a3f5f"
            },
            "marker": {
             "line": {
              "color": "#E5ECF6",
              "width": 0.5
             },
             "pattern": {
              "fillmode": "overlay",
              "size": 10,
              "solidity": 0.2
             }
            },
            "type": "bar"
           }
          ],
          "barpolar": [
           {
            "marker": {
             "line": {
              "color": "#E5ECF6",
              "width": 0.5
             },
             "pattern": {
              "fillmode": "overlay",
              "size": 10,
              "solidity": 0.2
             }
            },
            "type": "barpolar"
           }
          ],
          "carpet": [
           {
            "aaxis": {
             "endlinecolor": "#2a3f5f",
             "gridcolor": "white",
             "linecolor": "white",
             "minorgridcolor": "white",
             "startlinecolor": "#2a3f5f"
            },
            "baxis": {
             "endlinecolor": "#2a3f5f",
             "gridcolor": "white",
             "linecolor": "white",
             "minorgridcolor": "white",
             "startlinecolor": "#2a3f5f"
            },
            "type": "carpet"
           }
          ],
          "choropleth": [
           {
            "colorbar": {
             "outlinewidth": 0,
             "ticks": ""
            },
            "type": "choropleth"
           }
          ],
          "contour": [
           {
            "colorbar": {
             "outlinewidth": 0,
             "ticks": ""
            },
            "colorscale": [
             [
              0,
              "#0d0887"
             ],
             [
              0.1111111111111111,
              "#46039f"
             ],
             [
              0.2222222222222222,
              "#7201a8"
             ],
             [
              0.3333333333333333,
              "#9c179e"
             ],
             [
              0.4444444444444444,
              "#bd3786"
             ],
             [
              0.5555555555555556,
              "#d8576b"
             ],
             [
              0.6666666666666666,
              "#ed7953"
             ],
             [
              0.7777777777777778,
              "#fb9f3a"
             ],
             [
              0.8888888888888888,
              "#fdca26"
             ],
             [
              1,
              "#f0f921"
             ]
            ],
            "type": "contour"
           }
          ],
          "contourcarpet": [
           {
            "colorbar": {
             "outlinewidth": 0,
             "ticks": ""
            },
            "type": "contourcarpet"
           }
          ],
          "heatmap": [
           {
            "colorbar": {
             "outlinewidth": 0,
             "ticks": ""
            },
            "colorscale": [
             [
              0,
              "#0d0887"
             ],
             [
              0.1111111111111111,
              "#46039f"
             ],
             [
              0.2222222222222222,
              "#7201a8"
             ],
             [
              0.3333333333333333,
              "#9c179e"
             ],
             [
              0.4444444444444444,
              "#bd3786"
             ],
             [
              0.5555555555555556,
              "#d8576b"
             ],
             [
              0.6666666666666666,
              "#ed7953"
             ],
             [
              0.7777777777777778,
              "#fb9f3a"
             ],
             [
              0.8888888888888888,
              "#fdca26"
             ],
             [
              1,
              "#f0f921"
             ]
            ],
            "type": "heatmap"
           }
          ],
          "heatmapgl": [
           {
            "colorbar": {
             "outlinewidth": 0,
             "ticks": ""
            },
            "colorscale": [
             [
              0,
              "#0d0887"
             ],
             [
              0.1111111111111111,
              "#46039f"
             ],
             [
              0.2222222222222222,
              "#7201a8"
             ],
             [
              0.3333333333333333,
              "#9c179e"
             ],
             [
              0.4444444444444444,
              "#bd3786"
             ],
             [
              0.5555555555555556,
              "#d8576b"
             ],
             [
              0.6666666666666666,
              "#ed7953"
             ],
             [
              0.7777777777777778,
              "#fb9f3a"
             ],
             [
              0.8888888888888888,
              "#fdca26"
             ],
             [
              1,
              "#f0f921"
             ]
            ],
            "type": "heatmapgl"
           }
          ],
          "histogram": [
           {
            "marker": {
             "pattern": {
              "fillmode": "overlay",
              "size": 10,
              "solidity": 0.2
             }
            },
            "type": "histogram"
           }
          ],
          "histogram2d": [
           {
            "colorbar": {
             "outlinewidth": 0,
             "ticks": ""
            },
            "colorscale": [
             [
              0,
              "#0d0887"
             ],
             [
              0.1111111111111111,
              "#46039f"
             ],
             [
              0.2222222222222222,
              "#7201a8"
             ],
             [
              0.3333333333333333,
              "#9c179e"
             ],
             [
              0.4444444444444444,
              "#bd3786"
             ],
             [
              0.5555555555555556,
              "#d8576b"
             ],
             [
              0.6666666666666666,
              "#ed7953"
             ],
             [
              0.7777777777777778,
              "#fb9f3a"
             ],
             [
              0.8888888888888888,
              "#fdca26"
             ],
             [
              1,
              "#f0f921"
             ]
            ],
            "type": "histogram2d"
           }
          ],
          "histogram2dcontour": [
           {
            "colorbar": {
             "outlinewidth": 0,
             "ticks": ""
            },
            "colorscale": [
             [
              0,
              "#0d0887"
             ],
             [
              0.1111111111111111,
              "#46039f"
             ],
             [
              0.2222222222222222,
              "#7201a8"
             ],
             [
              0.3333333333333333,
              "#9c179e"
             ],
             [
              0.4444444444444444,
              "#bd3786"
             ],
             [
              0.5555555555555556,
              "#d8576b"
             ],
             [
              0.6666666666666666,
              "#ed7953"
             ],
             [
              0.7777777777777778,
              "#fb9f3a"
             ],
             [
              0.8888888888888888,
              "#fdca26"
             ],
             [
              1,
              "#f0f921"
             ]
            ],
            "type": "histogram2dcontour"
           }
          ],
          "mesh3d": [
           {
            "colorbar": {
             "outlinewidth": 0,
             "ticks": ""
            },
            "type": "mesh3d"
           }
          ],
          "parcoords": [
           {
            "line": {
             "colorbar": {
              "outlinewidth": 0,
              "ticks": ""
             }
            },
            "type": "parcoords"
           }
          ],
          "pie": [
           {
            "automargin": true,
            "type": "pie"
           }
          ],
          "scatter": [
           {
            "marker": {
             "colorbar": {
              "outlinewidth": 0,
              "ticks": ""
             }
            },
            "type": "scatter"
           }
          ],
          "scatter3d": [
           {
            "line": {
             "colorbar": {
              "outlinewidth": 0,
              "ticks": ""
             }
            },
            "marker": {
             "colorbar": {
              "outlinewidth": 0,
              "ticks": ""
             }
            },
            "type": "scatter3d"
           }
          ],
          "scattercarpet": [
           {
            "marker": {
             "colorbar": {
              "outlinewidth": 0,
              "ticks": ""
             }
            },
            "type": "scattercarpet"
           }
          ],
          "scattergeo": [
           {
            "marker": {
             "colorbar": {
              "outlinewidth": 0,
              "ticks": ""
             }
            },
            "type": "scattergeo"
           }
          ],
          "scattergl": [
           {
            "marker": {
             "colorbar": {
              "outlinewidth": 0,
              "ticks": ""
             }
            },
            "type": "scattergl"
           }
          ],
          "scattermapbox": [
           {
            "marker": {
             "colorbar": {
              "outlinewidth": 0,
              "ticks": ""
             }
            },
            "type": "scattermapbox"
           }
          ],
          "scatterpolar": [
           {
            "marker": {
             "colorbar": {
              "outlinewidth": 0,
              "ticks": ""
             }
            },
            "type": "scatterpolar"
           }
          ],
          "scatterpolargl": [
           {
            "marker": {
             "colorbar": {
              "outlinewidth": 0,
              "ticks": ""
             }
            },
            "type": "scatterpolargl"
           }
          ],
          "scatterternary": [
           {
            "marker": {
             "colorbar": {
              "outlinewidth": 0,
              "ticks": ""
             }
            },
            "type": "scatterternary"
           }
          ],
          "surface": [
           {
            "colorbar": {
             "outlinewidth": 0,
             "ticks": ""
            },
            "colorscale": [
             [
              0,
              "#0d0887"
             ],
             [
              0.1111111111111111,
              "#46039f"
             ],
             [
              0.2222222222222222,
              "#7201a8"
             ],
             [
              0.3333333333333333,
              "#9c179e"
             ],
             [
              0.4444444444444444,
              "#bd3786"
             ],
             [
              0.5555555555555556,
              "#d8576b"
             ],
             [
              0.6666666666666666,
              "#ed7953"
             ],
             [
              0.7777777777777778,
              "#fb9f3a"
             ],
             [
              0.8888888888888888,
              "#fdca26"
             ],
             [
              1,
              "#f0f921"
             ]
            ],
            "type": "surface"
           }
          ],
          "table": [
           {
            "cells": {
             "fill": {
              "color": "#EBF0F8"
             },
             "line": {
              "color": "white"
             }
            },
            "header": {
             "fill": {
              "color": "#C8D4E3"
             },
             "line": {
              "color": "white"
             }
            },
            "type": "table"
           }
          ]
         },
         "layout": {
          "annotationdefaults": {
           "arrowcolor": "#2a3f5f",
           "arrowhead": 0,
           "arrowwidth": 1
          },
          "autotypenumbers": "strict",
          "coloraxis": {
           "colorbar": {
            "outlinewidth": 0,
            "ticks": ""
           }
          },
          "colorscale": {
           "diverging": [
            [
             0,
             "#8e0152"
            ],
            [
             0.1,
             "#c51b7d"
            ],
            [
             0.2,
             "#de77ae"
            ],
            [
             0.3,
             "#f1b6da"
            ],
            [
             0.4,
             "#fde0ef"
            ],
            [
             0.5,
             "#f7f7f7"
            ],
            [
             0.6,
             "#e6f5d0"
            ],
            [
             0.7,
             "#b8e186"
            ],
            [
             0.8,
             "#7fbc41"
            ],
            [
             0.9,
             "#4d9221"
            ],
            [
             1,
             "#276419"
            ]
           ],
           "sequential": [
            [
             0,
             "#0d0887"
            ],
            [
             0.1111111111111111,
             "#46039f"
            ],
            [
             0.2222222222222222,
             "#7201a8"
            ],
            [
             0.3333333333333333,
             "#9c179e"
            ],
            [
             0.4444444444444444,
             "#bd3786"
            ],
            [
             0.5555555555555556,
             "#d8576b"
            ],
            [
             0.6666666666666666,
             "#ed7953"
            ],
            [
             0.7777777777777778,
             "#fb9f3a"
            ],
            [
             0.8888888888888888,
             "#fdca26"
            ],
            [
             1,
             "#f0f921"
            ]
           ],
           "sequentialminus": [
            [
             0,
             "#0d0887"
            ],
            [
             0.1111111111111111,
             "#46039f"
            ],
            [
             0.2222222222222222,
             "#7201a8"
            ],
            [
             0.3333333333333333,
             "#9c179e"
            ],
            [
             0.4444444444444444,
             "#bd3786"
            ],
            [
             0.5555555555555556,
             "#d8576b"
            ],
            [
             0.6666666666666666,
             "#ed7953"
            ],
            [
             0.7777777777777778,
             "#fb9f3a"
            ],
            [
             0.8888888888888888,
             "#fdca26"
            ],
            [
             1,
             "#f0f921"
            ]
           ]
          },
          "colorway": [
           "#636efa",
           "#EF553B",
           "#00cc96",
           "#ab63fa",
           "#FFA15A",
           "#19d3f3",
           "#FF6692",
           "#B6E880",
           "#FF97FF",
           "#FECB52"
          ],
          "font": {
           "color": "#2a3f5f"
          },
          "geo": {
           "bgcolor": "white",
           "lakecolor": "white",
           "landcolor": "#E5ECF6",
           "showlakes": true,
           "showland": true,
           "subunitcolor": "white"
          },
          "hoverlabel": {
           "align": "left"
          },
          "hovermode": "closest",
          "mapbox": {
           "style": "light"
          },
          "paper_bgcolor": "white",
          "plot_bgcolor": "#E5ECF6",
          "polar": {
           "angularaxis": {
            "gridcolor": "white",
            "linecolor": "white",
            "ticks": ""
           },
           "bgcolor": "#E5ECF6",
           "radialaxis": {
            "gridcolor": "white",
            "linecolor": "white",
            "ticks": ""
           }
          },
          "scene": {
           "xaxis": {
            "backgroundcolor": "#E5ECF6",
            "gridcolor": "white",
            "gridwidth": 2,
            "linecolor": "white",
            "showbackground": true,
            "ticks": "",
            "zerolinecolor": "white"
           },
           "yaxis": {
            "backgroundcolor": "#E5ECF6",
            "gridcolor": "white",
            "gridwidth": 2,
            "linecolor": "white",
            "showbackground": true,
            "ticks": "",
            "zerolinecolor": "white"
           },
           "zaxis": {
            "backgroundcolor": "#E5ECF6",
            "gridcolor": "white",
            "gridwidth": 2,
            "linecolor": "white",
            "showbackground": true,
            "ticks": "",
            "zerolinecolor": "white"
           }
          },
          "shapedefaults": {
           "line": {
            "color": "#2a3f5f"
           }
          },
          "ternary": {
           "aaxis": {
            "gridcolor": "white",
            "linecolor": "white",
            "ticks": ""
           },
           "baxis": {
            "gridcolor": "white",
            "linecolor": "white",
            "ticks": ""
           },
           "bgcolor": "#E5ECF6",
           "caxis": {
            "gridcolor": "white",
            "linecolor": "white",
            "ticks": ""
           }
          },
          "title": {
           "x": 0.05
          },
          "xaxis": {
           "automargin": true,
           "gridcolor": "white",
           "linecolor": "white",
           "ticks": "",
           "title": {
            "standoff": 15
           },
           "zerolinecolor": "white",
           "zerolinewidth": 2
          },
          "yaxis": {
           "automargin": true,
           "gridcolor": "white",
           "linecolor": "white",
           "ticks": "",
           "title": {
            "standoff": 15
           },
           "zerolinecolor": "white",
           "zerolinewidth": 2
          }
         }
        },
        "xaxis": {
         "anchor": "y",
         "domain": [
          0,
          1
         ],
         "title": {
          "text": "Date"
         }
        },
        "yaxis": {
         "anchor": "x",
         "domain": [
          0,
          1
         ],
         "title": {
          "text": "value"
         }
        }
       }
      }
     },
     "metadata": {},
     "output_type": "display_data"
    }
   ],
   "source": [
    "all_df = pd.DataFrame(data['Close'])\n",
    "px.line(all_df)"
   ]
  },
  {
   "cell_type": "markdown",
   "metadata": {},
   "source": [
    "Oh, looks like ETH grows a lot in 2021.\n",
    "\n",
    "We want to use the close prices of the past 1 to 7 days to predict close price of the current day. First we use *shift* method to get past data."
   ]
  },
  {
   "cell_type": "code",
   "execution_count": 5,
   "metadata": {},
   "outputs": [
    {
     "data": {
      "text/html": [
       "<div>\n",
       "<style scoped>\n",
       "    .dataframe tbody tr th:only-of-type {\n",
       "        vertical-align: middle;\n",
       "    }\n",
       "\n",
       "    .dataframe tbody tr th {\n",
       "        vertical-align: top;\n",
       "    }\n",
       "\n",
       "    .dataframe thead th {\n",
       "        text-align: right;\n",
       "    }\n",
       "</style>\n",
       "<table border=\"1\" class=\"dataframe\">\n",
       "  <thead>\n",
       "    <tr style=\"text-align: right;\">\n",
       "      <th></th>\n",
       "      <th>Close</th>\n",
       "      <th>lag_1</th>\n",
       "      <th>lag_2</th>\n",
       "      <th>lag_3</th>\n",
       "      <th>lag_4</th>\n",
       "      <th>lag_5</th>\n",
       "      <th>lag_6</th>\n",
       "      <th>lag_7</th>\n",
       "    </tr>\n",
       "    <tr>\n",
       "      <th>Date</th>\n",
       "      <th></th>\n",
       "      <th></th>\n",
       "      <th></th>\n",
       "      <th></th>\n",
       "      <th></th>\n",
       "      <th></th>\n",
       "      <th></th>\n",
       "      <th></th>\n",
       "    </tr>\n",
       "  </thead>\n",
       "  <tbody>\n",
       "    <tr>\n",
       "      <th>2021-01-01</th>\n",
       "      <td>730.367554</td>\n",
       "      <td>NaN</td>\n",
       "      <td>NaN</td>\n",
       "      <td>NaN</td>\n",
       "      <td>NaN</td>\n",
       "      <td>NaN</td>\n",
       "      <td>NaN</td>\n",
       "      <td>NaN</td>\n",
       "    </tr>\n",
       "    <tr>\n",
       "      <th>2021-01-02</th>\n",
       "      <td>774.534973</td>\n",
       "      <td>730.367554</td>\n",
       "      <td>NaN</td>\n",
       "      <td>NaN</td>\n",
       "      <td>NaN</td>\n",
       "      <td>NaN</td>\n",
       "      <td>NaN</td>\n",
       "      <td>NaN</td>\n",
       "    </tr>\n",
       "    <tr>\n",
       "      <th>2021-01-03</th>\n",
       "      <td>975.507690</td>\n",
       "      <td>774.534973</td>\n",
       "      <td>730.367554</td>\n",
       "      <td>NaN</td>\n",
       "      <td>NaN</td>\n",
       "      <td>NaN</td>\n",
       "      <td>NaN</td>\n",
       "      <td>NaN</td>\n",
       "    </tr>\n",
       "    <tr>\n",
       "      <th>2021-01-04</th>\n",
       "      <td>1040.233032</td>\n",
       "      <td>975.507690</td>\n",
       "      <td>774.534973</td>\n",
       "      <td>730.367554</td>\n",
       "      <td>NaN</td>\n",
       "      <td>NaN</td>\n",
       "      <td>NaN</td>\n",
       "      <td>NaN</td>\n",
       "    </tr>\n",
       "    <tr>\n",
       "      <th>2021-01-05</th>\n",
       "      <td>1100.006104</td>\n",
       "      <td>1040.233032</td>\n",
       "      <td>975.507690</td>\n",
       "      <td>774.534973</td>\n",
       "      <td>730.367554</td>\n",
       "      <td>NaN</td>\n",
       "      <td>NaN</td>\n",
       "      <td>NaN</td>\n",
       "    </tr>\n",
       "    <tr>\n",
       "      <th>2021-01-06</th>\n",
       "      <td>1207.112183</td>\n",
       "      <td>1100.006104</td>\n",
       "      <td>1040.233032</td>\n",
       "      <td>975.507690</td>\n",
       "      <td>774.534973</td>\n",
       "      <td>730.367554</td>\n",
       "      <td>NaN</td>\n",
       "      <td>NaN</td>\n",
       "    </tr>\n",
       "    <tr>\n",
       "      <th>2021-01-07</th>\n",
       "      <td>1225.678101</td>\n",
       "      <td>1207.112183</td>\n",
       "      <td>1100.006104</td>\n",
       "      <td>1040.233032</td>\n",
       "      <td>975.507690</td>\n",
       "      <td>774.534973</td>\n",
       "      <td>730.367554</td>\n",
       "      <td>NaN</td>\n",
       "    </tr>\n",
       "    <tr>\n",
       "      <th>2021-01-08</th>\n",
       "      <td>1224.197144</td>\n",
       "      <td>1225.678101</td>\n",
       "      <td>1207.112183</td>\n",
       "      <td>1100.006104</td>\n",
       "      <td>1040.233032</td>\n",
       "      <td>975.507690</td>\n",
       "      <td>774.534973</td>\n",
       "      <td>730.367554</td>\n",
       "    </tr>\n",
       "    <tr>\n",
       "      <th>2021-01-09</th>\n",
       "      <td>1281.077271</td>\n",
       "      <td>1224.197144</td>\n",
       "      <td>1225.678101</td>\n",
       "      <td>1207.112183</td>\n",
       "      <td>1100.006104</td>\n",
       "      <td>1040.233032</td>\n",
       "      <td>975.507690</td>\n",
       "      <td>774.534973</td>\n",
       "    </tr>\n",
       "    <tr>\n",
       "      <th>2021-01-10</th>\n",
       "      <td>1262.246704</td>\n",
       "      <td>1281.077271</td>\n",
       "      <td>1224.197144</td>\n",
       "      <td>1225.678101</td>\n",
       "      <td>1207.112183</td>\n",
       "      <td>1100.006104</td>\n",
       "      <td>1040.233032</td>\n",
       "      <td>975.507690</td>\n",
       "    </tr>\n",
       "  </tbody>\n",
       "</table>\n",
       "</div>"
      ],
      "text/plain": [
       "                  Close        lag_1        lag_2        lag_3        lag_4  \\\n",
       "Date                                                                          \n",
       "2021-01-01   730.367554          NaN          NaN          NaN          NaN   \n",
       "2021-01-02   774.534973   730.367554          NaN          NaN          NaN   \n",
       "2021-01-03   975.507690   774.534973   730.367554          NaN          NaN   \n",
       "2021-01-04  1040.233032   975.507690   774.534973   730.367554          NaN   \n",
       "2021-01-05  1100.006104  1040.233032   975.507690   774.534973   730.367554   \n",
       "2021-01-06  1207.112183  1100.006104  1040.233032   975.507690   774.534973   \n",
       "2021-01-07  1225.678101  1207.112183  1100.006104  1040.233032   975.507690   \n",
       "2021-01-08  1224.197144  1225.678101  1207.112183  1100.006104  1040.233032   \n",
       "2021-01-09  1281.077271  1224.197144  1225.678101  1207.112183  1100.006104   \n",
       "2021-01-10  1262.246704  1281.077271  1224.197144  1225.678101  1207.112183   \n",
       "\n",
       "                  lag_5        lag_6       lag_7  \n",
       "Date                                              \n",
       "2021-01-01          NaN          NaN         NaN  \n",
       "2021-01-02          NaN          NaN         NaN  \n",
       "2021-01-03          NaN          NaN         NaN  \n",
       "2021-01-04          NaN          NaN         NaN  \n",
       "2021-01-05          NaN          NaN         NaN  \n",
       "2021-01-06   730.367554          NaN         NaN  \n",
       "2021-01-07   774.534973   730.367554         NaN  \n",
       "2021-01-08   975.507690   774.534973  730.367554  \n",
       "2021-01-09  1040.233032   975.507690  774.534973  \n",
       "2021-01-10  1100.006104  1040.233032  975.507690  "
      ]
     },
     "execution_count": 5,
     "metadata": {},
     "output_type": "execute_result"
    }
   ],
   "source": [
    "for i in range(1, 8):\n",
    "    all_df[f'lag_{i}'] = all_df['Close'].shift(i)\n",
    "    \n",
    "all_df.head(10)"
   ]
  },
  {
   "cell_type": "markdown",
   "metadata": {},
   "source": [
    "Drop all *NaN*s, and create our input and output data, using the first 6 months to train our linear regression model."
   ]
  },
  {
   "cell_type": "code",
   "execution_count": 6,
   "metadata": {},
   "outputs": [
    {
     "data": {
      "text/html": [
       "<div>\n",
       "<style scoped>\n",
       "    .dataframe tbody tr th:only-of-type {\n",
       "        vertical-align: middle;\n",
       "    }\n",
       "\n",
       "    .dataframe tbody tr th {\n",
       "        vertical-align: top;\n",
       "    }\n",
       "\n",
       "    .dataframe thead th {\n",
       "        text-align: right;\n",
       "    }\n",
       "</style>\n",
       "<table border=\"1\" class=\"dataframe\">\n",
       "  <thead>\n",
       "    <tr style=\"text-align: right;\">\n",
       "      <th></th>\n",
       "      <th>Close</th>\n",
       "      <th>lag_1</th>\n",
       "      <th>lag_2</th>\n",
       "      <th>lag_3</th>\n",
       "      <th>lag_4</th>\n",
       "      <th>lag_5</th>\n",
       "      <th>lag_6</th>\n",
       "      <th>lag_7</th>\n",
       "    </tr>\n",
       "    <tr>\n",
       "      <th>Date</th>\n",
       "      <th></th>\n",
       "      <th></th>\n",
       "      <th></th>\n",
       "      <th></th>\n",
       "      <th></th>\n",
       "      <th></th>\n",
       "      <th></th>\n",
       "      <th></th>\n",
       "    </tr>\n",
       "  </thead>\n",
       "  <tbody>\n",
       "    <tr>\n",
       "      <th>2021-01-08</th>\n",
       "      <td>1224.197144</td>\n",
       "      <td>1225.678101</td>\n",
       "      <td>1207.112183</td>\n",
       "      <td>1100.006104</td>\n",
       "      <td>1040.233032</td>\n",
       "      <td>975.507690</td>\n",
       "      <td>774.534973</td>\n",
       "      <td>730.367554</td>\n",
       "    </tr>\n",
       "    <tr>\n",
       "      <th>2021-01-09</th>\n",
       "      <td>1281.077271</td>\n",
       "      <td>1224.197144</td>\n",
       "      <td>1225.678101</td>\n",
       "      <td>1207.112183</td>\n",
       "      <td>1100.006104</td>\n",
       "      <td>1040.233032</td>\n",
       "      <td>975.507690</td>\n",
       "      <td>774.534973</td>\n",
       "    </tr>\n",
       "    <tr>\n",
       "      <th>2021-01-10</th>\n",
       "      <td>1262.246704</td>\n",
       "      <td>1281.077271</td>\n",
       "      <td>1224.197144</td>\n",
       "      <td>1225.678101</td>\n",
       "      <td>1207.112183</td>\n",
       "      <td>1100.006104</td>\n",
       "      <td>1040.233032</td>\n",
       "      <td>975.507690</td>\n",
       "    </tr>\n",
       "    <tr>\n",
       "      <th>2021-01-11</th>\n",
       "      <td>1090.145386</td>\n",
       "      <td>1262.246704</td>\n",
       "      <td>1281.077271</td>\n",
       "      <td>1224.197144</td>\n",
       "      <td>1225.678101</td>\n",
       "      <td>1207.112183</td>\n",
       "      <td>1100.006104</td>\n",
       "      <td>1040.233032</td>\n",
       "    </tr>\n",
       "    <tr>\n",
       "      <th>2021-01-12</th>\n",
       "      <td>1043.434570</td>\n",
       "      <td>1090.145386</td>\n",
       "      <td>1262.246704</td>\n",
       "      <td>1281.077271</td>\n",
       "      <td>1224.197144</td>\n",
       "      <td>1225.678101</td>\n",
       "      <td>1207.112183</td>\n",
       "      <td>1100.006104</td>\n",
       "    </tr>\n",
       "  </tbody>\n",
       "</table>\n",
       "</div>"
      ],
      "text/plain": [
       "                  Close        lag_1        lag_2        lag_3        lag_4  \\\n",
       "Date                                                                          \n",
       "2021-01-08  1224.197144  1225.678101  1207.112183  1100.006104  1040.233032   \n",
       "2021-01-09  1281.077271  1224.197144  1225.678101  1207.112183  1100.006104   \n",
       "2021-01-10  1262.246704  1281.077271  1224.197144  1225.678101  1207.112183   \n",
       "2021-01-11  1090.145386  1262.246704  1281.077271  1224.197144  1225.678101   \n",
       "2021-01-12  1043.434570  1090.145386  1262.246704  1281.077271  1224.197144   \n",
       "\n",
       "                  lag_5        lag_6        lag_7  \n",
       "Date                                               \n",
       "2021-01-08   975.507690   774.534973   730.367554  \n",
       "2021-01-09  1040.233032   975.507690   774.534973  \n",
       "2021-01-10  1100.006104  1040.233032   975.507690  \n",
       "2021-01-11  1207.112183  1100.006104  1040.233032  \n",
       "2021-01-12  1225.678101  1207.112183  1100.006104  "
      ]
     },
     "execution_count": 6,
     "metadata": {},
     "output_type": "execute_result"
    }
   ],
   "source": [
    "all_df.dropna(inplace=True)\n",
    "cols = [f'lag_{i}' for i in range(1, 8)]\n",
    "\n",
    "train_df = all_df.iloc[0:181-7, :]\n",
    "train_df.head(5)"
   ]
  },
  {
   "cell_type": "code",
   "execution_count": 7,
   "metadata": {},
   "outputs": [],
   "source": [
    "X = train_df[cols]\n",
    "y = train_df['Close']"
   ]
  },
  {
   "cell_type": "markdown",
   "metadata": {},
   "source": [
    "Train LR model using our hard code."
   ]
  },
  {
   "cell_type": "code",
   "execution_count": 8,
   "metadata": {},
   "outputs": [],
   "source": [
    "model = linear_regression()\n",
    "model.fit(X, y)"
   ]
  },
  {
   "cell_type": "markdown",
   "metadata": {},
   "source": [
    "Take a look at the details of our model. Summarize the coefficients and their standard deviations, t-values, p-values, residual standard error, r-square and adjusted r-square, f-statistic and its p-value of the LR model."
   ]
  },
  {
   "cell_type": "code",
   "execution_count": 9,
   "metadata": {},
   "outputs": [
    {
     "name": "stdout",
     "output_type": "stream",
     "text": [
      "            Estimate  Std.Error    t value  Pr(>|t|)\n",
      "Intercept  71.691203  37.717697   1.900731  0.059081\n",
      "lag_1       0.847193   0.076506  11.073502  0.000000\n",
      "lag_2       0.246981   0.098819   2.499337  0.013420\n",
      "lag_3      -0.077644   0.100094  -0.775707  0.439032\n",
      "lag_4      -0.005219   0.100285  -0.052042  0.958558\n",
      "lag_5      -0.135197   0.100261  -1.348448  0.179362\n",
      "lag_6       0.264233   0.098910   2.671449  0.008309\n",
      "lag_7      -0.172057   0.076188  -2.258329  0.025235\n",
      "Residual standard error: 150.265 on 166 degress of freedom.\n",
      "R-squared: 0.952, Adjusted R-square: 0.95\n",
      "F-statistic: 474.452 on 7 and 166 DF,p-value: 0.0\n"
     ]
    }
   ],
   "source": [
    "model.summary()"
   ]
  },
  {
   "cell_type": "markdown",
   "metadata": {},
   "source": [
    "The LR model has a really good prediction result! Both R-squared and Adjusted R-square are high, representing a good prediction. \n",
    "\n",
    "Also from the above table, we find that given a significance level of $0.05$, *lag_1*, *lag_6* and *lag_7* (which are 1, 6 and 7 days before, respectively) are significant, showing that these three variables are significantly important in the LR model."
   ]
  },
  {
   "cell_type": "markdown",
   "metadata": {},
   "source": [
    "Take a look at the RMSE of training data."
   ]
  },
  {
   "cell_type": "code",
   "execution_count": 10,
   "metadata": {},
   "outputs": [
    {
     "name": "stdout",
     "output_type": "stream",
     "text": [
      "The RMSE of training data is: 146.77\n"
     ]
    }
   ],
   "source": [
    "RMSE = model.RMSE(X, y)\n",
    "print(f\"The RMSE of training data is: {round(RMSE, 3)}\")"
   ]
  },
  {
   "cell_type": "markdown",
   "metadata": {},
   "source": [
    "Not bad on such a large data set.\n",
    "\n",
    "Take a look at the model prediction on the train input, and compare with the true prices in one figure."
   ]
  },
  {
   "cell_type": "code",
   "execution_count": 11,
   "metadata": {},
   "outputs": [
    {
     "name": "stderr",
     "output_type": "stream",
     "text": [
      "C:\\Users\\91208\\AppData\\Local\\Temp/ipykernel_6172/1326750553.py:1: SettingWithCopyWarning:\n",
      "\n",
      "\n",
      "A value is trying to be set on a copy of a slice from a DataFrame.\n",
      "Try using .loc[row_indexer,col_indexer] = value instead\n",
      "\n",
      "See the caveats in the documentation: https://pandas.pydata.org/pandas-docs/stable/user_guide/indexing.html#returning-a-view-versus-a-copy\n",
      "\n"
     ]
    },
    {
     "data": {
      "application/vnd.plotly.v1+json": {
       "config": {
        "plotlyServerURL": "https://plot.ly"
       },
       "data": [
        {
         "hovertemplate": "variable=Close<br>Date=%{x}<br>value=%{y}<extra></extra>",
         "legendgroup": "Close",
         "line": {
          "color": "#636efa",
          "dash": "solid"
         },
         "marker": {
          "symbol": "circle"
         },
         "mode": "lines",
         "name": "Close",
         "orientation": "v",
         "showlegend": true,
         "type": "scatter",
         "x": [
          "2021-01-08T00:00:00",
          "2021-01-09T00:00:00",
          "2021-01-10T00:00:00",
          "2021-01-11T00:00:00",
          "2021-01-12T00:00:00",
          "2021-01-13T00:00:00",
          "2021-01-14T00:00:00",
          "2021-01-15T00:00:00",
          "2021-01-16T00:00:00",
          "2021-01-17T00:00:00",
          "2021-01-18T00:00:00",
          "2021-01-19T00:00:00",
          "2021-01-20T00:00:00",
          "2021-01-21T00:00:00",
          "2021-01-22T00:00:00",
          "2021-01-23T00:00:00",
          "2021-01-24T00:00:00",
          "2021-01-25T00:00:00",
          "2021-01-26T00:00:00",
          "2021-01-27T00:00:00",
          "2021-01-28T00:00:00",
          "2021-01-29T00:00:00",
          "2021-01-30T00:00:00",
          "2021-01-31T00:00:00",
          "2021-02-01T00:00:00",
          "2021-02-02T00:00:00",
          "2021-02-03T00:00:00",
          "2021-02-04T00:00:00",
          "2021-02-05T00:00:00",
          "2021-02-06T00:00:00",
          "2021-02-07T00:00:00",
          "2021-02-08T00:00:00",
          "2021-02-09T00:00:00",
          "2021-02-10T00:00:00",
          "2021-02-11T00:00:00",
          "2021-02-12T00:00:00",
          "2021-02-13T00:00:00",
          "2021-02-14T00:00:00",
          "2021-02-15T00:00:00",
          "2021-02-16T00:00:00",
          "2021-02-17T00:00:00",
          "2021-02-18T00:00:00",
          "2021-02-19T00:00:00",
          "2021-02-20T00:00:00",
          "2021-02-21T00:00:00",
          "2021-02-22T00:00:00",
          "2021-02-23T00:00:00",
          "2021-02-24T00:00:00",
          "2021-02-25T00:00:00",
          "2021-02-26T00:00:00",
          "2021-02-27T00:00:00",
          "2021-02-28T00:00:00",
          "2021-03-01T00:00:00",
          "2021-03-02T00:00:00",
          "2021-03-03T00:00:00",
          "2021-03-04T00:00:00",
          "2021-03-05T00:00:00",
          "2021-03-06T00:00:00",
          "2021-03-07T00:00:00",
          "2021-03-08T00:00:00",
          "2021-03-09T00:00:00",
          "2021-03-10T00:00:00",
          "2021-03-11T00:00:00",
          "2021-03-12T00:00:00",
          "2021-03-13T00:00:00",
          "2021-03-14T00:00:00",
          "2021-03-15T00:00:00",
          "2021-03-16T00:00:00",
          "2021-03-17T00:00:00",
          "2021-03-18T00:00:00",
          "2021-03-19T00:00:00",
          "2021-03-20T00:00:00",
          "2021-03-21T00:00:00",
          "2021-03-22T00:00:00",
          "2021-03-23T00:00:00",
          "2021-03-24T00:00:00",
          "2021-03-25T00:00:00",
          "2021-03-26T00:00:00",
          "2021-03-27T00:00:00",
          "2021-03-28T00:00:00",
          "2021-03-29T00:00:00",
          "2021-03-30T00:00:00",
          "2021-03-31T00:00:00",
          "2021-04-01T00:00:00",
          "2021-04-02T00:00:00",
          "2021-04-03T00:00:00",
          "2021-04-04T00:00:00",
          "2021-04-05T00:00:00",
          "2021-04-06T00:00:00",
          "2021-04-07T00:00:00",
          "2021-04-08T00:00:00",
          "2021-04-09T00:00:00",
          "2021-04-10T00:00:00",
          "2021-04-11T00:00:00",
          "2021-04-12T00:00:00",
          "2021-04-13T00:00:00",
          "2021-04-14T00:00:00",
          "2021-04-15T00:00:00",
          "2021-04-16T00:00:00",
          "2021-04-17T00:00:00",
          "2021-04-18T00:00:00",
          "2021-04-19T00:00:00",
          "2021-04-20T00:00:00",
          "2021-04-21T00:00:00",
          "2021-04-22T00:00:00",
          "2021-04-23T00:00:00",
          "2021-04-24T00:00:00",
          "2021-04-25T00:00:00",
          "2021-04-26T00:00:00",
          "2021-04-27T00:00:00",
          "2021-04-28T00:00:00",
          "2021-04-29T00:00:00",
          "2021-04-30T00:00:00",
          "2021-05-01T00:00:00",
          "2021-05-02T00:00:00",
          "2021-05-03T00:00:00",
          "2021-05-04T00:00:00",
          "2021-05-05T00:00:00",
          "2021-05-06T00:00:00",
          "2021-05-07T00:00:00",
          "2021-05-08T00:00:00",
          "2021-05-09T00:00:00",
          "2021-05-10T00:00:00",
          "2021-05-11T00:00:00",
          "2021-05-12T00:00:00",
          "2021-05-13T00:00:00",
          "2021-05-14T00:00:00",
          "2021-05-15T00:00:00",
          "2021-05-16T00:00:00",
          "2021-05-17T00:00:00",
          "2021-05-18T00:00:00",
          "2021-05-19T00:00:00",
          "2021-05-20T00:00:00",
          "2021-05-21T00:00:00",
          "2021-05-22T00:00:00",
          "2021-05-23T00:00:00",
          "2021-05-24T00:00:00",
          "2021-05-25T00:00:00",
          "2021-05-26T00:00:00",
          "2021-05-27T00:00:00",
          "2021-05-28T00:00:00",
          "2021-05-29T00:00:00",
          "2021-05-30T00:00:00",
          "2021-05-31T00:00:00",
          "2021-06-01T00:00:00",
          "2021-06-02T00:00:00",
          "2021-06-03T00:00:00",
          "2021-06-04T00:00:00",
          "2021-06-05T00:00:00",
          "2021-06-06T00:00:00",
          "2021-06-07T00:00:00",
          "2021-06-08T00:00:00",
          "2021-06-09T00:00:00",
          "2021-06-10T00:00:00",
          "2021-06-11T00:00:00",
          "2021-06-12T00:00:00",
          "2021-06-13T00:00:00",
          "2021-06-14T00:00:00",
          "2021-06-15T00:00:00",
          "2021-06-16T00:00:00",
          "2021-06-17T00:00:00",
          "2021-06-18T00:00:00",
          "2021-06-19T00:00:00",
          "2021-06-20T00:00:00",
          "2021-06-21T00:00:00",
          "2021-06-22T00:00:00",
          "2021-06-23T00:00:00",
          "2021-06-24T00:00:00",
          "2021-06-25T00:00:00",
          "2021-06-26T00:00:00",
          "2021-06-27T00:00:00",
          "2021-06-28T00:00:00",
          "2021-06-29T00:00:00",
          "2021-06-30T00:00:00"
         ],
         "xaxis": "x",
         "y": [
          1224.1971435546875,
          1281.0772705078125,
          1262.2467041015625,
          1090.1453857421875,
          1043.4345703125,
          1130.7393798828125,
          1218.4530029296875,
          1171.8345947265625,
          1233.53759765625,
          1230.1722412109375,
          1257.279541015625,
          1377.2958984375,
          1382.2740478515625,
          1121.5709228515625,
          1236.51220703125,
          1230.9906005859375,
          1391.609375,
          1324.414794921875,
          1357.05810546875,
          1253.1871337890625,
          1298.101806640625,
          1382.5228271484375,
          1376.115478515625,
          1314.9862060546875,
          1369.04052734375,
          1515.1937255859375,
          1660.9095458984375,
          1594.7626953125,
          1718.65087890625,
          1677.8468017578125,
          1614.227783203125,
          1746.6168212890625,
          1768.0350341796875,
          1744.243408203125,
          1783.7979736328125,
          1843.5325927734375,
          1814.10986328125,
          1805.0841064453125,
          1779.791015625,
          1781.0675048828125,
          1848.458251953125,
          1937.44921875,
          1960.164794921875,
          1919.5340576171875,
          1935.60107421875,
          1781.992919921875,
          1570.2039794921875,
          1626.57568359375,
          1475.7037353515625,
          1446.03369140625,
          1459.97314453125,
          1416.0489501953125,
          1564.7076416015625,
          1492.6087646484375,
          1575.8531494140625,
          1541.914306640625,
          1533.2750244140625,
          1654.7415771484375,
          1723.15380859375,
          1834.7279052734375,
          1868.048828125,
          1799.166259765625,
          1826.1949462890625,
          1772.1024169921875,
          1924.6854248046875,
          1854.5643310546875,
          1791.7022705078125,
          1806.9718017578125,
          1823.4493408203125,
          1782.8551025390625,
          1817.6241455078125,
          1812.6346435546875,
          1788.217041015625,
          1691.333984375,
          1678.650146484375,
          1593.4134521484375,
          1595.3592529296875,
          1702.842041015625,
          1716.49462890625,
          1691.35595703125,
          1819.6849365234375,
          1846.03369140625,
          1918.362060546875,
          1977.27685546875,
          2143.2255859375,
          2028.4224853515625,
          2093.122802734375,
          2107.88720703125,
          2118.37890625,
          1971.0772705078125,
          2088.57373046875,
          2072.10888671875,
          2135.942138671875,
          2157.656982421875,
          2139.353271484375,
          2299.187744140625,
          2435.10498046875,
          2519.1162109375,
          2431.946533203125,
          2344.89501953125,
          2237.136962890625,
          2166.188720703125,
          2330.2109375,
          2364.751708984375,
          2403.53515625,
          2363.586181640625,
          2211.625732421875,
          2316.0595703125,
          2534.481689453125,
          2662.865234375,
          2746.380126953125,
          2756.876953125,
          2773.20703125,
          2945.892822265625,
          2952.05615234375,
          3431.086181640625,
          3253.62939453125,
          3522.783203125,
          3490.88037109375,
          3484.72900390625,
          3902.647705078125,
          3928.8447265625,
          3952.2939453125,
          4168.701171875,
          3785.8486328125,
          3715.1484375,
          4079.057373046875,
          3638.1220703125,
          3587.506103515625,
          3282.397705078125,
          3380.070068359375,
          2460.67919921875,
          2784.294189453125,
          2430.621337890625,
          2295.70556640625,
          2109.579833984375,
          2643.591064453125,
          2706.62890625,
          2888.69873046875,
          2736.488525390625,
          2419.90625,
          2279.51416015625,
          2390.305419921875,
          2714.9453125,
          2633.518310546875,
          2706.125,
          2855.12646484375,
          2688.195068359375,
          2630.576904296875,
          2715.0927734375,
          2590.26318359375,
          2517.438720703125,
          2608.26708984375,
          2471.5185546875,
          2353.768798828125,
          2372.484375,
          2508.3916015625,
          2537.89111328125,
          2610.936767578125,
          2367.66357421875,
          2372.001953125,
          2231.733154296875,
          2178.4990234375,
          2246.364501953125,
          1888.447509765625,
          1874.9500732421875,
          1989.736328125,
          1988.456298828125,
          1813.21728515625,
          1829.2392578125,
          1978.8946533203125,
          2079.657470703125,
          2160.768310546875,
          2274.547607421875
         ],
         "yaxis": "y"
        },
        {
         "hovertemplate": "variable=predictions<br>Date=%{x}<br>value=%{y}<extra></extra>",
         "legendgroup": "predictions",
         "line": {
          "color": "#EF553B",
          "dash": "solid"
         },
         "marker": {
          "symbol": "circle"
         },
         "mode": "lines",
         "name": "predictions",
         "orientation": "v",
         "showlegend": true,
         "type": "scatter",
         "x": [
          "2021-01-08T00:00:00",
          "2021-01-09T00:00:00",
          "2021-01-10T00:00:00",
          "2021-01-11T00:00:00",
          "2021-01-12T00:00:00",
          "2021-01-13T00:00:00",
          "2021-01-14T00:00:00",
          "2021-01-15T00:00:00",
          "2021-01-16T00:00:00",
          "2021-01-17T00:00:00",
          "2021-01-18T00:00:00",
          "2021-01-19T00:00:00",
          "2021-01-20T00:00:00",
          "2021-01-21T00:00:00",
          "2021-01-22T00:00:00",
          "2021-01-23T00:00:00",
          "2021-01-24T00:00:00",
          "2021-01-25T00:00:00",
          "2021-01-26T00:00:00",
          "2021-01-27T00:00:00",
          "2021-01-28T00:00:00",
          "2021-01-29T00:00:00",
          "2021-01-30T00:00:00",
          "2021-01-31T00:00:00",
          "2021-02-01T00:00:00",
          "2021-02-02T00:00:00",
          "2021-02-03T00:00:00",
          "2021-02-04T00:00:00",
          "2021-02-05T00:00:00",
          "2021-02-06T00:00:00",
          "2021-02-07T00:00:00",
          "2021-02-08T00:00:00",
          "2021-02-09T00:00:00",
          "2021-02-10T00:00:00",
          "2021-02-11T00:00:00",
          "2021-02-12T00:00:00",
          "2021-02-13T00:00:00",
          "2021-02-14T00:00:00",
          "2021-02-15T00:00:00",
          "2021-02-16T00:00:00",
          "2021-02-17T00:00:00",
          "2021-02-18T00:00:00",
          "2021-02-19T00:00:00",
          "2021-02-20T00:00:00",
          "2021-02-21T00:00:00",
          "2021-02-22T00:00:00",
          "2021-02-23T00:00:00",
          "2021-02-24T00:00:00",
          "2021-02-25T00:00:00",
          "2021-02-26T00:00:00",
          "2021-02-27T00:00:00",
          "2021-02-28T00:00:00",
          "2021-03-01T00:00:00",
          "2021-03-02T00:00:00",
          "2021-03-03T00:00:00",
          "2021-03-04T00:00:00",
          "2021-03-05T00:00:00",
          "2021-03-06T00:00:00",
          "2021-03-07T00:00:00",
          "2021-03-08T00:00:00",
          "2021-03-09T00:00:00",
          "2021-03-10T00:00:00",
          "2021-03-11T00:00:00",
          "2021-03-12T00:00:00",
          "2021-03-13T00:00:00",
          "2021-03-14T00:00:00",
          "2021-03-15T00:00:00",
          "2021-03-16T00:00:00",
          "2021-03-17T00:00:00",
          "2021-03-18T00:00:00",
          "2021-03-19T00:00:00",
          "2021-03-20T00:00:00",
          "2021-03-21T00:00:00",
          "2021-03-22T00:00:00",
          "2021-03-23T00:00:00",
          "2021-03-24T00:00:00",
          "2021-03-25T00:00:00",
          "2021-03-26T00:00:00",
          "2021-03-27T00:00:00",
          "2021-03-28T00:00:00",
          "2021-03-29T00:00:00",
          "2021-03-30T00:00:00",
          "2021-03-31T00:00:00",
          "2021-04-01T00:00:00",
          "2021-04-02T00:00:00",
          "2021-04-03T00:00:00",
          "2021-04-04T00:00:00",
          "2021-04-05T00:00:00",
          "2021-04-06T00:00:00",
          "2021-04-07T00:00:00",
          "2021-04-08T00:00:00",
          "2021-04-09T00:00:00",
          "2021-04-10T00:00:00",
          "2021-04-11T00:00:00",
          "2021-04-12T00:00:00",
          "2021-04-13T00:00:00",
          "2021-04-14T00:00:00",
          "2021-04-15T00:00:00",
          "2021-04-16T00:00:00",
          "2021-04-17T00:00:00",
          "2021-04-18T00:00:00",
          "2021-04-19T00:00:00",
          "2021-04-20T00:00:00",
          "2021-04-21T00:00:00",
          "2021-04-22T00:00:00",
          "2021-04-23T00:00:00",
          "2021-04-24T00:00:00",
          "2021-04-25T00:00:00",
          "2021-04-26T00:00:00",
          "2021-04-27T00:00:00",
          "2021-04-28T00:00:00",
          "2021-04-29T00:00:00",
          "2021-04-30T00:00:00",
          "2021-05-01T00:00:00",
          "2021-05-02T00:00:00",
          "2021-05-03T00:00:00",
          "2021-05-04T00:00:00",
          "2021-05-05T00:00:00",
          "2021-05-06T00:00:00",
          "2021-05-07T00:00:00",
          "2021-05-08T00:00:00",
          "2021-05-09T00:00:00",
          "2021-05-10T00:00:00",
          "2021-05-11T00:00:00",
          "2021-05-12T00:00:00",
          "2021-05-13T00:00:00",
          "2021-05-14T00:00:00",
          "2021-05-15T00:00:00",
          "2021-05-16T00:00:00",
          "2021-05-17T00:00:00",
          "2021-05-18T00:00:00",
          "2021-05-19T00:00:00",
          "2021-05-20T00:00:00",
          "2021-05-21T00:00:00",
          "2021-05-22T00:00:00",
          "2021-05-23T00:00:00",
          "2021-05-24T00:00:00",
          "2021-05-25T00:00:00",
          "2021-05-26T00:00:00",
          "2021-05-27T00:00:00",
          "2021-05-28T00:00:00",
          "2021-05-29T00:00:00",
          "2021-05-30T00:00:00",
          "2021-05-31T00:00:00",
          "2021-06-01T00:00:00",
          "2021-06-02T00:00:00",
          "2021-06-03T00:00:00",
          "2021-06-04T00:00:00",
          "2021-06-05T00:00:00",
          "2021-06-06T00:00:00",
          "2021-06-07T00:00:00",
          "2021-06-08T00:00:00",
          "2021-06-09T00:00:00",
          "2021-06-10T00:00:00",
          "2021-06-11T00:00:00",
          "2021-06-12T00:00:00",
          "2021-06-13T00:00:00",
          "2021-06-14T00:00:00",
          "2021-06-15T00:00:00",
          "2021-06-16T00:00:00",
          "2021-06-17T00:00:00",
          "2021-06-18T00:00:00",
          "2021-06-19T00:00:00",
          "2021-06-20T00:00:00",
          "2021-06-21T00:00:00",
          "2021-06-22T00:00:00",
          "2021-06-23T00:00:00",
          "2021-06-24T00:00:00",
          "2021-06-25T00:00:00",
          "2021-06-26T00:00:00",
          "2021-06-27T00:00:00",
          "2021-06-28T00:00:00",
          "2021-06-29T00:00:00",
          "2021-06-30T00:00:00"
         ],
         "xaxis": "x",
         "y": [
          1264.4799771807966,
          1295.936201556239,
          1316.2009617512488,
          1304.4913372050655,
          1165.13527336139,
          1070.8992212899707,
          1135.5117370639111,
          1253.7400026653875,
          1237.8791957406727,
          1235.453951503705,
          1256.469564514891,
          1293.3030445628144,
          1416.0723901616616,
          1412.0925174046122,
          1207.7760459547167,
          1224.5814182450451,
          1260.0236844143274,
          1413.546444123494,
          1412.0302405759473,
          1325.3649037503146,
          1325.7809481719555,
          1293.0437041916068,
          1436.027520913232,
          1398.700506379116,
          1372.7703017220806,
          1364.3889414394241,
          1524.6652914390145,
          1695.7790060915768,
          1656.1450714907212,
          1710.330672623371,
          1715.7763145359306,
          1652.1446082607686,
          1773.4116381711494,
          1770.1082316658494,
          1794.927783141466,
          1796.7115988023852,
          1831.1348964659487,
          1861.0464036775234,
          1827.3859790339145,
          1790.382045668314,
          1792.5401070957062,
          1864.9153720374632,
          1940.153083843448,
          1982.2345438582947,
          1940.8585596544078,
          1937.7853549845613,
          1820.2098679228213,
          1610.6581367504457,
          1614.1347207916315,
          1500.669006448279,
          1467.0022861979978,
          1468.184338100025,
          1400.3525158254272,
          1586.2517570206755,
          1519.6704837554867,
          1577.3085748208673,
          1588.6643850254936,
          1532.7730738961557,
          1692.331164152199,
          1725.2543179162603,
          1866.2790593345544,
          1893.9967178263937,
          1821.9841363611486,
          1849.03323934639,
          1797.1494429132658,
          1924.5236155234534,
          1905.7815371801128,
          1796.0535066290065,
          1824.418899774223,
          1807.8244083790387,
          1835.7499549362358,
          1817.538452747562,
          1818.3548078675383,
          1806.571196019644,
          1725.8826696951255,
          1674.8685864857298,
          1624.0199906892062,
          1602.1076187627937,
          1707.8360475425225,
          1726.5587877284572,
          1725.1195627205063,
          1805.4062033953776,
          1861.9524938248771,
          1946.1233630180163,
          1999.6966690523057,
          2122.7436010966126,
          2096.189212689132,
          2084.56001884929,
          2127.7086347785935,
          2116.506061603524,
          2042.0536947520875,
          2036.6888481128067,
          2097.994171769437,
          2131.0033069794063,
          2185.977408132981,
          2114.351215585063,
          2301.8387664205284,
          2424.5741118049273,
          2533.7661293843403,
          2466.507808846836,
          2333.815005913524,
          2254.3599265287203,
          2171.907848667848,
          2312.762628175382,
          2362.888087323557,
          2398.475936938108,
          2366.7689219177323,
          2202.589249785599,
          2307.310304581901,
          2505.818697875914,
          2670.920765553324,
          2759.1939263169047,
          2730.206656678242,
          2763.6901405796134,
          2935.1592863894184,
          2966.759247715003,
          3359.1781729651843,
          3311.9659331862977,
          3438.099161810813,
          3530.8117217732924,
          3404.9022420708357,
          3908.019731622876,
          3868.3765021231725,
          3968.2610701310487,
          4099.268149254696,
          3773.771459040446,
          3710.336744875812,
          3961.6189535662306,
          3657.8587278167533,
          3583.0960592782094,
          3215.6076470834896,
          3227.2222182753226,
          2664.3318434384723,
          2533.153492710895,
          2488.0677209295973,
          2180.9734603967727,
          2218.3421416731708,
          2333.614549383899,
          2825.5790255559673,
          2824.013231840423,
          2782.71445747115,
          2364.2854872937983,
          2342.6293363470427,
          2327.352707909571,
          2700.142658147115,
          2674.72422110974,
          2651.858782565363,
          2803.047727772315,
          2702.752396153527,
          2678.488501460714,
          2660.854217195803,
          2594.368769503217,
          2545.0275846572877,
          2551.2859778342063,
          2466.2431485664115,
          2375.1619356208907,
          2334.3993808806235,
          2453.9732236783157,
          2566.7106870651432,
          2589.3885685062833,
          2388.215230863945,
          2332.812041186257,
          2262.258914086712,
          2157.983772561805,
          2260.3147497455507,
          1901.2814637942536,
          1858.4235277376365,
          1949.1589803549905,
          1980.2334210136391,
          1898.0948561155183,
          1763.4629076831843,
          1950.3169759708885,
          2105.1408252987494,
          2190.64419474421
         ],
         "yaxis": "y"
        }
       ],
       "layout": {
        "legend": {
         "title": {
          "text": "variable"
         },
         "tracegroupgap": 0
        },
        "margin": {
         "t": 60
        },
        "template": {
         "data": {
          "bar": [
           {
            "error_x": {
             "color": "#2a3f5f"
            },
            "error_y": {
             "color": "#2a3f5f"
            },
            "marker": {
             "line": {
              "color": "#E5ECF6",
              "width": 0.5
             },
             "pattern": {
              "fillmode": "overlay",
              "size": 10,
              "solidity": 0.2
             }
            },
            "type": "bar"
           }
          ],
          "barpolar": [
           {
            "marker": {
             "line": {
              "color": "#E5ECF6",
              "width": 0.5
             },
             "pattern": {
              "fillmode": "overlay",
              "size": 10,
              "solidity": 0.2
             }
            },
            "type": "barpolar"
           }
          ],
          "carpet": [
           {
            "aaxis": {
             "endlinecolor": "#2a3f5f",
             "gridcolor": "white",
             "linecolor": "white",
             "minorgridcolor": "white",
             "startlinecolor": "#2a3f5f"
            },
            "baxis": {
             "endlinecolor": "#2a3f5f",
             "gridcolor": "white",
             "linecolor": "white",
             "minorgridcolor": "white",
             "startlinecolor": "#2a3f5f"
            },
            "type": "carpet"
           }
          ],
          "choropleth": [
           {
            "colorbar": {
             "outlinewidth": 0,
             "ticks": ""
            },
            "type": "choropleth"
           }
          ],
          "contour": [
           {
            "colorbar": {
             "outlinewidth": 0,
             "ticks": ""
            },
            "colorscale": [
             [
              0,
              "#0d0887"
             ],
             [
              0.1111111111111111,
              "#46039f"
             ],
             [
              0.2222222222222222,
              "#7201a8"
             ],
             [
              0.3333333333333333,
              "#9c179e"
             ],
             [
              0.4444444444444444,
              "#bd3786"
             ],
             [
              0.5555555555555556,
              "#d8576b"
             ],
             [
              0.6666666666666666,
              "#ed7953"
             ],
             [
              0.7777777777777778,
              "#fb9f3a"
             ],
             [
              0.8888888888888888,
              "#fdca26"
             ],
             [
              1,
              "#f0f921"
             ]
            ],
            "type": "contour"
           }
          ],
          "contourcarpet": [
           {
            "colorbar": {
             "outlinewidth": 0,
             "ticks": ""
            },
            "type": "contourcarpet"
           }
          ],
          "heatmap": [
           {
            "colorbar": {
             "outlinewidth": 0,
             "ticks": ""
            },
            "colorscale": [
             [
              0,
              "#0d0887"
             ],
             [
              0.1111111111111111,
              "#46039f"
             ],
             [
              0.2222222222222222,
              "#7201a8"
             ],
             [
              0.3333333333333333,
              "#9c179e"
             ],
             [
              0.4444444444444444,
              "#bd3786"
             ],
             [
              0.5555555555555556,
              "#d8576b"
             ],
             [
              0.6666666666666666,
              "#ed7953"
             ],
             [
              0.7777777777777778,
              "#fb9f3a"
             ],
             [
              0.8888888888888888,
              "#fdca26"
             ],
             [
              1,
              "#f0f921"
             ]
            ],
            "type": "heatmap"
           }
          ],
          "heatmapgl": [
           {
            "colorbar": {
             "outlinewidth": 0,
             "ticks": ""
            },
            "colorscale": [
             [
              0,
              "#0d0887"
             ],
             [
              0.1111111111111111,
              "#46039f"
             ],
             [
              0.2222222222222222,
              "#7201a8"
             ],
             [
              0.3333333333333333,
              "#9c179e"
             ],
             [
              0.4444444444444444,
              "#bd3786"
             ],
             [
              0.5555555555555556,
              "#d8576b"
             ],
             [
              0.6666666666666666,
              "#ed7953"
             ],
             [
              0.7777777777777778,
              "#fb9f3a"
             ],
             [
              0.8888888888888888,
              "#fdca26"
             ],
             [
              1,
              "#f0f921"
             ]
            ],
            "type": "heatmapgl"
           }
          ],
          "histogram": [
           {
            "marker": {
             "pattern": {
              "fillmode": "overlay",
              "size": 10,
              "solidity": 0.2
             }
            },
            "type": "histogram"
           }
          ],
          "histogram2d": [
           {
            "colorbar": {
             "outlinewidth": 0,
             "ticks": ""
            },
            "colorscale": [
             [
              0,
              "#0d0887"
             ],
             [
              0.1111111111111111,
              "#46039f"
             ],
             [
              0.2222222222222222,
              "#7201a8"
             ],
             [
              0.3333333333333333,
              "#9c179e"
             ],
             [
              0.4444444444444444,
              "#bd3786"
             ],
             [
              0.5555555555555556,
              "#d8576b"
             ],
             [
              0.6666666666666666,
              "#ed7953"
             ],
             [
              0.7777777777777778,
              "#fb9f3a"
             ],
             [
              0.8888888888888888,
              "#fdca26"
             ],
             [
              1,
              "#f0f921"
             ]
            ],
            "type": "histogram2d"
           }
          ],
          "histogram2dcontour": [
           {
            "colorbar": {
             "outlinewidth": 0,
             "ticks": ""
            },
            "colorscale": [
             [
              0,
              "#0d0887"
             ],
             [
              0.1111111111111111,
              "#46039f"
             ],
             [
              0.2222222222222222,
              "#7201a8"
             ],
             [
              0.3333333333333333,
              "#9c179e"
             ],
             [
              0.4444444444444444,
              "#bd3786"
             ],
             [
              0.5555555555555556,
              "#d8576b"
             ],
             [
              0.6666666666666666,
              "#ed7953"
             ],
             [
              0.7777777777777778,
              "#fb9f3a"
             ],
             [
              0.8888888888888888,
              "#fdca26"
             ],
             [
              1,
              "#f0f921"
             ]
            ],
            "type": "histogram2dcontour"
           }
          ],
          "mesh3d": [
           {
            "colorbar": {
             "outlinewidth": 0,
             "ticks": ""
            },
            "type": "mesh3d"
           }
          ],
          "parcoords": [
           {
            "line": {
             "colorbar": {
              "outlinewidth": 0,
              "ticks": ""
             }
            },
            "type": "parcoords"
           }
          ],
          "pie": [
           {
            "automargin": true,
            "type": "pie"
           }
          ],
          "scatter": [
           {
            "marker": {
             "colorbar": {
              "outlinewidth": 0,
              "ticks": ""
             }
            },
            "type": "scatter"
           }
          ],
          "scatter3d": [
           {
            "line": {
             "colorbar": {
              "outlinewidth": 0,
              "ticks": ""
             }
            },
            "marker": {
             "colorbar": {
              "outlinewidth": 0,
              "ticks": ""
             }
            },
            "type": "scatter3d"
           }
          ],
          "scattercarpet": [
           {
            "marker": {
             "colorbar": {
              "outlinewidth": 0,
              "ticks": ""
             }
            },
            "type": "scattercarpet"
           }
          ],
          "scattergeo": [
           {
            "marker": {
             "colorbar": {
              "outlinewidth": 0,
              "ticks": ""
             }
            },
            "type": "scattergeo"
           }
          ],
          "scattergl": [
           {
            "marker": {
             "colorbar": {
              "outlinewidth": 0,
              "ticks": ""
             }
            },
            "type": "scattergl"
           }
          ],
          "scattermapbox": [
           {
            "marker": {
             "colorbar": {
              "outlinewidth": 0,
              "ticks": ""
             }
            },
            "type": "scattermapbox"
           }
          ],
          "scatterpolar": [
           {
            "marker": {
             "colorbar": {
              "outlinewidth": 0,
              "ticks": ""
             }
            },
            "type": "scatterpolar"
           }
          ],
          "scatterpolargl": [
           {
            "marker": {
             "colorbar": {
              "outlinewidth": 0,
              "ticks": ""
             }
            },
            "type": "scatterpolargl"
           }
          ],
          "scatterternary": [
           {
            "marker": {
             "colorbar": {
              "outlinewidth": 0,
              "ticks": ""
             }
            },
            "type": "scatterternary"
           }
          ],
          "surface": [
           {
            "colorbar": {
             "outlinewidth": 0,
             "ticks": ""
            },
            "colorscale": [
             [
              0,
              "#0d0887"
             ],
             [
              0.1111111111111111,
              "#46039f"
             ],
             [
              0.2222222222222222,
              "#7201a8"
             ],
             [
              0.3333333333333333,
              "#9c179e"
             ],
             [
              0.4444444444444444,
              "#bd3786"
             ],
             [
              0.5555555555555556,
              "#d8576b"
             ],
             [
              0.6666666666666666,
              "#ed7953"
             ],
             [
              0.7777777777777778,
              "#fb9f3a"
             ],
             [
              0.8888888888888888,
              "#fdca26"
             ],
             [
              1,
              "#f0f921"
             ]
            ],
            "type": "surface"
           }
          ],
          "table": [
           {
            "cells": {
             "fill": {
              "color": "#EBF0F8"
             },
             "line": {
              "color": "white"
             }
            },
            "header": {
             "fill": {
              "color": "#C8D4E3"
             },
             "line": {
              "color": "white"
             }
            },
            "type": "table"
           }
          ]
         },
         "layout": {
          "annotationdefaults": {
           "arrowcolor": "#2a3f5f",
           "arrowhead": 0,
           "arrowwidth": 1
          },
          "autotypenumbers": "strict",
          "coloraxis": {
           "colorbar": {
            "outlinewidth": 0,
            "ticks": ""
           }
          },
          "colorscale": {
           "diverging": [
            [
             0,
             "#8e0152"
            ],
            [
             0.1,
             "#c51b7d"
            ],
            [
             0.2,
             "#de77ae"
            ],
            [
             0.3,
             "#f1b6da"
            ],
            [
             0.4,
             "#fde0ef"
            ],
            [
             0.5,
             "#f7f7f7"
            ],
            [
             0.6,
             "#e6f5d0"
            ],
            [
             0.7,
             "#b8e186"
            ],
            [
             0.8,
             "#7fbc41"
            ],
            [
             0.9,
             "#4d9221"
            ],
            [
             1,
             "#276419"
            ]
           ],
           "sequential": [
            [
             0,
             "#0d0887"
            ],
            [
             0.1111111111111111,
             "#46039f"
            ],
            [
             0.2222222222222222,
             "#7201a8"
            ],
            [
             0.3333333333333333,
             "#9c179e"
            ],
            [
             0.4444444444444444,
             "#bd3786"
            ],
            [
             0.5555555555555556,
             "#d8576b"
            ],
            [
             0.6666666666666666,
             "#ed7953"
            ],
            [
             0.7777777777777778,
             "#fb9f3a"
            ],
            [
             0.8888888888888888,
             "#fdca26"
            ],
            [
             1,
             "#f0f921"
            ]
           ],
           "sequentialminus": [
            [
             0,
             "#0d0887"
            ],
            [
             0.1111111111111111,
             "#46039f"
            ],
            [
             0.2222222222222222,
             "#7201a8"
            ],
            [
             0.3333333333333333,
             "#9c179e"
            ],
            [
             0.4444444444444444,
             "#bd3786"
            ],
            [
             0.5555555555555556,
             "#d8576b"
            ],
            [
             0.6666666666666666,
             "#ed7953"
            ],
            [
             0.7777777777777778,
             "#fb9f3a"
            ],
            [
             0.8888888888888888,
             "#fdca26"
            ],
            [
             1,
             "#f0f921"
            ]
           ]
          },
          "colorway": [
           "#636efa",
           "#EF553B",
           "#00cc96",
           "#ab63fa",
           "#FFA15A",
           "#19d3f3",
           "#FF6692",
           "#B6E880",
           "#FF97FF",
           "#FECB52"
          ],
          "font": {
           "color": "#2a3f5f"
          },
          "geo": {
           "bgcolor": "white",
           "lakecolor": "white",
           "landcolor": "#E5ECF6",
           "showlakes": true,
           "showland": true,
           "subunitcolor": "white"
          },
          "hoverlabel": {
           "align": "left"
          },
          "hovermode": "closest",
          "mapbox": {
           "style": "light"
          },
          "paper_bgcolor": "white",
          "plot_bgcolor": "#E5ECF6",
          "polar": {
           "angularaxis": {
            "gridcolor": "white",
            "linecolor": "white",
            "ticks": ""
           },
           "bgcolor": "#E5ECF6",
           "radialaxis": {
            "gridcolor": "white",
            "linecolor": "white",
            "ticks": ""
           }
          },
          "scene": {
           "xaxis": {
            "backgroundcolor": "#E5ECF6",
            "gridcolor": "white",
            "gridwidth": 2,
            "linecolor": "white",
            "showbackground": true,
            "ticks": "",
            "zerolinecolor": "white"
           },
           "yaxis": {
            "backgroundcolor": "#E5ECF6",
            "gridcolor": "white",
            "gridwidth": 2,
            "linecolor": "white",
            "showbackground": true,
            "ticks": "",
            "zerolinecolor": "white"
           },
           "zaxis": {
            "backgroundcolor": "#E5ECF6",
            "gridcolor": "white",
            "gridwidth": 2,
            "linecolor": "white",
            "showbackground": true,
            "ticks": "",
            "zerolinecolor": "white"
           }
          },
          "shapedefaults": {
           "line": {
            "color": "#2a3f5f"
           }
          },
          "ternary": {
           "aaxis": {
            "gridcolor": "white",
            "linecolor": "white",
            "ticks": ""
           },
           "baxis": {
            "gridcolor": "white",
            "linecolor": "white",
            "ticks": ""
           },
           "bgcolor": "#E5ECF6",
           "caxis": {
            "gridcolor": "white",
            "linecolor": "white",
            "ticks": ""
           }
          },
          "title": {
           "x": 0.05
          },
          "xaxis": {
           "automargin": true,
           "gridcolor": "white",
           "linecolor": "white",
           "ticks": "",
           "title": {
            "standoff": 15
           },
           "zerolinecolor": "white",
           "zerolinewidth": 2
          },
          "yaxis": {
           "automargin": true,
           "gridcolor": "white",
           "linecolor": "white",
           "ticks": "",
           "title": {
            "standoff": 15
           },
           "zerolinecolor": "white",
           "zerolinewidth": 2
          }
         }
        },
        "xaxis": {
         "anchor": "y",
         "domain": [
          0,
          1
         ],
         "title": {
          "text": "Date"
         }
        },
        "yaxis": {
         "anchor": "x",
         "domain": [
          0,
          1
         ],
         "title": {
          "text": "value"
         }
        }
       }
      }
     },
     "metadata": {},
     "output_type": "display_data"
    }
   ],
   "source": [
    "train_df['predictions'] = model.predict(X)\n",
    "px.line(train_df, y=['Close', 'predictions'])"
   ]
  },
  {
   "cell_type": "markdown",
   "metadata": {},
   "source": [
    "An amazing prediction curve! Looks like the linear regression can estimate the future close price of ETH very well! But also notice that there is an obvious \"late\" in the prediction curve, compared with the true curve. Thus it's not a good idea to use this curve for short-term (in a period of days) investments, but it is useful for long-term investments."
   ]
  },
  {
   "cell_type": "markdown",
   "metadata": {},
   "source": [
    "Further, let's do some predictions on test data (ETH prices from Jul to Nov)."
   ]
  },
  {
   "cell_type": "code",
   "execution_count": 12,
   "metadata": {},
   "outputs": [
    {
     "data": {
      "text/html": [
       "<div>\n",
       "<style scoped>\n",
       "    .dataframe tbody tr th:only-of-type {\n",
       "        vertical-align: middle;\n",
       "    }\n",
       "\n",
       "    .dataframe tbody tr th {\n",
       "        vertical-align: top;\n",
       "    }\n",
       "\n",
       "    .dataframe thead th {\n",
       "        text-align: right;\n",
       "    }\n",
       "</style>\n",
       "<table border=\"1\" class=\"dataframe\">\n",
       "  <thead>\n",
       "    <tr style=\"text-align: right;\">\n",
       "      <th></th>\n",
       "      <th>Close</th>\n",
       "      <th>lag_1</th>\n",
       "      <th>lag_2</th>\n",
       "      <th>lag_3</th>\n",
       "      <th>lag_4</th>\n",
       "      <th>lag_5</th>\n",
       "      <th>lag_6</th>\n",
       "      <th>lag_7</th>\n",
       "    </tr>\n",
       "    <tr>\n",
       "      <th>Date</th>\n",
       "      <th></th>\n",
       "      <th></th>\n",
       "      <th></th>\n",
       "      <th></th>\n",
       "      <th></th>\n",
       "      <th></th>\n",
       "      <th></th>\n",
       "      <th></th>\n",
       "    </tr>\n",
       "  </thead>\n",
       "  <tbody>\n",
       "    <tr>\n",
       "      <th>2021-07-01</th>\n",
       "      <td>2113.605469</td>\n",
       "      <td>2274.547607</td>\n",
       "      <td>2160.768311</td>\n",
       "      <td>2079.657471</td>\n",
       "      <td>1978.894653</td>\n",
       "      <td>1829.239258</td>\n",
       "      <td>1813.217285</td>\n",
       "      <td>1988.456299</td>\n",
       "    </tr>\n",
       "    <tr>\n",
       "      <th>2021-07-02</th>\n",
       "      <td>2150.040283</td>\n",
       "      <td>2113.605469</td>\n",
       "      <td>2274.547607</td>\n",
       "      <td>2160.768311</td>\n",
       "      <td>2079.657471</td>\n",
       "      <td>1978.894653</td>\n",
       "      <td>1829.239258</td>\n",
       "      <td>1813.217285</td>\n",
       "    </tr>\n",
       "    <tr>\n",
       "      <th>2021-07-03</th>\n",
       "      <td>2226.114258</td>\n",
       "      <td>2150.040283</td>\n",
       "      <td>2113.605469</td>\n",
       "      <td>2274.547607</td>\n",
       "      <td>2160.768311</td>\n",
       "      <td>2079.657471</td>\n",
       "      <td>1978.894653</td>\n",
       "      <td>1829.239258</td>\n",
       "    </tr>\n",
       "    <tr>\n",
       "      <th>2021-07-04</th>\n",
       "      <td>2321.724121</td>\n",
       "      <td>2226.114258</td>\n",
       "      <td>2150.040283</td>\n",
       "      <td>2113.605469</td>\n",
       "      <td>2274.547607</td>\n",
       "      <td>2160.768311</td>\n",
       "      <td>2079.657471</td>\n",
       "      <td>1978.894653</td>\n",
       "    </tr>\n",
       "    <tr>\n",
       "      <th>2021-07-05</th>\n",
       "      <td>2198.582520</td>\n",
       "      <td>2321.724121</td>\n",
       "      <td>2226.114258</td>\n",
       "      <td>2150.040283</td>\n",
       "      <td>2113.605469</td>\n",
       "      <td>2274.547607</td>\n",
       "      <td>2160.768311</td>\n",
       "      <td>2079.657471</td>\n",
       "    </tr>\n",
       "  </tbody>\n",
       "</table>\n",
       "</div>"
      ],
      "text/plain": [
       "                  Close        lag_1        lag_2        lag_3        lag_4  \\\n",
       "Date                                                                          \n",
       "2021-07-01  2113.605469  2274.547607  2160.768311  2079.657471  1978.894653   \n",
       "2021-07-02  2150.040283  2113.605469  2274.547607  2160.768311  2079.657471   \n",
       "2021-07-03  2226.114258  2150.040283  2113.605469  2274.547607  2160.768311   \n",
       "2021-07-04  2321.724121  2226.114258  2150.040283  2113.605469  2274.547607   \n",
       "2021-07-05  2198.582520  2321.724121  2226.114258  2150.040283  2113.605469   \n",
       "\n",
       "                  lag_5        lag_6        lag_7  \n",
       "Date                                               \n",
       "2021-07-01  1829.239258  1813.217285  1988.456299  \n",
       "2021-07-02  1978.894653  1829.239258  1813.217285  \n",
       "2021-07-03  2079.657471  1978.894653  1829.239258  \n",
       "2021-07-04  2160.768311  2079.657471  1978.894653  \n",
       "2021-07-05  2274.547607  2160.768311  2079.657471  "
      ]
     },
     "execution_count": 12,
     "metadata": {},
     "output_type": "execute_result"
    }
   ],
   "source": [
    "test_df = all_df.iloc[181-7:, :]\n",
    "test_df.head(5)"
   ]
  },
  {
   "cell_type": "code",
   "execution_count": 13,
   "metadata": {},
   "outputs": [],
   "source": [
    "test_X = test_df[cols]\n",
    "test_y = test_df['Close']\n",
    "pred_test_y = model.predict(test_X)"
   ]
  },
  {
   "cell_type": "markdown",
   "metadata": {},
   "source": [
    "First take a look at the RMSE."
   ]
  },
  {
   "cell_type": "code",
   "execution_count": 14,
   "metadata": {},
   "outputs": [
    {
     "name": "stdout",
     "output_type": "stream",
     "text": [
      "The RMSE of test data is: 0.964\n"
     ]
    }
   ],
   "source": [
    "test_RMSE = model.pred_R_2(test_X, test_y)\n",
    "print(f\"The RMSE of test data is: {round(test_RMSE, 3)}\")"
   ]
  },
  {
   "cell_type": "markdown",
   "metadata": {},
   "source": [
    "Looks pretty good! Let's plot it with the true price curve."
   ]
  },
  {
   "cell_type": "code",
   "execution_count": 15,
   "metadata": {},
   "outputs": [
    {
     "name": "stderr",
     "output_type": "stream",
     "text": [
      "C:\\Users\\91208\\AppData\\Local\\Temp/ipykernel_6172/3941880161.py:1: SettingWithCopyWarning:\n",
      "\n",
      "\n",
      "A value is trying to be set on a copy of a slice from a DataFrame.\n",
      "Try using .loc[row_indexer,col_indexer] = value instead\n",
      "\n",
      "See the caveats in the documentation: https://pandas.pydata.org/pandas-docs/stable/user_guide/indexing.html#returning-a-view-versus-a-copy\n",
      "\n"
     ]
    },
    {
     "data": {
      "application/vnd.plotly.v1+json": {
       "config": {
        "plotlyServerURL": "https://plot.ly"
       },
       "data": [
        {
         "hovertemplate": "variable=Close<br>Date=%{x}<br>value=%{y}<extra></extra>",
         "legendgroup": "Close",
         "line": {
          "color": "#636efa",
          "dash": "solid"
         },
         "marker": {
          "symbol": "circle"
         },
         "mode": "lines",
         "name": "Close",
         "orientation": "v",
         "showlegend": true,
         "type": "scatter",
         "x": [
          "2021-07-01T00:00:00",
          "2021-07-02T00:00:00",
          "2021-07-03T00:00:00",
          "2021-07-04T00:00:00",
          "2021-07-05T00:00:00",
          "2021-07-06T00:00:00",
          "2021-07-07T00:00:00",
          "2021-07-08T00:00:00",
          "2021-07-09T00:00:00",
          "2021-07-10T00:00:00",
          "2021-07-11T00:00:00",
          "2021-07-12T00:00:00",
          "2021-07-13T00:00:00",
          "2021-07-14T00:00:00",
          "2021-07-15T00:00:00",
          "2021-07-16T00:00:00",
          "2021-07-17T00:00:00",
          "2021-07-18T00:00:00",
          "2021-07-19T00:00:00",
          "2021-07-20T00:00:00",
          "2021-07-21T00:00:00",
          "2021-07-22T00:00:00",
          "2021-07-23T00:00:00",
          "2021-07-24T00:00:00",
          "2021-07-25T00:00:00",
          "2021-07-26T00:00:00",
          "2021-07-27T00:00:00",
          "2021-07-28T00:00:00",
          "2021-07-29T00:00:00",
          "2021-07-30T00:00:00",
          "2021-07-31T00:00:00",
          "2021-08-01T00:00:00",
          "2021-08-02T00:00:00",
          "2021-08-03T00:00:00",
          "2021-08-04T00:00:00",
          "2021-08-05T00:00:00",
          "2021-08-06T00:00:00",
          "2021-08-07T00:00:00",
          "2021-08-08T00:00:00",
          "2021-08-09T00:00:00",
          "2021-08-10T00:00:00",
          "2021-08-11T00:00:00",
          "2021-08-12T00:00:00",
          "2021-08-13T00:00:00",
          "2021-08-14T00:00:00",
          "2021-08-15T00:00:00",
          "2021-08-16T00:00:00",
          "2021-08-17T00:00:00",
          "2021-08-18T00:00:00",
          "2021-08-19T00:00:00",
          "2021-08-20T00:00:00",
          "2021-08-21T00:00:00",
          "2021-08-22T00:00:00",
          "2021-08-23T00:00:00",
          "2021-08-24T00:00:00",
          "2021-08-25T00:00:00",
          "2021-08-26T00:00:00",
          "2021-08-27T00:00:00",
          "2021-08-28T00:00:00",
          "2021-08-29T00:00:00",
          "2021-08-30T00:00:00",
          "2021-08-31T00:00:00",
          "2021-09-01T00:00:00",
          "2021-09-02T00:00:00",
          "2021-09-03T00:00:00",
          "2021-09-04T00:00:00",
          "2021-09-05T00:00:00",
          "2021-09-06T00:00:00",
          "2021-09-07T00:00:00",
          "2021-09-08T00:00:00",
          "2021-09-09T00:00:00",
          "2021-09-10T00:00:00",
          "2021-09-11T00:00:00",
          "2021-09-12T00:00:00",
          "2021-09-13T00:00:00",
          "2021-09-14T00:00:00",
          "2021-09-15T00:00:00",
          "2021-09-16T00:00:00",
          "2021-09-17T00:00:00",
          "2021-09-18T00:00:00",
          "2021-09-19T00:00:00",
          "2021-09-20T00:00:00",
          "2021-09-21T00:00:00",
          "2021-09-22T00:00:00",
          "2021-09-23T00:00:00",
          "2021-09-24T00:00:00",
          "2021-09-25T00:00:00",
          "2021-09-26T00:00:00",
          "2021-09-27T00:00:00",
          "2021-09-28T00:00:00",
          "2021-09-29T00:00:00",
          "2021-09-30T00:00:00",
          "2021-10-01T00:00:00",
          "2021-10-02T00:00:00",
          "2021-10-03T00:00:00",
          "2021-10-04T00:00:00",
          "2021-10-05T00:00:00",
          "2021-10-06T00:00:00",
          "2021-10-07T00:00:00",
          "2021-10-08T00:00:00",
          "2021-10-09T00:00:00",
          "2021-10-10T00:00:00",
          "2021-10-11T00:00:00",
          "2021-10-12T00:00:00",
          "2021-10-13T00:00:00",
          "2021-10-14T00:00:00",
          "2021-10-15T00:00:00",
          "2021-10-16T00:00:00",
          "2021-10-17T00:00:00",
          "2021-10-18T00:00:00",
          "2021-10-19T00:00:00",
          "2021-10-20T00:00:00",
          "2021-10-21T00:00:00",
          "2021-10-22T00:00:00",
          "2021-10-23T00:00:00",
          "2021-10-24T00:00:00",
          "2021-10-25T00:00:00",
          "2021-10-26T00:00:00",
          "2021-10-27T00:00:00",
          "2021-10-28T00:00:00",
          "2021-10-29T00:00:00",
          "2021-10-30T00:00:00",
          "2021-10-31T00:00:00",
          "2021-11-01T00:00:00",
          "2021-11-02T00:00:00",
          "2021-11-03T00:00:00",
          "2021-11-04T00:00:00",
          "2021-11-05T00:00:00",
          "2021-11-06T00:00:00",
          "2021-11-07T00:00:00",
          "2021-11-08T00:00:00",
          "2021-11-09T00:00:00",
          "2021-11-10T00:00:00",
          "2021-11-11T00:00:00",
          "2021-11-12T00:00:00",
          "2021-11-13T00:00:00",
          "2021-11-14T00:00:00",
          "2021-11-15T00:00:00",
          "2021-11-16T00:00:00",
          "2021-11-17T00:00:00",
          "2021-11-18T00:00:00",
          "2021-11-19T00:00:00",
          "2021-11-20T00:00:00",
          "2021-11-21T00:00:00",
          "2021-11-22T00:00:00",
          "2021-11-23T00:00:00",
          "2021-11-24T00:00:00",
          "2021-11-25T00:00:00",
          "2021-11-26T00:00:00",
          "2021-11-27T00:00:00",
          "2021-11-28T00:00:00",
          "2021-11-29T00:00:00",
          "2021-11-30T00:00:00",
          "2021-12-01T00:00:00"
         ],
         "xaxis": "x",
         "y": [
          2113.60546875,
          2150.040283203125,
          2226.1142578125,
          2321.72412109375,
          2198.58251953125,
          2324.679443359375,
          2315.161865234375,
          2120.0263671875,
          2146.6923828125,
          2111.403564453125,
          2139.664794921875,
          2036.7210693359375,
          1940.083984375,
          1994.331298828125,
          1911.1756591796875,
          1880.3829345703125,
          1898.8251953125,
          1895.5521240234375,
          1817.296630859375,
          1787.5107421875,
          1990.9708251953125,
          2025.2027587890625,
          2124.776611328125,
          2189.21875,
          2191.373779296875,
          2233.36669921875,
          2298.33349609375,
          2296.54541015625,
          2380.956787109375,
          2466.96142578125,
          2536.2099609375,
          2561.85205078125,
          2610.1533203125,
          2502.349609375,
          2724.619873046875,
          2827.328857421875,
          2890.941650390625,
          3157.23876953125,
          3013.732666015625,
          3167.856201171875,
          3141.691162109375,
          3164.2451171875,
          3043.414306640625,
          3322.211669921875,
          3265.443359375,
          3310.504150390625,
          3156.509521484375,
          3014.845947265625,
          3020.08984375,
          3182.7021484375,
          3286.935302734375,
          3226.083984375,
          3242.115478515625,
          3319.25732421875,
          3172.456298828125,
          3224.915283203125,
          3100.325439453125,
          3270.600830078125,
          3244.4033203125,
          3227.002685546875,
          3224.374267578125,
          3433.732666015625,
          3834.828125,
          3790.989990234375,
          3940.61474609375,
          3887.828369140625,
          3952.133544921875,
          3928.37939453125,
          3426.394287109375,
          3497.315185546875,
          3427.340087890625,
          3211.505859375,
          3270.278076171875,
          3410.134521484375,
          3285.51171875,
          3429.169677734375,
          3615.28271484375,
          3571.294921875,
          3398.538818359375,
          3432.018310546875,
          3329.447998046875,
          2958.993408203125,
          2764.43115234375,
          3077.867919921875,
          3155.523681640625,
          2931.669189453125,
          2925.565673828125,
          3062.265380859375,
          2934.138916015625,
          2807.296630859375,
          2853.143310546875,
          3001.678955078125,
          3307.51611328125,
          3391.6943359375,
          3418.358642578125,
          3380.089111328125,
          3518.5185546875,
          3580.56201171875,
          3587.974853515625,
          3563.75927734375,
          3575.716796875,
          3425.852783203125,
          3545.35400390625,
          3492.5732421875,
          3606.20166015625,
          3786.01416015625,
          3862.634765625,
          3830.382080078125,
          3847.1044921875,
          3748.76025390625,
          3877.65087890625,
          4155.9921875,
          4054.32275390625,
          3970.181884765625,
          4171.66357421875,
          4087.903076171875,
          4217.876953125,
          4131.10205078125,
          3930.25732421875,
          4287.31884765625,
          4414.74658203125,
          4325.650390625,
          4288.07421875,
          4324.626953125,
          4584.798828125,
          4607.19384765625,
          4537.32421875,
          4486.2431640625,
          4521.5810546875,
          4620.5546875,
          4812.08740234375,
          4735.06884765625,
          4636.17431640625,
          4730.38427734375,
          4667.115234375,
          4651.46044921875,
          4626.35888671875,
          4557.50390625,
          4216.365234375,
          4287.59375,
          4000.65087890625,
          4298.306640625,
          4409.93115234375,
          4269.73291015625,
          4088.457763671875,
          4340.763671875,
          4239.9814453125,
          4274.7431640625,
          4030.908935546875,
          4096.912109375,
          4294.45361328125,
          4445.10498046875,
          4631.47900390625,
          4586.990234375
         ],
         "yaxis": "y"
        },
        {
         "hovertemplate": "variable=predictions<br>Date=%{x}<br>value=%{y}<extra></extra>",
         "legendgroup": "predictions",
         "line": {
          "color": "#EF553B",
          "dash": "solid"
         },
         "marker": {
          "symbol": "circle"
         },
         "mode": "lines",
         "name": "predictions",
         "orientation": "v",
         "showlegend": true,
         "type": "scatter",
         "x": [
          "2021-07-01T00:00:00",
          "2021-07-02T00:00:00",
          "2021-07-03T00:00:00",
          "2021-07-04T00:00:00",
          "2021-07-05T00:00:00",
          "2021-07-06T00:00:00",
          "2021-07-07T00:00:00",
          "2021-07-08T00:00:00",
          "2021-07-09T00:00:00",
          "2021-07-10T00:00:00",
          "2021-07-11T00:00:00",
          "2021-07-12T00:00:00",
          "2021-07-13T00:00:00",
          "2021-07-14T00:00:00",
          "2021-07-15T00:00:00",
          "2021-07-16T00:00:00",
          "2021-07-17T00:00:00",
          "2021-07-18T00:00:00",
          "2021-07-19T00:00:00",
          "2021-07-20T00:00:00",
          "2021-07-21T00:00:00",
          "2021-07-22T00:00:00",
          "2021-07-23T00:00:00",
          "2021-07-24T00:00:00",
          "2021-07-25T00:00:00",
          "2021-07-26T00:00:00",
          "2021-07-27T00:00:00",
          "2021-07-28T00:00:00",
          "2021-07-29T00:00:00",
          "2021-07-30T00:00:00",
          "2021-07-31T00:00:00",
          "2021-08-01T00:00:00",
          "2021-08-02T00:00:00",
          "2021-08-03T00:00:00",
          "2021-08-04T00:00:00",
          "2021-08-05T00:00:00",
          "2021-08-06T00:00:00",
          "2021-08-07T00:00:00",
          "2021-08-08T00:00:00",
          "2021-08-09T00:00:00",
          "2021-08-10T00:00:00",
          "2021-08-11T00:00:00",
          "2021-08-12T00:00:00",
          "2021-08-13T00:00:00",
          "2021-08-14T00:00:00",
          "2021-08-15T00:00:00",
          "2021-08-16T00:00:00",
          "2021-08-17T00:00:00",
          "2021-08-18T00:00:00",
          "2021-08-19T00:00:00",
          "2021-08-20T00:00:00",
          "2021-08-21T00:00:00",
          "2021-08-22T00:00:00",
          "2021-08-23T00:00:00",
          "2021-08-24T00:00:00",
          "2021-08-25T00:00:00",
          "2021-08-26T00:00:00",
          "2021-08-27T00:00:00",
          "2021-08-28T00:00:00",
          "2021-08-29T00:00:00",
          "2021-08-30T00:00:00",
          "2021-08-31T00:00:00",
          "2021-09-01T00:00:00",
          "2021-09-02T00:00:00",
          "2021-09-03T00:00:00",
          "2021-09-04T00:00:00",
          "2021-09-05T00:00:00",
          "2021-09-06T00:00:00",
          "2021-09-07T00:00:00",
          "2021-09-08T00:00:00",
          "2021-09-09T00:00:00",
          "2021-09-10T00:00:00",
          "2021-09-11T00:00:00",
          "2021-09-12T00:00:00",
          "2021-09-13T00:00:00",
          "2021-09-14T00:00:00",
          "2021-09-15T00:00:00",
          "2021-09-16T00:00:00",
          "2021-09-17T00:00:00",
          "2021-09-18T00:00:00",
          "2021-09-19T00:00:00",
          "2021-09-20T00:00:00",
          "2021-09-21T00:00:00",
          "2021-09-22T00:00:00",
          "2021-09-23T00:00:00",
          "2021-09-24T00:00:00",
          "2021-09-25T00:00:00",
          "2021-09-26T00:00:00",
          "2021-09-27T00:00:00",
          "2021-09-28T00:00:00",
          "2021-09-29T00:00:00",
          "2021-09-30T00:00:00",
          "2021-10-01T00:00:00",
          "2021-10-02T00:00:00",
          "2021-10-03T00:00:00",
          "2021-10-04T00:00:00",
          "2021-10-05T00:00:00",
          "2021-10-06T00:00:00",
          "2021-10-07T00:00:00",
          "2021-10-08T00:00:00",
          "2021-10-09T00:00:00",
          "2021-10-10T00:00:00",
          "2021-10-11T00:00:00",
          "2021-10-12T00:00:00",
          "2021-10-13T00:00:00",
          "2021-10-14T00:00:00",
          "2021-10-15T00:00:00",
          "2021-10-16T00:00:00",
          "2021-10-17T00:00:00",
          "2021-10-18T00:00:00",
          "2021-10-19T00:00:00",
          "2021-10-20T00:00:00",
          "2021-10-21T00:00:00",
          "2021-10-22T00:00:00",
          "2021-10-23T00:00:00",
          "2021-10-24T00:00:00",
          "2021-10-25T00:00:00",
          "2021-10-26T00:00:00",
          "2021-10-27T00:00:00",
          "2021-10-28T00:00:00",
          "2021-10-29T00:00:00",
          "2021-10-30T00:00:00",
          "2021-10-31T00:00:00",
          "2021-11-01T00:00:00",
          "2021-11-02T00:00:00",
          "2021-11-03T00:00:00",
          "2021-11-04T00:00:00",
          "2021-11-05T00:00:00",
          "2021-11-06T00:00:00",
          "2021-11-07T00:00:00",
          "2021-11-08T00:00:00",
          "2021-11-09T00:00:00",
          "2021-11-10T00:00:00",
          "2021-11-11T00:00:00",
          "2021-11-12T00:00:00",
          "2021-11-13T00:00:00",
          "2021-11-14T00:00:00",
          "2021-11-15T00:00:00",
          "2021-11-16T00:00:00",
          "2021-11-17T00:00:00",
          "2021-11-18T00:00:00",
          "2021-11-19T00:00:00",
          "2021-11-20T00:00:00",
          "2021-11-21T00:00:00",
          "2021-11-22T00:00:00",
          "2021-11-23T00:00:00",
          "2021-11-24T00:00:00",
          "2021-11-25T00:00:00",
          "2021-11-26T00:00:00",
          "2021-11-27T00:00:00",
          "2021-11-28T00:00:00",
          "2021-11-29T00:00:00",
          "2021-11-30T00:00:00",
          "2021-12-01T00:00:00"
         ],
         "xaxis": "x",
         "y": [
          2250.215657839685,
          2149.2959319770566,
          2154.320338024415,
          2229.5803292647643,
          2316.092751555032,
          2267.1523807216377,
          2268.718076013612,
          2327.894126281082,
          2151.9842018408617,
          2155.284133827667,
          2081.13810782321,
          2151.1062144786274,
          2075.6447481505147,
          1912.810431728085,
          1988.1377724612892,
          1921.3941047620012,
          1898.518164391566,
          1893.7119194827997,
          1883.1622166668942,
          1856.9884965768306,
          1785.441370711712,
          1960.225729761254,
          2052.812335715635,
          2136.5252305670265,
          2195.905709511075,
          2183.8242833735067,
          2268.667038909405,
          2294.150594011391,
          2317.117980258972,
          2382.5296280079156,
          2459.844321465054,
          2535.1498205068483,
          2577.041313915707,
          2595.406697809393,
          2524.637564902215,
          2681.2732970920533,
          2831.3356473975646,
          2882.2304323452877,
          3137.3375380330954,
          3009.209138904416,
          3146.7234613293854,
          3152.6703213190444,
          3117.232015504452,
          3100.4834625936155,
          3200.646813901486,
          3299.6279334396627,
          3266.2852141239227,
          3176.7011341699554,
          2941.9479759795863,
          3025.255999547166,
          3107.0569878216465,
          3278.350495197845,
          3210.5971103320344,
          3188.5628132024594,
          3265.8322217425875,
          3187.5619954728973,
          3197.464668872299,
          3079.684566939469,
          3194.1390747549794,
          3260.8714576138354,
          3167.9341538325793,
          3218.518868985465,
          3331.7571390567196,
          3793.535660617805,
          3805.3507056258986,
          3889.3143584770296,
          3856.8537231720134,
          3888.4514021011046,
          3963.414478358124,
          3426.7281827262104,
          3418.5548566398234,
          3367.502800050444,
          3193.76560631165,
          3245.839182985244,
          3257.821605323342,
          3297.917244453217,
          3376.1661012664918,
          3525.330319555023,
          3557.283990612169,
          3428.5528109713523,
          3340.2781425223848,
          3309.532529809405,
          2999.0618905173988,
          2730.235063791757,
          2934.416567047213,
          3147.0964246810354,
          2970.528439780197,
          2848.4704657384596,
          2949.7037108167156,
          2982.3574965813423,
          2829.5253108295115,
          2774.5877576125467,
          2940.6882879134164,
          3288.0722201339454,
          3382.924567731736,
          3384.114090996811,
          3364.002604886056,
          3459.329035621338,
          3592.788366147341,
          3569.8597617216,
          3543.371581177626,
          3513.2066620825594,
          3425.8116887685383,
          3480.810643573524,
          3471.7408348982867,
          3537.1832458403633,
          3748.644851228677,
          3791.6079487458633,
          3833.150250281888,
          3782.5943188971623,
          3720.307721157536,
          3821.6866322464357,
          4090.5456808039607,
          4039.696557528446,
          3944.2821420870887,
          4054.34760975448,
          4053.5590869542802,
          4192.89584290518,
          4093.5543136691895,
          3860.334225766497,
          4198.3279658556285,
          4336.147804301399,
          4325.949564636565,
          4242.214607243839,
          4183.74083172123,
          4528.243315177513,
          4593.112815316088,
          4478.67256202665,
          4415.502846312723,
          4419.08210533257,
          4575.419459619163,
          4730.2513202576765,
          4689.028467397914,
          4564.582397146758,
          4629.697117440215,
          4601.621862778816,
          4609.927035946239,
          4549.280332589893,
          4460.676490501863,
          4207.153566604065,
          4157.909545491152,
          3969.3952915863315,
          4152.317670254398,
          4374.554211272819,
          4173.811929981576,
          4091.700189810451,
          4142.666300099631,
          4247.335283121543,
          4230.485367001413,
          4007.2615493651,
          3942.895864545767,
          4256.786629936107,
          4354.613607351892,
          4593.525229233866
         ],
         "yaxis": "y"
        }
       ],
       "layout": {
        "legend": {
         "title": {
          "text": "variable"
         },
         "tracegroupgap": 0
        },
        "margin": {
         "t": 60
        },
        "template": {
         "data": {
          "bar": [
           {
            "error_x": {
             "color": "#2a3f5f"
            },
            "error_y": {
             "color": "#2a3f5f"
            },
            "marker": {
             "line": {
              "color": "#E5ECF6",
              "width": 0.5
             },
             "pattern": {
              "fillmode": "overlay",
              "size": 10,
              "solidity": 0.2
             }
            },
            "type": "bar"
           }
          ],
          "barpolar": [
           {
            "marker": {
             "line": {
              "color": "#E5ECF6",
              "width": 0.5
             },
             "pattern": {
              "fillmode": "overlay",
              "size": 10,
              "solidity": 0.2
             }
            },
            "type": "barpolar"
           }
          ],
          "carpet": [
           {
            "aaxis": {
             "endlinecolor": "#2a3f5f",
             "gridcolor": "white",
             "linecolor": "white",
             "minorgridcolor": "white",
             "startlinecolor": "#2a3f5f"
            },
            "baxis": {
             "endlinecolor": "#2a3f5f",
             "gridcolor": "white",
             "linecolor": "white",
             "minorgridcolor": "white",
             "startlinecolor": "#2a3f5f"
            },
            "type": "carpet"
           }
          ],
          "choropleth": [
           {
            "colorbar": {
             "outlinewidth": 0,
             "ticks": ""
            },
            "type": "choropleth"
           }
          ],
          "contour": [
           {
            "colorbar": {
             "outlinewidth": 0,
             "ticks": ""
            },
            "colorscale": [
             [
              0,
              "#0d0887"
             ],
             [
              0.1111111111111111,
              "#46039f"
             ],
             [
              0.2222222222222222,
              "#7201a8"
             ],
             [
              0.3333333333333333,
              "#9c179e"
             ],
             [
              0.4444444444444444,
              "#bd3786"
             ],
             [
              0.5555555555555556,
              "#d8576b"
             ],
             [
              0.6666666666666666,
              "#ed7953"
             ],
             [
              0.7777777777777778,
              "#fb9f3a"
             ],
             [
              0.8888888888888888,
              "#fdca26"
             ],
             [
              1,
              "#f0f921"
             ]
            ],
            "type": "contour"
           }
          ],
          "contourcarpet": [
           {
            "colorbar": {
             "outlinewidth": 0,
             "ticks": ""
            },
            "type": "contourcarpet"
           }
          ],
          "heatmap": [
           {
            "colorbar": {
             "outlinewidth": 0,
             "ticks": ""
            },
            "colorscale": [
             [
              0,
              "#0d0887"
             ],
             [
              0.1111111111111111,
              "#46039f"
             ],
             [
              0.2222222222222222,
              "#7201a8"
             ],
             [
              0.3333333333333333,
              "#9c179e"
             ],
             [
              0.4444444444444444,
              "#bd3786"
             ],
             [
              0.5555555555555556,
              "#d8576b"
             ],
             [
              0.6666666666666666,
              "#ed7953"
             ],
             [
              0.7777777777777778,
              "#fb9f3a"
             ],
             [
              0.8888888888888888,
              "#fdca26"
             ],
             [
              1,
              "#f0f921"
             ]
            ],
            "type": "heatmap"
           }
          ],
          "heatmapgl": [
           {
            "colorbar": {
             "outlinewidth": 0,
             "ticks": ""
            },
            "colorscale": [
             [
              0,
              "#0d0887"
             ],
             [
              0.1111111111111111,
              "#46039f"
             ],
             [
              0.2222222222222222,
              "#7201a8"
             ],
             [
              0.3333333333333333,
              "#9c179e"
             ],
             [
              0.4444444444444444,
              "#bd3786"
             ],
             [
              0.5555555555555556,
              "#d8576b"
             ],
             [
              0.6666666666666666,
              "#ed7953"
             ],
             [
              0.7777777777777778,
              "#fb9f3a"
             ],
             [
              0.8888888888888888,
              "#fdca26"
             ],
             [
              1,
              "#f0f921"
             ]
            ],
            "type": "heatmapgl"
           }
          ],
          "histogram": [
           {
            "marker": {
             "pattern": {
              "fillmode": "overlay",
              "size": 10,
              "solidity": 0.2
             }
            },
            "type": "histogram"
           }
          ],
          "histogram2d": [
           {
            "colorbar": {
             "outlinewidth": 0,
             "ticks": ""
            },
            "colorscale": [
             [
              0,
              "#0d0887"
             ],
             [
              0.1111111111111111,
              "#46039f"
             ],
             [
              0.2222222222222222,
              "#7201a8"
             ],
             [
              0.3333333333333333,
              "#9c179e"
             ],
             [
              0.4444444444444444,
              "#bd3786"
             ],
             [
              0.5555555555555556,
              "#d8576b"
             ],
             [
              0.6666666666666666,
              "#ed7953"
             ],
             [
              0.7777777777777778,
              "#fb9f3a"
             ],
             [
              0.8888888888888888,
              "#fdca26"
             ],
             [
              1,
              "#f0f921"
             ]
            ],
            "type": "histogram2d"
           }
          ],
          "histogram2dcontour": [
           {
            "colorbar": {
             "outlinewidth": 0,
             "ticks": ""
            },
            "colorscale": [
             [
              0,
              "#0d0887"
             ],
             [
              0.1111111111111111,
              "#46039f"
             ],
             [
              0.2222222222222222,
              "#7201a8"
             ],
             [
              0.3333333333333333,
              "#9c179e"
             ],
             [
              0.4444444444444444,
              "#bd3786"
             ],
             [
              0.5555555555555556,
              "#d8576b"
             ],
             [
              0.6666666666666666,
              "#ed7953"
             ],
             [
              0.7777777777777778,
              "#fb9f3a"
             ],
             [
              0.8888888888888888,
              "#fdca26"
             ],
             [
              1,
              "#f0f921"
             ]
            ],
            "type": "histogram2dcontour"
           }
          ],
          "mesh3d": [
           {
            "colorbar": {
             "outlinewidth": 0,
             "ticks": ""
            },
            "type": "mesh3d"
           }
          ],
          "parcoords": [
           {
            "line": {
             "colorbar": {
              "outlinewidth": 0,
              "ticks": ""
             }
            },
            "type": "parcoords"
           }
          ],
          "pie": [
           {
            "automargin": true,
            "type": "pie"
           }
          ],
          "scatter": [
           {
            "marker": {
             "colorbar": {
              "outlinewidth": 0,
              "ticks": ""
             }
            },
            "type": "scatter"
           }
          ],
          "scatter3d": [
           {
            "line": {
             "colorbar": {
              "outlinewidth": 0,
              "ticks": ""
             }
            },
            "marker": {
             "colorbar": {
              "outlinewidth": 0,
              "ticks": ""
             }
            },
            "type": "scatter3d"
           }
          ],
          "scattercarpet": [
           {
            "marker": {
             "colorbar": {
              "outlinewidth": 0,
              "ticks": ""
             }
            },
            "type": "scattercarpet"
           }
          ],
          "scattergeo": [
           {
            "marker": {
             "colorbar": {
              "outlinewidth": 0,
              "ticks": ""
             }
            },
            "type": "scattergeo"
           }
          ],
          "scattergl": [
           {
            "marker": {
             "colorbar": {
              "outlinewidth": 0,
              "ticks": ""
             }
            },
            "type": "scattergl"
           }
          ],
          "scattermapbox": [
           {
            "marker": {
             "colorbar": {
              "outlinewidth": 0,
              "ticks": ""
             }
            },
            "type": "scattermapbox"
           }
          ],
          "scatterpolar": [
           {
            "marker": {
             "colorbar": {
              "outlinewidth": 0,
              "ticks": ""
             }
            },
            "type": "scatterpolar"
           }
          ],
          "scatterpolargl": [
           {
            "marker": {
             "colorbar": {
              "outlinewidth": 0,
              "ticks": ""
             }
            },
            "type": "scatterpolargl"
           }
          ],
          "scatterternary": [
           {
            "marker": {
             "colorbar": {
              "outlinewidth": 0,
              "ticks": ""
             }
            },
            "type": "scatterternary"
           }
          ],
          "surface": [
           {
            "colorbar": {
             "outlinewidth": 0,
             "ticks": ""
            },
            "colorscale": [
             [
              0,
              "#0d0887"
             ],
             [
              0.1111111111111111,
              "#46039f"
             ],
             [
              0.2222222222222222,
              "#7201a8"
             ],
             [
              0.3333333333333333,
              "#9c179e"
             ],
             [
              0.4444444444444444,
              "#bd3786"
             ],
             [
              0.5555555555555556,
              "#d8576b"
             ],
             [
              0.6666666666666666,
              "#ed7953"
             ],
             [
              0.7777777777777778,
              "#fb9f3a"
             ],
             [
              0.8888888888888888,
              "#fdca26"
             ],
             [
              1,
              "#f0f921"
             ]
            ],
            "type": "surface"
           }
          ],
          "table": [
           {
            "cells": {
             "fill": {
              "color": "#EBF0F8"
             },
             "line": {
              "color": "white"
             }
            },
            "header": {
             "fill": {
              "color": "#C8D4E3"
             },
             "line": {
              "color": "white"
             }
            },
            "type": "table"
           }
          ]
         },
         "layout": {
          "annotationdefaults": {
           "arrowcolor": "#2a3f5f",
           "arrowhead": 0,
           "arrowwidth": 1
          },
          "autotypenumbers": "strict",
          "coloraxis": {
           "colorbar": {
            "outlinewidth": 0,
            "ticks": ""
           }
          },
          "colorscale": {
           "diverging": [
            [
             0,
             "#8e0152"
            ],
            [
             0.1,
             "#c51b7d"
            ],
            [
             0.2,
             "#de77ae"
            ],
            [
             0.3,
             "#f1b6da"
            ],
            [
             0.4,
             "#fde0ef"
            ],
            [
             0.5,
             "#f7f7f7"
            ],
            [
             0.6,
             "#e6f5d0"
            ],
            [
             0.7,
             "#b8e186"
            ],
            [
             0.8,
             "#7fbc41"
            ],
            [
             0.9,
             "#4d9221"
            ],
            [
             1,
             "#276419"
            ]
           ],
           "sequential": [
            [
             0,
             "#0d0887"
            ],
            [
             0.1111111111111111,
             "#46039f"
            ],
            [
             0.2222222222222222,
             "#7201a8"
            ],
            [
             0.3333333333333333,
             "#9c179e"
            ],
            [
             0.4444444444444444,
             "#bd3786"
            ],
            [
             0.5555555555555556,
             "#d8576b"
            ],
            [
             0.6666666666666666,
             "#ed7953"
            ],
            [
             0.7777777777777778,
             "#fb9f3a"
            ],
            [
             0.8888888888888888,
             "#fdca26"
            ],
            [
             1,
             "#f0f921"
            ]
           ],
           "sequentialminus": [
            [
             0,
             "#0d0887"
            ],
            [
             0.1111111111111111,
             "#46039f"
            ],
            [
             0.2222222222222222,
             "#7201a8"
            ],
            [
             0.3333333333333333,
             "#9c179e"
            ],
            [
             0.4444444444444444,
             "#bd3786"
            ],
            [
             0.5555555555555556,
             "#d8576b"
            ],
            [
             0.6666666666666666,
             "#ed7953"
            ],
            [
             0.7777777777777778,
             "#fb9f3a"
            ],
            [
             0.8888888888888888,
             "#fdca26"
            ],
            [
             1,
             "#f0f921"
            ]
           ]
          },
          "colorway": [
           "#636efa",
           "#EF553B",
           "#00cc96",
           "#ab63fa",
           "#FFA15A",
           "#19d3f3",
           "#FF6692",
           "#B6E880",
           "#FF97FF",
           "#FECB52"
          ],
          "font": {
           "color": "#2a3f5f"
          },
          "geo": {
           "bgcolor": "white",
           "lakecolor": "white",
           "landcolor": "#E5ECF6",
           "showlakes": true,
           "showland": true,
           "subunitcolor": "white"
          },
          "hoverlabel": {
           "align": "left"
          },
          "hovermode": "closest",
          "mapbox": {
           "style": "light"
          },
          "paper_bgcolor": "white",
          "plot_bgcolor": "#E5ECF6",
          "polar": {
           "angularaxis": {
            "gridcolor": "white",
            "linecolor": "white",
            "ticks": ""
           },
           "bgcolor": "#E5ECF6",
           "radialaxis": {
            "gridcolor": "white",
            "linecolor": "white",
            "ticks": ""
           }
          },
          "scene": {
           "xaxis": {
            "backgroundcolor": "#E5ECF6",
            "gridcolor": "white",
            "gridwidth": 2,
            "linecolor": "white",
            "showbackground": true,
            "ticks": "",
            "zerolinecolor": "white"
           },
           "yaxis": {
            "backgroundcolor": "#E5ECF6",
            "gridcolor": "white",
            "gridwidth": 2,
            "linecolor": "white",
            "showbackground": true,
            "ticks": "",
            "zerolinecolor": "white"
           },
           "zaxis": {
            "backgroundcolor": "#E5ECF6",
            "gridcolor": "white",
            "gridwidth": 2,
            "linecolor": "white",
            "showbackground": true,
            "ticks": "",
            "zerolinecolor": "white"
           }
          },
          "shapedefaults": {
           "line": {
            "color": "#2a3f5f"
           }
          },
          "ternary": {
           "aaxis": {
            "gridcolor": "white",
            "linecolor": "white",
            "ticks": ""
           },
           "baxis": {
            "gridcolor": "white",
            "linecolor": "white",
            "ticks": ""
           },
           "bgcolor": "#E5ECF6",
           "caxis": {
            "gridcolor": "white",
            "linecolor": "white",
            "ticks": ""
           }
          },
          "title": {
           "x": 0.05
          },
          "xaxis": {
           "automargin": true,
           "gridcolor": "white",
           "linecolor": "white",
           "ticks": "",
           "title": {
            "standoff": 15
           },
           "zerolinecolor": "white",
           "zerolinewidth": 2
          },
          "yaxis": {
           "automargin": true,
           "gridcolor": "white",
           "linecolor": "white",
           "ticks": "",
           "title": {
            "standoff": 15
           },
           "zerolinecolor": "white",
           "zerolinewidth": 2
          }
         }
        },
        "xaxis": {
         "anchor": "y",
         "domain": [
          0,
          1
         ],
         "title": {
          "text": "Date"
         }
        },
        "yaxis": {
         "anchor": "x",
         "domain": [
          0,
          1
         ],
         "title": {
          "text": "value"
         }
        }
       }
      }
     },
     "metadata": {},
     "output_type": "display_data"
    }
   ],
   "source": [
    "test_df['predictions'] = pred_test_y\n",
    "px.line(test_df, y=['Close', 'predictions'])"
   ]
  },
  {
   "cell_type": "markdown",
   "metadata": {},
   "source": [
    "Nice result. From now on we can earn lots of money by predicting the ETH price! (lLl, but result in this file shall NOT be considered to be investing, accounting, consulting or any other professional advice.)"
   ]
  },
  {
   "cell_type": "markdown",
   "metadata": {},
   "source": [
    "Finally, just have a quick check that my hard code works rightly. We train another LR model using package *statsmodels*, and compare the result with my previous model.\n"
   ]
  },
  {
   "cell_type": "code",
   "execution_count": 16,
   "metadata": {},
   "outputs": [
    {
     "data": {
      "text/html": [
       "<table class=\"simpletable\">\n",
       "<caption>OLS Regression Results</caption>\n",
       "<tr>\n",
       "  <th>Dep. Variable:</th>          <td>Close</td>      <th>  R-squared:         </th> <td>   0.952</td> \n",
       "</tr>\n",
       "<tr>\n",
       "  <th>Model:</th>                   <td>OLS</td>       <th>  Adj. R-squared:    </th> <td>   0.950</td> \n",
       "</tr>\n",
       "<tr>\n",
       "  <th>Method:</th>             <td>Least Squares</td>  <th>  F-statistic:       </th> <td>   474.5</td> \n",
       "</tr>\n",
       "<tr>\n",
       "  <th>Date:</th>             <td>Fri, 10 Dec 2021</td> <th>  Prob (F-statistic):</th> <td>3.09e-106</td>\n",
       "</tr>\n",
       "<tr>\n",
       "  <th>Time:</th>                 <td>01:13:49</td>     <th>  Log-Likelihood:    </th> <td> -1115.0</td> \n",
       "</tr>\n",
       "<tr>\n",
       "  <th>No. Observations:</th>      <td>   174</td>      <th>  AIC:               </th> <td>   2246.</td> \n",
       "</tr>\n",
       "<tr>\n",
       "  <th>Df Residuals:</th>          <td>   166</td>      <th>  BIC:               </th> <td>   2271.</td> \n",
       "</tr>\n",
       "<tr>\n",
       "  <th>Df Model:</th>              <td>     7</td>      <th>                     </th>     <td> </td>    \n",
       "</tr>\n",
       "<tr>\n",
       "  <th>Covariance Type:</th>      <td>nonrobust</td>    <th>                     </th>     <td> </td>    \n",
       "</tr>\n",
       "</table>\n",
       "<table class=\"simpletable\">\n",
       "<tr>\n",
       "    <td></td>       <th>coef</th>     <th>std err</th>      <th>t</th>      <th>P>|t|</th>  <th>[0.025</th>    <th>0.975]</th>  \n",
       "</tr>\n",
       "<tr>\n",
       "  <th>const</th> <td>   71.6912</td> <td>   37.718</td> <td>    1.901</td> <td> 0.059</td> <td>   -2.777</td> <td>  146.159</td>\n",
       "</tr>\n",
       "<tr>\n",
       "  <th>lag_1</th> <td>    0.8472</td> <td>    0.077</td> <td>   11.074</td> <td> 0.000</td> <td>    0.696</td> <td>    0.998</td>\n",
       "</tr>\n",
       "<tr>\n",
       "  <th>lag_2</th> <td>    0.2470</td> <td>    0.099</td> <td>    2.499</td> <td> 0.013</td> <td>    0.052</td> <td>    0.442</td>\n",
       "</tr>\n",
       "<tr>\n",
       "  <th>lag_3</th> <td>   -0.0776</td> <td>    0.100</td> <td>   -0.776</td> <td> 0.439</td> <td>   -0.275</td> <td>    0.120</td>\n",
       "</tr>\n",
       "<tr>\n",
       "  <th>lag_4</th> <td>   -0.0052</td> <td>    0.100</td> <td>   -0.052</td> <td> 0.959</td> <td>   -0.203</td> <td>    0.193</td>\n",
       "</tr>\n",
       "<tr>\n",
       "  <th>lag_5</th> <td>   -0.1352</td> <td>    0.100</td> <td>   -1.348</td> <td> 0.179</td> <td>   -0.333</td> <td>    0.063</td>\n",
       "</tr>\n",
       "<tr>\n",
       "  <th>lag_6</th> <td>    0.2642</td> <td>    0.099</td> <td>    2.671</td> <td> 0.008</td> <td>    0.069</td> <td>    0.460</td>\n",
       "</tr>\n",
       "<tr>\n",
       "  <th>lag_7</th> <td>   -0.1721</td> <td>    0.076</td> <td>   -2.258</td> <td> 0.025</td> <td>   -0.322</td> <td>   -0.022</td>\n",
       "</tr>\n",
       "</table>\n",
       "<table class=\"simpletable\">\n",
       "<tr>\n",
       "  <th>Omnibus:</th>       <td>30.510</td> <th>  Durbin-Watson:     </th> <td>   2.039</td>\n",
       "</tr>\n",
       "<tr>\n",
       "  <th>Prob(Omnibus):</th> <td> 0.000</td> <th>  Jarque-Bera (JB):  </th> <td> 192.067</td>\n",
       "</tr>\n",
       "<tr>\n",
       "  <th>Skew:</th>          <td>-0.323</td> <th>  Prob(JB):          </th> <td>1.96e-42</td>\n",
       "</tr>\n",
       "<tr>\n",
       "  <th>Kurtosis:</th>      <td> 8.106</td> <th>  Cond. No.          </th> <td>1.93e+04</td>\n",
       "</tr>\n",
       "</table><br/><br/>Notes:<br/>[1] Standard Errors assume that the covariance matrix of the errors is correctly specified.<br/>[2] The condition number is large, 1.93e+04. This might indicate that there are<br/>strong multicollinearity or other numerical problems."
      ],
      "text/plain": [
       "<class 'statsmodels.iolib.summary.Summary'>\n",
       "\"\"\"\n",
       "                            OLS Regression Results                            \n",
       "==============================================================================\n",
       "Dep. Variable:                  Close   R-squared:                       0.952\n",
       "Model:                            OLS   Adj. R-squared:                  0.950\n",
       "Method:                 Least Squares   F-statistic:                     474.5\n",
       "Date:                Fri, 10 Dec 2021   Prob (F-statistic):          3.09e-106\n",
       "Time:                        01:13:49   Log-Likelihood:                -1115.0\n",
       "No. Observations:                 174   AIC:                             2246.\n",
       "Df Residuals:                     166   BIC:                             2271.\n",
       "Df Model:                           7                                         \n",
       "Covariance Type:            nonrobust                                         \n",
       "==============================================================================\n",
       "                 coef    std err          t      P>|t|      [0.025      0.975]\n",
       "------------------------------------------------------------------------------\n",
       "const         71.6912     37.718      1.901      0.059      -2.777     146.159\n",
       "lag_1          0.8472      0.077     11.074      0.000       0.696       0.998\n",
       "lag_2          0.2470      0.099      2.499      0.013       0.052       0.442\n",
       "lag_3         -0.0776      0.100     -0.776      0.439      -0.275       0.120\n",
       "lag_4         -0.0052      0.100     -0.052      0.959      -0.203       0.193\n",
       "lag_5         -0.1352      0.100     -1.348      0.179      -0.333       0.063\n",
       "lag_6          0.2642      0.099      2.671      0.008       0.069       0.460\n",
       "lag_7         -0.1721      0.076     -2.258      0.025      -0.322      -0.022\n",
       "==============================================================================\n",
       "Omnibus:                       30.510   Durbin-Watson:                   2.039\n",
       "Prob(Omnibus):                  0.000   Jarque-Bera (JB):              192.067\n",
       "Skew:                          -0.323   Prob(JB):                     1.96e-42\n",
       "Kurtosis:                       8.106   Cond. No.                     1.93e+04\n",
       "==============================================================================\n",
       "\n",
       "Notes:\n",
       "[1] Standard Errors assume that the covariance matrix of the errors is correctly specified.\n",
       "[2] The condition number is large, 1.93e+04. This might indicate that there are\n",
       "strong multicollinearity or other numerical problems.\n",
       "\"\"\""
      ]
     },
     "execution_count": 16,
     "metadata": {},
     "output_type": "execute_result"
    }
   ],
   "source": [
    "X_n = sm.add_constant(X)\n",
    "sm.OLS(y, X_n).fit().summary()"
   ]
  },
  {
   "cell_type": "markdown",
   "metadata": {},
   "source": [
    "It looks that all results are the same, so my code works well. "
   ]
  },
  {
   "cell_type": "markdown",
   "metadata": {},
   "source": [
    "---\n",
    "#### Diabetes data <a class=\"anchor\" id=\"Diabetes\"></a>\n",
    "---\n",
    "\n",
    "Second we apply our linear regression model on diabetes data. [Diabetes](https://www.cdc.gov/diabetes/basics/diabetes.html) (by CDC) is a chronic (long-lasting) health condition that affects how your body turns food into energy. Most of the food you eat is broken down into sugar (also called glucose) and released into your bloodstream. When your blood sugar goes up, it signals your pancreas to release insulin. \n",
    "\n",
    "In the [diabetes data](https://scikit-learn.org/stable/datasets/toy_dataset.html#diabetes-dataset) from *sklearn*, ten baseline variables, age, sex, body mass index, average blood pressure, and six blood serum measurements were obtained for each of $n = 442$ diabetes patients, as well as the response of interest, a quantitative measure of disease progression one year after baseline."
   ]
  },
  {
   "cell_type": "markdown",
   "metadata": {},
   "source": [
    "Load the *diabetes* data and have a quick look."
   ]
  },
  {
   "cell_type": "code",
   "execution_count": 17,
   "metadata": {},
   "outputs": [
    {
     "data": {
      "text/html": [
       "<div>\n",
       "<style scoped>\n",
       "    .dataframe tbody tr th:only-of-type {\n",
       "        vertical-align: middle;\n",
       "    }\n",
       "\n",
       "    .dataframe tbody tr th {\n",
       "        vertical-align: top;\n",
       "    }\n",
       "\n",
       "    .dataframe thead th {\n",
       "        text-align: right;\n",
       "    }\n",
       "</style>\n",
       "<table border=\"1\" class=\"dataframe\">\n",
       "  <thead>\n",
       "    <tr style=\"text-align: right;\">\n",
       "      <th></th>\n",
       "      <th>age</th>\n",
       "      <th>sex</th>\n",
       "      <th>bmi</th>\n",
       "      <th>bp</th>\n",
       "      <th>s1</th>\n",
       "      <th>s2</th>\n",
       "      <th>s3</th>\n",
       "      <th>s4</th>\n",
       "      <th>s5</th>\n",
       "      <th>s6</th>\n",
       "    </tr>\n",
       "  </thead>\n",
       "  <tbody>\n",
       "    <tr>\n",
       "      <th>0</th>\n",
       "      <td>0.038076</td>\n",
       "      <td>0.050680</td>\n",
       "      <td>0.061696</td>\n",
       "      <td>0.021872</td>\n",
       "      <td>-0.044223</td>\n",
       "      <td>-0.034821</td>\n",
       "      <td>-0.043401</td>\n",
       "      <td>-0.002592</td>\n",
       "      <td>0.019908</td>\n",
       "      <td>-0.017646</td>\n",
       "    </tr>\n",
       "    <tr>\n",
       "      <th>1</th>\n",
       "      <td>-0.001882</td>\n",
       "      <td>-0.044642</td>\n",
       "      <td>-0.051474</td>\n",
       "      <td>-0.026328</td>\n",
       "      <td>-0.008449</td>\n",
       "      <td>-0.019163</td>\n",
       "      <td>0.074412</td>\n",
       "      <td>-0.039493</td>\n",
       "      <td>-0.068330</td>\n",
       "      <td>-0.092204</td>\n",
       "    </tr>\n",
       "    <tr>\n",
       "      <th>2</th>\n",
       "      <td>0.085299</td>\n",
       "      <td>0.050680</td>\n",
       "      <td>0.044451</td>\n",
       "      <td>-0.005671</td>\n",
       "      <td>-0.045599</td>\n",
       "      <td>-0.034194</td>\n",
       "      <td>-0.032356</td>\n",
       "      <td>-0.002592</td>\n",
       "      <td>0.002864</td>\n",
       "      <td>-0.025930</td>\n",
       "    </tr>\n",
       "    <tr>\n",
       "      <th>3</th>\n",
       "      <td>-0.089063</td>\n",
       "      <td>-0.044642</td>\n",
       "      <td>-0.011595</td>\n",
       "      <td>-0.036656</td>\n",
       "      <td>0.012191</td>\n",
       "      <td>0.024991</td>\n",
       "      <td>-0.036038</td>\n",
       "      <td>0.034309</td>\n",
       "      <td>0.022692</td>\n",
       "      <td>-0.009362</td>\n",
       "    </tr>\n",
       "    <tr>\n",
       "      <th>4</th>\n",
       "      <td>0.005383</td>\n",
       "      <td>-0.044642</td>\n",
       "      <td>-0.036385</td>\n",
       "      <td>0.021872</td>\n",
       "      <td>0.003935</td>\n",
       "      <td>0.015596</td>\n",
       "      <td>0.008142</td>\n",
       "      <td>-0.002592</td>\n",
       "      <td>-0.031991</td>\n",
       "      <td>-0.046641</td>\n",
       "    </tr>\n",
       "  </tbody>\n",
       "</table>\n",
       "</div>"
      ],
      "text/plain": [
       "        age       sex       bmi        bp        s1        s2        s3  \\\n",
       "0  0.038076  0.050680  0.061696  0.021872 -0.044223 -0.034821 -0.043401   \n",
       "1 -0.001882 -0.044642 -0.051474 -0.026328 -0.008449 -0.019163  0.074412   \n",
       "2  0.085299  0.050680  0.044451 -0.005671 -0.045599 -0.034194 -0.032356   \n",
       "3 -0.089063 -0.044642 -0.011595 -0.036656  0.012191  0.024991 -0.036038   \n",
       "4  0.005383 -0.044642 -0.036385  0.021872  0.003935  0.015596  0.008142   \n",
       "\n",
       "         s4        s5        s6  \n",
       "0 -0.002592  0.019908 -0.017646  \n",
       "1 -0.039493 -0.068330 -0.092204  \n",
       "2 -0.002592  0.002864 -0.025930  \n",
       "3  0.034309  0.022692 -0.009362  \n",
       "4 -0.002592 -0.031991 -0.046641  "
      ]
     },
     "execution_count": 17,
     "metadata": {},
     "output_type": "execute_result"
    }
   ],
   "source": [
    "diabetes_X, diabetes_y = load_diabetes(return_X_y=True, as_frame=True)\n",
    "diabetes_X.head()"
   ]
  },
  {
   "cell_type": "markdown",
   "metadata": {},
   "source": [
    "Note that Each of these 10 feature variables have been mean centered and scaled by the standard deviation times n_samples (i.e. the sum of squares of each column totals 1)."
   ]
  },
  {
   "cell_type": "code",
   "execution_count": 18,
   "metadata": {},
   "outputs": [
    {
     "data": {
      "text/plain": [
       "0    151.0\n",
       "1     75.0\n",
       "2    141.0\n",
       "3    206.0\n",
       "4    135.0\n",
       "Name: target, dtype: float64"
      ]
     },
     "execution_count": 18,
     "metadata": {},
     "output_type": "execute_result"
    }
   ],
   "source": [
    "diabetes_y.head()"
   ]
  },
  {
   "cell_type": "markdown",
   "metadata": {},
   "source": [
    "Split data into training and test data sets and train a LR model using our hard code."
   ]
  },
  {
   "cell_type": "code",
   "execution_count": 19,
   "metadata": {},
   "outputs": [],
   "source": [
    "X_train, X_test, y_train, y_test = train_test_split(diabetes_X, diabetes_y, test_size=0.2, random_state=24)"
   ]
  },
  {
   "cell_type": "code",
   "execution_count": 20,
   "metadata": {},
   "outputs": [],
   "source": [
    "model = linear_regression()\n",
    "model.fit(X_train, y_train)"
   ]
  },
  {
   "cell_type": "markdown",
   "metadata": {},
   "source": [
    "Take a look at the summary of our model."
   ]
  },
  {
   "cell_type": "code",
   "execution_count": 21,
   "metadata": {},
   "outputs": [
    {
     "name": "stdout",
     "output_type": "stream",
     "text": [
      "             Estimate   Std.Error    t value      Pr(>|t|)\n",
      "Intercept  151.221034    2.865526  52.772517  0.000000e+00\n",
      "age        -34.703300   66.896023  -0.518765  6.042613e-01\n",
      "sex       -263.164098   67.627700  -3.891365  1.198841e-04\n",
      "bmi        567.075768   72.627537   7.807999  7.216450e-14\n",
      "bp         298.643461   72.274543   4.132070  4.528349e-05\n",
      "s1        -746.260413  446.228104  -1.672374  9.536775e-02\n",
      "s2         490.519076  360.879860   1.359231  1.749716e-01\n",
      "s3          37.683045  226.007501   0.166734  8.676785e-01\n",
      "s4          81.106327  176.150298   0.460438  6.454952e-01\n",
      "s5         729.102857  187.319340   3.892299  1.194433e-04\n",
      "s6          97.144956   73.599031   1.319922  1.877465e-01\n",
      "Residual standard error: 53.692 on 342 degress of freedom.\n",
      "R-squared: 0.534, Adjusted R-square: 0.519\n",
      "F-statistic: 39.215 on 10 and 342 DF,p-value: 0.0\n"
     ]
    }
   ],
   "source": [
    "model.summary()"
   ]
  },
  {
   "cell_type": "markdown",
   "metadata": {},
   "source": [
    "The LR model has a bad prediction result. Both R-squared and Adjusted R-square are about 0.5, representing a bad prediction, so here LR is not a good model to predict the target. \n",
    "\n",
    "And from the above table, we find that given a significance level of $0.05$, *sex*, *bmi*, *bp* and *s5* are significant, showing that these four variables are significantly important in the LR model."
   ]
  },
  {
   "cell_type": "markdown",
   "metadata": {},
   "source": [
    "Take a look at the RMSE of training data."
   ]
  },
  {
   "cell_type": "code",
   "execution_count": 22,
   "metadata": {},
   "outputs": [
    {
     "name": "stdout",
     "output_type": "stream",
     "text": [
      "The RMSE of training data is: 52.849\n"
     ]
    }
   ],
   "source": [
    "RMSE = model.RMSE(X_train, y_train)\n",
    "print(f\"The RMSE of training data is: {round(RMSE, 3)}\")"
   ]
  },
  {
   "cell_type": "markdown",
   "metadata": {},
   "source": [
    "Take a look at the model prediction on the train input, and compare them with the true prices in one figure."
   ]
  },
  {
   "cell_type": "code",
   "execution_count": 23,
   "metadata": {},
   "outputs": [
    {
     "data": {
      "application/vnd.plotly.v1+json": {
       "config": {
        "plotlyServerURL": "https://plot.ly"
       },
       "data": [
        {
         "hovertemplate": "true=%{x}<br>prediction=%{y}<extra></extra>",
         "legendgroup": "",
         "marker": {
          "color": "#636efa",
          "symbol": "circle"
         },
         "mode": "markers",
         "name": "",
         "orientation": "v",
         "showlegend": false,
         "type": "scatter",
         "x": [
          77,
          137,
          248,
          236,
          166,
          48,
          171,
          85,
          44,
          277,
          94,
          293,
          103,
          140,
          341,
          107,
          206,
          144,
          71,
          152,
          170,
          216,
          196,
          57,
          346,
          273,
          113,
          88,
          279,
          220,
          123,
          197,
          39,
          94,
          104,
          94,
          272,
          229,
          225,
          118,
          233,
          270,
          245,
          109,
          235,
          158,
          225,
          163,
          258,
          167,
          142,
          161,
          190,
          232,
          121,
          124,
          182,
          186,
          84,
          91,
          71,
          66,
          104,
          168,
          220,
          178,
          281,
          178,
          55,
          173,
          78,
          185,
          143,
          242,
          288,
          281,
          263,
          151,
          102,
          163,
          152,
          164,
          230,
          252,
          129,
          272,
          55,
          265,
          67,
          109,
          187,
          111,
          63,
          212,
          336,
          317,
          51,
          297,
          96,
          258,
          113,
          185,
          81,
          72,
          262,
          310,
          53,
          115,
          215,
          257,
          270,
          48,
          67,
          220,
          261,
          281,
          128,
          90,
          200,
          99,
          302,
          131,
          164,
          321,
          151,
          68,
          253,
          219,
          55,
          83,
          127,
          109,
          237,
          90,
          252,
          245,
          248,
          96,
          177,
          155,
          141,
          137,
          87,
          160,
          97,
          198,
          142,
          237,
          93,
          134,
          83,
          77,
          43,
          65,
          49,
          280,
          115,
          306,
          111,
          55,
          47,
          274,
          97,
          180,
          200,
          217,
          242,
          81,
          69,
          51,
          63,
          208,
          138,
          220,
          132,
          142,
          102,
          233,
          292,
          160,
          178,
          124,
          104,
          52,
          127,
          122,
          101,
          72,
          246,
          72,
          153,
          148,
          69,
          75,
          182,
          63,
          174,
          72,
          52,
          141,
          89,
          25,
          77,
          64,
          129,
          195,
          262,
          150,
          78,
          210,
          150,
          60,
          92,
          170,
          241,
          53,
          145,
          97,
          173,
          59,
          71,
          136,
          308,
          72,
          221,
          242,
          73,
          310,
          90,
          97,
          233,
          146,
          283,
          91,
          156,
          125,
          60,
          64,
          264,
          275,
          200,
          268,
          111,
          52,
          74,
          252,
          88,
          53,
          183,
          155,
          92,
          107,
          70,
          281,
          265,
          102,
          277,
          118,
          162,
          275,
          65,
          184,
          134,
          121,
          139,
          80,
          116,
          246,
          85,
          168,
          219,
          244,
          61,
          200,
          182,
          142,
          122,
          110,
          90,
          58,
          248,
          178,
          263,
          243,
          42,
          332,
          178,
          150,
          65,
          214,
          144,
          86,
          126,
          198,
          104,
          174,
          90,
          200,
          47,
          83,
          116,
          144,
          31,
          101,
          275,
          110,
          50,
          87,
          181,
          303,
          132,
          85,
          296,
          140,
          230,
          198,
          103,
          77,
          109,
          131,
          128,
          61,
          64,
          68,
          179,
          310,
          69,
          131,
          150,
          131,
          181,
          63,
          217,
          66,
          135,
          154,
          232,
          197,
          40,
          258,
          214,
          108,
          135,
          202,
          84,
          54,
          268,
          259,
          93,
          113,
          91,
          201,
          84
         ],
         "xaxis": "x",
         "y": [
          77.51952731560408,
          194.339927647338,
          201.42186395864755,
          227.533741099138,
          212.29046362248255,
          72.87515616058376,
          169.1253759683066,
          59.7714518401572,
          125.97023725006215,
          253.53384627734985,
          101.87523787637711,
          202.67477021457066,
          122.19653463698926,
          179.7239281829664,
          258.00955121638077,
          113.18371065883039,
          168.7584676836583,
          178.96128944747286,
          110.86006347174816,
          214.10279392387125,
          131.09778885715522,
          169.1179933976874,
          159.60028791214583,
          50.536351548314244,
          276.39623281992993,
          251.98259103535162,
          93.24538297107051,
          88.43002176728328,
          222.4305785624324,
          213.40043011096998,
          195.21522832012977,
          149.51352918806225,
          68.44585271854085,
          93.86453037386966,
          70.67858015669572,
          157.71242404665642,
          242.0426495880053,
          182.53486327994534,
          165.18894144893332,
          99.09590162885542,
          195.0320037975955,
          238.85286343996924,
          249.62113727616688,
          103.68478221844751,
          168.93456741963604,
          71.24899028984292,
          220.83599143710723,
          182.87663944548936,
          292.62945473317814,
          188.21587233662305,
          107.98969046688639,
          184.1309431064079,
          172.72106185226355,
          227.52699728686815,
          170.5939017579416,
          171.70524944749232,
          144.20908077952234,
          201.7784644357859,
          91.43207291669756,
          143.99523324065296,
          116.7726509893787,
          116.24569729647251,
          103.67845033064239,
          140.70411824539394,
          173.4436834974431,
          192.12584111133708,
          280.7202812360975,
          190.572739192433,
          158.37294045185357,
          198.81876777973272,
          194.72080110565165,
          160.9171755250594,
          172.83995901173077,
          268.90997211396177,
          211.9712577199968,
          252.8477626744243,
          264.7622145783995,
          166.50643627757185,
          109.18375769486352,
          209.37740004873325,
          113.00398630362933,
          190.9186712459985,
          140.26446361246204,
          152.43270361482485,
          165.03709161570225,
          195.4853945735388,
          80.21597427962124,
          203.84236671927658,
          130.95506111717893,
          162.26237180670586,
          143.0665695021317,
          169.72423069852022,
          54.950624489518795,
          186.79730124430245,
          256.466587847332,
          232.6500470586524,
          73.73018009693122,
          206.73672760174975,
          83.50810810232534,
          235.07890156891307,
          126.32863782973736,
          153.86683543182477,
          142.88830842730144,
          64.43332465183519,
          181.13422334160845,
          259.30227852957563,
          119.19692790756052,
          91.96853963532755,
          246.19745251630604,
          231.45775885678324,
          292.86000917936525,
          190.71815881205734,
          185.88283777458568,
          194.55949058918355,
          236.2073552819008,
          197.79716927365536,
          100.74129882006548,
          106.28978054029628,
          149.18012059980228,
          227.90917201854393,
          157.17641669839216,
          159.76282658964067,
          178.7472654959823,
          236.7821333576503,
          163.9885423946345,
          121.87960925316206,
          116.67347171378663,
          147.85963605591996,
          41.1255302341976,
          120.28314708989868,
          161.7380546550771,
          208.57697994220135,
          227.39197525749893,
          50.50256875046075,
          160.89416121331277,
          160.2815405315039,
          216.11894357257114,
          61.285919530176024,
          119.44792225674897,
          225.1708999546343,
          173.83289778655976,
          97.92732638211034,
          87.21504420769371,
          110.84080869236446,
          105.86988273142771,
          157.20419884091137,
          141.74935125554413,
          156.188913793029,
          142.37730969837756,
          150.17412769662687,
          133.48105633501493,
          79.20914133576619,
          61.09753549100682,
          75.85190146913715,
          86.53726731578448,
          234.27085606684898,
          140.4463403685461,
          249.97649143023608,
          120.66431124458529,
          75.57934556236759,
          94.76086059691843,
          248.93388289376182,
          149.48323910091855,
          219.54420789882192,
          147.3897072791043,
          232.4617964669265,
          263.14125868317427,
          99.81620566083335,
          92.0367506151625,
          79.08120665157574,
          98.56869634488795,
          225.01608500170212,
          166.67846322113863,
          264.33452348407593,
          248.34188990188957,
          185.73713976680537,
          102.69316684984203,
          203.29965339109958,
          192.60718016836006,
          119.09841193872046,
          121.76152396339886,
          127.73800836289115,
          157.8279504440006,
          210.46888943853497,
          119.37108883540753,
          192.5273271185196,
          92.12623300203437,
          76.97500357204643,
          158.25454302794677,
          108.74067761280834,
          116.44770653902965,
          129.18153142920292,
          102.96796931313567,
          63.711379335266926,
          147.57260491627673,
          116.78391162458615,
          176.8743655140745,
          58.998292225879766,
          60.75800554611641,
          169.4977982498032,
          111.94988697862314,
          146.58501796029373,
          52.85331993465359,
          87.69237368634188,
          104.50095671681439,
          235.62656198830624,
          159.90273605971456,
          144.68206430968226,
          118.86380494379239,
          154.83697883107317,
          204.82065593289988,
          76.95032206143716,
          121.94320923690486,
          93.35178452534515,
          183.8382328899331,
          99.862427736292,
          124.4444338196089,
          122.22025347754915,
          223.96683958930723,
          136.32302945787794,
          85.18530723937317,
          156.51576294551043,
          263.9662431557554,
          47.35076490050852,
          201.09670051554835,
          172.44206583544835,
          152.69981488299402,
          217.04338131777055,
          138.47778554302047,
          112.59036359416048,
          258.07753126007793,
          140.51310156508552,
          189.9345881157812,
          168.30387002070998,
          153.83259589234532,
          97.49191780996813,
          119.09062959616199,
          115.21312149924361,
          242.3814199555239,
          232.22382529276197,
          187.71857876414992,
          225.09963927963324,
          106.82023977107069,
          175.0808786041732,
          89.45211694186236,
          238.362646757221,
          144.45443330323556,
          83.16592424156912,
          114.69446667204565,
          158.60150548592412,
          81.91838172340296,
          176.48610825351403,
          55.06333545902518,
          231.48883914701545,
          206.868053898575,
          83.1701836743296,
          173.57527798868605,
          154.73808925460915,
          126.60745483619428,
          223.36580832595538,
          94.86508099258177,
          167.43223487978227,
          72.59947141230762,
          214.2963964512887,
          176.47907464253933,
          75.535837624081,
          139.4173183250143,
          232.1475446209697,
          185.67080408134183,
          144.88654324884934,
          135.09634051802703,
          175.40000657060168,
          143.66589629234105,
          113.9623362709161,
          119.76592837926484,
          148.75677935028668,
          169.3447626354927,
          161.8085892270362,
          172.3709573349966,
          161.83623753236319,
          205.1524359368342,
          125.8497927762287,
          183.33099761240715,
          251.75994557224993,
          126.85540032858704,
          221.17011530368282,
          162.9160655669497,
          202.1244376464637,
          122.99650211339333,
          142.25815974275852,
          158.96377162663111,
          155.47219038426334,
          172.27157609217053,
          182.0449611186723,
          36.33484131266094,
          172.18196564099398,
          143.16300498546235,
          157.4723378694466,
          44.68575122757641,
          65.69966484888678,
          44.292578212705784,
          125.586801019057,
          100.34632171917984,
          98.02358118071649,
          257.55571440422665,
          156.49087728778144,
          139.3925549660708,
          106.90395859944225,
          83.75178965972671,
          263.01382363428706,
          119.14140335477698,
          151.85184691807274,
          221.0027615159905,
          128.77469701490557,
          276.2304179303567,
          208.53538931863005,
          146.13302287545534,
          166.09364603344542,
          153.9526993110043,
          153.33628029576573,
          71.93555702527479,
          116.97921864564086,
          120.23724164623678,
          191.4601894685141,
          113.70230404475826,
          249.58260339486898,
          108.98486876868245,
          129.03803928985164,
          126.81403228002381,
          198.6735522425827,
          169.81500130922265,
          52.171297035743535,
          174.46217590841957,
          174.9701007968328,
          101.8012703605607,
          157.80581738945406,
          187.17603693898522,
          185.77158331069506,
          135.0588432546889,
          169.6652129003755,
          124.07011278775579,
          99.54115414062704,
          125.6358282330709,
          216.12634701389877,
          171.93986805409807,
          88.816466418002,
          213.19066000645748,
          245.59969084840995,
          88.61730646147879,
          159.40484369275492,
          87.76629471908285,
          94.89470249106898,
          100.85907821251251
         ],
         "yaxis": "y"
        }
       ],
       "layout": {
        "legend": {
         "tracegroupgap": 0
        },
        "margin": {
         "t": 60
        },
        "shapes": [
         {
          "type": "line",
          "x0": 0,
          "x1": 350,
          "y0": 0,
          "y1": 350
         }
        ],
        "template": {
         "data": {
          "bar": [
           {
            "error_x": {
             "color": "#2a3f5f"
            },
            "error_y": {
             "color": "#2a3f5f"
            },
            "marker": {
             "line": {
              "color": "#E5ECF6",
              "width": 0.5
             },
             "pattern": {
              "fillmode": "overlay",
              "size": 10,
              "solidity": 0.2
             }
            },
            "type": "bar"
           }
          ],
          "barpolar": [
           {
            "marker": {
             "line": {
              "color": "#E5ECF6",
              "width": 0.5
             },
             "pattern": {
              "fillmode": "overlay",
              "size": 10,
              "solidity": 0.2
             }
            },
            "type": "barpolar"
           }
          ],
          "carpet": [
           {
            "aaxis": {
             "endlinecolor": "#2a3f5f",
             "gridcolor": "white",
             "linecolor": "white",
             "minorgridcolor": "white",
             "startlinecolor": "#2a3f5f"
            },
            "baxis": {
             "endlinecolor": "#2a3f5f",
             "gridcolor": "white",
             "linecolor": "white",
             "minorgridcolor": "white",
             "startlinecolor": "#2a3f5f"
            },
            "type": "carpet"
           }
          ],
          "choropleth": [
           {
            "colorbar": {
             "outlinewidth": 0,
             "ticks": ""
            },
            "type": "choropleth"
           }
          ],
          "contour": [
           {
            "colorbar": {
             "outlinewidth": 0,
             "ticks": ""
            },
            "colorscale": [
             [
              0,
              "#0d0887"
             ],
             [
              0.1111111111111111,
              "#46039f"
             ],
             [
              0.2222222222222222,
              "#7201a8"
             ],
             [
              0.3333333333333333,
              "#9c179e"
             ],
             [
              0.4444444444444444,
              "#bd3786"
             ],
             [
              0.5555555555555556,
              "#d8576b"
             ],
             [
              0.6666666666666666,
              "#ed7953"
             ],
             [
              0.7777777777777778,
              "#fb9f3a"
             ],
             [
              0.8888888888888888,
              "#fdca26"
             ],
             [
              1,
              "#f0f921"
             ]
            ],
            "type": "contour"
           }
          ],
          "contourcarpet": [
           {
            "colorbar": {
             "outlinewidth": 0,
             "ticks": ""
            },
            "type": "contourcarpet"
           }
          ],
          "heatmap": [
           {
            "colorbar": {
             "outlinewidth": 0,
             "ticks": ""
            },
            "colorscale": [
             [
              0,
              "#0d0887"
             ],
             [
              0.1111111111111111,
              "#46039f"
             ],
             [
              0.2222222222222222,
              "#7201a8"
             ],
             [
              0.3333333333333333,
              "#9c179e"
             ],
             [
              0.4444444444444444,
              "#bd3786"
             ],
             [
              0.5555555555555556,
              "#d8576b"
             ],
             [
              0.6666666666666666,
              "#ed7953"
             ],
             [
              0.7777777777777778,
              "#fb9f3a"
             ],
             [
              0.8888888888888888,
              "#fdca26"
             ],
             [
              1,
              "#f0f921"
             ]
            ],
            "type": "heatmap"
           }
          ],
          "heatmapgl": [
           {
            "colorbar": {
             "outlinewidth": 0,
             "ticks": ""
            },
            "colorscale": [
             [
              0,
              "#0d0887"
             ],
             [
              0.1111111111111111,
              "#46039f"
             ],
             [
              0.2222222222222222,
              "#7201a8"
             ],
             [
              0.3333333333333333,
              "#9c179e"
             ],
             [
              0.4444444444444444,
              "#bd3786"
             ],
             [
              0.5555555555555556,
              "#d8576b"
             ],
             [
              0.6666666666666666,
              "#ed7953"
             ],
             [
              0.7777777777777778,
              "#fb9f3a"
             ],
             [
              0.8888888888888888,
              "#fdca26"
             ],
             [
              1,
              "#f0f921"
             ]
            ],
            "type": "heatmapgl"
           }
          ],
          "histogram": [
           {
            "marker": {
             "pattern": {
              "fillmode": "overlay",
              "size": 10,
              "solidity": 0.2
             }
            },
            "type": "histogram"
           }
          ],
          "histogram2d": [
           {
            "colorbar": {
             "outlinewidth": 0,
             "ticks": ""
            },
            "colorscale": [
             [
              0,
              "#0d0887"
             ],
             [
              0.1111111111111111,
              "#46039f"
             ],
             [
              0.2222222222222222,
              "#7201a8"
             ],
             [
              0.3333333333333333,
              "#9c179e"
             ],
             [
              0.4444444444444444,
              "#bd3786"
             ],
             [
              0.5555555555555556,
              "#d8576b"
             ],
             [
              0.6666666666666666,
              "#ed7953"
             ],
             [
              0.7777777777777778,
              "#fb9f3a"
             ],
             [
              0.8888888888888888,
              "#fdca26"
             ],
             [
              1,
              "#f0f921"
             ]
            ],
            "type": "histogram2d"
           }
          ],
          "histogram2dcontour": [
           {
            "colorbar": {
             "outlinewidth": 0,
             "ticks": ""
            },
            "colorscale": [
             [
              0,
              "#0d0887"
             ],
             [
              0.1111111111111111,
              "#46039f"
             ],
             [
              0.2222222222222222,
              "#7201a8"
             ],
             [
              0.3333333333333333,
              "#9c179e"
             ],
             [
              0.4444444444444444,
              "#bd3786"
             ],
             [
              0.5555555555555556,
              "#d8576b"
             ],
             [
              0.6666666666666666,
              "#ed7953"
             ],
             [
              0.7777777777777778,
              "#fb9f3a"
             ],
             [
              0.8888888888888888,
              "#fdca26"
             ],
             [
              1,
              "#f0f921"
             ]
            ],
            "type": "histogram2dcontour"
           }
          ],
          "mesh3d": [
           {
            "colorbar": {
             "outlinewidth": 0,
             "ticks": ""
            },
            "type": "mesh3d"
           }
          ],
          "parcoords": [
           {
            "line": {
             "colorbar": {
              "outlinewidth": 0,
              "ticks": ""
             }
            },
            "type": "parcoords"
           }
          ],
          "pie": [
           {
            "automargin": true,
            "type": "pie"
           }
          ],
          "scatter": [
           {
            "marker": {
             "colorbar": {
              "outlinewidth": 0,
              "ticks": ""
             }
            },
            "type": "scatter"
           }
          ],
          "scatter3d": [
           {
            "line": {
             "colorbar": {
              "outlinewidth": 0,
              "ticks": ""
             }
            },
            "marker": {
             "colorbar": {
              "outlinewidth": 0,
              "ticks": ""
             }
            },
            "type": "scatter3d"
           }
          ],
          "scattercarpet": [
           {
            "marker": {
             "colorbar": {
              "outlinewidth": 0,
              "ticks": ""
             }
            },
            "type": "scattercarpet"
           }
          ],
          "scattergeo": [
           {
            "marker": {
             "colorbar": {
              "outlinewidth": 0,
              "ticks": ""
             }
            },
            "type": "scattergeo"
           }
          ],
          "scattergl": [
           {
            "marker": {
             "colorbar": {
              "outlinewidth": 0,
              "ticks": ""
             }
            },
            "type": "scattergl"
           }
          ],
          "scattermapbox": [
           {
            "marker": {
             "colorbar": {
              "outlinewidth": 0,
              "ticks": ""
             }
            },
            "type": "scattermapbox"
           }
          ],
          "scatterpolar": [
           {
            "marker": {
             "colorbar": {
              "outlinewidth": 0,
              "ticks": ""
             }
            },
            "type": "scatterpolar"
           }
          ],
          "scatterpolargl": [
           {
            "marker": {
             "colorbar": {
              "outlinewidth": 0,
              "ticks": ""
             }
            },
            "type": "scatterpolargl"
           }
          ],
          "scatterternary": [
           {
            "marker": {
             "colorbar": {
              "outlinewidth": 0,
              "ticks": ""
             }
            },
            "type": "scatterternary"
           }
          ],
          "surface": [
           {
            "colorbar": {
             "outlinewidth": 0,
             "ticks": ""
            },
            "colorscale": [
             [
              0,
              "#0d0887"
             ],
             [
              0.1111111111111111,
              "#46039f"
             ],
             [
              0.2222222222222222,
              "#7201a8"
             ],
             [
              0.3333333333333333,
              "#9c179e"
             ],
             [
              0.4444444444444444,
              "#bd3786"
             ],
             [
              0.5555555555555556,
              "#d8576b"
             ],
             [
              0.6666666666666666,
              "#ed7953"
             ],
             [
              0.7777777777777778,
              "#fb9f3a"
             ],
             [
              0.8888888888888888,
              "#fdca26"
             ],
             [
              1,
              "#f0f921"
             ]
            ],
            "type": "surface"
           }
          ],
          "table": [
           {
            "cells": {
             "fill": {
              "color": "#EBF0F8"
             },
             "line": {
              "color": "white"
             }
            },
            "header": {
             "fill": {
              "color": "#C8D4E3"
             },
             "line": {
              "color": "white"
             }
            },
            "type": "table"
           }
          ]
         },
         "layout": {
          "annotationdefaults": {
           "arrowcolor": "#2a3f5f",
           "arrowhead": 0,
           "arrowwidth": 1
          },
          "autotypenumbers": "strict",
          "coloraxis": {
           "colorbar": {
            "outlinewidth": 0,
            "ticks": ""
           }
          },
          "colorscale": {
           "diverging": [
            [
             0,
             "#8e0152"
            ],
            [
             0.1,
             "#c51b7d"
            ],
            [
             0.2,
             "#de77ae"
            ],
            [
             0.3,
             "#f1b6da"
            ],
            [
             0.4,
             "#fde0ef"
            ],
            [
             0.5,
             "#f7f7f7"
            ],
            [
             0.6,
             "#e6f5d0"
            ],
            [
             0.7,
             "#b8e186"
            ],
            [
             0.8,
             "#7fbc41"
            ],
            [
             0.9,
             "#4d9221"
            ],
            [
             1,
             "#276419"
            ]
           ],
           "sequential": [
            [
             0,
             "#0d0887"
            ],
            [
             0.1111111111111111,
             "#46039f"
            ],
            [
             0.2222222222222222,
             "#7201a8"
            ],
            [
             0.3333333333333333,
             "#9c179e"
            ],
            [
             0.4444444444444444,
             "#bd3786"
            ],
            [
             0.5555555555555556,
             "#d8576b"
            ],
            [
             0.6666666666666666,
             "#ed7953"
            ],
            [
             0.7777777777777778,
             "#fb9f3a"
            ],
            [
             0.8888888888888888,
             "#fdca26"
            ],
            [
             1,
             "#f0f921"
            ]
           ],
           "sequentialminus": [
            [
             0,
             "#0d0887"
            ],
            [
             0.1111111111111111,
             "#46039f"
            ],
            [
             0.2222222222222222,
             "#7201a8"
            ],
            [
             0.3333333333333333,
             "#9c179e"
            ],
            [
             0.4444444444444444,
             "#bd3786"
            ],
            [
             0.5555555555555556,
             "#d8576b"
            ],
            [
             0.6666666666666666,
             "#ed7953"
            ],
            [
             0.7777777777777778,
             "#fb9f3a"
            ],
            [
             0.8888888888888888,
             "#fdca26"
            ],
            [
             1,
             "#f0f921"
            ]
           ]
          },
          "colorway": [
           "#636efa",
           "#EF553B",
           "#00cc96",
           "#ab63fa",
           "#FFA15A",
           "#19d3f3",
           "#FF6692",
           "#B6E880",
           "#FF97FF",
           "#FECB52"
          ],
          "font": {
           "color": "#2a3f5f"
          },
          "geo": {
           "bgcolor": "white",
           "lakecolor": "white",
           "landcolor": "#E5ECF6",
           "showlakes": true,
           "showland": true,
           "subunitcolor": "white"
          },
          "hoverlabel": {
           "align": "left"
          },
          "hovermode": "closest",
          "mapbox": {
           "style": "light"
          },
          "paper_bgcolor": "white",
          "plot_bgcolor": "#E5ECF6",
          "polar": {
           "angularaxis": {
            "gridcolor": "white",
            "linecolor": "white",
            "ticks": ""
           },
           "bgcolor": "#E5ECF6",
           "radialaxis": {
            "gridcolor": "white",
            "linecolor": "white",
            "ticks": ""
           }
          },
          "scene": {
           "xaxis": {
            "backgroundcolor": "#E5ECF6",
            "gridcolor": "white",
            "gridwidth": 2,
            "linecolor": "white",
            "showbackground": true,
            "ticks": "",
            "zerolinecolor": "white"
           },
           "yaxis": {
            "backgroundcolor": "#E5ECF6",
            "gridcolor": "white",
            "gridwidth": 2,
            "linecolor": "white",
            "showbackground": true,
            "ticks": "",
            "zerolinecolor": "white"
           },
           "zaxis": {
            "backgroundcolor": "#E5ECF6",
            "gridcolor": "white",
            "gridwidth": 2,
            "linecolor": "white",
            "showbackground": true,
            "ticks": "",
            "zerolinecolor": "white"
           }
          },
          "shapedefaults": {
           "line": {
            "color": "#2a3f5f"
           }
          },
          "ternary": {
           "aaxis": {
            "gridcolor": "white",
            "linecolor": "white",
            "ticks": ""
           },
           "baxis": {
            "gridcolor": "white",
            "linecolor": "white",
            "ticks": ""
           },
           "bgcolor": "#E5ECF6",
           "caxis": {
            "gridcolor": "white",
            "linecolor": "white",
            "ticks": ""
           }
          },
          "title": {
           "x": 0.05
          },
          "xaxis": {
           "automargin": true,
           "gridcolor": "white",
           "linecolor": "white",
           "ticks": "",
           "title": {
            "standoff": 15
           },
           "zerolinecolor": "white",
           "zerolinewidth": 2
          },
          "yaxis": {
           "automargin": true,
           "gridcolor": "white",
           "linecolor": "white",
           "ticks": "",
           "title": {
            "standoff": 15
           },
           "zerolinecolor": "white",
           "zerolinewidth": 2
          }
         }
        },
        "xaxis": {
         "anchor": "y",
         "domain": [
          0,
          1
         ],
         "title": {
          "text": "true"
         }
        },
        "yaxis": {
         "anchor": "x",
         "domain": [
          0,
          1
         ],
         "title": {
          "text": "prediction"
         }
        }
       }
      }
     },
     "metadata": {},
     "output_type": "display_data"
    }
   ],
   "source": [
    "predictions = model.predict(X_train)\n",
    "\n",
    "y_train_plot = pd.DataFrame(y_train)\n",
    "y_train_plot.rename(columns={\"target\": \"true\"}, inplace=True)\n",
    "y_train_plot['prediction'] = predictions\n",
    "\n",
    "fig = px.scatter(y_train_plot, x=\"true\", y=\"prediction\")\n",
    "fig.add_shape(type=\"line\", x0=0, y0=0, x1=350, y1=350)\n",
    "fig.show()"
   ]
  },
  {
   "cell_type": "markdown",
   "metadata": {},
   "source": [
    "The *prediction-true* value figure also shows that predictions are not close to true values, as the points are far from the $y=x$ line."
   ]
  },
  {
   "cell_type": "markdown",
   "metadata": {},
   "source": [
    "Let's drop other variables and only use the significant variables, which are *sex*, *bmi*, *bp* and *s5*, and rebuild our LR model."
   ]
  },
  {
   "cell_type": "code",
   "execution_count": 24,
   "metadata": {},
   "outputs": [
    {
     "name": "stdout",
     "output_type": "stream",
     "text": [
      "             Estimate  Std.Error    t value      Pr(>|t|)\n",
      "Intercept  151.512497   2.930353  51.704516  0.000000e+00\n",
      "sex       -168.857002  63.093387  -2.676303  7.797147e-03\n",
      "bmi        657.547266  69.051801   9.522522  0.000000e+00\n",
      "bp         264.359031  69.920740   3.780839  1.839767e-04\n",
      "s5         518.681488  70.494493   7.357759  1.363576e-12\n",
      "Residual standard error: 54.94 on 348 degress of freedom.\n",
      "R-squared: 0.504, Adjusted R-square: 0.497\n",
      "F-statistic: 88.298 on 4 and 348 DF,p-value: 0.0\n"
     ]
    }
   ],
   "source": [
    "X_train, X_test, y_train, y_test = train_test_split(diabetes_X[['sex', 'bmi', 'bp', 's5']], diabetes_y, test_size=0.2, random_state=24)\n",
    "\n",
    "model = linear_regression()\n",
    "model.fit(X_train, y_train)\n",
    "model.summary()"
   ]
  },
  {
   "cell_type": "markdown",
   "metadata": {},
   "source": [
    "Here the result is still poor, thus linear regression may not be a good model to estimate the quantitative measure of disease using given variables."
   ]
  }
 ],
 "metadata": {
  "interpreter": {
   "hash": "2e918aaa81d99c652401bdd1a0c185581595fb477ac919641bd65261b5d7782a"
  },
  "kernelspec": {
   "display_name": "Python 3.8.8 64-bit ('base': conda)",
   "language": "python",
   "name": "python3"
  },
  "language_info": {
   "codemirror_mode": {
    "name": "ipython",
    "version": 3
   },
   "file_extension": ".py",
   "mimetype": "text/x-python",
   "name": "python",
   "nbconvert_exporter": "python",
   "pygments_lexer": "ipython3",
   "version": "3.8.8"
  },
  "orig_nbformat": 4
 },
 "nbformat": 4,
 "nbformat_minor": 2
}
