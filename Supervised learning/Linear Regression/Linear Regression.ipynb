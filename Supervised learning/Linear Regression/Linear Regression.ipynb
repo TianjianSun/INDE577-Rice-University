{
 "cells": [
  {
   "cell_type": "markdown",
   "metadata": {},
   "source": [
    "---\n",
    "\n",
    "## Linear Regreesion Algorithm and Applications\n",
    "#### Language: Python 3.8.8\n",
    "#### Author: Tianjian Sun\n",
    "\n",
    "---"
   ]
  },
  {
   "cell_type": "markdown",
   "metadata": {},
   "source": [
    "### Table of Contents\n",
    "\n",
    "* [Introduction](#Introduction)\n",
    "* [Algorithm](#Algorithm)\n",
    "  * [Model](#Algorithm)\n",
    "  * [Prediction Evaluation](#Evaluation)\n",
    "  * [*F* test](#F)\n",
    "  * [*t* test](#t)\n",
    "* [Illustration](#Illustration)\n",
    "* [Advantages and Disadvantages](#Advantages_and_Disadvantages)\n",
    "    * [Advantages](#Advantages)\n",
    "    * [Disadvantages](#Disadvantages)\n",
    "* [Hard code of linear regression](#Code)\n",
    "* [Applications on data sets](#Applications)\n",
    "    * [Ethereum (ETH) price data](#ETH)\n",
    "    * [Diabetes data](#Diabetes)"
   ]
  },
  {
   "cell_type": "markdown",
   "metadata": {},
   "source": [
    "---\n",
    "### Introduction <a class=\"anchor\" id=\"Introduction\"></a>\n",
    "In this section we focus on a straight-forward and classic statistical model, linear regreesion (LR). The main idea of linear regression is to use a linear predictor function whose unknown model parameters are estimated from the data. \n",
    "\n",
    "(Least squares) linear regreesion is a classic and old supervised model, back to 1800's, finding a good rough linear fit to a set of points was performed by [Legendre](https://en.wikipedia.org/wiki/Adrien-Marie_Legendre) (1805) and [Gauss](https://en.wikipedia.org/wiki/Carl_Friedrich_Gauss) (1809) for the prediction of planetary movement. \n",
    "\n",
    "Linear regreesion is widely used in most regression tasks, variance analysis, and dependence analysis, and it plays an important role in the subfield of machine learning. The linear regression algorithm is one of the fundamental supervised machine-learning algorithms due to its relative simplicity and well-known properties.\n"
   ]
  },
  {
   "cell_type": "markdown",
   "metadata": {},
   "source": [
    "---\n",
    "\n",
    "### Algorithm <a class=\"anchor\" id=\"Algorithm\"></a>\n",
    "\n",
    "Assume we have an input data set (column vector) $\\textbf{X} = (\\textbf{x}_1^T, \\textbf{x}_2^T, \\cdots, \\textbf{x}_n^T)$, where $\\textbf{x}_i^T = (x_{i1}, x_{i2}, \\cdots, x_{ip}) \\in \\textbf{R}^p$, and want to predict a real-valued output data set (column vector) $\\textbf{y} = (y_1, y_2, \\cdots, y_n)$ . The linear regression model has the form\n",
    "\n",
    "$$\n",
    "y_i = \\beta_0 + \\sum_{j=1}^{p} {\\beta_j x_{ij}} + \\epsilon_i \n",
    "$$\n",
    "\n",
    "Here the $\\beta_j’s$ are unknown parameters or coefficients of corresponding input.\n",
    "\n",
    "To simplify the equation, usually a column of $1$'s are added to the input data matrix, where $\\textbf{x}_i^T = (1, x_{i1}, x_{i2}, \\cdots, x_{ip})$, and the linear equation becomes\n",
    "\n",
    "$$\n",
    "y_i = \\textbf{x}_i^T \\boldsymbol{\\beta} + \\epsilon_i\n",
    "$$\n",
    "\n",
    "Often these n equations are stacked together and written in a matrix form\n",
    "\n",
    "$$\n",
    "\\textbf{y} = \\textbf{X} \\boldsymbol{\\beta} + \\epsilon\n",
    "$$\n",
    "\n",
    "The linear model either assumes that the regression function $E(Y|X)$ is linear, or that the linear model is a reasonable approximation. \n",
    "\n",
    "The most popular estimation method is least squares, in which we pick the coefficients $\\boldsymbol{\\beta} = (\\beta_0, \\beta_1, . . ., \\beta_p)^T$, which minimizes the residual sum of squares\n",
    "\n",
    "$$\n",
    "RSS(\\boldsymbol{\\beta}) = \\sum_{i=1}^n {\\epsilon_i^2} =\\sum_{i=1}^n (y_i - \\beta_0 - \\sum_{j=1}^{p} {\\beta_j x_{ij}})^2\n",
    "$$\n",
    "\n",
    "This criterion makes sense if the observations $(\\textbf{x}_i, y_i)$ are independent and identically distributed (iid), which means that they are and randomly drawn from the population.\n"
   ]
  },
  {
   "cell_type": "markdown",
   "metadata": {},
   "source": [
    "To minimize $RSS(\\boldsymbol{\\beta})$, first we make the following assumptions:\n",
    "* $E[\\epsilon_i]=0$, i.e., $E[y_i]=\\textbf{x}_i^T \\boldsymbol{\\beta}$\n",
    "* $Var[\\epsilon_i] = \\sigma^2 < \\infty$ (homoscedasticity)\n",
    "* $Cov[\\epsilon_i, \\epsilon_j]=0$ for $\\forall i \\neq j$, i.e., $\\epsilon_i, \\epsilon_j$ are uncorrelated,\n",
    "and $\\epsilon_i$ do not depend on $x_i$ .\n",
    "\n",
    "\n",
    "\n",
    "Rewrite it to matrix form\n",
    "$$\n",
    "RSS(\\boldsymbol{\\beta}) = (\\textbf{y}-\\textbf{X}\\boldsymbol{\\beta})^T (\\textbf{y}-\\textbf{X}\\boldsymbol{\\beta})\n",
    "$$\n",
    "\n",
    "Notice that it's a quadratic function with $p+1$ paraeters, take the partial derivative w.r.t $\\boldsymbol{\\beta}$, we have\n",
    "\n",
    "$$\n",
    "\\frac{\\partial RSS} {\\partial \\boldsymbol{\\beta}} = -2 \\textbf{X}^T (\\textbf{y}-\\textbf{X}\\boldsymbol{\\beta})\n",
    "$$\n",
    "\n",
    "$$\n",
    "\\frac{\\partial^2 RSS} {\\partial \\boldsymbol{\\beta} \\partial \\boldsymbol{\\beta}^T} = -2 \\textbf{X}^T \\textbf{X}\n",
    "$$\n",
    "\n",
    "Assume that $\\textbf{X}$ is fully ranked, i.e., $n>p$, then $\\textbf{X}^T \\textbf{X}$ is positive definite. Set the first partial derivative to $0$, we have\n",
    "$$\n",
    "\\textbf{X}^T (\\textbf{y}-\\textbf{X}\\boldsymbol{\\beta}) = \\textbf{0}\n",
    "$$\n",
    "\n",
    "And the solution is \n",
    "$$\n",
    "\\hat{\\boldsymbol{\\beta}} = (\\textbf{X}^T \\textbf{X})^{-1} \\textbf{X}^T \\textbf{y}\n",
    "$$\n",
    "\n",
    "Note that only when $\\textbf{X}$ is fully ranked does the inverse of $\\textbf{X}^T \\textbf{X}$ exist.\n",
    "\n",
    "Thus the fitted values of the training inputs are given by\n",
    "\n",
    "$$\n",
    "\\hat{\\textbf{y}} = \\textbf{X} \\hat{\\boldsymbol{\\beta}} = \\textbf{X} (\\textbf{X}^T \\textbf{X})^{-1} \\textbf{X}^T \\textbf{y}\n",
    "$$\n",
    "\n",
    "To make a prediction given an unobserved input vector $\\textbf{x}_0$\n",
    "\n",
    "$$\n",
    "\\hat{y} = (1, \\textbf{x}_0)^T \\hat{\\boldsymbol{\\beta}}\n",
    "$$"
   ]
  },
  {
   "cell_type": "markdown",
   "metadata": {},
   "source": [
    "#### Prediction Evaluation <a class=\"anchor\" id=\"Evaluation\"></a>\n",
    "For regression problems, we usually use root mean square error (RMSE) and coefficient of determination ($R^2$) to estimate our linear regression model. \n",
    "\n",
    "The formula of $RMSE$ is given by\n",
    "$$\n",
    "RMSE = \\sqrt{\\frac{\\sum_{i=1}^n {(y_i-\\hat{y}_i)^2}}{n}}\n",
    "$$\n",
    "\n",
    "$R^2$ is the proportion of the variation in the dependent variable that is predictable from the independent variable(s). It's defined as follows\n",
    "$$\n",
    "R^2 = \\frac{SSR} {SST} = 1 - \\frac{SSE} {SST}\n",
    "$$\n",
    "where $SSE$ is the sum of squares of residuals\n",
    "$$\n",
    "SSE = \\sum_{i=1}^n {(y_i-\\hat{y}_i)^2}\n",
    "$$\n",
    "and $SST$ is the total sum of squares\n",
    "$$\n",
    "SS_{tot} = \\sum_{i=1}^n {(y_i-\\bar{y}_i)^2}\n",
    "$$"
   ]
  },
  {
   "cell_type": "markdown",
   "metadata": {},
   "source": [
    "#### *F* test <a class=\"anchor\" id=\"F\"></a>\n",
    "Also we can test the model and coefficients using *F* and *t* statistics. \n",
    "\n",
    "*F* test is used for the following hypothesis testing\n",
    "\n",
    "$H_0: \\beta_1 = \\cdots = \\beta_p = 0$\n",
    "\n",
    "$H_1$: at least one $\\beta_j \\neq 0$\n",
    "\n",
    "And the *F* statistic is\n",
    "$$\n",
    "F = \\frac{MSR} {MSE}\n",
    "$$\n",
    "where\n",
    "$$\n",
    "MSR = \\frac{SSR} {p-1}\n",
    "$$\n",
    "$$\n",
    "MSE = \\frac{SSE} {n-p}\n",
    "$$\n",
    "\n",
    "tends to have larger absolute values when at least for one $\\beta_j \\neq 0$. Thus $H_0$ cannot be rejected if $F>1$."
   ]
  },
  {
   "cell_type": "markdown",
   "metadata": {},
   "source": [
    "#### *t* test <a class=\"anchor\" id=\"t\"></a>\n",
    "\n",
    "*t* test is used for significance of coefficients\n",
    "\n",
    "$H_0: \\beta_j = 0$\n",
    "\n",
    "$H_1: \\beta_j \\neq 0$\n",
    "\n",
    "And the *t* statistic \n",
    "$$\n",
    "t = \\frac{\\beta_j - 0} {SE(\\beta_j)}\n",
    "$$\n",
    "tends to have larger values when $\\beta_j \\neq 0$, thus $H_0$ cannot be rejected."
   ]
  },
  {
   "cell_type": "markdown",
   "metadata": {},
   "source": [
    "---\n",
    "\n",
    "### Illustration <a class=\"anchor\" id=\"Illustration\"></a>\n",
    "\n",
    "Take a look at the two-dimension space, by Sewaqu ([link](https://commons.wikimedia.org/w/index.php?curid=11967659)), we can have a intuitive idea about how linear regression works.\n",
    "\n",
    "Let the input data $\\textbf{X}$ be in one-dimensional space, i.e., $\\textbf{X} = (x_1, x_2, \\cdots, x_n)$, and corresponding output be $\\textbf{y}=(y_1, y_2, \\cdots, y_n)$. The $y-x$ scatter plot is below, and the red line represents the OLS regression line. It's intuitive that the linear regression line \"goes cross\" all data points, and shows the linear trend of how output goes as input changes."
   ]
  },
  {
   "cell_type": "markdown",
   "metadata": {},
   "source": [
    "![lr_illu](images/Linear_regression.svg)"
   ]
  },
  {
   "cell_type": "markdown",
   "metadata": {},
   "source": [
    "---\n",
    "\n",
    "### Advantages and Disadvantages <a class=\"anchor\" id=\"Advantages_and_Disadvantages\"></a>\n",
    "\n",
    "#### Advantages: <a class=\"anchor\" id=\"Advantages\"></a>\n",
    "\n",
    "* Best linear unbiased estimator. The least square estimator of linear regression model has great properties. By the [Gauss-Markov theorem](https://en.wikipedia.org/wiki/Gauss%E2%80%93Markov_theorem), the ordinary least squares (OLS) regression produces unbiased estimates that have the smallest variance of all possible linear estimators. This property is called BLUE (Best Linear Unbiased Estimator).\n",
    "\n",
    "* Simple model. The Linear regression model is the simplest equation using which the relationship between the multiple predictor variables and predicted variable can be expressed, and the ordinary least squares error function is also very simple and straight-forward.\n",
    "\n",
    "* Computationally friendly. The modeling speed of linear regression is fast as it does not require complicated calculations and runs predictions fast when the amount of data is large.\n",
    "\n",
    "* Great interpretability of the output. The ability of linear regression to determine the relative influence of one or more predictor variables to the predicted value when the predictors are independent of each other is one of the key reasons of the popularity of linear regression. The model derived using this method can express the what change in the predictor variable causes what change in the predicted or target variable.\n",
    "\n",
    "\n",
    "#### Disadvantages: <a class=\"anchor\" id=\"Disadvantages\"></a>\n",
    "\n",
    "* Overly-Simplistic. The linear regression model is too simplistic to capture real world complexity. The linear regression assumes a linear relationship between independent variables and dependent variable, which cannot represent more complex relationships in real world. \n",
    "\n",
    "* Independence of variables. Assumes that the predictor variables are not correlated which is rarely true. It is important to, therefore, remove multicollinearity (using dimensionality reduction techniques) because the technique assumes that there is no relationship among independent variables. In cases of high multicollinearity, two features that have high correlation will influence each other’s weight and result in an unreliable model.\n",
    "\n",
    "* Homoscedasticity. The linear regression model assumes that independent variables can represent all expectation and variance of dependent variable (so that $E[\\epsilon_i]=0$ and $Var[\\epsilon_i] = \\sigma^2$), which is always not true because in real world it's hard for people to find exactly all independent variables that affect the dependent variable. Usually people will have input that are dependent and insufficient."
   ]
  },
  {
   "cell_type": "markdown",
   "metadata": {},
   "source": [
    "---\n",
    "\n",
    "### Hard code of linear regression <a class=\"anchor\" id=\"Code\"></a>\n",
    "\n",
    "#### All packages used in this notebook\n",
    "* [numpy](https://numpy.org/)\n",
    "* [pandas](https://pandas.pydata.org/)\n",
    "* [scipy](https://scipy.org/)\n",
    "* [pandas_datareader](https://pandas-datareader.readthedocs.io/en/latest/)\n",
    "* [plotly](https://plotly.com/)\n",
    "* [statsmodels](https://www.statsmodels.org/stable/index.html)\n",
    "* [sklearn](https://scikit-learn.org/stable/datasets/toy_dataset.html)"
   ]
  },
  {
   "cell_type": "code",
   "execution_count": 1,
   "metadata": {},
   "outputs": [],
   "source": [
    "import numpy as np\n",
    "import pandas as pd\n",
    "from scipy import stats\n",
    "import pandas_datareader as web\n",
    "import plotly.express as px\n",
    "import statsmodels.api as sm\n",
    "from sklearn.datasets import load_diabetes\n",
    "from sklearn.model_selection import train_test_split"
   ]
  },
  {
   "cell_type": "markdown",
   "metadata": {},
   "source": [
    "#### function of linear regression model"
   ]
  },
  {
   "cell_type": "code",
   "execution_count": 2,
   "metadata": {},
   "outputs": [],
   "source": [
    "class linear_regression():\n",
    "    def __init__(self):\n",
    "        self.X = None\n",
    "        self.variables = None\n",
    "        self.y = None\n",
    "        self.predictor = None\n",
    "        self.n = None\n",
    "        self.p = None\n",
    "        self.bias = None\n",
    "        self.beta_hat = None\n",
    "        self.y_hat = None\n",
    "\n",
    "    # model fitting\n",
    "    def fit(self, X, y, bias=True):\n",
    "        self.variables = X.columns\n",
    "        self.predictor = y.name\n",
    "        \n",
    "        X = X.to_numpy()\n",
    "        y = y.to_numpy()\n",
    "\n",
    "        if bias:\n",
    "            ones_column = np.ones((X.shape[0], 1))\n",
    "            X = np.append(ones_column, X, axis=1)\n",
    "\n",
    "        self.X = X\n",
    "        self.y = y\n",
    "        self.n = X.shape[0]\n",
    "        self.p = X.shape[1]\n",
    "        self.bias = bias\n",
    "\n",
    "        beta_hat = np.linalg.inv(X.T @ X) @ X.T @ y\n",
    "        self.beta_hat = beta_hat\n",
    "        self.y_hat = X @ beta_hat\n",
    "\n",
    "    # predict new data\n",
    "    def predict(self, x):\n",
    "        if self.bias:\n",
    "            ones_column = np.ones((x.shape[0], 1))\n",
    "            x = np.append(ones_column, x, axis=1)\n",
    "        return x @ self.beta_hat\n",
    "\n",
    "    # function of sum of squared errors\n",
    "    def SSE(self):\n",
    "        return (self.y-self.y_hat).T@(self.y-self.y_hat)\n",
    "    \n",
    "    # function of mean squared errors\n",
    "    def MSE(self):\n",
    "        return self.SSE()/(self.n-self.p)\n",
    "\n",
    "    # function of sum of squares regression\n",
    "    def SSR(self):\n",
    "        return (self.y_hat - np.mean(self.y)).T @ (self.y_hat - np.mean(self.y))\n",
    "\n",
    "    # function of mean squared regression\n",
    "    def MSR(self):\n",
    "        return self.SSR()/(self.p-1)\n",
    "\n",
    "    # function of sum of squares total\n",
    "    def SST(self):\n",
    "        return (self.y-np.mean(self.y_hat)).T@(self.y-np.mean(self.y_hat))\n",
    "\n",
    "    # function of coefficient of determination\n",
    "    def R_2(self):\n",
    "        return 1 - self.SSE()/self.SST()\n",
    "\n",
    "    # function of coefficient of determination on test data\n",
    "    def pred_R_2(self, input, true):\n",
    "        pred = self.predict(input)\n",
    "        pred_SSE = (true-pred).T@(true-pred)\n",
    "        pred_SST = (true-np.mean(pred)).T@(true-np.mean(pred))\n",
    "        return 1 - pred_SSE/pred_SST\n",
    "\n",
    "    # function of adjusted coefficient of determination\n",
    "    def adj_R_2(self):\n",
    "        return 1- (1-self.R_2())*(self.n-1)/(self.n-self.p-1)\n",
    "\n",
    "    # function of standard deviation of coefficients\n",
    "    def sd_coef(self):\n",
    "        return np.sqrt(np.diagonal(self.MSE() * np.linalg.inv(self.X.T @ self.X)))\n",
    "\n",
    "    # function of t statistic and p-value\n",
    "    def t_stat(self):\n",
    "        t = self.beta_hat / self.sd_coef()\n",
    "        t_p = [2*(1-stats.t.cdf(np.abs(i), (self.n-self.p-1))) for i in t]\n",
    "        return t, t_p\n",
    "\n",
    "    # function of F statistic and p-value\n",
    "    def F_stat(self):\n",
    "        F = self.MSR()/self.MSE()\n",
    "        df_1 = self.p - 1\n",
    "        df_2 = self.n - self.p\n",
    "        #find p-value of F test statistic \n",
    "        F_p = 1-stats.f.cdf(F, df_1, df_2) \n",
    "        return F, F_p\n",
    "\n",
    "    # function of root mean square error\n",
    "    def RMSE(self, input, true):\n",
    "        pred = self.predict(input)\n",
    "        return np.sqrt((true-pred).T@(true-pred)/len(true))\n",
    "\n",
    "    # function of model summary\n",
    "    def summary(self):\n",
    "        coef_df = pd.DataFrame()\n",
    "        \n",
    "        coef_df['Estimate'] = self.beta_hat\n",
    "        coef_df['Std.Error'] = self.sd_coef()\n",
    "        coef_df['t value'] = self.t_stat()[0]\n",
    "        coef_df['Pr(>|t|)'] = self.t_stat()[1]\n",
    "        coef_df.index = ['Intercept'] + list(self.variables)\n",
    "\n",
    "        print(coef_df)\n",
    "\n",
    "        print(f\"Residual standard error: {round(np.sqrt(self.MSE()), 3)} on {self.n-self.p} degress of freedom.\")\n",
    "        print(f\"R-squared: {round(self.R_2(), 3)}, Adjusted R-square: {round(self.adj_R_2(), 3)}\")\n",
    "        f_stat_str = f\"F-statistic: {round(self.F_stat()[0], 3)} on {self.p - 1} and {self.n - self.p} DF,\"\n",
    "        f_p_str = f\"p-value: {round(self.F_stat()[1], 3)}\"\n",
    "        print(f_stat_str + f_p_str)\n",
    "        "
   ]
  },
  {
   "cell_type": "markdown",
   "metadata": {},
   "source": [
    "---\n",
    "\n",
    "### Applications on data sets <a class=\"anchor\" id=\"Applications\"></a>\n",
    "\n",
    "* Ethereum (ETH) price data\n",
    "* Diabetes data\n",
    "\n"
   ]
  },
  {
   "cell_type": "markdown",
   "metadata": {},
   "source": [
    "---\n",
    "#### Ethereum (ETH) price data <a class=\"anchor\" id=\"ETH\"></a>\n",
    "---\n",
    "\n",
    "First we apply our linear regression model on predicting the price of Ethereum. [Ethereum](https://en.wikipedia.org/wiki/Ethereum) (by wikipedia) is a decentralized, open-source blockchain with smart contract functionality. Ether (ETH) is the native cryptocurrency of the platform. Amongst cryptocurrencies, Ether is second only to Bitcoin in market capitalization. \n",
    "\n",
    "Nowadays prices of Ethereum and other cryptocurrencies are increasing rapidly, so they are becoming more and more popular among traders and investors."
   ]
  },
  {
   "cell_type": "markdown",
   "metadata": {},
   "source": [
    "In this problem we focus on predicting future ETH price using history ETH prices from *pandas_datareader*. And we use *plotly* to plot nice figures.\n",
    "\n",
    "\n",
    "\n",
    "First we take a look at the ETH price in USD from Jan to Nov, 2021."
   ]
  },
  {
   "cell_type": "code",
   "execution_count": 3,
   "metadata": {},
   "outputs": [
    {
     "data": {
      "text/html": [
       "<div>\n",
       "<style scoped>\n",
       "    .dataframe tbody tr th:only-of-type {\n",
       "        vertical-align: middle;\n",
       "    }\n",
       "\n",
       "    .dataframe tbody tr th {\n",
       "        vertical-align: top;\n",
       "    }\n",
       "\n",
       "    .dataframe thead th {\n",
       "        text-align: right;\n",
       "    }\n",
       "</style>\n",
       "<table border=\"1\" class=\"dataframe\">\n",
       "  <thead>\n",
       "    <tr style=\"text-align: right;\">\n",
       "      <th></th>\n",
       "      <th>High</th>\n",
       "      <th>Low</th>\n",
       "      <th>Open</th>\n",
       "      <th>Close</th>\n",
       "      <th>Volume</th>\n",
       "      <th>Adj Close</th>\n",
       "    </tr>\n",
       "    <tr>\n",
       "      <th>Date</th>\n",
       "      <th></th>\n",
       "      <th></th>\n",
       "      <th></th>\n",
       "      <th></th>\n",
       "      <th></th>\n",
       "      <th></th>\n",
       "    </tr>\n",
       "  </thead>\n",
       "  <tbody>\n",
       "    <tr>\n",
       "      <th>2021-01-01</th>\n",
       "      <td>749.201843</td>\n",
       "      <td>719.792236</td>\n",
       "      <td>737.708374</td>\n",
       "      <td>730.367554</td>\n",
       "      <td>13652004358</td>\n",
       "      <td>730.367554</td>\n",
       "    </tr>\n",
       "    <tr>\n",
       "      <th>2021-01-02</th>\n",
       "      <td>786.798462</td>\n",
       "      <td>718.109497</td>\n",
       "      <td>730.402649</td>\n",
       "      <td>774.534973</td>\n",
       "      <td>19740771179</td>\n",
       "      <td>774.534973</td>\n",
       "    </tr>\n",
       "    <tr>\n",
       "      <th>2021-01-03</th>\n",
       "      <td>1006.565002</td>\n",
       "      <td>771.561646</td>\n",
       "      <td>774.511841</td>\n",
       "      <td>975.507690</td>\n",
       "      <td>45200463368</td>\n",
       "      <td>975.507690</td>\n",
       "    </tr>\n",
       "    <tr>\n",
       "      <th>2021-01-04</th>\n",
       "      <td>1153.189209</td>\n",
       "      <td>912.305359</td>\n",
       "      <td>977.058838</td>\n",
       "      <td>1040.233032</td>\n",
       "      <td>56945985763</td>\n",
       "      <td>1040.233032</td>\n",
       "    </tr>\n",
       "    <tr>\n",
       "      <th>2021-01-05</th>\n",
       "      <td>1129.371460</td>\n",
       "      <td>986.811279</td>\n",
       "      <td>1041.498779</td>\n",
       "      <td>1100.006104</td>\n",
       "      <td>41535932781</td>\n",
       "      <td>1100.006104</td>\n",
       "    </tr>\n",
       "  </tbody>\n",
       "</table>\n",
       "</div>"
      ],
      "text/plain": [
       "                   High         Low         Open        Close       Volume  \\\n",
       "Date                                                                         \n",
       "2021-01-01   749.201843  719.792236   737.708374   730.367554  13652004358   \n",
       "2021-01-02   786.798462  718.109497   730.402649   774.534973  19740771179   \n",
       "2021-01-03  1006.565002  771.561646   774.511841   975.507690  45200463368   \n",
       "2021-01-04  1153.189209  912.305359   977.058838  1040.233032  56945985763   \n",
       "2021-01-05  1129.371460  986.811279  1041.498779  1100.006104  41535932781   \n",
       "\n",
       "              Adj Close  \n",
       "Date                     \n",
       "2021-01-01   730.367554  \n",
       "2021-01-02   774.534973  \n",
       "2021-01-03   975.507690  \n",
       "2021-01-04  1040.233032  \n",
       "2021-01-05  1100.006104  "
      ]
     },
     "execution_count": 3,
     "metadata": {},
     "output_type": "execute_result"
    }
   ],
   "source": [
    "data = web.DataReader('ETH-USD',\n",
    "                     'yahoo',\n",
    "                     start = '2021-01-01',\n",
    "                     end = '2021-11-30')\n",
    "data.head()"
   ]
  },
  {
   "cell_type": "markdown",
   "metadata": {},
   "source": [
    "Let us set our goal: to predict close price. Plot the close price curve of ETH."
   ]
  },
  {
   "cell_type": "code",
   "execution_count": 4,
   "metadata": {},
   "outputs": [
    {
     "data": {
      "image/png": "[encoded data removed]"
     },
     "metadata": {},
     "output_type": "display_data"
    }
   ],
   "source": [
    "all_df = pd.DataFrame(data['Close'])\n",
    "\n",
    "fig = px.line(all_df)\n",
    "fig.show(\"png\")"
   ]
  },
  {
   "cell_type": "markdown",
   "metadata": {},
   "source": [
    "Oh, looks like ETH grows a lot in 2021.\n",
    "\n",
    "We want to use the close prices of the past 1 to 7 days to predict close price of the current day. First we use *shift* method to get past data."
   ]
  },
  {
   "cell_type": "code",
   "execution_count": 5,
   "metadata": {},
   "outputs": [
    {
     "data": {
      "text/html": [
       "<div>\n",
       "<style scoped>\n",
       "    .dataframe tbody tr th:only-of-type {\n",
       "        vertical-align: middle;\n",
       "    }\n",
       "\n",
       "    .dataframe tbody tr th {\n",
       "        vertical-align: top;\n",
       "    }\n",
       "\n",
       "    .dataframe thead th {\n",
       "        text-align: right;\n",
       "    }\n",
       "</style>\n",
       "<table border=\"1\" class=\"dataframe\">\n",
       "  <thead>\n",
       "    <tr style=\"text-align: right;\">\n",
       "      <th></th>\n",
       "      <th>Close</th>\n",
       "      <th>lag_1</th>\n",
       "      <th>lag_2</th>\n",
       "      <th>lag_3</th>\n",
       "      <th>lag_4</th>\n",
       "      <th>lag_5</th>\n",
       "      <th>lag_6</th>\n",
       "      <th>lag_7</th>\n",
       "    </tr>\n",
       "    <tr>\n",
       "      <th>Date</th>\n",
       "      <th></th>\n",
       "      <th></th>\n",
       "      <th></th>\n",
       "      <th></th>\n",
       "      <th></th>\n",
       "      <th></th>\n",
       "      <th></th>\n",
       "      <th></th>\n",
       "    </tr>\n",
       "  </thead>\n",
       "  <tbody>\n",
       "    <tr>\n",
       "      <th>2021-01-01</th>\n",
       "      <td>730.367554</td>\n",
       "      <td>NaN</td>\n",
       "      <td>NaN</td>\n",
       "      <td>NaN</td>\n",
       "      <td>NaN</td>\n",
       "      <td>NaN</td>\n",
       "      <td>NaN</td>\n",
       "      <td>NaN</td>\n",
       "    </tr>\n",
       "    <tr>\n",
       "      <th>2021-01-02</th>\n",
       "      <td>774.534973</td>\n",
       "      <td>730.367554</td>\n",
       "      <td>NaN</td>\n",
       "      <td>NaN</td>\n",
       "      <td>NaN</td>\n",
       "      <td>NaN</td>\n",
       "      <td>NaN</td>\n",
       "      <td>NaN</td>\n",
       "    </tr>\n",
       "    <tr>\n",
       "      <th>2021-01-03</th>\n",
       "      <td>975.507690</td>\n",
       "      <td>774.534973</td>\n",
       "      <td>730.367554</td>\n",
       "      <td>NaN</td>\n",
       "      <td>NaN</td>\n",
       "      <td>NaN</td>\n",
       "      <td>NaN</td>\n",
       "      <td>NaN</td>\n",
       "    </tr>\n",
       "    <tr>\n",
       "      <th>2021-01-04</th>\n",
       "      <td>1040.233032</td>\n",
       "      <td>975.507690</td>\n",
       "      <td>774.534973</td>\n",
       "      <td>730.367554</td>\n",
       "      <td>NaN</td>\n",
       "      <td>NaN</td>\n",
       "      <td>NaN</td>\n",
       "      <td>NaN</td>\n",
       "    </tr>\n",
       "    <tr>\n",
       "      <th>2021-01-05</th>\n",
       "      <td>1100.006104</td>\n",
       "      <td>1040.233032</td>\n",
       "      <td>975.507690</td>\n",
       "      <td>774.534973</td>\n",
       "      <td>730.367554</td>\n",
       "      <td>NaN</td>\n",
       "      <td>NaN</td>\n",
       "      <td>NaN</td>\n",
       "    </tr>\n",
       "    <tr>\n",
       "      <th>2021-01-06</th>\n",
       "      <td>1207.112183</td>\n",
       "      <td>1100.006104</td>\n",
       "      <td>1040.233032</td>\n",
       "      <td>975.507690</td>\n",
       "      <td>774.534973</td>\n",
       "      <td>730.367554</td>\n",
       "      <td>NaN</td>\n",
       "      <td>NaN</td>\n",
       "    </tr>\n",
       "    <tr>\n",
       "      <th>2021-01-07</th>\n",
       "      <td>1225.678101</td>\n",
       "      <td>1207.112183</td>\n",
       "      <td>1100.006104</td>\n",
       "      <td>1040.233032</td>\n",
       "      <td>975.507690</td>\n",
       "      <td>774.534973</td>\n",
       "      <td>730.367554</td>\n",
       "      <td>NaN</td>\n",
       "    </tr>\n",
       "    <tr>\n",
       "      <th>2021-01-08</th>\n",
       "      <td>1224.197144</td>\n",
       "      <td>1225.678101</td>\n",
       "      <td>1207.112183</td>\n",
       "      <td>1100.006104</td>\n",
       "      <td>1040.233032</td>\n",
       "      <td>975.507690</td>\n",
       "      <td>774.534973</td>\n",
       "      <td>730.367554</td>\n",
       "    </tr>\n",
       "    <tr>\n",
       "      <th>2021-01-09</th>\n",
       "      <td>1281.077271</td>\n",
       "      <td>1224.197144</td>\n",
       "      <td>1225.678101</td>\n",
       "      <td>1207.112183</td>\n",
       "      <td>1100.006104</td>\n",
       "      <td>1040.233032</td>\n",
       "      <td>975.507690</td>\n",
       "      <td>774.534973</td>\n",
       "    </tr>\n",
       "    <tr>\n",
       "      <th>2021-01-10</th>\n",
       "      <td>1262.246704</td>\n",
       "      <td>1281.077271</td>\n",
       "      <td>1224.197144</td>\n",
       "      <td>1225.678101</td>\n",
       "      <td>1207.112183</td>\n",
       "      <td>1100.006104</td>\n",
       "      <td>1040.233032</td>\n",
       "      <td>975.507690</td>\n",
       "    </tr>\n",
       "  </tbody>\n",
       "</table>\n",
       "</div>"
      ],
      "text/plain": [
       "                  Close        lag_1        lag_2        lag_3        lag_4  \\\n",
       "Date                                                                          \n",
       "2021-01-01   730.367554          NaN          NaN          NaN          NaN   \n",
       "2021-01-02   774.534973   730.367554          NaN          NaN          NaN   \n",
       "2021-01-03   975.507690   774.534973   730.367554          NaN          NaN   \n",
       "2021-01-04  1040.233032   975.507690   774.534973   730.367554          NaN   \n",
       "2021-01-05  1100.006104  1040.233032   975.507690   774.534973   730.367554   \n",
       "2021-01-06  1207.112183  1100.006104  1040.233032   975.507690   774.534973   \n",
       "2021-01-07  1225.678101  1207.112183  1100.006104  1040.233032   975.507690   \n",
       "2021-01-08  1224.197144  1225.678101  1207.112183  1100.006104  1040.233032   \n",
       "2021-01-09  1281.077271  1224.197144  1225.678101  1207.112183  1100.006104   \n",
       "2021-01-10  1262.246704  1281.077271  1224.197144  1225.678101  1207.112183   \n",
       "\n",
       "                  lag_5        lag_6       lag_7  \n",
       "Date                                              \n",
       "2021-01-01          NaN          NaN         NaN  \n",
       "2021-01-02          NaN          NaN         NaN  \n",
       "2021-01-03          NaN          NaN         NaN  \n",
       "2021-01-04          NaN          NaN         NaN  \n",
       "2021-01-05          NaN          NaN         NaN  \n",
       "2021-01-06   730.367554          NaN         NaN  \n",
       "2021-01-07   774.534973   730.367554         NaN  \n",
       "2021-01-08   975.507690   774.534973  730.367554  \n",
       "2021-01-09  1040.233032   975.507690  774.534973  \n",
       "2021-01-10  1100.006104  1040.233032  975.507690  "
      ]
     },
     "execution_count": 5,
     "metadata": {},
     "output_type": "execute_result"
    }
   ],
   "source": [
    "for i in range(1, 8):\n",
    "    all_df[f'lag_{i}'] = all_df['Close'].shift(i)\n",
    "    \n",
    "all_df.head(10)"
   ]
  },
  {
   "cell_type": "markdown",
   "metadata": {},
   "source": [
    "Drop all *NaN*s, and create our input and output data, using the first 6 months to train our linear regression model."
   ]
  },
  {
   "cell_type": "code",
   "execution_count": 6,
   "metadata": {},
   "outputs": [
    {
     "data": {
      "text/html": [
       "<div>\n",
       "<style scoped>\n",
       "    .dataframe tbody tr th:only-of-type {\n",
       "        vertical-align: middle;\n",
       "    }\n",
       "\n",
       "    .dataframe tbody tr th {\n",
       "        vertical-align: top;\n",
       "    }\n",
       "\n",
       "    .dataframe thead th {\n",
       "        text-align: right;\n",
       "    }\n",
       "</style>\n",
       "<table border=\"1\" class=\"dataframe\">\n",
       "  <thead>\n",
       "    <tr style=\"text-align: right;\">\n",
       "      <th></th>\n",
       "      <th>Close</th>\n",
       "      <th>lag_1</th>\n",
       "      <th>lag_2</th>\n",
       "      <th>lag_3</th>\n",
       "      <th>lag_4</th>\n",
       "      <th>lag_5</th>\n",
       "      <th>lag_6</th>\n",
       "      <th>lag_7</th>\n",
       "    </tr>\n",
       "    <tr>\n",
       "      <th>Date</th>\n",
       "      <th></th>\n",
       "      <th></th>\n",
       "      <th></th>\n",
       "      <th></th>\n",
       "      <th></th>\n",
       "      <th></th>\n",
       "      <th></th>\n",
       "      <th></th>\n",
       "    </tr>\n",
       "  </thead>\n",
       "  <tbody>\n",
       "    <tr>\n",
       "      <th>2021-01-08</th>\n",
       "      <td>1224.197144</td>\n",
       "      <td>1225.678101</td>\n",
       "      <td>1207.112183</td>\n",
       "      <td>1100.006104</td>\n",
       "      <td>1040.233032</td>\n",
       "      <td>975.507690</td>\n",
       "      <td>774.534973</td>\n",
       "      <td>730.367554</td>\n",
       "    </tr>\n",
       "    <tr>\n",
       "      <th>2021-01-09</th>\n",
       "      <td>1281.077271</td>\n",
       "      <td>1224.197144</td>\n",
       "      <td>1225.678101</td>\n",
       "      <td>1207.112183</td>\n",
       "      <td>1100.006104</td>\n",
       "      <td>1040.233032</td>\n",
       "      <td>975.507690</td>\n",
       "      <td>774.534973</td>\n",
       "    </tr>\n",
       "    <tr>\n",
       "      <th>2021-01-10</th>\n",
       "      <td>1262.246704</td>\n",
       "      <td>1281.077271</td>\n",
       "      <td>1224.197144</td>\n",
       "      <td>1225.678101</td>\n",
       "      <td>1207.112183</td>\n",
       "      <td>1100.006104</td>\n",
       "      <td>1040.233032</td>\n",
       "      <td>975.507690</td>\n",
       "    </tr>\n",
       "    <tr>\n",
       "      <th>2021-01-11</th>\n",
       "      <td>1090.145386</td>\n",
       "      <td>1262.246704</td>\n",
       "      <td>1281.077271</td>\n",
       "      <td>1224.197144</td>\n",
       "      <td>1225.678101</td>\n",
       "      <td>1207.112183</td>\n",
       "      <td>1100.006104</td>\n",
       "      <td>1040.233032</td>\n",
       "    </tr>\n",
       "    <tr>\n",
       "      <th>2021-01-12</th>\n",
       "      <td>1043.434570</td>\n",
       "      <td>1090.145386</td>\n",
       "      <td>1262.246704</td>\n",
       "      <td>1281.077271</td>\n",
       "      <td>1224.197144</td>\n",
       "      <td>1225.678101</td>\n",
       "      <td>1207.112183</td>\n",
       "      <td>1100.006104</td>\n",
       "    </tr>\n",
       "  </tbody>\n",
       "</table>\n",
       "</div>"
      ],
      "text/plain": [
       "                  Close        lag_1        lag_2        lag_3        lag_4  \\\n",
       "Date                                                                          \n",
       "2021-01-08  1224.197144  1225.678101  1207.112183  1100.006104  1040.233032   \n",
       "2021-01-09  1281.077271  1224.197144  1225.678101  1207.112183  1100.006104   \n",
       "2021-01-10  1262.246704  1281.077271  1224.197144  1225.678101  1207.112183   \n",
       "2021-01-11  1090.145386  1262.246704  1281.077271  1224.197144  1225.678101   \n",
       "2021-01-12  1043.434570  1090.145386  1262.246704  1281.077271  1224.197144   \n",
       "\n",
       "                  lag_5        lag_6        lag_7  \n",
       "Date                                               \n",
       "2021-01-08   975.507690   774.534973   730.367554  \n",
       "2021-01-09  1040.233032   975.507690   774.534973  \n",
       "2021-01-10  1100.006104  1040.233032   975.507690  \n",
       "2021-01-11  1207.112183  1100.006104  1040.233032  \n",
       "2021-01-12  1225.678101  1207.112183  1100.006104  "
      ]
     },
     "execution_count": 6,
     "metadata": {},
     "output_type": "execute_result"
    }
   ],
   "source": [
    "all_df.dropna(inplace=True)\n",
    "cols = [f'lag_{i}' for i in range(1, 8)]\n",
    "\n",
    "train_df = all_df.iloc[0:181-7, :]\n",
    "train_df.head(5)"
   ]
  },
  {
   "cell_type": "code",
   "execution_count": 7,
   "metadata": {},
   "outputs": [],
   "source": [
    "X = train_df[cols]\n",
    "y = train_df['Close']"
   ]
  },
  {
   "cell_type": "markdown",
   "metadata": {},
   "source": [
    "Train LR model using our hard code."
   ]
  },
  {
   "cell_type": "code",
   "execution_count": 8,
   "metadata": {},
   "outputs": [],
   "source": [
    "model = linear_regression()\n",
    "model.fit(X, y)"
   ]
  },
  {
   "cell_type": "markdown",
   "metadata": {},
   "source": [
    "Take a look at the details of our model. Summarize the coefficients and their standard deviations, t-values, p-values, residual standard error, r-square and adjusted r-square, f-statistic and its p-value of the LR model."
   ]
  },
  {
   "cell_type": "code",
   "execution_count": 9,
   "metadata": {},
   "outputs": [
    {
     "name": "stdout",
     "output_type": "stream",
     "text": [
      "            Estimate  Std.Error    t value  Pr(>|t|)\n",
      "Intercept  71.691203  37.717697   1.900731  0.059081\n",
      "lag_1       0.847193   0.076506  11.073502  0.000000\n",
      "lag_2       0.246981   0.098819   2.499337  0.013420\n",
      "lag_3      -0.077644   0.100094  -0.775707  0.439032\n",
      "lag_4      -0.005219   0.100285  -0.052042  0.958558\n",
      "lag_5      -0.135197   0.100261  -1.348448  0.179362\n",
      "lag_6       0.264233   0.098910   2.671449  0.008309\n",
      "lag_7      -0.172057   0.076188  -2.258329  0.025235\n",
      "Residual standard error: 150.265 on 166 degress of freedom.\n",
      "R-squared: 0.952, Adjusted R-square: 0.95\n",
      "F-statistic: 474.452 on 7 and 166 DF,p-value: 0.0\n"
     ]
    }
   ],
   "source": [
    "model.summary()"
   ]
  },
  {
   "cell_type": "markdown",
   "metadata": {},
   "source": [
    "The LR model has a really good prediction result! Both R-squared and Adjusted R-square are high, representing a good prediction. \n",
    "\n",
    "Also from the above table, we find that given a significance level of $0.05$, *lag_1*, *lag_6* and *lag_7* (which are 1, 6 and 7 days before, respectively) are significant, showing that these three variables are significantly important in the LR model."
   ]
  },
  {
   "cell_type": "markdown",
   "metadata": {},
   "source": [
    "Take a look at the RMSE of training data."
   ]
  },
  {
   "cell_type": "code",
   "execution_count": 10,
   "metadata": {},
   "outputs": [
    {
     "name": "stdout",
     "output_type": "stream",
     "text": [
      "The RMSE of training data is: 146.77\n"
     ]
    }
   ],
   "source": [
    "RMSE = model.RMSE(X, y)\n",
    "print(f\"The RMSE of training data is: {round(RMSE, 3)}\")"
   ]
  },
  {
   "cell_type": "markdown",
   "metadata": {},
   "source": [
    "Not bad on such a large data set.\n",
    "\n",
    "Take a look at the model prediction on the train input, and compare with the true prices in one figure."
   ]
  },
  {
   "cell_type": "code",
   "execution_count": 11,
   "metadata": {},
   "outputs": [
    {
     "name": "stderr",
     "output_type": "stream",
     "text": [
      "C:\\Users\\91208\\AppData\\Local\\Temp/ipykernel_8768/1067073633.py:1: SettingWithCopyWarning:\n",
      "\n",
      "\n",
      "A value is trying to be set on a copy of a slice from a DataFrame.\n",
      "Try using .loc[row_indexer,col_indexer] = value instead\n",
      "\n",
      "See the caveats in the documentation: https://pandas.pydata.org/pandas-docs/stable/user_guide/indexing.html#returning-a-view-versus-a-copy\n",
      "\n"
     ]
    },
    {
     "data": {
      "image/png": "[encoded data removed]"
     },
     "metadata": {},
     "output_type": "display_data"
    }
   ],
   "source": [
    "train_df['predictions'] = model.predict(X)\n",
    "fig = px.line(train_df, y=['Close', 'predictions'])\n",
    "\n",
    "fig.show(\"png\")"
   ]
  },
  {
   "cell_type": "markdown",
   "metadata": {},
   "source": [
    "An amazing prediction curve! Looks like the linear regression can estimate the future close price of ETH very well! But also notice that there is an obvious \"late\" in the prediction curve, compared with the true curve. Thus it's not a good idea to use this curve for short-term (in a period of days) investments, but it is useful for long-term investments."
   ]
  },
  {
   "cell_type": "markdown",
   "metadata": {},
   "source": [
    "Further, let's do some predictions on test data (ETH prices from Jul to Nov)."
   ]
  },
  {
   "cell_type": "code",
   "execution_count": 12,
   "metadata": {},
   "outputs": [
    {
     "data": {
      "text/html": [
       "<div>\n",
       "<style scoped>\n",
       "    .dataframe tbody tr th:only-of-type {\n",
       "        vertical-align: middle;\n",
       "    }\n",
       "\n",
       "    .dataframe tbody tr th {\n",
       "        vertical-align: top;\n",
       "    }\n",
       "\n",
       "    .dataframe thead th {\n",
       "        text-align: right;\n",
       "    }\n",
       "</style>\n",
       "<table border=\"1\" class=\"dataframe\">\n",
       "  <thead>\n",
       "    <tr style=\"text-align: right;\">\n",
       "      <th></th>\n",
       "      <th>Close</th>\n",
       "      <th>lag_1</th>\n",
       "      <th>lag_2</th>\n",
       "      <th>lag_3</th>\n",
       "      <th>lag_4</th>\n",
       "      <th>lag_5</th>\n",
       "      <th>lag_6</th>\n",
       "      <th>lag_7</th>\n",
       "    </tr>\n",
       "    <tr>\n",
       "      <th>Date</th>\n",
       "      <th></th>\n",
       "      <th></th>\n",
       "      <th></th>\n",
       "      <th></th>\n",
       "      <th></th>\n",
       "      <th></th>\n",
       "      <th></th>\n",
       "      <th></th>\n",
       "    </tr>\n",
       "  </thead>\n",
       "  <tbody>\n",
       "    <tr>\n",
       "      <th>2021-07-01</th>\n",
       "      <td>2113.605469</td>\n",
       "      <td>2274.547607</td>\n",
       "      <td>2160.768311</td>\n",
       "      <td>2079.657471</td>\n",
       "      <td>1978.894653</td>\n",
       "      <td>1829.239258</td>\n",
       "      <td>1813.217285</td>\n",
       "      <td>1988.456299</td>\n",
       "    </tr>\n",
       "    <tr>\n",
       "      <th>2021-07-02</th>\n",
       "      <td>2150.040283</td>\n",
       "      <td>2113.605469</td>\n",
       "      <td>2274.547607</td>\n",
       "      <td>2160.768311</td>\n",
       "      <td>2079.657471</td>\n",
       "      <td>1978.894653</td>\n",
       "      <td>1829.239258</td>\n",
       "      <td>1813.217285</td>\n",
       "    </tr>\n",
       "    <tr>\n",
       "      <th>2021-07-03</th>\n",
       "      <td>2226.114258</td>\n",
       "      <td>2150.040283</td>\n",
       "      <td>2113.605469</td>\n",
       "      <td>2274.547607</td>\n",
       "      <td>2160.768311</td>\n",
       "      <td>2079.657471</td>\n",
       "      <td>1978.894653</td>\n",
       "      <td>1829.239258</td>\n",
       "    </tr>\n",
       "    <tr>\n",
       "      <th>2021-07-04</th>\n",
       "      <td>2321.724121</td>\n",
       "      <td>2226.114258</td>\n",
       "      <td>2150.040283</td>\n",
       "      <td>2113.605469</td>\n",
       "      <td>2274.547607</td>\n",
       "      <td>2160.768311</td>\n",
       "      <td>2079.657471</td>\n",
       "      <td>1978.894653</td>\n",
       "    </tr>\n",
       "    <tr>\n",
       "      <th>2021-07-05</th>\n",
       "      <td>2198.582520</td>\n",
       "      <td>2321.724121</td>\n",
       "      <td>2226.114258</td>\n",
       "      <td>2150.040283</td>\n",
       "      <td>2113.605469</td>\n",
       "      <td>2274.547607</td>\n",
       "      <td>2160.768311</td>\n",
       "      <td>2079.657471</td>\n",
       "    </tr>\n",
       "  </tbody>\n",
       "</table>\n",
       "</div>"
      ],
      "text/plain": [
       "                  Close        lag_1        lag_2        lag_3        lag_4  \\\n",
       "Date                                                                          \n",
       "2021-07-01  2113.605469  2274.547607  2160.768311  2079.657471  1978.894653   \n",
       "2021-07-02  2150.040283  2113.605469  2274.547607  2160.768311  2079.657471   \n",
       "2021-07-03  2226.114258  2150.040283  2113.605469  2274.547607  2160.768311   \n",
       "2021-07-04  2321.724121  2226.114258  2150.040283  2113.605469  2274.547607   \n",
       "2021-07-05  2198.582520  2321.724121  2226.114258  2150.040283  2113.605469   \n",
       "\n",
       "                  lag_5        lag_6        lag_7  \n",
       "Date                                               \n",
       "2021-07-01  1829.239258  1813.217285  1988.456299  \n",
       "2021-07-02  1978.894653  1829.239258  1813.217285  \n",
       "2021-07-03  2079.657471  1978.894653  1829.239258  \n",
       "2021-07-04  2160.768311  2079.657471  1978.894653  \n",
       "2021-07-05  2274.547607  2160.768311  2079.657471  "
      ]
     },
     "execution_count": 12,
     "metadata": {},
     "output_type": "execute_result"
    }
   ],
   "source": [
    "test_df = all_df.iloc[181-7:, :]\n",
    "test_df.head(5)"
   ]
  },
  {
   "cell_type": "code",
   "execution_count": 13,
   "metadata": {},
   "outputs": [],
   "source": [
    "test_X = test_df[cols]\n",
    "test_y = test_df['Close']\n",
    "pred_test_y = model.predict(test_X)"
   ]
  },
  {
   "cell_type": "markdown",
   "metadata": {},
   "source": [
    "First take a look at the RMSE."
   ]
  },
  {
   "cell_type": "code",
   "execution_count": 14,
   "metadata": {},
   "outputs": [
    {
     "name": "stdout",
     "output_type": "stream",
     "text": [
      "The RMSE of test data is: 0.964\n"
     ]
    }
   ],
   "source": [
    "test_RMSE = model.pred_R_2(test_X, test_y)\n",
    "print(f\"The RMSE of test data is: {round(test_RMSE, 3)}\")"
   ]
  },
  {
   "cell_type": "markdown",
   "metadata": {},
   "source": [
    "Looks pretty good! Let's plot it with the true price curve."
   ]
  },
  {
   "cell_type": "code",
   "execution_count": 15,
   "metadata": {},
   "outputs": [
    {
     "name": "stderr",
     "output_type": "stream",
     "text": [
      "C:\\Users\\91208\\AppData\\Local\\Temp/ipykernel_8768/1424968874.py:1: SettingWithCopyWarning:\n",
      "\n",
      "\n",
      "A value is trying to be set on a copy of a slice from a DataFrame.\n",
      "Try using .loc[row_indexer,col_indexer] = value instead\n",
      "\n",
      "See the caveats in the documentation: https://pandas.pydata.org/pandas-docs/stable/user_guide/indexing.html#returning-a-view-versus-a-copy\n",
      "\n"
     ]
    },
    {
     "data": {
      "image/png": "[encoded data removed]"
     },
     "metadata": {},
     "output_type": "display_data"
    }
   ],
   "source": [
    "test_df['predictions'] = pred_test_y\n",
    "fig = px.line(test_df, y=['Close', 'predictions'])\n",
    "\n",
    "fig.show(\"png\")"
   ]
  },
  {
   "cell_type": "markdown",
   "metadata": {},
   "source": [
    "Nice result. From now on we can earn lots of money by predicting the ETH price! (lLl, but result in this file shall NOT be considered to be investing, accounting, consulting or any other professional advice.)"
   ]
  },
  {
   "cell_type": "markdown",
   "metadata": {},
   "source": [
    "Finally, just have a quick check that my hard code works rightly. We train another LR model using package *statsmodels*, and compare the result with my previous model.\n"
   ]
  },
  {
   "cell_type": "code",
   "execution_count": 16,
   "metadata": {},
   "outputs": [
    {
     "data": {
      "text/html": [
       "<table class=\"simpletable\">\n",
       "<caption>OLS Regression Results</caption>\n",
       "<tr>\n",
       "  <th>Dep. Variable:</th>          <td>Close</td>      <th>  R-squared:         </th> <td>   0.952</td> \n",
       "</tr>\n",
       "<tr>\n",
       "  <th>Model:</th>                   <td>OLS</td>       <th>  Adj. R-squared:    </th> <td>   0.950</td> \n",
       "</tr>\n",
       "<tr>\n",
       "  <th>Method:</th>             <td>Least Squares</td>  <th>  F-statistic:       </th> <td>   474.5</td> \n",
       "</tr>\n",
       "<tr>\n",
       "  <th>Date:</th>             <td>Fri, 10 Dec 2021</td> <th>  Prob (F-statistic):</th> <td>3.09e-106</td>\n",
       "</tr>\n",
       "<tr>\n",
       "  <th>Time:</th>                 <td>01:26:51</td>     <th>  Log-Likelihood:    </th> <td> -1115.0</td> \n",
       "</tr>\n",
       "<tr>\n",
       "  <th>No. Observations:</th>      <td>   174</td>      <th>  AIC:               </th> <td>   2246.</td> \n",
       "</tr>\n",
       "<tr>\n",
       "  <th>Df Residuals:</th>          <td>   166</td>      <th>  BIC:               </th> <td>   2271.</td> \n",
       "</tr>\n",
       "<tr>\n",
       "  <th>Df Model:</th>              <td>     7</td>      <th>                     </th>     <td> </td>    \n",
       "</tr>\n",
       "<tr>\n",
       "  <th>Covariance Type:</th>      <td>nonrobust</td>    <th>                     </th>     <td> </td>    \n",
       "</tr>\n",
       "</table>\n",
       "<table class=\"simpletable\">\n",
       "<tr>\n",
       "    <td></td>       <th>coef</th>     <th>std err</th>      <th>t</th>      <th>P>|t|</th>  <th>[0.025</th>    <th>0.975]</th>  \n",
       "</tr>\n",
       "<tr>\n",
       "  <th>const</th> <td>   71.6912</td> <td>   37.718</td> <td>    1.901</td> <td> 0.059</td> <td>   -2.777</td> <td>  146.159</td>\n",
       "</tr>\n",
       "<tr>\n",
       "  <th>lag_1</th> <td>    0.8472</td> <td>    0.077</td> <td>   11.074</td> <td> 0.000</td> <td>    0.696</td> <td>    0.998</td>\n",
       "</tr>\n",
       "<tr>\n",
       "  <th>lag_2</th> <td>    0.2470</td> <td>    0.099</td> <td>    2.499</td> <td> 0.013</td> <td>    0.052</td> <td>    0.442</td>\n",
       "</tr>\n",
       "<tr>\n",
       "  <th>lag_3</th> <td>   -0.0776</td> <td>    0.100</td> <td>   -0.776</td> <td> 0.439</td> <td>   -0.275</td> <td>    0.120</td>\n",
       "</tr>\n",
       "<tr>\n",
       "  <th>lag_4</th> <td>   -0.0052</td> <td>    0.100</td> <td>   -0.052</td> <td> 0.959</td> <td>   -0.203</td> <td>    0.193</td>\n",
       "</tr>\n",
       "<tr>\n",
       "  <th>lag_5</th> <td>   -0.1352</td> <td>    0.100</td> <td>   -1.348</td> <td> 0.179</td> <td>   -0.333</td> <td>    0.063</td>\n",
       "</tr>\n",
       "<tr>\n",
       "  <th>lag_6</th> <td>    0.2642</td> <td>    0.099</td> <td>    2.671</td> <td> 0.008</td> <td>    0.069</td> <td>    0.460</td>\n",
       "</tr>\n",
       "<tr>\n",
       "  <th>lag_7</th> <td>   -0.1721</td> <td>    0.076</td> <td>   -2.258</td> <td> 0.025</td> <td>   -0.322</td> <td>   -0.022</td>\n",
       "</tr>\n",
       "</table>\n",
       "<table class=\"simpletable\">\n",
       "<tr>\n",
       "  <th>Omnibus:</th>       <td>30.510</td> <th>  Durbin-Watson:     </th> <td>   2.039</td>\n",
       "</tr>\n",
       "<tr>\n",
       "  <th>Prob(Omnibus):</th> <td> 0.000</td> <th>  Jarque-Bera (JB):  </th> <td> 192.067</td>\n",
       "</tr>\n",
       "<tr>\n",
       "  <th>Skew:</th>          <td>-0.323</td> <th>  Prob(JB):          </th> <td>1.96e-42</td>\n",
       "</tr>\n",
       "<tr>\n",
       "  <th>Kurtosis:</th>      <td> 8.106</td> <th>  Cond. No.          </th> <td>1.93e+04</td>\n",
       "</tr>\n",
       "</table><br/><br/>Notes:<br/>[1] Standard Errors assume that the covariance matrix of the errors is correctly specified.<br/>[2] The condition number is large, 1.93e+04. This might indicate that there are<br/>strong multicollinearity or other numerical problems."
      ],
      "text/plain": [
       "<class 'statsmodels.iolib.summary.Summary'>\n",
       "\"\"\"\n",
       "                            OLS Regression Results                            \n",
       "==============================================================================\n",
       "Dep. Variable:                  Close   R-squared:                       0.952\n",
       "Model:                            OLS   Adj. R-squared:                  0.950\n",
       "Method:                 Least Squares   F-statistic:                     474.5\n",
       "Date:                Fri, 10 Dec 2021   Prob (F-statistic):          3.09e-106\n",
       "Time:                        01:26:51   Log-Likelihood:                -1115.0\n",
       "No. Observations:                 174   AIC:                             2246.\n",
       "Df Residuals:                     166   BIC:                             2271.\n",
       "Df Model:                           7                                         \n",
       "Covariance Type:            nonrobust                                         \n",
       "==============================================================================\n",
       "                 coef    std err          t      P>|t|      [0.025      0.975]\n",
       "------------------------------------------------------------------------------\n",
       "const         71.6912     37.718      1.901      0.059      -2.777     146.159\n",
       "lag_1          0.8472      0.077     11.074      0.000       0.696       0.998\n",
       "lag_2          0.2470      0.099      2.499      0.013       0.052       0.442\n",
       "lag_3         -0.0776      0.100     -0.776      0.439      -0.275       0.120\n",
       "lag_4         -0.0052      0.100     -0.052      0.959      -0.203       0.193\n",
       "lag_5         -0.1352      0.100     -1.348      0.179      -0.333       0.063\n",
       "lag_6          0.2642      0.099      2.671      0.008       0.069       0.460\n",
       "lag_7         -0.1721      0.076     -2.258      0.025      -0.322      -0.022\n",
       "==============================================================================\n",
       "Omnibus:                       30.510   Durbin-Watson:                   2.039\n",
       "Prob(Omnibus):                  0.000   Jarque-Bera (JB):              192.067\n",
       "Skew:                          -0.323   Prob(JB):                     1.96e-42\n",
       "Kurtosis:                       8.106   Cond. No.                     1.93e+04\n",
       "==============================================================================\n",
       "\n",
       "Notes:\n",
       "[1] Standard Errors assume that the covariance matrix of the errors is correctly specified.\n",
       "[2] The condition number is large, 1.93e+04. This might indicate that there are\n",
       "strong multicollinearity or other numerical problems.\n",
       "\"\"\""
      ]
     },
     "execution_count": 16,
     "metadata": {},
     "output_type": "execute_result"
    }
   ],
   "source": [
    "X_n = sm.add_constant(X)\n",
    "sm.OLS(y, X_n).fit().summary()"
   ]
  },
  {
   "cell_type": "markdown",
   "metadata": {},
   "source": [
    "It looks that all results are the same, so my code works well. "
   ]
  },
  {
   "cell_type": "markdown",
   "metadata": {},
   "source": [
    "---\n",
    "#### Diabetes data <a class=\"anchor\" id=\"Diabetes\"></a>\n",
    "---\n",
    "\n",
    "Second we apply our linear regression model on diabetes data. [Diabetes](https://www.cdc.gov/diabetes/basics/diabetes.html) (by CDC) is a chronic (long-lasting) health condition that affects how your body turns food into energy. Most of the food you eat is broken down into sugar (also called glucose) and released into your bloodstream. When your blood sugar goes up, it signals your pancreas to release insulin. \n",
    "\n",
    "In the [diabetes data](https://scikit-learn.org/stable/datasets/toy_dataset.html#diabetes-dataset) from *sklearn*, ten baseline variables, age, sex, body mass index, average blood pressure, and six blood serum measurements were obtained for each of $n = 442$ diabetes patients, as well as the response of interest, a quantitative measure of disease progression one year after baseline."
   ]
  },
  {
   "cell_type": "markdown",
   "metadata": {},
   "source": [
    "Load the *diabetes* data and have a quick look."
   ]
  },
  {
   "cell_type": "code",
   "execution_count": 17,
   "metadata": {},
   "outputs": [
    {
     "data": {
      "text/html": [
       "<div>\n",
       "<style scoped>\n",
       "    .dataframe tbody tr th:only-of-type {\n",
       "        vertical-align: middle;\n",
       "    }\n",
       "\n",
       "    .dataframe tbody tr th {\n",
       "        vertical-align: top;\n",
       "    }\n",
       "\n",
       "    .dataframe thead th {\n",
       "        text-align: right;\n",
       "    }\n",
       "</style>\n",
       "<table border=\"1\" class=\"dataframe\">\n",
       "  <thead>\n",
       "    <tr style=\"text-align: right;\">\n",
       "      <th></th>\n",
       "      <th>age</th>\n",
       "      <th>sex</th>\n",
       "      <th>bmi</th>\n",
       "      <th>bp</th>\n",
       "      <th>s1</th>\n",
       "      <th>s2</th>\n",
       "      <th>s3</th>\n",
       "      <th>s4</th>\n",
       "      <th>s5</th>\n",
       "      <th>s6</th>\n",
       "    </tr>\n",
       "  </thead>\n",
       "  <tbody>\n",
       "    <tr>\n",
       "      <th>0</th>\n",
       "      <td>0.038076</td>\n",
       "      <td>0.050680</td>\n",
       "      <td>0.061696</td>\n",
       "      <td>0.021872</td>\n",
       "      <td>-0.044223</td>\n",
       "      <td>-0.034821</td>\n",
       "      <td>-0.043401</td>\n",
       "      <td>-0.002592</td>\n",
       "      <td>0.019908</td>\n",
       "      <td>-0.017646</td>\n",
       "    </tr>\n",
       "    <tr>\n",
       "      <th>1</th>\n",
       "      <td>-0.001882</td>\n",
       "      <td>-0.044642</td>\n",
       "      <td>-0.051474</td>\n",
       "      <td>-0.026328</td>\n",
       "      <td>-0.008449</td>\n",
       "      <td>-0.019163</td>\n",
       "      <td>0.074412</td>\n",
       "      <td>-0.039493</td>\n",
       "      <td>-0.068330</td>\n",
       "      <td>-0.092204</td>\n",
       "    </tr>\n",
       "    <tr>\n",
       "      <th>2</th>\n",
       "      <td>0.085299</td>\n",
       "      <td>0.050680</td>\n",
       "      <td>0.044451</td>\n",
       "      <td>-0.005671</td>\n",
       "      <td>-0.045599</td>\n",
       "      <td>-0.034194</td>\n",
       "      <td>-0.032356</td>\n",
       "      <td>-0.002592</td>\n",
       "      <td>0.002864</td>\n",
       "      <td>-0.025930</td>\n",
       "    </tr>\n",
       "    <tr>\n",
       "      <th>3</th>\n",
       "      <td>-0.089063</td>\n",
       "      <td>-0.044642</td>\n",
       "      <td>-0.011595</td>\n",
       "      <td>-0.036656</td>\n",
       "      <td>0.012191</td>\n",
       "      <td>0.024991</td>\n",
       "      <td>-0.036038</td>\n",
       "      <td>0.034309</td>\n",
       "      <td>0.022692</td>\n",
       "      <td>-0.009362</td>\n",
       "    </tr>\n",
       "    <tr>\n",
       "      <th>4</th>\n",
       "      <td>0.005383</td>\n",
       "      <td>-0.044642</td>\n",
       "      <td>-0.036385</td>\n",
       "      <td>0.021872</td>\n",
       "      <td>0.003935</td>\n",
       "      <td>0.015596</td>\n",
       "      <td>0.008142</td>\n",
       "      <td>-0.002592</td>\n",
       "      <td>-0.031991</td>\n",
       "      <td>-0.046641</td>\n",
       "    </tr>\n",
       "  </tbody>\n",
       "</table>\n",
       "</div>"
      ],
      "text/plain": [
       "        age       sex       bmi        bp        s1        s2        s3  \\\n",
       "0  0.038076  0.050680  0.061696  0.021872 -0.044223 -0.034821 -0.043401   \n",
       "1 -0.001882 -0.044642 -0.051474 -0.026328 -0.008449 -0.019163  0.074412   \n",
       "2  0.085299  0.050680  0.044451 -0.005671 -0.045599 -0.034194 -0.032356   \n",
       "3 -0.089063 -0.044642 -0.011595 -0.036656  0.012191  0.024991 -0.036038   \n",
       "4  0.005383 -0.044642 -0.036385  0.021872  0.003935  0.015596  0.008142   \n",
       "\n",
       "         s4        s5        s6  \n",
       "0 -0.002592  0.019908 -0.017646  \n",
       "1 -0.039493 -0.068330 -0.092204  \n",
       "2 -0.002592  0.002864 -0.025930  \n",
       "3  0.034309  0.022692 -0.009362  \n",
       "4 -0.002592 -0.031991 -0.046641  "
      ]
     },
     "execution_count": 17,
     "metadata": {},
     "output_type": "execute_result"
    }
   ],
   "source": [
    "diabetes_X, diabetes_y = load_diabetes(return_X_y=True, as_frame=True)\n",
    "diabetes_X.head()"
   ]
  },
  {
   "cell_type": "markdown",
   "metadata": {},
   "source": [
    "Note that Each of these 10 feature variables have been mean centered and scaled by the standard deviation times n_samples (i.e. the sum of squares of each column totals 1)."
   ]
  },
  {
   "cell_type": "code",
   "execution_count": 18,
   "metadata": {},
   "outputs": [
    {
     "data": {
      "text/plain": [
       "0    151.0\n",
       "1     75.0\n",
       "2    141.0\n",
       "3    206.0\n",
       "4    135.0\n",
       "Name: target, dtype: float64"
      ]
     },
     "execution_count": 18,
     "metadata": {},
     "output_type": "execute_result"
    }
   ],
   "source": [
    "diabetes_y.head()"
   ]
  },
  {
   "cell_type": "markdown",
   "metadata": {},
   "source": [
    "Split data into training and test data sets and train a LR model using our hard code."
   ]
  },
  {
   "cell_type": "code",
   "execution_count": 19,
   "metadata": {},
   "outputs": [],
   "source": [
    "X_train, X_test, y_train, y_test = train_test_split(diabetes_X, diabetes_y, test_size=0.2, random_state=24)"
   ]
  },
  {
   "cell_type": "code",
   "execution_count": 20,
   "metadata": {},
   "outputs": [],
   "source": [
    "model = linear_regression()\n",
    "model.fit(X_train, y_train)"
   ]
  },
  {
   "cell_type": "markdown",
   "metadata": {},
   "source": [
    "Take a look at the summary of our model."
   ]
  },
  {
   "cell_type": "code",
   "execution_count": 21,
   "metadata": {},
   "outputs": [
    {
     "name": "stdout",
     "output_type": "stream",
     "text": [
      "             Estimate   Std.Error    t value      Pr(>|t|)\n",
      "Intercept  151.221034    2.865526  52.772517  0.000000e+00\n",
      "age        -34.703300   66.896023  -0.518765  6.042613e-01\n",
      "sex       -263.164098   67.627700  -3.891365  1.198841e-04\n",
      "bmi        567.075768   72.627537   7.807999  7.216450e-14\n",
      "bp         298.643461   72.274543   4.132070  4.528349e-05\n",
      "s1        -746.260413  446.228104  -1.672374  9.536775e-02\n",
      "s2         490.519076  360.879860   1.359231  1.749716e-01\n",
      "s3          37.683045  226.007501   0.166734  8.676785e-01\n",
      "s4          81.106327  176.150298   0.460438  6.454952e-01\n",
      "s5         729.102857  187.319340   3.892299  1.194433e-04\n",
      "s6          97.144956   73.599031   1.319922  1.877465e-01\n",
      "Residual standard error: 53.692 on 342 degress of freedom.\n",
      "R-squared: 0.534, Adjusted R-square: 0.519\n",
      "F-statistic: 39.215 on 10 and 342 DF,p-value: 0.0\n"
     ]
    }
   ],
   "source": [
    "model.summary()"
   ]
  },
  {
   "cell_type": "markdown",
   "metadata": {},
   "source": [
    "The LR model has a bad prediction result. Both R-squared and Adjusted R-square are about 0.5, representing a bad prediction, so here LR is not a good model to predict the target. \n",
    "\n",
    "And from the above table, we find that given a significance level of $0.05$, *sex*, *bmi*, *bp* and *s5* are significant, showing that these four variables are significantly important in the LR model."
   ]
  },
  {
   "cell_type": "markdown",
   "metadata": {},
   "source": [
    "Take a look at the RMSE of training data."
   ]
  },
  {
   "cell_type": "code",
   "execution_count": 22,
   "metadata": {},
   "outputs": [
    {
     "name": "stdout",
     "output_type": "stream",
     "text": [
      "The RMSE of training data is: 52.849\n"
     ]
    }
   ],
   "source": [
    "RMSE = model.RMSE(X_train, y_train)\n",
    "print(f\"The RMSE of training data is: {round(RMSE, 3)}\")"
   ]
  },
  {
   "cell_type": "markdown",
   "metadata": {},
   "source": [
    "Take a look at the model prediction on the train input, and compare them with the true prices in one figure."
   ]
  },
  {
   "cell_type": "code",
   "execution_count": 23,
   "metadata": {},
   "outputs": [
    {
     "data": {
      "image/png": "[encoded data removed]"
     },
     "metadata": {},
     "output_type": "display_data"
    }
   ],
   "source": [
    "predictions = model.predict(X_train)\n",
    "\n",
    "y_train_plot = pd.DataFrame(y_train)\n",
    "y_train_plot.rename(columns={\"target\": \"true\"}, inplace=True)\n",
    "y_train_plot['prediction'] = predictions\n",
    "\n",
    "fig = px.scatter(y_train_plot, x=\"true\", y=\"prediction\")\n",
    "fig.add_shape(type=\"line\", x0=0, y0=0, x1=350, y1=350)\n",
    "fig.show('png')"
   ]
  },
  {
   "cell_type": "markdown",
   "metadata": {},
   "source": [
    "The *prediction-true* value figure also shows that predictions are not close to true values, as the points are far from the $y=x$ line."
   ]
  },
  {
   "cell_type": "markdown",
   "metadata": {},
   "source": [
    "Let's drop other variables and only use the significant variables, which are *sex*, *bmi*, *bp* and *s5*, and rebuild our LR model."
   ]
  },
  {
   "cell_type": "code",
   "execution_count": 24,
   "metadata": {},
   "outputs": [
    {
     "name": "stdout",
     "output_type": "stream",
     "text": [
      "             Estimate  Std.Error    t value      Pr(>|t|)\n",
      "Intercept  151.512497   2.930353  51.704516  0.000000e+00\n",
      "sex       -168.857002  63.093387  -2.676303  7.797147e-03\n",
      "bmi        657.547266  69.051801   9.522522  0.000000e+00\n",
      "bp         264.359031  69.920740   3.780839  1.839767e-04\n",
      "s5         518.681488  70.494493   7.357759  1.363576e-12\n",
      "Residual standard error: 54.94 on 348 degress of freedom.\n",
      "R-squared: 0.504, Adjusted R-square: 0.497\n",
      "F-statistic: 88.298 on 4 and 348 DF,p-value: 0.0\n"
     ]
    }
   ],
   "source": [
    "X_train, X_test, y_train, y_test = train_test_split(diabetes_X[['sex', 'bmi', 'bp', 's5']], diabetes_y, test_size=0.2, random_state=24)\n",
    "\n",
    "model = linear_regression()\n",
    "model.fit(X_train, y_train)\n",
    "model.summary()"
   ]
  },
  {
   "cell_type": "markdown",
   "metadata": {},
   "source": [
    "Here the result is still poor, thus linear regression may not be a good model to estimate the quantitative measure of disease using given variables."
   ]
  }
 ],
 "metadata": {
  "interpreter": {
   "hash": "2e918aaa81d99c652401bdd1a0c185581595fb477ac919641bd65261b5d7782a"
  },
  "kernelspec": {
   "display_name": "Python 3.8.8 64-bit ('base': conda)",
   "language": "python",
   "name": "python3"
  },
  "language_info": {
   "codemirror_mode": {
    "name": "ipython",
    "version": 3
   },
   "file_extension": ".py",
   "mimetype": "text/x-python",
   "name": "python",
   "nbconvert_exporter": "python",
   "pygments_lexer": "ipython3",
   "version": "3.8.8"
  },
  "orig_nbformat": 4
 },
 "nbformat": 4,
 "nbformat_minor": 2
}
