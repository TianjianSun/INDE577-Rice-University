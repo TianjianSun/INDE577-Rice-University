{
 "cells": [
  {
   "cell_type": "markdown",
   "metadata": {},
   "source": [
    "---\n",
    "\n",
    "## K-Nearest Neighbors (KNN) Algorithm and Applications\n",
    "#### Language: Python 3.8.8\n",
    "#### Author: Tianjian Sun\n",
    "\n",
    "---"
   ]
  },
  {
   "cell_type": "markdown",
   "metadata": {},
   "source": [
    "\n",
    "### Introduction\n",
    "In this section we focus on a simple and straight-forward machine learning model, k-nearest neighbors (KNN). \n",
    "\n",
    "KNN is a non-parametric supervised model, and its main idea is to classify or regress by compute the k closest training examples in the data set. \n"
   ]
  },
  {
   "cell_type": "markdown",
   "metadata": {},
   "source": [
    "\n",
    "### Algorithm\n",
    "*k* is a pre-defined constant, and for\n",
    "* classification tasks.\n",
    "An unlabeled data point is classified by assigning the label which is most frequent among the *k* training samples nearest to that query point.\n",
    "\n",
    "* regression tasks.\n",
    "An unlabeled data point is predicted by averaging the values among the k training samples nearest to that query point. \n",
    "\n",
    "More formally, k-nearest-neighbor methods use those observations in the training set $T$ closest in input space to x to form $\\hat{y}$. Specifically, the k-nearest neighbor fit for $\\hat{y}$ is defined as follows:\n",
    "\n",
    "$$\\hat{y} = \\frac{1}{k} \\sum_{x_i \\in N_k(x)}{x_i}$$\n",
    "\n",
    "where $N_k(x)$ is the neighborhood of $x$ defined by the $k$ closest points $x_i$ in the training sample. Closeness implies a metric, which for the moment Euclidean distance is the most commonly-used distance. So, in words, we find the k observations with $x_i$ closest to $x$ in input space, and average their responses. \n",
    "\n",
    "For classification problems, labels are binary coded so $\\hat{y}$ is the proportion of the class of '1', and it represents a majority vote in the neighborhood. For regression problems, labels are numeric so $\\hat{y}$ is the average of neighborhoods.\n",
    "\n",
    "Euclidean distance, which is the most commonly-used distance to calculate the distance between data points, is defined as follows:\n",
    "\n",
    "$$ d(\\boldsymbol{x}_i, \\boldsymbol{x}_j) = \\sqrt{\\sum_{k=1}^{p} {(\\boldsymbol{x}_{ik}-\\boldsymbol{x}_{jk})^2}}  $$\n",
    "\n",
    "where $\\boldsymbol{x}_i$, $\\boldsymbol{x}_j$ are two $1 \\times p$ data point vectors.\n",
    "\n",
    "Notice that the neighbors are taken from known data set, it can be thought of as the training data set for the algorithm, but in fact no explicit training step is required.\n"
   ]
  },
  {
   "cell_type": "markdown",
   "metadata": {},
   "source": [
    "### Illustration \n",
    "\n",
    "Take a look at the two-dimension space, we can have a intuitive idea about how knn works. The following figure by Navlani ([link](https://www.datacamp.com/community/tutorials/k-nearest-neighbor-classification-scikit-learn)) clearly illustrates the algorithm of knn. \n",
    "\n",
    "Given the samples and the new data point in the sample space, distances between the new example data point and all other points are calculated and ranked ascending. Then the first $k$ samples are picked up, and a majority vote (for classification) or an average (for regression) is taken among the top $k$ samples to predict label of the new example.\n",
    "\n",
    "![knn_illu](images/knn_illu.png \"ShowMyImage\")"
   ]
  },
  {
   "cell_type": "markdown",
   "metadata": {},
   "source": [
    "### Advantages and Disadvantages\n",
    "\n",
    "Advantages:\n",
    "\n",
    "* No training period. As discussed before, knn does not have a training period. This kind of learning model is called lazy learner (Instance based learning), which uses sample data set directly to make real-time predictions based on some algorithms. Thus knn is faster than some other algorithms which require training period (who are called eager learners).\n",
    "\n",
    "* Supper simple. Knn is a very simple model which requires less computational resource, and it's eazy to implement. Also only two hyper-parameters, number of neighbors $k$ and distance function are required to be determined befor implying the algorithm.\n",
    "\n",
    "* No assumptions needed. Knn requires no assumption on data distribution or other properties.\n",
    "\n",
    "Disadvantages:\n",
    "\n",
    "* Poor with large dataset. Computationally expensive when calculation the distances among all samples if the number of data is huge. \n",
    "\n",
    "* Poor with high dimensions. When number of dimension is high, it's hard for knn to represent the relative space relationship between data points, as data points become supper sparse. Also scales of different dimensions can largely affect the distances between points, so feature scaling must be down before using knn. Moreover, it's also computationally expensive to calculate the distances.\n",
    "\n",
    "* Outlier, noise and missing value sensitivity. KNN is sensitive to noise and outliers in the dataset, and it cannot deal with missing values.\n"
   ]
  },
  {
   "cell_type": "markdown",
   "metadata": {},
   "source": [
    "### Hard code of KNN classifier and regressor"
   ]
  },
  {
   "cell_type": "code",
   "execution_count": 1,
   "metadata": {},
   "outputs": [],
   "source": [
    "# import necessary packages\n",
    "import numpy as np\n",
    "from collections import Counter\n",
    "import pandas as pd\n",
    "from sklearn import datasets\n",
    "import matplotlib.pyplot as plt\n",
    "from sklearn.model_selection import train_test_split\n",
    "from sklearn.preprocessing import StandardScaler"
   ]
  },
  {
   "cell_type": "code",
   "execution_count": 2,
   "metadata": {},
   "outputs": [],
   "source": [
    "# function of knn\n",
    "def knn_classifier_and_regressor(train_input, train_output, new_point, k, classifier=True):\n",
    "    '''\n",
    "    A knn classifier and regressor.\n",
    "    \n",
    "    Input:\n",
    "        train_input: ndarray, a n*p matrix, which is the features of training data set.\n",
    "        train_output: ndarray, a n*1 matrix, which is the output (either a class or a value) of training data set.\n",
    "        new_point: ndarray, a 1*p matrix, which is the input of a new data.\n",
    "        k: int, number of neighbors.\n",
    "        classifier: an indicator of classifier and regressor. Default is True.\n",
    "    \n",
    "    Output:\n",
    "        knn_result: int or float, the result of knn prediction.\n",
    "    '''\n",
    "    \n",
    "    n = train_input.shape[0]\n",
    "    distance = np.zeros(n)\n",
    "    \n",
    "    for i in range(n):\n",
    "        distance[i] = np.linalg.norm(train_input[i,:] - new_point)\n",
    "    \n",
    "    top_k_neighbors = np.argsort(distance)[:k]\n",
    "    k_neighbor_output = train_output[top_k_neighbors]\n",
    "    \n",
    "    # for classifier\n",
    "    if classifier:\n",
    "        voters = Counter(k_neighbor_output)\n",
    "        knn_result = voters.most_common(1)[0][0]\n",
    "    \n",
    "    # for regressor\n",
    "    else:\n",
    "        knn_result = np.mean(k_neighbor_output)\n",
    "    \n",
    "    return knn_result"
   ]
  },
  {
   "cell_type": "markdown",
   "metadata": {},
   "source": [
    "---\n",
    "\n",
    "### Applications on data sets\n",
    "\n",
    "First we apply our code on a classification problem. We test KNN on the wine data set from *sklearn.datasets*\n",
    "\n",
    "---"
   ]
  },
  {
   "cell_type": "code",
   "execution_count": 3,
   "metadata": {
    "scrolled": true
   },
   "outputs": [],
   "source": [
    "wine = datasets.load_wine()\n",
    "X = wine.data\n",
    "y = wine.target"
   ]
  },
  {
   "cell_type": "markdown",
   "metadata": {},
   "source": [
    "Let's have an overview of our dataset. There're 13 features in the wine dataset. There's no missing value, and the features are all positive and have different ranges."
   ]
  },
  {
   "cell_type": "code",
   "execution_count": 4,
   "metadata": {},
   "outputs": [
    {
     "name": "stdout",
     "output_type": "stream",
     "text": [
      "               0           1           2           3           4           5   \\\n",
      "count  178.000000  178.000000  178.000000  178.000000  178.000000  178.000000   \n",
      "mean    13.000618    2.336348    2.366517   19.494944   99.741573    2.295112   \n",
      "std      0.811827    1.117146    0.274344    3.339564   14.282484    0.625851   \n",
      "min     11.030000    0.740000    1.360000   10.600000   70.000000    0.980000   \n",
      "25%     12.362500    1.602500    2.210000   17.200000   88.000000    1.742500   \n",
      "50%     13.050000    1.865000    2.360000   19.500000   98.000000    2.355000   \n",
      "75%     13.677500    3.082500    2.557500   21.500000  107.000000    2.800000   \n",
      "max     14.830000    5.800000    3.230000   30.000000  162.000000    3.880000   \n",
      "\n",
      "               6           7           8           9           10          11  \\\n",
      "count  178.000000  178.000000  178.000000  178.000000  178.000000  178.000000   \n",
      "mean     2.029270    0.361854    1.590899    5.058090    0.957449    2.611685   \n",
      "std      0.998859    0.124453    0.572359    2.318286    0.228572    0.709990   \n",
      "min      0.340000    0.130000    0.410000    1.280000    0.480000    1.270000   \n",
      "25%      1.205000    0.270000    1.250000    3.220000    0.782500    1.937500   \n",
      "50%      2.135000    0.340000    1.555000    4.690000    0.965000    2.780000   \n",
      "75%      2.875000    0.437500    1.950000    6.200000    1.120000    3.170000   \n",
      "max      5.080000    0.660000    3.580000   13.000000    1.710000    4.000000   \n",
      "\n",
      "                12  \n",
      "count   178.000000  \n",
      "mean    746.893258  \n",
      "std     314.907474  \n",
      "min     278.000000  \n",
      "25%     500.500000  \n",
      "50%     673.500000  \n",
      "75%     985.000000  \n",
      "max    1680.000000  \n"
     ]
    }
   ],
   "source": [
    "print(pd.DataFrame(X).describe())"
   ]
  },
  {
   "cell_type": "markdown",
   "metadata": {},
   "source": [
    "Let's see how many types of wines are in the data set and how many sample are in each type of wines. From the following result, there're 3 types, and their numbers are 59, 71 and 71."
   ]
  },
  {
   "cell_type": "code",
   "execution_count": 5,
   "metadata": {},
   "outputs": [
    {
     "name": "stdout",
     "output_type": "stream",
     "text": [
      "Counter({1: 71, 0: 59, 2: 48})\n"
     ]
    }
   ],
   "source": [
    "print(Counter(y))"
   ]
  },
  {
   "cell_type": "markdown",
   "metadata": {},
   "source": [
    "Here we visualize the first and second features to see if there's any visible clusters among three different wines."
   ]
  },
  {
   "cell_type": "code",
   "execution_count": 6,
   "metadata": {},
   "outputs": [
    {
     "data": {
      "image/png": "[encoded data removed]",
      "text/plain": [
       "<Figure size 432x288 with 1 Axes>"
      ]
     },
     "metadata": {
      "needs_background": "light"
     },
     "output_type": "display_data"
    }
   ],
   "source": [
    "plt.scatter(X[:, 0], X[:,1],c=y)\n",
    "plt.show()"
   ]
  },
  {
   "cell_type": "markdown",
   "metadata": {},
   "source": [
    "Seems that there're three clusters in the figure, but their boundaries are not clear. Let's try our KNN model to predict new labels. \n",
    "\n",
    "Notice that there're 3 types of wines, we do a stratified sampling to make sure the ratios of types of wines are the same between training and test data set."
   ]
  },
  {
   "cell_type": "code",
   "execution_count": 7,
   "metadata": {},
   "outputs": [
    {
     "data": {
      "text/plain": [
       "0.8703703703703703"
      ]
     },
     "execution_count": 7,
     "metadata": {},
     "output_type": "execute_result"
    }
   ],
   "source": [
    "X_train, X_test, y_train, y_test = train_test_split(X[:, 0:2], y, test_size=0.3, random_state=24, stratify=y)\n",
    "\n",
    "predictions = [knn_classifier_and_regressor(X_train, \n",
    "                                          y_train, \n",
    "                                          new_point, \n",
    "                                          k=5,\n",
    "                                          classifier=True)\n",
    "              for new_point in X_test]\n",
    "\n",
    "accuracy_rate = np.sum(predictions==y_test)/len(y_test)\n",
    "accuracy_rate"
   ]
  },
  {
   "cell_type": "markdown",
   "metadata": {},
   "source": [
    "Emmmmm, a good predictive accuracy.\n",
    "\n",
    "Let's try to add one more features in our model."
   ]
  },
  {
   "cell_type": "code",
   "execution_count": 8,
   "metadata": {},
   "outputs": [
    {
     "data": {
      "text/plain": [
       "0.8888888888888888"
      ]
     },
     "execution_count": 8,
     "metadata": {},
     "output_type": "execute_result"
    }
   ],
   "source": [
    "X_train, X_test, y_train, y_test = train_test_split(X[:, 0:3], y, test_size=0.3, random_state=24, stratify=y)\n",
    "\n",
    "predictions = [knn_classifier_and_regressor(X_train, \n",
    "                                          y_train, \n",
    "                                          new_point, \n",
    "                                          k=5,\n",
    "                                          classifier=True)\n",
    "              for new_point in X_test]\n",
    "\n",
    "accuracy_rate = np.sum(predictions==y_test)/len(y_test)\n",
    "accuracy_rate"
   ]
  },
  {
   "cell_type": "markdown",
   "metadata": {},
   "source": [
    "The predictive accuracy increases a little. Let's use all features."
   ]
  },
  {
   "cell_type": "code",
   "execution_count": 9,
   "metadata": {},
   "outputs": [
    {
     "data": {
      "text/plain": [
       "0.6851851851851852"
      ]
     },
     "execution_count": 9,
     "metadata": {},
     "output_type": "execute_result"
    }
   ],
   "source": [
    "X_train, X_test, y_train, y_test = train_test_split(X, y, test_size=0.3, random_state=24, stratify=y)\n",
    "\n",
    "predictions = [knn_classifier_and_regressor(X_train, \n",
    "                                          y_train, \n",
    "                                          new_point, \n",
    "                                          k=5,\n",
    "                                          classifier=True)\n",
    "              for new_point in X_test]\n",
    "\n",
    "accuracy_rate = np.sum(predictions==y_test)/len(y_test)\n",
    "accuracy_rate"
   ]
  },
  {
   "cell_type": "markdown",
   "metadata": {},
   "source": [
    "Looks like using all features won't increase the accuracy.\n",
    "\n",
    "Notice that the ranges of different features vary, so some features may have a large impact during calculating the distance as Euclidean distance is sensitive to magnitudes. Let's scale them to 0 mean and 1 variance."
   ]
  },
  {
   "cell_type": "code",
   "execution_count": 10,
   "metadata": {},
   "outputs": [],
   "source": [
    "scaler = StandardScaler()\n",
    "X_scaled = scaler.fit_transform(X)"
   ]
  },
  {
   "cell_type": "markdown",
   "metadata": {},
   "source": [
    "Let's apply the scaled data again. First we use the first two features."
   ]
  },
  {
   "cell_type": "code",
   "execution_count": 11,
   "metadata": {},
   "outputs": [
    {
     "data": {
      "text/plain": [
       "0.8518518518518519"
      ]
     },
     "execution_count": 11,
     "metadata": {},
     "output_type": "execute_result"
    }
   ],
   "source": [
    "X_train, X_test, y_train, y_test = train_test_split(X_scaled[:, 0:2], y, test_size=0.3, random_state=24, stratify=y)\n",
    "\n",
    "predictions = [knn_classifier_and_regressor(X_train, \n",
    "                                          y_train, \n",
    "                                          new_point, \n",
    "                                          k=5,\n",
    "                                          classifier=True)\n",
    "              for new_point in X_test]\n",
    "\n",
    "accuracy_rate = np.sum(predictions==y_test)/len(y_test)\n",
    "accuracy_rate"
   ]
  },
  {
   "cell_type": "markdown",
   "metadata": {},
   "source": [
    "Emmm, the result decreases a little. Let's use the first three features."
   ]
  },
  {
   "cell_type": "code",
   "execution_count": 12,
   "metadata": {},
   "outputs": [
    {
     "data": {
      "text/plain": [
       "0.8703703703703703"
      ]
     },
     "execution_count": 12,
     "metadata": {},
     "output_type": "execute_result"
    }
   ],
   "source": [
    "X_train, X_test, y_train, y_test = train_test_split(X_scaled[:, 0:3], y, test_size=0.3, random_state=24, stratify=y)\n",
    "\n",
    "predictions = [knn_classifier_and_regressor(X_train, \n",
    "                                          y_train, \n",
    "                                          new_point, \n",
    "                                          k=5,\n",
    "                                          classifier=True)\n",
    "              for new_point in X_test]\n",
    "\n",
    "accuracy_rate = np.sum(predictions==y_test)/len(y_test)\n",
    "accuracy_rate"
   ]
  },
  {
   "cell_type": "markdown",
   "metadata": {},
   "source": [
    "The result is still similar! Let's use all features."
   ]
  },
  {
   "cell_type": "code",
   "execution_count": 13,
   "metadata": {},
   "outputs": [
    {
     "data": {
      "text/plain": [
       "0.9814814814814815"
      ]
     },
     "execution_count": 13,
     "metadata": {},
     "output_type": "execute_result"
    }
   ],
   "source": [
    "X_train, X_test, y_train, y_test = train_test_split(X_scaled, y, test_size=0.3, random_state=24, stratify=y)\n",
    "\n",
    "predictions = [knn_classifier_and_regressor(X_train, \n",
    "                                          y_train, \n",
    "                                          new_point, \n",
    "                                          k=5,\n",
    "                                          classifier=True)\n",
    "              for new_point in X_test]\n",
    "\n",
    "accuracy_rate = np.sum(predictions==y_test)/len(y_test)\n",
    "accuracy_rate"
   ]
  },
  {
   "cell_type": "markdown",
   "metadata": {},
   "source": [
    "Jesus, the accuracy is amazing! The performance improves a lot compared with the non-scaled version, which is 0.685. And we also notice that using more features cn improve our prediction in this case. Scaling dataset is crucial."
   ]
  },
  {
   "cell_type": "markdown",
   "metadata": {},
   "source": [
    "Second we apply our code on a regression problem. We test KNN on the boston housing data set from *sklearn.datasets*"
   ]
  },
  {
   "cell_type": "code",
   "execution_count": 14,
   "metadata": {},
   "outputs": [],
   "source": [
    "bo_housing= datasets.load_boston()\n",
    "X = bo_housing.data\n",
    "y = bo_housing.target"
   ]
  },
  {
   "cell_type": "markdown",
   "metadata": {},
   "source": [
    "Let's have an overview of our dataset. There're 13 features in the wine dataset. There's no missing value, and the features are all positive and have different ranges."
   ]
  },
  {
   "cell_type": "code",
   "execution_count": 15,
   "metadata": {},
   "outputs": [
    {
     "name": "stdout",
     "output_type": "stream",
     "text": [
      "               0           1           2           3           4           5   \\\n",
      "count  506.000000  506.000000  506.000000  506.000000  506.000000  506.000000   \n",
      "mean     3.613524   11.363636   11.136779    0.069170    0.554695    6.284634   \n",
      "std      8.601545   23.322453    6.860353    0.253994    0.115878    0.702617   \n",
      "min      0.006320    0.000000    0.460000    0.000000    0.385000    3.561000   \n",
      "25%      0.082045    0.000000    5.190000    0.000000    0.449000    5.885500   \n",
      "50%      0.256510    0.000000    9.690000    0.000000    0.538000    6.208500   \n",
      "75%      3.677083   12.500000   18.100000    0.000000    0.624000    6.623500   \n",
      "max     88.976200  100.000000   27.740000    1.000000    0.871000    8.780000   \n",
      "\n",
      "               6           7           8           9           10          11  \\\n",
      "count  506.000000  506.000000  506.000000  506.000000  506.000000  506.000000   \n",
      "mean    68.574901    3.795043    9.549407  408.237154   18.455534  356.674032   \n",
      "std     28.148861    2.105710    8.707259  168.537116    2.164946   91.294864   \n",
      "min      2.900000    1.129600    1.000000  187.000000   12.600000    0.320000   \n",
      "25%     45.025000    2.100175    4.000000  279.000000   17.400000  375.377500   \n",
      "50%     77.500000    3.207450    5.000000  330.000000   19.050000  391.440000   \n",
      "75%     94.075000    5.188425   24.000000  666.000000   20.200000  396.225000   \n",
      "max    100.000000   12.126500   24.000000  711.000000   22.000000  396.900000   \n",
      "\n",
      "               12  \n",
      "count  506.000000  \n",
      "mean    12.653063  \n",
      "std      7.141062  \n",
      "min      1.730000  \n",
      "25%      6.950000  \n",
      "50%     11.360000  \n",
      "75%     16.955000  \n",
      "max     37.970000  \n"
     ]
    }
   ],
   "source": [
    "print(pd.DataFrame(X).describe())"
   ]
  },
  {
   "cell_type": "markdown",
   "metadata": {},
   "source": [
    "We visualize the first feature and the price to see if there's any trend between them. It looks like there's a shape of $y=1/x$ trend, perhaps."
   ]
  },
  {
   "cell_type": "code",
   "execution_count": 16,
   "metadata": {},
   "outputs": [
    {
     "data": {
      "image/png": "[encoded data removed]",
      "text/plain": [
       "<Figure size 432x288 with 1 Axes>"
      ]
     },
     "metadata": {
      "needs_background": "light"
     },
     "output_type": "display_data"
    }
   ],
   "source": [
    "plt.scatter(X[:, 0], y)\n",
    "plt.show()"
   ]
  },
  {
   "cell_type": "markdown",
   "metadata": {},
   "source": [
    "First we scale the boston housing data to 0-mean and 1-variance."
   ]
  },
  {
   "cell_type": "code",
   "execution_count": 17,
   "metadata": {},
   "outputs": [],
   "source": [
    "scaler = StandardScaler()\n",
    "X_scaled = scaler.fit_transform(X)"
   ]
  },
  {
   "cell_type": "markdown",
   "metadata": {},
   "source": [
    "Lets try our KNN model to predict prices using the first two features."
   ]
  },
  {
   "cell_type": "code",
   "execution_count": 18,
   "metadata": {},
   "outputs": [
    {
     "data": {
      "text/plain": [
       "57.99099607843138"
      ]
     },
     "execution_count": 18,
     "metadata": {},
     "output_type": "execute_result"
    }
   ],
   "source": [
    "X_train, X_test, y_train, y_test = train_test_split(X_scaled[:,0:2], y, test_size=0.2)\n",
    "\n",
    "predictions = [knn_classifier_and_regressor(X_train, \n",
    "                                          y_train, \n",
    "                                          new_point, \n",
    "                                          k=5,\n",
    "                                          classifier=False)\n",
    "              for new_point in X_test]\n",
    "MSE = sum([(predictions[i]-y_test[i])**2 for i in range(len(y_test))])/len(y_test)\n",
    "MSE"
   ]
  },
  {
   "cell_type": "code",
   "execution_count": 19,
   "metadata": {},
   "outputs": [
    {
     "data": {
      "text/plain": [
       "0.3529766879535934"
      ]
     },
     "execution_count": 19,
     "metadata": {},
     "output_type": "execute_result"
    }
   ],
   "source": [
    "from sklearn.metrics import r2_score\n",
    "\n",
    "R2 = r2_score(y_test, predictions)\n",
    "R2"
   ]
  },
  {
   "cell_type": "markdown",
   "metadata": {},
   "source": [
    "Really a bad prediction! Let's try all features."
   ]
  },
  {
   "cell_type": "code",
   "execution_count": 20,
   "metadata": {},
   "outputs": [
    {
     "data": {
      "text/plain": [
       "28.58198431372545"
      ]
     },
     "execution_count": 20,
     "metadata": {},
     "output_type": "execute_result"
    }
   ],
   "source": [
    "X_train, X_test, y_train, y_test = train_test_split(X_scaled, y, test_size=0.2)\n",
    "\n",
    "predictions = [knn_classifier_and_regressor(X_train, \n",
    "                                          y_train, \n",
    "                                          new_point, \n",
    "                                          k=5,\n",
    "                                          classifier=False)\n",
    "              for new_point in X_test]\n",
    "MSE = sum([(predictions[i]-y_test[i])**2 for i in range(len(y_test))])/len(y_test)\n",
    "MSE"
   ]
  },
  {
   "cell_type": "code",
   "execution_count": 21,
   "metadata": {},
   "outputs": [
    {
     "data": {
      "text/plain": [
       "0.7303044267129786"
      ]
     },
     "execution_count": 21,
     "metadata": {},
     "output_type": "execute_result"
    }
   ],
   "source": [
    "R2 = r2_score(y_test, predictions)\n",
    "R2"
   ]
  },
  {
   "cell_type": "markdown",
   "metadata": {},
   "source": [
    "A poor result but not that bad! In this case KNN is not an ideal model to do regression."
   ]
  },
  {
   "cell_type": "markdown",
   "metadata": {},
   "source": [
    "## How can k impact prediction result\n",
    "\n",
    "$k$ is pre-defined before learning, and let's see how it can affect the model prediction.\n",
    "\n",
    "Let's use the wine data set again. We compute the accuracy using k in the range from 1 to the training set size."
   ]
  },
  {
   "cell_type": "code",
   "execution_count": 22,
   "metadata": {},
   "outputs": [],
   "source": [
    "wine = datasets.load_wine()\n",
    "X = wine.data\n",
    "y = wine.target\n",
    "\n",
    "scaler = StandardScaler()\n",
    "X_scaled = scaler.fit_transform(X)"
   ]
  },
  {
   "cell_type": "code",
   "execution_count": 23,
   "metadata": {},
   "outputs": [],
   "source": [
    "X_train, X_test, y_train, y_test = train_test_split(X_scaled, y, test_size=0.3, random_state=24, stratify=y)\n",
    "\n",
    "n_train = X_train.shape[0]"
   ]
  },
  {
   "cell_type": "code",
   "execution_count": 24,
   "metadata": {},
   "outputs": [],
   "source": [
    "accuracy_list = []\n",
    "for k in range(1, n_train+1):\n",
    "    predictions = [knn_classifier_and_regressor(X_train, \n",
    "                                          y_train, \n",
    "                                          new_point, \n",
    "                                          k=k,\n",
    "                                          classifier=True)\n",
    "              for new_point in X_test]\n",
    "\n",
    "    accuracy_rate = np.sum(predictions==y_test)/len(y_test)\n",
    "    accuracy_list.append(accuracy_rate)"
   ]
  },
  {
   "cell_type": "code",
   "execution_count": 25,
   "metadata": {},
   "outputs": [
    {
     "data": {
      "image/png": "[encoded data removed]",
      "text/plain": [
       "<Figure size 432x288 with 1 Axes>"
      ]
     },
     "metadata": {
      "needs_background": "light"
     },
     "output_type": "display_data"
    }
   ],
   "source": [
    "plt.plot(accuracy_list,c='k')\n",
    "plt.xlabel('k')\n",
    "plt.ylabel('classification accuracy on test data')\n",
    "plt.show()"
   ]
  },
  {
   "cell_type": "markdown",
   "metadata": {},
   "source": [
    "From the figure, the accuracy is the highest when *k* is less than 20, then the accuracy drops as *k* increases.\n",
    "\n",
    "Note that the model complexity increases as *k* decreases, then $k=20$ can be a good choice in this case."
   ]
  }
 ],
 "metadata": {
  "kernelspec": {
   "display_name": "Python 3",
   "language": "python",
   "name": "python3"
  },
  "language_info": {
   "codemirror_mode": {
    "name": "ipython",
    "version": 3
   },
   "file_extension": ".py",
   "mimetype": "text/x-python",
   "name": "python",
   "nbconvert_exporter": "python",
   "pygments_lexer": "ipython3",
   "version": "3.8.8"
  }
 },
 "nbformat": 4,
 "nbformat_minor": 4
}
