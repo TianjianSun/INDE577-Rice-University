{
 "cells": [
  {
   "cell_type": "markdown",
   "metadata": {},
   "source": [
    "---\n",
    "## Logistic Regression\n",
    "#### Language: Python 3.8.8\n",
    "#### Author: Tianjian Sun\n",
    "---"
   ]
  },
  {
   "cell_type": "markdown",
   "metadata": {},
   "source": [
    "### Table of Contents\n",
    "- [Introduction](#Introduction)\n",
    "- [Algorithm](#Algorithm)\n",
    "    - [Model](#Model)\n",
    "    - [Cross-entropy](#Cross-entropy)\n",
    "    - [Gradient Descent in Solving Logistic Regression](#Gradient)\n",
    "- [Illustration](#Illustration)\n",
    "- [Advantages and Disadvantages](#Advantages)\n",
    "    - [Advantages](#Advantages)\n",
    "    - [Disadvantages](#Disadvantages)\n",
    "- [Code of Logistic Regression](#Code)\n",
    "- [Applications on data sets](#Applications)\n",
    "\n",
    "---"
   ]
  },
  {
   "cell_type": "markdown",
   "metadata": {},
   "source": [
    "### Introduction <a class=\"anchor\" id=\"Introduction\"></a>\n",
    "\n",
    "In statistics, the [logistic regression model](https://en.wikipedia.org/wiki/Logistic_regression) is used to model the probability of a certain class or event existing. This can be extended to model several classes of events. Basicly it's an extension of linear regression to deal with classification tasks.\n",
    "\n",
    "Logistic regression is used in various fields, including machine learning, most medical fields, and social sciences. "
   ]
  },
  {
   "cell_type": "markdown",
   "metadata": {},
   "source": [
    "### Algorithm <a class=\"anchor\" id=\"Algorithm\"></a>\n",
    "\n",
    "#### Model <a class=\"anchor\" id=\"Model\"></a>\n",
    "Consider a model with two predictors, $x_1$ and $x_2$, and one binary (Bernoulli) response variable $y$, with parameter $p=P(Y=1)$. We assume a linear relationship between the predictor variables and the log-odds (also called logit) of the event that $y=1$. This linear relationship can be written in the following mathematical form :\n",
    "\n",
    "$$\\log \\frac{p}{1-p} = \\beta_0 + \\beta_1 x_1 + \\beta_2 x_2$$\n",
    "\n",
    "where $\\beta_i$ are parameters of the model.\n",
    "\n",
    "We can recover the odds by exponentiating both sides of the above:\n",
    "\n",
    "$$\\frac{p}{1-p} = e^{\\beta_0 + \\beta_1 x_1 + \\beta_2 x_2}$$\n",
    "\n",
    "Isolating $p$ we have that the probability that $y=1$ is\n",
    "\n",
    "$$p = \\frac{e^{\\beta_0 + \\beta_1 x_1 + \\beta_2 x_2}}{e^{\\beta_0 + \\beta_1 x_1 + \\beta_2 x_2} + 1} = \\frac{1}{1 + e^{-(\\beta_0 + \\beta_1 x_1 + \\beta_2 x_2)}} = \\sigma(\\beta_0 + \\beta_1 x_1 + \\beta_2 x_2)$$\n",
    "\n",
    "where $\\sigma(\\cdot)$ is the sigmoid function.\n",
    "\n",
    "\n",
    "#### Cross-entropy <a class=\"anchor\" id=\"Cross-entropy\"></a>\n",
    "Cross-entropy loss is widely used in classification tasks. The [cross-entropy](https://en.wikipedia.org/wiki/Cross_entropy) between two probability distributions $p$ and $q$ over the same underlying set of events measures the average number of bits needed to identify an event drawn from the set if a coding scheme used for the set is optimized for an estimated probability distribution $q$, rather than the true distribution $p$.\n",
    "\n",
    "For discrete probability distributions, it's given by\n",
    "$$\n",
    "L(p, q) = -\\sum_x {p(x)log (q(x))}\n",
    "$$\n",
    "\n",
    "And for binary classification, the form is\n",
    "$$\n",
    "L(p) = - (y log(p) + (1-y)log(1-p))\n",
    "$$"
   ]
  },
  {
   "cell_type": "markdown",
   "metadata": {},
   "source": [
    "#### Gradient Descent in Solving Logistic Regression <a class=\"anchor\" id=\"Gradient\"></a>\n",
    "\n",
    "To use gradient descent to solve the solution of Logistic Regression, similar with linear regression, we take the derivative of loss function, and update the weights by the algorithm in the **Gradient Descent** section.\n",
    "\n",
    "The loss function is the different part. Here the loss function for binary classification is given by\n",
    "$$\n",
    "L(\\hat{y}, y) = - (y log(\\sigma(\\mathbf{x}\\boldsymbol{\\beta})) + (1-y)log(1-\\sigma(\\mathbf{x}\\boldsymbol{\\beta})))\n",
    "$$\n",
    "\n",
    "Thus the gradient is\n",
    "$$\n",
    "\\frac{\\partial L}{\\partial \\boldsymbol{\\beta}} = [\\sigma(\\mathbf{x}\\boldsymbol{\\beta}-y)]\\mathbf{x}\n",
    "$$\n",
    "\n",
    "And then follow the algorithm in the **Gradient Descent** section."
   ]
  },
  {
   "cell_type": "markdown",
   "metadata": {},
   "source": [
    "---\n",
    "\n",
    "### Illustration <a class=\"anchor\" id=\"Illustration\"></a>\n",
    "\n",
    "Basicly, rather than using a line to regress numeric values, logistic regression turns a linear regression to a *sigmoid* curve to classify different classes.\n",
    " \n",
    "<img src=\"images/Exam_pass_logistic_curve.jpeg\" alt=\"drawing\" width=\"500\"/>\n"
   ]
  },
  {
   "cell_type": "markdown",
   "metadata": {},
   "source": [
    "### Advantages and Disadvantages of Logistic Regression <a class=\"anchor\" id=\"Advantages\"></a>\n",
    "#### Advantages\n",
    "- Easier to implement, interpret, and very efficient to train.\n",
    "- Running fast\n",
    "- No assumptions about distributions of classes in feature space.\n",
    "- Can use coefficients to interpret feature importance\n",
    "- Can deal with missing data and no need of normalization.\n",
    "- Easy to interprete feature importance\n",
    "\n",
    "#### Disadvantages <a class=\"anchor\" id=\"Disadvantages\"></a>\n",
    "- Assume linear relations\n",
    "- Cannot deal with the situation that number of features is larger than number of samples"
   ]
  },
  {
   "cell_type": "markdown",
   "metadata": {},
   "source": [
    "--- \n",
    "### Code of Logistic Regression <a class=\"anchor\" id=\"Code\"></a>\n"
   ]
  },
  {
   "cell_type": "markdown",
   "metadata": {},
   "source": [
    "#### import necessary packages\n",
    "- [pandas](https://pandas.pydata.org/)\n",
    "- [numpy](https://numpy.org/)\n",
    "- [matplotlib](https://matplotlib.org/)\n",
    "- [sklearn](https://scikit-learn.org/stable/datasets/toy_dataset.html)\n",
    "- [seaborn](https://seaborn.pydata.org/)"
   ]
  },
  {
   "cell_type": "code",
   "execution_count": 1,
   "metadata": {},
   "outputs": [],
   "source": [
    "import numpy as np\n",
    "import pandas as pd\n",
    "import matplotlib.pyplot as plt\n",
    "from sklearn.preprocessing import StandardScaler\n",
    "from sklearn.model_selection import train_test_split\n",
    "from sklearn.datasets import load_wine\n",
    "\n",
    "from sklearn.metrics import accuracy_score\n",
    "from sklearn import metrics\n",
    "import seaborn as sns"
   ]
  },
  {
   "cell_type": "code",
   "execution_count": 2,
   "metadata": {},
   "outputs": [],
   "source": [
    "class gradient_descent_Logit_R():\n",
    "    # initialize\n",
    "    def __init__(self) -> None:\n",
    "        self.X = None\n",
    "        self.variables = None\n",
    "        self.y = None\n",
    "        self.predictor = None\n",
    "        self.n = None\n",
    "        self.p = None\n",
    "        self.bias = None\n",
    "        self.gamma = None\n",
    "        self.max_iter = None\n",
    "        self.eta = None\n",
    "\n",
    "        self.weights = None\n",
    "        self.weights_history = []\n",
    "        self.loss_history = [np.inf]\n",
    "    \n",
    "    # cross entropy loss of one data\n",
    "    def cross_entropy_loss(self, y, y_hat):\n",
    "        return -y*np.log(y_hat) - (1.0-y)*np.log(1.0-y_hat)\n",
    "\n",
    "    # total cross entropy loss\n",
    "    def loss(self):\n",
    "        total_loss = sum(self.cross_entropy_loss(self.y[i], self.sigmoid(x@self.weights)) for i, x in enumerate(self.X))\n",
    "        return total_loss\n",
    "\n",
    "    # sigmoid function\n",
    "    def sigmoid(self, z):\n",
    "        return 1.0/(1.0 + np.exp(-z))\n",
    "\n",
    "    # gradient of loss\n",
    "    def gradient_L(self):\n",
    "        sigmoids = np.array([self.sigmoid(x@self.weights) - self.y[i] for i, x in enumerate(self.X)])\n",
    "        d_w = sigmoids @ self.X\n",
    "        return d_w\n",
    "\n",
    "    # model fitting\n",
    "    def fit(self, X, y, bias=True, gamma=0.01, max_iter=100, eta=0.001):\n",
    "        self.variables = X.columns\n",
    "        self.predictor = y.name\n",
    "        \n",
    "        X = X.to_numpy()\n",
    "        y = y.to_numpy()\n",
    "        if bias:\n",
    "            ones_column = np.ones((X.shape[0], 1))\n",
    "            X = np.append(ones_column, X, axis=1)\n",
    "        self.X = X\n",
    "        self.y = y\n",
    "        self.n = X.shape[0]\n",
    "        self.p = X.shape[1]\n",
    "        self.bias = bias\n",
    "        self.gamma = gamma\n",
    "        self.max_iter = max_iter\n",
    "        self.eta = eta\n",
    "        \n",
    "        weights = np.random.rand(self.p)\n",
    "        self.weights = weights\n",
    "        self.weights_history.append(weights)\n",
    "        for i in range(1, max_iter+1):\n",
    "            dw = self.gradient_L()\n",
    "            weights = weights - gamma * dw\n",
    "            self.weights = weights\n",
    "            self.weights_history.append(weights)\n",
    "            L = self.loss()\n",
    "            self.loss_history.append(L)\n",
    "            if i >= self.max_iter or abs(L - self.loss_history[i-1]) <= self.eta:\n",
    "                break\n",
    "    \n",
    "    # predict new data\n",
    "    def prediction(self, X, weights):\n",
    "        X = X.to_numpy()\n",
    "        if self.bias:\n",
    "            ones_column = np.ones((X.shape[0], 1))\n",
    "            X = np.append(ones_column, X, axis=1)\n",
    "        labels = np.array([1, 0])\n",
    "        y_hat = [self.sigmoid(x @ weights) for x in X]\n",
    "        return [np.random.choice(labels, p = [y_hat_i, 1.0-y_hat_i]) for y_hat_i in y_hat]\n"
   ]
  },
  {
   "cell_type": "markdown",
   "metadata": {},
   "source": [
    "---\n",
    "\n",
    "### Applications on data sets <a class=\"anchor\" id=\"Applications\"></a>\n",
    "\n",
    "* *wine* data"
   ]
  },
  {
   "cell_type": "markdown",
   "metadata": {},
   "source": [
    "We test decistion tree on the *wine* data set from *sklearn.datasets*\n",
    "\n",
    "Load *wine* data, and only pick first 2 types of wines."
   ]
  },
  {
   "cell_type": "code",
   "execution_count": 3,
   "metadata": {},
   "outputs": [],
   "source": [
    "X, y = load_wine(return_X_y=True, as_frame=True)\n",
    "X = X[y!=2]\n",
    "y = y[y!=2]"
   ]
  },
  {
   "cell_type": "markdown",
   "metadata": {},
   "source": [
    "Scale the input to avoid dividing by $0$."
   ]
  },
  {
   "cell_type": "code",
   "execution_count": 4,
   "metadata": {},
   "outputs": [
    {
     "data": {
      "text/html": [
       "<div>\n",
       "<style scoped>\n",
       "    .dataframe tbody tr th:only-of-type {\n",
       "        vertical-align: middle;\n",
       "    }\n",
       "\n",
       "    .dataframe tbody tr th {\n",
       "        vertical-align: top;\n",
       "    }\n",
       "\n",
       "    .dataframe thead th {\n",
       "        text-align: right;\n",
       "    }\n",
       "</style>\n",
       "<table border=\"1\" class=\"dataframe\">\n",
       "  <thead>\n",
       "    <tr style=\"text-align: right;\">\n",
       "      <th></th>\n",
       "      <th>0</th>\n",
       "      <th>1</th>\n",
       "      <th>2</th>\n",
       "      <th>3</th>\n",
       "      <th>4</th>\n",
       "      <th>5</th>\n",
       "      <th>6</th>\n",
       "      <th>7</th>\n",
       "      <th>8</th>\n",
       "      <th>9</th>\n",
       "      <th>10</th>\n",
       "      <th>11</th>\n",
       "      <th>12</th>\n",
       "    </tr>\n",
       "  </thead>\n",
       "  <tbody>\n",
       "    <tr>\n",
       "      <th>0</th>\n",
       "      <td>1.452455</td>\n",
       "      <td>-0.294414</td>\n",
       "      <td>0.302478</td>\n",
       "      <td>-0.940375</td>\n",
       "      <td>1.768686</td>\n",
       "      <td>0.510421</td>\n",
       "      <td>0.775592</td>\n",
       "      <td>-0.462247</td>\n",
       "      <td>1.000229</td>\n",
       "      <td>0.892384</td>\n",
       "      <td>-0.112428</td>\n",
       "      <td>2.040025</td>\n",
       "      <td>0.782868</td>\n",
       "    </tr>\n",
       "    <tr>\n",
       "      <th>1</th>\n",
       "      <td>0.289066</td>\n",
       "      <td>-0.214558</td>\n",
       "      <td>-0.677197</td>\n",
       "      <td>-2.239324</td>\n",
       "      <td>0.006527</td>\n",
       "      <td>0.234327</td>\n",
       "      <td>0.367386</td>\n",
       "      <td>-0.646296</td>\n",
       "      <td>-0.878867</td>\n",
       "      <td>0.114374</td>\n",
       "      <td>-0.052918</td>\n",
       "      <td>0.941437</td>\n",
       "      <td>0.740152</td>\n",
       "    </tr>\n",
       "    <tr>\n",
       "      <th>2</th>\n",
       "      <td>0.243886</td>\n",
       "      <td>0.447106</td>\n",
       "      <td>1.113242</td>\n",
       "      <td>-0.054728</td>\n",
       "      <td>0.071792</td>\n",
       "      <td>0.510421</td>\n",
       "      <td>1.020516</td>\n",
       "      <td>-0.278198</td>\n",
       "      <td>1.967684</td>\n",
       "      <td>0.917082</td>\n",
       "      <td>-0.171937</td>\n",
       "      <td>0.455524</td>\n",
       "      <td>1.124598</td>\n",
       "    </tr>\n",
       "    <tr>\n",
       "      <th>3</th>\n",
       "      <td>1.610586</td>\n",
       "      <td>-0.020622</td>\n",
       "      <td>0.538951</td>\n",
       "      <td>-0.586117</td>\n",
       "      <td>0.854974</td>\n",
       "      <td>2.443085</td>\n",
       "      <td>1.360688</td>\n",
       "      <td>-0.830346</td>\n",
       "      <td>0.795575</td>\n",
       "      <td>2.226115</td>\n",
       "      <td>-1.183603</td>\n",
       "      <td>1.047071</td>\n",
       "      <td>1.964684</td>\n",
       "    </tr>\n",
       "    <tr>\n",
       "      <th>4</th>\n",
       "      <td>0.334246</td>\n",
       "      <td>0.709490</td>\n",
       "      <td>1.788880</td>\n",
       "      <td>0.653789</td>\n",
       "      <td>1.181300</td>\n",
       "      <td>0.510421</td>\n",
       "      <td>0.272138</td>\n",
       "      <td>0.550024</td>\n",
       "      <td>0.125798</td>\n",
       "      <td>0.077326</td>\n",
       "      <td>-0.112428</td>\n",
       "      <td>-0.051517</td>\n",
       "      <td>-0.156889</td>\n",
       "    </tr>\n",
       "  </tbody>\n",
       "</table>\n",
       "</div>"
      ],
      "text/plain": [
       "         0         1         2         3         4         5         6   \\\n",
       "0  1.452455 -0.294414  0.302478 -0.940375  1.768686  0.510421  0.775592   \n",
       "1  0.289066 -0.214558 -0.677197 -2.239324  0.006527  0.234327  0.367386   \n",
       "2  0.243886  0.447106  1.113242 -0.054728  0.071792  0.510421  1.020516   \n",
       "3  1.610586 -0.020622  0.538951 -0.586117  0.854974  2.443085  1.360688   \n",
       "4  0.334246  0.709490  1.788880  0.653789  1.181300  0.510421  0.272138   \n",
       "\n",
       "         7         8         9         10        11        12  \n",
       "0 -0.462247  1.000229  0.892384 -0.112428  2.040025  0.782868  \n",
       "1 -0.646296 -0.878867  0.114374 -0.052918  0.941437  0.740152  \n",
       "2 -0.278198  1.967684  0.917082 -0.171937  0.455524  1.124598  \n",
       "3 -0.830346  0.795575  2.226115 -1.183603  1.047071  1.964684  \n",
       "4  0.550024  0.125798  0.077326 -0.112428 -0.051517 -0.156889  "
      ]
     },
     "execution_count": 4,
     "metadata": {},
     "output_type": "execute_result"
    }
   ],
   "source": [
    "X_scaler = StandardScaler()\n",
    "X_scaled = pd.DataFrame(X_scaler.fit_transform(X))\n",
    "X_scaled.head()"
   ]
  },
  {
   "cell_type": "markdown",
   "metadata": {},
   "source": [
    "Split data set and train the model."
   ]
  },
  {
   "cell_type": "code",
   "execution_count": 5,
   "metadata": {},
   "outputs": [],
   "source": [
    "X_train, X_test, y_train, y_test = train_test_split(X_scaled, y, random_state=24)\n",
    "model = gradient_descent_Logit_R()\n",
    "model.fit(X_train, y_train,gamma=0.01, max_iter=1000)"
   ]
  },
  {
   "cell_type": "markdown",
   "metadata": {},
   "source": [
    "Plot the loss history."
   ]
  },
  {
   "cell_type": "code",
   "execution_count": 6,
   "metadata": {},
   "outputs": [
    {
     "data": {
      "image/png": "[encoded data removed]",
      "text/plain": [
       "<Figure size 432x288 with 1 Axes>"
      ]
     },
     "metadata": {
      "needs_background": "light"
     },
     "output_type": "display_data"
    }
   ],
   "source": [
    "plt.plot(model.loss_history)\n",
    "plt.xlabel('iteration')\n",
    "plt.ylabel('loss')\n",
    "plt.show()"
   ]
  },
  {
   "cell_type": "markdown",
   "metadata": {},
   "source": [
    "Predict test data, and check the accuracy and confusion matrix."
   ]
  },
  {
   "cell_type": "code",
   "execution_count": 7,
   "metadata": {},
   "outputs": [
    {
     "name": "stdout",
     "output_type": "stream",
     "text": [
      "Logistic regression, accuracy score = 1.0\n"
     ]
    }
   ],
   "source": [
    "y_pred = model.prediction(X_test, model.weights)\n",
    "print(f'Logistic regression, accuracy score = {accuracy_score(y_test, y_pred)}')"
   ]
  },
  {
   "cell_type": "code",
   "execution_count": 8,
   "metadata": {},
   "outputs": [
    {
     "data": {
      "image/png": "[encoded data removed]",
      "text/plain": [
       "<Figure size 360x288 with 2 Axes>"
      ]
     },
     "metadata": {
      "needs_background": "light"
     },
     "output_type": "display_data"
    }
   ],
   "source": [
    "confusion_matrix = metrics.confusion_matrix(y_test, y_pred)\n",
    "\n",
    "matrix_df = pd.DataFrame(confusion_matrix)\n",
    "\n",
    "plt.figure(figsize=(5,4))\n",
    "ax=plt.axes()\n",
    "sns.set(font_scale=1.3)\n",
    "\n",
    "sns.heatmap(matrix_df, annot=True, fmt='g', ax=ax, cmap='magma')\n",
    "ax.set_title('Confusion Matrix of Ensemble Model')\n",
    "ax.set_xlabel('predicted label', fontsize=10)\n",
    "ax.set_ylabel('True label', fontsize=10)\n",
    "plt.show()"
   ]
  },
  {
   "cell_type": "markdown",
   "metadata": {},
   "source": [
    "A really excellent prediction accuracy! All test data are correctly classified."
   ]
  }
 ],
 "metadata": {
  "interpreter": {
   "hash": "2e918aaa81d99c652401bdd1a0c185581595fb477ac919641bd65261b5d7782a"
  },
  "kernelspec": {
   "display_name": "Python 3.8.8 64-bit ('base': conda)",
   "language": "python",
   "name": "python3"
  },
  "language_info": {
   "codemirror_mode": {
    "name": "ipython",
    "version": 3
   },
   "file_extension": ".py",
   "mimetype": "text/x-python",
   "name": "python",
   "nbconvert_exporter": "python",
   "pygments_lexer": "ipython3",
   "version": "3.8.8"
  },
  "orig_nbformat": 4
 },
 "nbformat": 4,
 "nbformat_minor": 2
}
