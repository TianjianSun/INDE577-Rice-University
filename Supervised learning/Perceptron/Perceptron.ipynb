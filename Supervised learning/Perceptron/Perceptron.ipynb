{
 "cells": [
  {
   "cell_type": "markdown",
   "metadata": {},
   "source": [
    "---\n",
    "## Perceptron\n",
    "#### Language: Python 3.8.8\n",
    "#### Author: Tianjian Sun\n",
    "---"
   ]
  },
  {
   "cell_type": "markdown",
   "metadata": {},
   "source": [
    "### Table of Contents\n",
    "- [Introduction](#Introduction)\n",
    "- [Algorithm](#Algorithm)\n",
    "- [Illustration](#Illustration)\n",
    "- [Advantages and Disadvantages](#Advantages)\n",
    "    - [Advantages](#Advantages)\n",
    "    - [Disadvantages](#Disadvantages)\n",
    "- [Code of Perceptron](#Code)\n",
    "- [Applications on data sets](#Applications)\n",
    "--- "
   ]
  },
  {
   "cell_type": "markdown",
   "metadata": {},
   "source": [
    "### Introduction <a class=\"anchor\" id=\"Introduction\"></a>\n",
    "\n",
    "A [Perceptron](https://en.wikipedia.org/wiki/Perceptron) is an algorithm for supervised learning of binary classifiers. It's a simplified model of a biological neuron, and it is a type of linear classifier, i.e., a classifier that makes its predictions based on a linear predictor function combining a set of weights with the feature vector.\n",
    "\n",
    "The perceptron algorithm was invented in 1958 at the Cornell Aeronautical Laboratory by [Frank Rosenblatt](https://en.wikipedia.org/wiki/Frank_Rosenblatt). It's the origin of support vector machines and multilayer networks.\n",
    "\n",
    "---"
   ]
  },
  {
   "cell_type": "markdown",
   "metadata": {},
   "source": [
    "### Algorithm <a class=\"anchor\" id=\"Algorithm\"></a>\n",
    "\n",
    "#### Perceptron <a class=\"anchor\" id=\"Perceptron\"></a>\n",
    "First a function that maps input $\\mathbf {x}$  (a real-valued vector) to an output value $f(\\mathbf {x} )$ (a single binary value) is given by\n",
    "\n",
    "$$\n",
    "f(\\mathbf{x}) = \\begin{cases}1 & \\text{if }\\ \\mathbf{w} \\cdot \\mathbf{x} + b > 0,\\\\0 & \\text{otherwise}\\end{cases}\n",
    "$$\n",
    "\n",
    "where $\\mathbf {w}$  is a vector of real-valued weights, $\\mathbf {w} \\cdot \\mathbf {x} = \\sum_{i=1}^{m} {w_{i}x_{i}}$ is the dot product,  $m$ is the number of inputs to the perceptron.\n",
    "\n",
    "And the algorithm is\n",
    "1. Initialize random small weights.\n",
    "2. For each sample $\\mathbf{x}_j$ and $y_j$, perform the following steps:\n",
    "   - Calculate the actual output:\n",
    "$$\n",
    "y_j(t) = f[\\mathbf{x}_j^T\\cdot\\mathbf{w}(t)]\n",
    "$$\n",
    "   - Update the weights:\n",
    "$$\n",
    "\\mathbf{w}(t+1) = \\mathbf{w}(t) \\boldsymbol{+} \\cdot  \\mathbf{x}_j^T(\\mathbf{d} - \\mathbf{y}(t))\n",
    "$$\n",
    "\n",
    "3. Updates the weights after steps 2, until meets stopping criterias."
   ]
  },
  {
   "cell_type": "markdown",
   "metadata": {},
   "source": [
    "---\n",
    "### Illustration <a class=\"anchor\" id=\"Illustration\"></a>\n",
    "\n",
    "**Perceptron**\n",
    "\n",
    "In one sentence, a perceptron is a simplified model of neuron. It consists four parts: inputs, weights, net sum, and activation function. The following image is from [Wikipedia](https://en.wikipedia.org/wiki/Perceptron#/media/File:Perceptron.svg).\n",
    "\n",
    "<img src=\"images/Perceptron.svg\" alt=\"drawing\" width=\"400\"/>"
   ]
  },
  {
   "cell_type": "markdown",
   "metadata": {},
   "source": [
    "---\n",
    "### Advantages and Disadvantages <a class=\"anchor\" id=\"Advantages\"></a>\n",
    "#### Advantage <a class=\"anchor\" id=\"Advantages\"></a>\n",
    "- Easy to use and understand.\n",
    "- Simple\n",
    "#### Disadvantage  <a class=\"anchor\" id=\"Disadvantages\"></a>\n",
    "- Cannot create non-linear boundary\n",
    "- Output can take on only one of two values"
   ]
  },
  {
   "cell_type": "markdown",
   "metadata": {},
   "source": [
    "---\n",
    "\n",
    "### Code of Perceptron <a class=\"anchor\" id=\"Code\"></a>\n",
    "\n",
    "#### import necessary packages\n",
    "* [numpy](https://numpy.org/)\n",
    "* [pandas](https://pandas.pydata.org/)\n",
    "* [sklearn](https://scikit-learn.org/stable/datasets/toy_dataset.html)\n",
    "* [matplotlib](https://matplotlib.org/)"
   ]
  },
  {
   "cell_type": "code",
   "execution_count": 4,
   "metadata": {},
   "outputs": [],
   "source": [
    "import matplotlib.pyplot as plt\n",
    "import pandas as pd\n",
    "import numpy as np\n",
    "from sklearn import datasets\n",
    "from sklearn.model_selection import train_test_split\n",
    "from sklearn.datasets import load_wine\n",
    "\n",
    "from sklearn.metrics import accuracy_score\n",
    "from sklearn import metrics\n",
    "from sklearn.preprocessing import StandardScaler\n",
    "import seaborn as sns"
   ]
  },
  {
   "cell_type": "markdown",
   "metadata": {},
   "source": [
    "#### function of Perceptron"
   ]
  },
  {
   "cell_type": "code",
   "execution_count": 52,
   "metadata": {},
   "outputs": [],
   "source": [
    "class Perceptron():\n",
    "    # initialize\n",
    "    def __init__(self) -> None:\n",
    "        self.X = None\n",
    "        self.variables = None\n",
    "        self.y = None\n",
    "        self.predictor = None\n",
    "        self.n = None\n",
    "        self.p = None\n",
    "        self.bias = None\n",
    "        self.gamma = None\n",
    "        self.max_iter = None\n",
    "        self.eta = None\n",
    "\n",
    "        self.weights = None\n",
    "        self.weights_history = []\n",
    "        self.loss_history = [np.inf]\n",
    "\n",
    "    def sign(self, x, y):\n",
    "        if x@y>0:\n",
    "            return 1\n",
    "        else:\n",
    "            return -1\n",
    "        \n",
    "    def loss(self):\n",
    "        return sum(0.5*(self.sign(self.weights, x) - self.y[i])**2 for i, x in enumerate(self.X))\n",
    "\n",
    "    def grad_approx(self, x, y):\n",
    "        return (self.sign(self.weights, x) - y) * x\n",
    "\n",
    "    def update_w(self, id):\n",
    "        self.weights = self.weights - self.gamma * self.grad_approx(self.X[id], self.y[id])\n",
    "        self.weights_history.append(self.weights)\n",
    "        return \n",
    "\n",
    "    # model fitting\n",
    "    def fit(self, X, y, bias=True, gamma=0.01, max_iter=100, eta=0.001):\n",
    "        self.variables = X.columns\n",
    "        self.predictor = y.name\n",
    "        \n",
    "        X = X.to_numpy()\n",
    "        y = y.to_numpy()\n",
    "        if bias:\n",
    "            ones_column = np.ones((X.shape[0], 1))\n",
    "            X = np.append(ones_column, X, axis=1)\n",
    "        self.X = X\n",
    "        self.y = y\n",
    "        self.n = X.shape[0]\n",
    "        self.p = X.shape[1]\n",
    "        self.bias = bias\n",
    "        self.gamma = gamma\n",
    "        self.max_iter = max_iter\n",
    "        self.eta = eta\n",
    "        \n",
    "        weights = np.random.rand(self.p)\n",
    "        self.weights = weights\n",
    "        self.weights_history.append(weights)\n",
    "\n",
    "        for i in range(1, max_iter+1):\n",
    "            random_id = np.random.randint(self.n)\n",
    "            weights = self.update_w(random_id)\n",
    "            L = self.loss()\n",
    "            self.loss_history.append(L)\n",
    "            if i >= self.max_iter:\n",
    "                break\n",
    "\n",
    "    # predict new data\n",
    "    def prediction(self, X, weights):\n",
    "        X = X.to_numpy()\n",
    "        if self.bias:\n",
    "            ones_column = np.ones((X.shape[0], 1))\n",
    "            X = np.append(ones_column, X, axis=1)\n",
    "        labels = np.array([1, 0])\n",
    "        y_hat = [self.sign(x, weights) for x in X]\n",
    "        return [np.random.choice(labels, p = [y_hat_i, 1.0-y_hat_i]) for y_hat_i in y_hat]"
   ]
  },
  {
   "cell_type": "markdown",
   "metadata": {},
   "source": [
    "---\n",
    "\n",
    "### Applications on data sets <a class=\"anchor\" id=\"Applications\"></a>\n",
    "\n",
    "*wine* data set\n",
    "\n",
    "---"
   ]
  },
  {
   "cell_type": "markdown",
   "metadata": {},
   "source": [
    "We apply our code on a classification problem. We test KNN on the *wine* data set from *sklearn.datasets*"
   ]
  },
  {
   "cell_type": "markdown",
   "metadata": {},
   "source": [
    "Load data set, and only choose the first two features and labels."
   ]
  },
  {
   "cell_type": "code",
   "execution_count": 80,
   "metadata": {},
   "outputs": [],
   "source": [
    "X, y = load_wine(return_X_y=True, as_frame=True)\n",
    "X = X[y!=2]\n",
    "y = y[y!=2]\n",
    "X = X[['alcohol', 'malic_acid']]"
   ]
  },
  {
   "cell_type": "markdown",
   "metadata": {},
   "source": [
    "Scale input."
   ]
  },
  {
   "cell_type": "code",
   "execution_count": 81,
   "metadata": {},
   "outputs": [
    {
     "data": {
      "text/html": [
       "<div>\n",
       "<style scoped>\n",
       "    .dataframe tbody tr th:only-of-type {\n",
       "        vertical-align: middle;\n",
       "    }\n",
       "\n",
       "    .dataframe tbody tr th {\n",
       "        vertical-align: top;\n",
       "    }\n",
       "\n",
       "    .dataframe thead th {\n",
       "        text-align: right;\n",
       "    }\n",
       "</style>\n",
       "<table border=\"1\" class=\"dataframe\">\n",
       "  <thead>\n",
       "    <tr style=\"text-align: right;\">\n",
       "      <th></th>\n",
       "      <th>0</th>\n",
       "      <th>1</th>\n",
       "    </tr>\n",
       "  </thead>\n",
       "  <tbody>\n",
       "    <tr>\n",
       "      <th>0</th>\n",
       "      <td>1.452455</td>\n",
       "      <td>-0.294414</td>\n",
       "    </tr>\n",
       "    <tr>\n",
       "      <th>1</th>\n",
       "      <td>0.289066</td>\n",
       "      <td>-0.214558</td>\n",
       "    </tr>\n",
       "    <tr>\n",
       "      <th>2</th>\n",
       "      <td>0.243886</td>\n",
       "      <td>0.447106</td>\n",
       "    </tr>\n",
       "    <tr>\n",
       "      <th>3</th>\n",
       "      <td>1.610586</td>\n",
       "      <td>-0.020622</td>\n",
       "    </tr>\n",
       "    <tr>\n",
       "      <th>4</th>\n",
       "      <td>0.334246</td>\n",
       "      <td>0.709490</td>\n",
       "    </tr>\n",
       "  </tbody>\n",
       "</table>\n",
       "</div>"
      ],
      "text/plain": [
       "          0         1\n",
       "0  1.452455 -0.294414\n",
       "1  0.289066 -0.214558\n",
       "2  0.243886  0.447106\n",
       "3  1.610586 -0.020622\n",
       "4  0.334246  0.709490"
      ]
     },
     "execution_count": 81,
     "metadata": {},
     "output_type": "execute_result"
    }
   ],
   "source": [
    "X_scaler = StandardScaler()\n",
    "X_scaled = pd.DataFrame(X_scaler.fit_transform(X))\n",
    "X_scaled.head()"
   ]
  },
  {
   "cell_type": "markdown",
   "metadata": {},
   "source": [
    "Visualize the data points in 2-dimensional figure."
   ]
  },
  {
   "cell_type": "code",
   "execution_count": 107,
   "metadata": {},
   "outputs": [
    {
     "data": {
      "image/png": "[encoded data removed]",
      "text/plain": [
       "<Figure size 432x288 with 1 Axes>"
      ]
     },
     "metadata": {
      "needs_background": "light"
     },
     "output_type": "display_data"
    }
   ],
   "source": [
    "plt.scatter(X_scaled.iloc[:, 0], X_scaled.iloc[:,1],c=y)\n",
    "plt.xlabel('alcohol')\n",
    "plt.ylabel('malic_acid')\n",
    "plt.show()"
   ]
  },
  {
   "cell_type": "markdown",
   "metadata": {},
   "source": [
    "Split to training and test, and train the model."
   ]
  },
  {
   "cell_type": "code",
   "execution_count": 117,
   "metadata": {},
   "outputs": [],
   "source": [
    "X_train, X_test, y_train, y_test = train_test_split(X_scaled, y, random_state=12)\n",
    "model = Perceptron()\n",
    "model.fit(X_train, y_train, gamma=0.001, max_iter=1000)"
   ]
  },
  {
   "cell_type": "markdown",
   "metadata": {},
   "source": [
    "Take a look at the loss history during training."
   ]
  },
  {
   "cell_type": "code",
   "execution_count": 118,
   "metadata": {},
   "outputs": [
    {
     "data": {
      "image/png": "[encoded data removed]",
      "text/plain": [
       "<Figure size 432x288 with 1 Axes>"
      ]
     },
     "metadata": {
      "needs_background": "light"
     },
     "output_type": "display_data"
    }
   ],
   "source": [
    "plt.plot(model.loss_history)\n",
    "plt.xlabel('iteration')\n",
    "plt.ylabel('loss')\n",
    "plt.show()"
   ]
  },
  {
   "cell_type": "markdown",
   "metadata": {},
   "source": [
    "Look at the prediction accuracy on training and test data. They're really poor."
   ]
  },
  {
   "cell_type": "code",
   "execution_count": 122,
   "metadata": {},
   "outputs": [
    {
     "name": "stdout",
     "output_type": "stream",
     "text": [
      "Perceptron, training accuracy score = 0.5876288659793815\n",
      "Perceptron, test accuracy score = 0.42424242424242425\n"
     ]
    }
   ],
   "source": [
    "y_pred = model.prediction(X_train, model.weights)\n",
    "print(f'Perceptron, training accuracy score = {accuracy_score(y_train, y_pred)}')\n",
    "\n",
    "y_pred = model.prediction(X_test, model.weights)\n",
    "print(f'Perceptron, test accuracy score = {accuracy_score(y_test, y_pred)}')"
   ]
  },
  {
   "cell_type": "markdown",
   "metadata": {},
   "source": [
    "Take a look at the decision boundary created by perceptron. Indeed a linear boundary can learn something, but it's not a best idea for this data set."
   ]
  },
  {
   "cell_type": "code",
   "execution_count": 125,
   "metadata": {},
   "outputs": [
    {
     "data": {
      "image/png": "[encoded data removed]",
      "text/plain": [
       "<Figure size 432x288 with 1 Axes>"
      ]
     },
     "metadata": {
      "needs_background": "light"
     },
     "output_type": "display_data"
    }
   ],
   "source": [
    "plt.scatter(X_scaled.iloc[:, 0], X_scaled.iloc[:,1],c=y)\n",
    "\n",
    "domain = np.arange(-1.5, 1, 0.5)\n",
    "w = model.weights\n",
    "line = [-(w[0]*x + w[2])/w[1] for x in domain]\n",
    "\n",
    "plt.plot(domain, line, label='separetor', color = 'orange')\n",
    "plt.xlabel('iteration')\n",
    "plt.ylabel('loss')\n",
    "plt.show()"
   ]
  }
 ],
 "metadata": {
  "interpreter": {
   "hash": "2e918aaa81d99c652401bdd1a0c185581595fb477ac919641bd65261b5d7782a"
  },
  "kernelspec": {
   "display_name": "Python 3.8.8 64-bit ('base': conda)",
   "language": "python",
   "name": "python3"
  },
  "language_info": {
   "codemirror_mode": {
    "name": "ipython",
    "version": 3
   },
   "file_extension": ".py",
   "mimetype": "text/x-python",
   "name": "python",
   "nbconvert_exporter": "python",
   "pygments_lexer": "ipython3",
   "version": "3.8.8"
  },
  "orig_nbformat": 4
 },
 "nbformat": 4,
 "nbformat_minor": 2
}
